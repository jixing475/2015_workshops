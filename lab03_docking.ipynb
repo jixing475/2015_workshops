{
  "nbformat": 4,
  "nbformat_minor": 0,
  "metadata": {
    "colab": {
      "name": "Copy of lab06_docking.ipynb",
      "provenance": [],
      "collapsed_sections": [],
      "include_colab_link": true
    },
    "kernelspec": {
      "name": "python3",
      "display_name": "Python 3"
    },
    "widgets": {
      "application/vnd.jupyter.widget-state+json": {
        "071c8fdffb9b47d6990e17d2b29556b7": {
          "model_module": "@jupyter-widgets/controls",
          "model_name": "VBoxModel",
          "model_module_version": "1.5.0",
          "state": {
            "_view_name": "VBoxView",
            "_dom_classes": [
              "widget-interact"
            ],
            "_model_name": "VBoxModel",
            "_view_module": "@jupyter-widgets/controls",
            "_model_module_version": "1.5.0",
            "_view_count": null,
            "_view_module_version": "1.5.0",
            "box_style": "",
            "layout": "IPY_MODEL_93864cc2f9694184a9660d14cacfe818",
            "_model_module": "@jupyter-widgets/controls",
            "children": [
              "IPY_MODEL_cfbcf4889462402c8e318d0e4efd941f",
              "IPY_MODEL_54563546b4194d7cb4d266fe4190e0ab"
            ]
          }
        },
        "93864cc2f9694184a9660d14cacfe818": {
          "model_module": "@jupyter-widgets/base",
          "model_name": "LayoutModel",
          "model_module_version": "1.2.0",
          "state": {
            "_view_name": "LayoutView",
            "grid_template_rows": null,
            "right": null,
            "justify_content": null,
            "_view_module": "@jupyter-widgets/base",
            "overflow": null,
            "_model_module_version": "1.2.0",
            "_view_count": null,
            "flex_flow": null,
            "width": null,
            "min_width": null,
            "border": null,
            "align_items": null,
            "bottom": null,
            "_model_module": "@jupyter-widgets/base",
            "top": null,
            "grid_column": null,
            "overflow_y": null,
            "overflow_x": null,
            "grid_auto_flow": null,
            "grid_area": null,
            "grid_template_columns": null,
            "flex": null,
            "_model_name": "LayoutModel",
            "justify_items": null,
            "grid_row": null,
            "max_height": null,
            "align_content": null,
            "visibility": null,
            "align_self": null,
            "height": null,
            "min_height": null,
            "padding": null,
            "grid_auto_rows": null,
            "grid_gap": null,
            "max_width": null,
            "order": null,
            "_view_module_version": "1.2.0",
            "grid_template_areas": null,
            "object_position": null,
            "object_fit": null,
            "grid_auto_columns": null,
            "margin": null,
            "display": null,
            "left": null
          }
        },
        "cfbcf4889462402c8e318d0e4efd941f": {
          "model_module": "@jupyter-widgets/controls",
          "model_name": "TextModel",
          "model_module_version": "1.5.0",
          "state": {
            "_view_name": "TextView",
            "style": "IPY_MODEL_ed1069f12b864f318092d5fd878f06c2",
            "_dom_classes": [],
            "description": "smi",
            "_model_name": "TextModel",
            "placeholder": "​",
            "_view_module": "@jupyter-widgets/controls",
            "_model_module_version": "1.5.0",
            "value": "CC=O",
            "_view_count": null,
            "disabled": false,
            "_view_module_version": "1.5.0",
            "continuous_update": true,
            "description_tooltip": null,
            "_model_module": "@jupyter-widgets/controls",
            "layout": "IPY_MODEL_4948490aaf0b414bae9edbb40ea1fb2f"
          }
        },
        "54563546b4194d7cb4d266fe4190e0ab": {
          "model_module": "@jupyter-widgets/output",
          "model_name": "OutputModel",
          "model_module_version": "1.0.0",
          "state": {
            "_view_name": "OutputView",
            "msg_id": "",
            "_dom_classes": [],
            "_model_name": "OutputModel",
            "outputs": [
              {
                "output_type": "display_data",
                "data": {
                  "application/3dmoljs_load.v0": "<div id=\"3dmolviewer_16363891722066677\"  style=\"position: relative; width: 640px; height: 480px\">\n        <p id=\"3dmolwarning_16363891722066677\" style=\"background-color:#ffcccc;color:black\">You appear to be running in JupyterLab (or JavaScript failed to load for some other reason).  You need to install the 3dmol extension: <br>\n        <tt>jupyter labextension install jupyterlab_3dmol</tt></p>\n        </div>\n<script>\n\nvar loadScriptAsync = function(uri){\n  return new Promise((resolve, reject) => {\n    var tag = document.createElement('script');\n    tag.src = uri;\n    tag.async = true;\n    tag.onload = () => {\n      resolve();\n    };\n  var firstScriptTag = document.getElementsByTagName('script')[0];\n  firstScriptTag.parentNode.insertBefore(tag, firstScriptTag);\n});\n};\n\nif(typeof $3Dmolpromise === 'undefined') {\n$3Dmolpromise = null;\n  $3Dmolpromise = loadScriptAsync('https://3dmol.org/build/3Dmol.js');\n}\n\nvar viewer_16363891722066677 = null;\nvar warn = document.getElementById(\"3dmolwarning_16363891722066677\");\nif(warn) {\n    warn.parentNode.removeChild(warn);\n}\n$3Dmolpromise.then(function() {\nviewer_16363891722066677 = $3Dmol.createViewer($(\"#3dmolviewer_16363891722066677\"),{backgroundColor:\"white\"});\nviewer_16363891722066677.zoomTo();\n\tviewer_16363891722066677.addModel(\"\\n     RDKit          3D\\n\\n  7  6  0  0  0  0  0  0  0  0999 V2000\\n   -0.6493   -0.0405   -0.0162 C   0  0  0  0  0  0  0  0  0  0  0  0\\n    0.8445    0.0590    0.0226 C   0  0  0  0  0  0  0  0  0  0  0  0\\n    1.5910   -0.8905   -0.1908 O   0  0  0  0  0  0  0  0  0  0  0  0\\n   -1.0333    0.6413   -0.7785 H   0  0  0  0  0  0  0  0  0  0  0  0\\n   -0.9509   -1.0627   -0.2575 H   0  0  0  0  0  0  0  0  0  0  0  0\\n   -1.0515    0.2362    0.9611 H   0  0  0  0  0  0  0  0  0  0  0  0\\n    1.2496    1.0572    0.2593 H   0  0  0  0  0  0  0  0  0  0  0  0\\n  1  2  1  0\\n  2  3  2  0\\n  1  4  1  0\\n  1  5  1  0\\n  1  6  1  0\\n  2  7  1  0\\nM  END\\n\",\"mol\");\n\tviewer_16363891722066677.setStyle({\"stick\": {}});\n\tviewer_16363891722066677.zoomTo();\nviewer_16363891722066677.render();\n});\n</script>",
                  "text/html": "<div id=\"3dmolviewer_16363891722066677\"  style=\"position: relative; width: 640px; height: 480px\">\n        <p id=\"3dmolwarning_16363891722066677\" style=\"background-color:#ffcccc;color:black\">You appear to be running in JupyterLab (or JavaScript failed to load for some other reason).  You need to install the 3dmol extension: <br>\n        <tt>jupyter labextension install jupyterlab_3dmol</tt></p>\n        </div>\n<script>\n\nvar loadScriptAsync = function(uri){\n  return new Promise((resolve, reject) => {\n    var tag = document.createElement('script');\n    tag.src = uri;\n    tag.async = true;\n    tag.onload = () => {\n      resolve();\n    };\n  var firstScriptTag = document.getElementsByTagName('script')[0];\n  firstScriptTag.parentNode.insertBefore(tag, firstScriptTag);\n});\n};\n\nif(typeof $3Dmolpromise === 'undefined') {\n$3Dmolpromise = null;\n  $3Dmolpromise = loadScriptAsync('https://3dmol.org/build/3Dmol.js');\n}\n\nvar viewer_16363891722066677 = null;\nvar warn = document.getElementById(\"3dmolwarning_16363891722066677\");\nif(warn) {\n    warn.parentNode.removeChild(warn);\n}\n$3Dmolpromise.then(function() {\nviewer_16363891722066677 = $3Dmol.createViewer($(\"#3dmolviewer_16363891722066677\"),{backgroundColor:\"white\"});\nviewer_16363891722066677.zoomTo();\n\tviewer_16363891722066677.addModel(\"\\n     RDKit          3D\\n\\n  7  6  0  0  0  0  0  0  0  0999 V2000\\n   -0.6493   -0.0405   -0.0162 C   0  0  0  0  0  0  0  0  0  0  0  0\\n    0.8445    0.0590    0.0226 C   0  0  0  0  0  0  0  0  0  0  0  0\\n    1.5910   -0.8905   -0.1908 O   0  0  0  0  0  0  0  0  0  0  0  0\\n   -1.0333    0.6413   -0.7785 H   0  0  0  0  0  0  0  0  0  0  0  0\\n   -0.9509   -1.0627   -0.2575 H   0  0  0  0  0  0  0  0  0  0  0  0\\n   -1.0515    0.2362    0.9611 H   0  0  0  0  0  0  0  0  0  0  0  0\\n    1.2496    1.0572    0.2593 H   0  0  0  0  0  0  0  0  0  0  0  0\\n  1  2  1  0\\n  2  3  2  0\\n  1  4  1  0\\n  1  5  1  0\\n  1  6  1  0\\n  2  7  1  0\\nM  END\\n\",\"mol\");\n\tviewer_16363891722066677.setStyle({\"stick\": {}});\n\tviewer_16363891722066677.zoomTo();\nviewer_16363891722066677.render();\n});\n</script>"
                },
                "metadata": {}
              }
            ],
            "_view_module": "@jupyter-widgets/output",
            "_model_module_version": "1.0.0",
            "_view_count": null,
            "_view_module_version": "1.0.0",
            "layout": "IPY_MODEL_8916d323791c418fac7d0ec78fb96938",
            "_model_module": "@jupyter-widgets/output"
          }
        },
        "ed1069f12b864f318092d5fd878f06c2": {
          "model_module": "@jupyter-widgets/controls",
          "model_name": "DescriptionStyleModel",
          "model_module_version": "1.5.0",
          "state": {
            "_view_name": "StyleView",
            "_model_name": "DescriptionStyleModel",
            "description_width": "",
            "_view_module": "@jupyter-widgets/base",
            "_model_module_version": "1.5.0",
            "_view_count": null,
            "_view_module_version": "1.2.0",
            "_model_module": "@jupyter-widgets/controls"
          }
        },
        "4948490aaf0b414bae9edbb40ea1fb2f": {
          "model_module": "@jupyter-widgets/base",
          "model_name": "LayoutModel",
          "model_module_version": "1.2.0",
          "state": {
            "_view_name": "LayoutView",
            "grid_template_rows": null,
            "right": null,
            "justify_content": null,
            "_view_module": "@jupyter-widgets/base",
            "overflow": null,
            "_model_module_version": "1.2.0",
            "_view_count": null,
            "flex_flow": null,
            "width": null,
            "min_width": null,
            "border": null,
            "align_items": null,
            "bottom": null,
            "_model_module": "@jupyter-widgets/base",
            "top": null,
            "grid_column": null,
            "overflow_y": null,
            "overflow_x": null,
            "grid_auto_flow": null,
            "grid_area": null,
            "grid_template_columns": null,
            "flex": null,
            "_model_name": "LayoutModel",
            "justify_items": null,
            "grid_row": null,
            "max_height": null,
            "align_content": null,
            "visibility": null,
            "align_self": null,
            "height": null,
            "min_height": null,
            "padding": null,
            "grid_auto_rows": null,
            "grid_gap": null,
            "max_width": null,
            "order": null,
            "_view_module_version": "1.2.0",
            "grid_template_areas": null,
            "object_position": null,
            "object_fit": null,
            "grid_auto_columns": null,
            "margin": null,
            "display": null,
            "left": null
          }
        },
        "8916d323791c418fac7d0ec78fb96938": {
          "model_module": "@jupyter-widgets/base",
          "model_name": "LayoutModel",
          "model_module_version": "1.2.0",
          "state": {
            "_view_name": "LayoutView",
            "grid_template_rows": null,
            "right": null,
            "justify_content": null,
            "_view_module": "@jupyter-widgets/base",
            "overflow": null,
            "_model_module_version": "1.2.0",
            "_view_count": null,
            "flex_flow": null,
            "width": null,
            "min_width": null,
            "border": null,
            "align_items": null,
            "bottom": null,
            "_model_module": "@jupyter-widgets/base",
            "top": null,
            "grid_column": null,
            "overflow_y": null,
            "overflow_x": null,
            "grid_auto_flow": null,
            "grid_area": null,
            "grid_template_columns": null,
            "flex": null,
            "_model_name": "LayoutModel",
            "justify_items": null,
            "grid_row": null,
            "max_height": null,
            "align_content": null,
            "visibility": null,
            "align_self": null,
            "height": null,
            "min_height": null,
            "padding": null,
            "grid_auto_rows": null,
            "grid_gap": null,
            "max_width": null,
            "order": null,
            "_view_module_version": "1.2.0",
            "grid_template_areas": null,
            "object_position": null,
            "object_fit": null,
            "grid_auto_columns": null,
            "margin": null,
            "display": null,
            "left": null
          }
        },
        "cd9aeba22afe4b9dae777d21b1af4b43": {
          "model_module": "@jupyter-widgets/controls",
          "model_name": "VBoxModel",
          "model_module_version": "1.5.0",
          "state": {
            "_view_name": "VBoxView",
            "_dom_classes": [
              "widget-interact"
            ],
            "_model_name": "VBoxModel",
            "_view_module": "@jupyter-widgets/controls",
            "_model_module_version": "1.5.0",
            "_view_count": null,
            "_view_module_version": "1.5.0",
            "box_style": "",
            "layout": "IPY_MODEL_a2a0b7dfd3dd4451b5548805981d9db0",
            "_model_module": "@jupyter-widgets/controls",
            "children": [
              "IPY_MODEL_4899d52d98c74217aabbae25a07d8761",
              "IPY_MODEL_78d7c935aecd41e1a985bc8fde7668a9",
              "IPY_MODEL_0bd7ef1afc614c678b55184d5e8efc75",
              "IPY_MODEL_cc66a54ff5574a4da3b30fb43138b898",
              "IPY_MODEL_5056fa7d48dc4a82b694f684817060f8",
              "IPY_MODEL_374c14ceefc54377839c891c1ab1ad23",
              "IPY_MODEL_778055e85d4546dd8f17f7db638913d1",
              "IPY_MODEL_b5024c6e8e4e427ea77a947c40dab386",
              "IPY_MODEL_f9f1a21007c54e6792478041d0b0d9df"
            ]
          }
        },
        "a2a0b7dfd3dd4451b5548805981d9db0": {
          "model_module": "@jupyter-widgets/base",
          "model_name": "LayoutModel",
          "model_module_version": "1.2.0",
          "state": {
            "_view_name": "LayoutView",
            "grid_template_rows": null,
            "right": null,
            "justify_content": null,
            "_view_module": "@jupyter-widgets/base",
            "overflow": null,
            "_model_module_version": "1.2.0",
            "_view_count": null,
            "flex_flow": null,
            "width": null,
            "min_width": null,
            "border": null,
            "align_items": null,
            "bottom": null,
            "_model_module": "@jupyter-widgets/base",
            "top": null,
            "grid_column": null,
            "overflow_y": null,
            "overflow_x": null,
            "grid_auto_flow": null,
            "grid_area": null,
            "grid_template_columns": null,
            "flex": null,
            "_model_name": "LayoutModel",
            "justify_items": null,
            "grid_row": null,
            "max_height": null,
            "align_content": null,
            "visibility": null,
            "align_self": null,
            "height": null,
            "min_height": null,
            "padding": null,
            "grid_auto_rows": null,
            "grid_gap": null,
            "max_width": null,
            "order": null,
            "_view_module_version": "1.2.0",
            "grid_template_areas": null,
            "object_position": null,
            "object_fit": null,
            "grid_auto_columns": null,
            "margin": null,
            "display": null,
            "left": null
          }
        },
        "4899d52d98c74217aabbae25a07d8761": {
          "model_module": "@jupyter-widgets/controls",
          "model_name": "TextModel",
          "model_module_version": "1.5.0",
          "state": {
            "_view_name": "TextView",
            "style": "IPY_MODEL_6fd7e1c0a45843989ec22f52213e654e",
            "_dom_classes": [],
            "description": "prot_PDBfile",
            "_model_name": "TextModel",
            "placeholder": "​",
            "_view_module": "@jupyter-widgets/controls",
            "_model_module_version": "1.5.0",
            "value": "/content/drive/MyDrive/Task3/single-dock/1HSG_prot.pdb",
            "_view_count": null,
            "disabled": false,
            "_view_module_version": "1.5.0",
            "continuous_update": true,
            "description_tooltip": null,
            "_model_module": "@jupyter-widgets/controls",
            "layout": "IPY_MODEL_9c96bdab0341465e8b352f2c7f583826"
          }
        },
        "78d7c935aecd41e1a985bc8fde7668a9": {
          "model_module": "@jupyter-widgets/controls",
          "model_name": "DropdownModel",
          "model_module_version": "1.5.0",
          "state": {
            "_options_labels": [
              "32,47,82-84"
            ],
            "_view_name": "DropdownView",
            "style": "IPY_MODEL_4875e80573b040fb820c6decc1f97bee",
            "_dom_classes": [],
            "description": "resids",
            "_model_name": "DropdownModel",
            "index": 0,
            "_view_module": "@jupyter-widgets/controls",
            "_model_module_version": "1.5.0",
            "_view_count": null,
            "disabled": false,
            "_view_module_version": "1.5.0",
            "description_tooltip": null,
            "_model_module": "@jupyter-widgets/controls",
            "layout": "IPY_MODEL_b1a126c7e8024f71bf59b1f7cfe6a97b"
          }
        },
        "0bd7ef1afc614c678b55184d5e8efc75": {
          "model_module": "@jupyter-widgets/controls",
          "model_name": "IntSliderModel",
          "model_module_version": "1.5.0",
          "state": {
            "_view_name": "IntSliderView",
            "style": "IPY_MODEL_ddb7d881f0d14989949ceaf4d8d56037",
            "_dom_classes": [],
            "description": "bxi",
            "step": 1,
            "_model_name": "IntSliderModel",
            "orientation": "horizontal",
            "max": 100,
            "_view_module": "@jupyter-widgets/controls",
            "_model_module_version": "1.5.0",
            "value": 15,
            "_view_count": null,
            "disabled": false,
            "_view_module_version": "1.5.0",
            "min": -100,
            "continuous_update": true,
            "readout_format": "d",
            "description_tooltip": null,
            "readout": true,
            "_model_module": "@jupyter-widgets/controls",
            "layout": "IPY_MODEL_e997b74582274a03a3a6fcf68be4adbc"
          }
        },
        "cc66a54ff5574a4da3b30fb43138b898": {
          "model_module": "@jupyter-widgets/controls",
          "model_name": "IntSliderModel",
          "model_module_version": "1.5.0",
          "state": {
            "_view_name": "IntSliderView",
            "style": "IPY_MODEL_b5d4162d0e36476b9fc699c63e83368d",
            "_dom_classes": [],
            "description": "byi",
            "step": 1,
            "_model_name": "IntSliderModel",
            "orientation": "horizontal",
            "max": 100,
            "_view_module": "@jupyter-widgets/controls",
            "_model_module_version": "1.5.0",
            "value": 29,
            "_view_count": null,
            "disabled": false,
            "_view_module_version": "1.5.0",
            "min": -100,
            "continuous_update": true,
            "readout_format": "d",
            "description_tooltip": null,
            "readout": true,
            "_model_module": "@jupyter-widgets/controls",
            "layout": "IPY_MODEL_3c75490720064d7b89e0a34dd11c6a02"
          }
        },
        "5056fa7d48dc4a82b694f684817060f8": {
          "model_module": "@jupyter-widgets/controls",
          "model_name": "IntSliderModel",
          "model_module_version": "1.5.0",
          "state": {
            "_view_name": "IntSliderView",
            "style": "IPY_MODEL_5ed3826a74e2444badde885311855865",
            "_dom_classes": [],
            "description": "bzi",
            "step": 1,
            "_model_name": "IntSliderModel",
            "orientation": "horizontal",
            "max": 100,
            "_view_module": "@jupyter-widgets/controls",
            "_model_module_version": "1.5.0",
            "value": 4,
            "_view_count": null,
            "disabled": false,
            "_view_module_version": "1.5.0",
            "min": -100,
            "continuous_update": true,
            "readout_format": "d",
            "description_tooltip": null,
            "readout": true,
            "_model_module": "@jupyter-widgets/controls",
            "layout": "IPY_MODEL_7a2a8d0be8984a33b71b0ae7a83304f3"
          }
        },
        "374c14ceefc54377839c891c1ab1ad23": {
          "model_module": "@jupyter-widgets/controls",
          "model_name": "IntSliderModel",
          "model_module_version": "1.5.0",
          "state": {
            "_view_name": "IntSliderView",
            "style": "IPY_MODEL_9d77b58f1b9d49039f02ec895504d548",
            "_dom_classes": [],
            "description": "bxf",
            "step": 1,
            "_model_name": "IntSliderModel",
            "orientation": "horizontal",
            "max": 30,
            "_view_module": "@jupyter-widgets/controls",
            "_model_module_version": "1.5.0",
            "value": 20,
            "_view_count": null,
            "disabled": false,
            "_view_module_version": "1.5.0",
            "min": 0,
            "continuous_update": true,
            "readout_format": "d",
            "description_tooltip": null,
            "readout": true,
            "_model_module": "@jupyter-widgets/controls",
            "layout": "IPY_MODEL_6084d540685e45a9ae8e49b91dd27140"
          }
        },
        "778055e85d4546dd8f17f7db638913d1": {
          "model_module": "@jupyter-widgets/controls",
          "model_name": "IntSliderModel",
          "model_module_version": "1.5.0",
          "state": {
            "_view_name": "IntSliderView",
            "style": "IPY_MODEL_df244e6e02f24a02ba4774a0d30e7628",
            "_dom_classes": [],
            "description": "byf",
            "step": 1,
            "_model_name": "IntSliderModel",
            "orientation": "horizontal",
            "max": 30,
            "_view_module": "@jupyter-widgets/controls",
            "_model_module_version": "1.5.0",
            "value": 20,
            "_view_count": null,
            "disabled": false,
            "_view_module_version": "1.5.0",
            "min": 0,
            "continuous_update": true,
            "readout_format": "d",
            "description_tooltip": null,
            "readout": true,
            "_model_module": "@jupyter-widgets/controls",
            "layout": "IPY_MODEL_bf9a4e9c13a246d093098d6430b2c388"
          }
        },
        "b5024c6e8e4e427ea77a947c40dab386": {
          "model_module": "@jupyter-widgets/controls",
          "model_name": "IntSliderModel",
          "model_module_version": "1.5.0",
          "state": {
            "_view_name": "IntSliderView",
            "style": "IPY_MODEL_3f7b5c009266437b9ab0e156acb4a471",
            "_dom_classes": [],
            "description": "bzf",
            "step": 1,
            "_model_name": "IntSliderModel",
            "orientation": "horizontal",
            "max": 30,
            "_view_module": "@jupyter-widgets/controls",
            "_model_module_version": "1.5.0",
            "value": 20,
            "_view_count": null,
            "disabled": false,
            "_view_module_version": "1.5.0",
            "min": 0,
            "continuous_update": true,
            "readout_format": "d",
            "description_tooltip": null,
            "readout": true,
            "_model_module": "@jupyter-widgets/controls",
            "layout": "IPY_MODEL_d8d32ee34c5947a7b40fcab6ffe1e75b"
          }
        },
        "f9f1a21007c54e6792478041d0b0d9df": {
          "model_module": "@jupyter-widgets/output",
          "model_name": "OutputModel",
          "model_module_version": "1.0.0",
          "state": {
            "_view_name": "OutputView",
            "msg_id": "",
            "_dom_classes": [],
            "_model_name": "OutputModel",
            "outputs": [
              {
                "output_type": "display_data",
                "data": {
                  "application/3dmoljs_load.v0": "<div id=\"3dmolviewer_16363918842476943\"  style=\"position: relative; width: 1000px; height: 600px\">\n        <p id=\"3dmolwarning_16363918842476943\" style=\"background-color:#ffcccc;color:black\">You appear to be running in JupyterLab (or JavaScript failed to load for some other reason).  You need to install the 3dmol extension: <br>\n        <tt>jupyter labextension install jupyterlab_3dmol</tt></p>\n        </div>\n<script>\n\nvar loadScriptAsync = function(uri){\n  return new Promise((resolve, reject) => {\n    var tag = document.createElement('script');\n    tag.src = uri;\n    tag.async = true;\n    tag.onload = () => {\n      resolve();\n    };\n  var firstScriptTag = document.getElementsByTagName('script')[0];\n  firstScriptTag.parentNode.insertBefore(tag, firstScriptTag);\n});\n};\n\nif(typeof $3Dmolpromise === 'undefined') {\n$3Dmolpromise = null;\n  $3Dmolpromise = loadScriptAsync('https://3dmol.org/build/3Dmol.js');\n}\n\nvar viewer_16363918842476943 = null;\nvar warn = document.getElementById(\"3dmolwarning_16363918842476943\");\nif(warn) {\n    warn.parentNode.removeChild(warn);\n}\n$3Dmolpromise.then(function() {\nviewer_16363918842476943 = $3Dmol.createViewer($(\"#3dmolviewer_16363918842476943\"),{backgroundColor:\"white\"});\nviewer_16363918842476943.zoomTo();\n\tviewer_16363918842476943.addBox({\"center\": {\"x\": 15, \"y\": 29, \"z\": 4}, \"dimensions\": {\"w\": 20, \"h\": 20, \"d\": 20}, \"color\": \"blue\", \"opacity\": 0.6});\n\tviewer_16363918842476943.addModel(\"ATOM      1  N   PRO A   1      29.361  39.686   5.862  1.00 38.10           N  \\nATOM      2  CA  PRO A   1      30.307  38.663   5.319  1.00 40.62           C  \\nATOM      3  C   PRO A   1      29.760  38.071   4.022  1.00 42.64           C  \\nATOM      4  O   PRO A   1      28.600  38.302   3.676  1.00 43.40           O  \\nATOM      5  CB  PRO A   1      30.508  37.541   6.342  1.00 37.87           C  \\nATOM      6  CG  PRO A   1      29.296  37.591   7.162  1.00 38.40           C  \\nATOM      7  CD  PRO A   1      28.778  39.015   7.019  1.00 38.74           C  \\nATOM      8  N   GLN A   2      30.607  37.334   3.305  1.00 41.76           N  \\nATOM      9  CA  GLN A   2      30.158  36.492   2.199  1.00 41.30           C  \\nATOM     10  C   GLN A   2      30.298  35.041   2.643  1.00 41.38           C  \\nATOM     11  O   GLN A   2      31.401  34.494   2.763  1.00 43.09           O  \\nATOM     12  CB  GLN A   2      30.970  36.738   0.926  1.00 40.81           C  \\nATOM     13  CG  GLN A   2      30.625  35.783  -0.201  1.00 46.61           C  \\nATOM     14  CD  GLN A   2      31.184  36.217  -1.549  1.00 50.36           C  \\nATOM     15  OE1 GLN A   2      32.006  35.518  -2.156  1.00 53.89           O  \\nATOM     16  NE2 GLN A   2      30.684  37.339  -2.061  1.00 51.46           N  \\nATOM     17  N   ILE A   3      29.160  34.436   2.919  1.00 37.80           N  \\nATOM     18  CA  ILE A   3      29.123  33.098   3.397  1.00 34.13           C  \\nATOM     19  C   ILE A   3      28.968  32.155   2.198  1.00 33.19           C  \\nATOM     20  O   ILE A   3      28.088  32.330   1.368  1.00 32.74           O  \\nATOM     21  CB  ILE A   3      27.977  32.995   4.409  1.00 34.34           C  \\nATOM     22  CG1 ILE A   3      28.341  33.820   5.652  1.00 33.95           C  \\nATOM     23  CG2 ILE A   3      27.692  31.548   4.745  1.00 33.06           C  \\nATOM     24  CD1 ILE A   3      27.264  33.884   6.696  1.00 32.50           C  \\nATOM     25  N   THR A   4      29.891  31.210   2.066  1.00 31.65           N  \\nATOM     26  CA  THR A   4      29.774  30.143   1.062  1.00 30.14           C  \\nATOM     27  C   THR A   4      28.986  28.975   1.658  1.00 29.74           C  \\nATOM     28  O   THR A   4      28.690  28.948   2.875  1.00 27.88           O  \\nATOM     29  CB  THR A   4      31.165  29.618   0.634  1.00 29.24           C  \\nATOM     30  OG1 THR A   4      31.866  29.209   1.815  1.00 27.60           O  \\nATOM     31  CG2 THR A   4      31.980  30.688  -0.085  1.00 26.26           C  \\nATOM     32  N   LEU A   5      28.641  28.019   0.803  1.00 29.27           N  \\nATOM     33  CA  LEU A   5      27.644  27.003   1.144  1.00 30.12           C  \\nATOM     34  C   LEU A   5      28.204  25.559   1.071  1.00 32.98           C  \\nATOM     35  O   LEU A   5      27.446  24.583   0.969  1.00 32.32           O  \\nATOM     36  CB  LEU A   5      26.411  27.139   0.226  1.00 26.21           C  \\nATOM     37  CG  LEU A   5      25.676  28.479   0.352  1.00 24.56           C  \\nATOM     38  CD1 LEU A   5      24.624  28.624  -0.753  1.00 20.74           C  \\nATOM     39  CD2 LEU A   5      25.088  28.590   1.745  1.00 21.87           C  \\nATOM     40  N   TRP A   6      29.528  25.436   1.146  1.00 31.52           N  \\nATOM     41  CA  TRP A   6      30.177  24.150   1.279  1.00 30.82           C  \\nATOM     42  C   TRP A   6      29.837  23.488   2.611  1.00 31.90           C  \\nATOM     43  O   TRP A   6      29.706  22.271   2.673  1.00 33.26           O  \\nATOM     44  CB  TRP A   6      31.685  24.301   1.109  1.00 28.66           C  \\nATOM     45  CG  TRP A   6      32.152  24.955  -0.189  1.00 26.42           C  \\nATOM     46  CD1 TRP A   6      32.681  26.216  -0.345  1.00 28.49           C  \\nATOM     47  CD2 TRP A   6      32.274  24.314  -1.478  1.00 28.47           C  \\nATOM     48  NE1 TRP A   6      33.102  26.385  -1.655  1.00 29.88           N  \\nATOM     49  CE2 TRP A   6      32.864  25.258  -2.369  1.00 28.86           C  \\nATOM     50  CE3 TRP A   6      31.949  23.035  -1.986  1.00 25.06           C  \\nATOM     51  CZ2 TRP A   6      33.093  24.968  -3.717  1.00 32.14           C  \\nATOM     52  CZ3 TRP A   6      32.195  22.755  -3.294  1.00 27.41           C  \\nATOM     53  CH2 TRP A   6      32.754  23.722  -4.169  1.00 30.03           C  \\nATOM     54  N   GLN A   7      29.667  24.280   3.667  1.00 33.01           N  \\nATOM     55  CA  GLN A   7      29.141  23.799   4.960  1.00 32.37           C  \\nATOM     56  C   GLN A   7      27.747  24.395   5.208  1.00 29.95           C  \\nATOM     57  O   GLN A   7      27.349  25.330   4.547  1.00 26.55           O  \\nATOM     58  CB  GLN A   7      30.072  24.227   6.100  1.00 38.12           C  \\nATOM     59  CG  GLN A   7      31.512  23.694   5.995  1.00 48.91           C  \\nATOM     60  CD  GLN A   7      32.521  24.750   5.469  1.00 59.75           C  \\nATOM     61  OE1 GLN A   7      32.666  25.860   6.038  1.00 61.83           O  \\nATOM     62  NE2 GLN A   7      33.268  24.374   4.419  1.00 59.99           N  \\nATOM     63  N   ARG A   8      26.992  23.877   6.169  1.00 27.34           N  \\nATOM     64  CA  ARG A   8      25.757  24.566   6.593  1.00 29.87           C  \\nATOM     65  C   ARG A   8      26.029  26.025   6.996  1.00 31.94           C  \\nATOM     66  O   ARG A   8      26.947  26.291   7.775  1.00 33.83           O  \\nATOM     67  CB  ARG A   8      25.087  23.849   7.776  1.00 28.16           C  \\nATOM     68  CG  ARG A   8      24.646  22.409   7.505  1.00 27.47           C  \\nATOM     69  CD  ARG A   8      23.728  21.896   8.637  1.00 25.45           C  \\nATOM     70  NE  ARG A   8      22.952  20.730   8.230  1.00 23.06           N  \\nATOM     71  CZ  ARG A   8      22.367  19.871   9.064  1.00 28.80           C  \\nATOM     72  NH1 ARG A   8      22.376  20.074  10.370  1.00 30.95           N  \\nATOM     73  NH2 ARG A   8      21.776  18.789   8.589  1.00 26.02           N  \\nATOM     74  N   PRO A   9      25.123  26.955   6.645  1.00 30.21           N  \\nATOM     75  CA  PRO A   9      25.491  28.352   6.938  1.00 29.48           C  \\nATOM     76  C   PRO A   9      25.127  28.763   8.364  1.00 29.45           C  \\nATOM     77  O   PRO A   9      24.136  29.472   8.578  1.00 28.45           O  \\nATOM     78  CB  PRO A   9      24.719  29.176   5.916  1.00 27.88           C  \\nATOM     79  CG  PRO A   9      23.625  28.254   5.407  1.00 28.12           C  \\nATOM     80  CD  PRO A   9      24.096  26.855   5.591  1.00 31.64           C  \\nATOM     81  N   LEU A  10      25.905  28.285   9.330  1.00 28.83           N  \\nATOM     82  CA  LEU A  10      25.653  28.510  10.750  1.00 31.57           C  \\nATOM     83  C   LEU A  10      26.383  29.770  11.208  1.00 30.48           C  \\nATOM     84  O   LEU A  10      27.567  29.927  10.938  1.00 31.00           O  \\nATOM     85  CB  LEU A  10      26.120  27.284  11.573  1.00 31.09           C  \\nATOM     86  CG  LEU A  10      25.161  26.082  11.544  1.00 35.91           C  \\nATOM     87  CD1 LEU A  10      25.895  24.743  11.662  1.00 40.15           C  \\nATOM     88  CD2 LEU A  10      24.206  26.196  12.696  1.00 40.51           C  \\nATOM     89  N   VAL A  11      25.667  30.672  11.872  1.00 30.80           N  \\nATOM     90  CA  VAL A  11      26.267  31.854  12.497  1.00 30.14           C  \\nATOM     91  C   VAL A  11      25.818  31.957  13.955  1.00 33.13           C  \\nATOM     92  O   VAL A  11      24.929  31.184  14.402  1.00 34.48           O  \\nATOM     93  CB  VAL A  11      25.824  33.131  11.791  1.00 27.12           C  \\nATOM     94  CG1 VAL A  11      26.270  33.089  10.323  1.00 28.48           C  \\nATOM     95  CG2 VAL A  11      24.333  33.275  11.879  1.00 26.29           C  \\nATOM     96  N   THR A  12      26.397  32.913  14.700  1.00 32.34           N  \\nATOM     97  CA  THR A  12      26.001  33.143  16.102  1.00 32.56           C  \\nATOM     98  C   THR A  12      24.915  34.200  16.204  1.00 33.07           C  \\nATOM     99  O   THR A  12      25.010  35.279  15.610  1.00 33.62           O  \\nATOM    100  CB  THR A  12      27.201  33.565  16.998  1.00 33.81           C  \\nATOM    101  OG1 THR A  12      28.330  32.709  16.751  1.00 40.47           O  \\nATOM    102  CG2 THR A  12      26.827  33.430  18.450  1.00 34.22           C  \\nATOM    103  N   ILE A  13      23.848  33.868  16.909  1.00 31.84           N  \\nATOM    104  CA  ILE A  13      22.842  34.875  17.206  1.00 32.26           C  \\nATOM    105  C   ILE A  13      22.770  35.114  18.707  1.00 33.69           C  \\nATOM    106  O   ILE A  13      23.328  34.363  19.500  1.00 30.43           O  \\nATOM    107  CB  ILE A  13      21.413  34.460  16.661  1.00 32.80           C  \\nATOM    108  CG1 ILE A  13      20.878  33.229  17.431  1.00 31.81           C  \\nATOM    109  CG2 ILE A  13      21.510  34.194  15.162  1.00 27.69           C  \\nATOM    110  CD1 ILE A  13      19.353  33.201  17.603  1.00 32.46           C  \\nATOM    111  N   LYS A  14      22.106  36.199  19.087  1.00 36.78           N  \\nATOM    112  CA  LYS A  14      21.894  36.545  20.492  1.00 38.20           C  \\nATOM    113  C   LYS A  14      20.442  36.943  20.615  1.00 37.51           C  \\nATOM    114  O   LYS A  14      19.960  37.808  19.873  1.00 33.78           O  \\nATOM    115  CB  LYS A  14      22.777  37.724  20.896  1.00 43.07           C  \\nATOM    116  CG  LYS A  14      22.727  38.056  22.383  1.00 50.67           C  \\nATOM    117  CD  LYS A  14      23.270  39.450  22.678  1.00 56.97           C  \\nATOM    118  CE  LYS A  14      24.814  39.490  22.755  1.00 62.89           C  \\nATOM    119  NZ  LYS A  14      25.394  40.891  22.572  1.00 69.50           N  \\nATOM    120  N   ILE A  15      19.739  36.267  21.512  1.00 40.26           N  \\nATOM    121  CA  ILE A  15      18.345  36.563  21.813  1.00 46.34           C  \\nATOM    122  C   ILE A  15      18.224  36.327  23.316  1.00 49.77           C  \\nATOM    123  O   ILE A  15      18.886  35.449  23.864  1.00 52.38           O  \\nATOM    124  CB  ILE A  15      17.380  35.592  21.022  1.00 45.04           C  \\nATOM    125  CG1 ILE A  15      15.935  35.812  21.435  1.00 46.91           C  \\nATOM    126  CG2 ILE A  15      17.745  34.137  21.266  1.00 47.78           C  \\nATOM    127  CD1 ILE A  15      14.929  35.116  20.526  1.00 50.24           C  \\nATOM    128  N   GLY A  16      17.446  37.139  24.012  1.00 53.37           N  \\nATOM    129  CA  GLY A  16      17.356  36.968  25.459  1.00 56.32           C  \\nATOM    130  C   GLY A  16      18.711  36.871  26.160  1.00 56.91           C  \\nATOM    131  O   GLY A  16      18.866  36.162  27.153  1.00 55.53           O  \\nATOM    132  N   GLY A  17      19.671  37.659  25.697  1.00 57.90           N  \\nATOM    133  CA  GLY A  17      20.970  37.660  26.340  1.00 59.71           C  \\nATOM    134  C   GLY A  17      21.680  36.316  26.278  1.00 60.57           C  \\nATOM    135  O   GLY A  17      22.785  36.163  26.794  1.00 63.20           O  \\nATOM    136  N   GLN A  18      21.093  35.361  25.572  1.00 59.37           N  \\nATOM    137  CA  GLN A  18      21.780  34.106  25.263  1.00 58.98           C  \\nATOM    138  C   GLN A  18      22.500  34.159  23.907  1.00 56.87           C  \\nATOM    139  O   GLN A  18      21.937  34.624  22.915  1.00 56.84           O  \\nATOM    140  CB  GLN A  18      20.776  32.957  25.228  1.00 63.37           C  \\nATOM    141  CG  GLN A  18      19.599  33.116  26.176  1.00 67.60           C  \\nATOM    142  CD  GLN A  18      19.556  31.997  27.179  1.00 72.39           C  \\nATOM    143  OE1 GLN A  18      20.393  31.944  28.082  1.00 76.16           O  \\nATOM    144  NE2 GLN A  18      18.647  31.035  26.975  1.00 74.55           N  \\nATOM    145  N   LEU A  19      23.733  33.672  23.848  1.00 53.88           N  \\nATOM    146  CA  LEU A  19      24.334  33.365  22.552  1.00 49.32           C  \\nATOM    147  C   LEU A  19      23.896  31.963  22.106  1.00 46.38           C  \\nATOM    148  O   LEU A  19      23.975  31.020  22.863  1.00 43.18           O  \\nATOM    149  CB  LEU A  19      25.869  33.432  22.625  1.00 47.14           C  \\nATOM    150  CG  LEU A  19      26.561  34.761  22.968  1.00 46.02           C  \\nATOM    151  CD1 LEU A  19      28.007  34.629  22.620  1.00 46.45           C  \\nATOM    152  CD2 LEU A  19      25.983  35.913  22.194  1.00 46.45           C  \\nATOM    153  N   LYS A  20      23.416  31.855  20.876  1.00 44.76           N  \\nATOM    154  CA  LYS A  20      23.006  30.584  20.266  1.00 44.52           C  \\nATOM    155  C   LYS A  20      23.626  30.463  18.874  1.00 42.87           C  \\nATOM    156  O   LYS A  20      24.024  31.460  18.283  1.00 41.39           O  \\nATOM    157  CB  LYS A  20      21.494  30.523  20.107  1.00 43.50           C  \\nATOM    158  CG  LYS A  20      20.778  29.875  21.264  1.00 46.90           C  \\nATOM    159  CD  LYS A  20      19.868  30.857  21.939  1.00 49.38           C  \\nATOM    160  CE  LYS A  20      19.112  30.168  23.043  1.00 54.07           C  \\nATOM    161  NZ  LYS A  20      18.467  28.892  22.571  1.00 60.37           N  \\nATOM    162  N   GLU A  21      23.725  29.250  18.342  1.00 41.75           N  \\nATOM    163  CA  GLU A  21      24.053  29.117  16.931  1.00 40.02           C  \\nATOM    164  C   GLU A  21      22.822  28.761  16.150  1.00 35.18           C  \\nATOM    165  O   GLU A  21      21.879  28.136  16.672  1.00 30.96           O  \\nATOM    166  CB  GLU A  21      25.197  28.130  16.679  1.00 45.21           C  \\nATOM    167  CG  GLU A  21      25.035  26.716  17.168  1.00 55.20           C  \\nATOM    168  CD  GLU A  21      25.878  25.743  16.334  1.00 63.88           C  \\nATOM    169  OE1 GLU A  21      27.022  26.130  15.972  1.00 67.73           O  \\nATOM    170  OE2 GLU A  21      25.379  24.639  15.983  1.00 60.14           O  \\nATOM    171  N   ALA A  22      22.778  29.268  14.927  1.00 30.04           N  \\nATOM    172  CA  ALA A  22      21.553  29.189  14.165  1.00 26.79           C  \\nATOM    173  C   ALA A  22      21.870  29.183  12.682  1.00 26.36           C  \\nATOM    174  O   ALA A  22      22.975  29.578  12.252  1.00 24.88           O  \\nATOM    175  CB  ALA A  22      20.625  30.359  14.524  1.00 22.80           C  \\nATOM    176  N   LEU A  23      20.893  28.726  11.903  1.00 25.58           N  \\nATOM    177  CA  LEU A  23      21.047  28.473  10.476  1.00 25.08           C  \\nATOM    178  C   LEU A  23      20.381  29.596   9.664  1.00 23.67           C  \\nATOM    179  O   LEU A  23      19.231  29.943   9.912  1.00 25.94           O  \\nATOM    180  CB  LEU A  23      20.382  27.135  10.174  1.00 27.31           C  \\nATOM    181  CG  LEU A  23      20.532  26.573   8.786  1.00 27.99           C  \\nATOM    182  CD1 LEU A  23      21.939  26.039   8.621  1.00 29.29           C  \\nATOM    183  CD2 LEU A  23      19.490  25.490   8.627  1.00 31.05           C  \\nATOM    184  N   LEU A  24      21.122  30.163   8.715  1.00 21.67           N  \\nATOM    185  CA  LEU A  24      20.617  31.144   7.775  1.00 18.03           C  \\nATOM    186  C   LEU A  24      19.940  30.412   6.617  1.00 19.77           C  \\nATOM    187  O   LEU A  24      20.567  29.833   5.740  1.00 20.40           O  \\nATOM    188  CB  LEU A  24      21.767  32.023   7.262  1.00 15.36           C  \\nATOM    189  CG  LEU A  24      22.647  32.673   8.359  1.00 18.86           C  \\nATOM    190  CD1 LEU A  24      23.698  33.581   7.738  1.00 16.70           C  \\nATOM    191  CD2 LEU A  24      21.797  33.496   9.368  1.00 18.96           C  \\nATOM    192  N   ASP A  25      18.626  30.444   6.627  1.00 18.83           N  \\nATOM    193  CA  ASP A  25      17.853  29.516   5.837  1.00 18.91           C  \\nATOM    194  C   ASP A  25      16.945  30.292   4.886  1.00 16.83           C  \\nATOM    195  O   ASP A  25      15.843  30.678   5.237  1.00 17.64           O  \\nATOM    196  CB  ASP A  25      17.047  28.642   6.811  1.00 16.55           C  \\nATOM    197  CG  ASP A  25      16.316  27.513   6.146  1.00 21.74           C  \\nATOM    198  OD1 ASP A  25      16.236  27.458   4.905  1.00 22.87           O  \\nATOM    199  OD2 ASP A  25      15.762  26.696   6.882  1.00 24.00           O  \\nATOM    200  N   THR A  26      17.364  30.439   3.645  1.00 15.44           N  \\nATOM    201  CA  THR A  26      16.548  31.148   2.684  1.00 15.16           C  \\nATOM    202  C   THR A  26      15.302  30.382   2.289  1.00 15.12           C  \\nATOM    203  O   THR A  26      14.412  30.939   1.615  1.00 12.07           O  \\nATOM    204  CB  THR A  26      17.328  31.419   1.447  1.00 17.69           C  \\nATOM    205  OG1 THR A  26      17.693  30.177   0.863  1.00 16.60           O  \\nATOM    206  CG2 THR A  26      18.601  32.197   1.773  1.00 13.90           C  \\nATOM    207  N   GLY A  27      15.213  29.111   2.702  1.00 17.61           N  \\nATOM    208  CA  GLY A  27      14.043  28.331   2.349  1.00 14.06           C  \\nATOM    209  C   GLY A  27      12.958  28.456   3.394  1.00 13.84           C  \\nATOM    210  O   GLY A  27      11.832  28.015   3.171  1.00 14.08           O  \\nATOM    211  N   ALA A  28      13.301  28.967   4.569  1.00 12.94           N  \\nATOM    212  CA  ALA A  28      12.324  29.192   5.642  1.00 13.20           C  \\nATOM    213  C   ALA A  28      11.629  30.567   5.554  1.00 17.23           C  \\nATOM    214  O   ALA A  28      12.303  31.618   5.504  1.00 15.43           O  \\nATOM    215  CB  ALA A  28      13.031  29.084   6.978  1.00 12.92           C  \\nATOM    216  N   ASP A  29      10.296  30.560   5.587  1.00 17.65           N  \\nATOM    217  CA  ASP A  29       9.512  31.798   5.651  1.00 19.68           C  \\nATOM    218  C   ASP A  29       9.632  32.481   6.994  1.00 21.65           C  \\nATOM    219  O   ASP A  29       9.671  33.706   7.056  1.00 26.39           O  \\nATOM    220  CB  ASP A  29       8.029  31.534   5.402  1.00 18.61           C  \\nATOM    221  CG  ASP A  29       7.752  31.004   4.015  1.00 23.38           C  \\nATOM    222  OD1 ASP A  29       8.591  31.192   3.104  1.00 23.84           O  \\nATOM    223  OD2 ASP A  29       6.661  30.410   3.833  1.00 24.58           O  \\nATOM    224  N   ASP A  30       9.698  31.685   8.062  1.00 23.67           N  \\nATOM    225  CA  ASP A  30       9.718  32.168   9.444  1.00 22.55           C  \\nATOM    226  C   ASP A  30      10.988  31.819  10.163  1.00 20.55           C  \\nATOM    227  O   ASP A  30      11.818  31.072   9.679  1.00 22.98           O  \\nATOM    228  CB  ASP A  30       8.549  31.585  10.214  1.00 24.31           C  \\nATOM    229  CG  ASP A  30       7.254  31.916   9.579  1.00 25.77           C  \\nATOM    230  OD1 ASP A  30       6.951  33.118   9.473  1.00 37.03           O  \\nATOM    231  OD2 ASP A  30       6.561  31.008   9.099  1.00 33.64           O  \\nATOM    232  N   THR A  31      11.161  32.408  11.326  1.00 21.65           N  \\nATOM    233  CA  THR A  31      12.248  32.053  12.215  1.00 19.28           C  \\nATOM    234  C   THR A  31      11.707  31.128  13.318  1.00 20.65           C  \\nATOM    235  O   THR A  31      10.660  31.408  13.910  1.00 21.27           O  \\nATOM    236  CB  THR A  31      12.896  33.338  12.795  1.00 21.21           C  \\nATOM    237  OG1 THR A  31      13.451  34.082  11.707  1.00 17.85           O  \\nATOM    238  CG2 THR A  31      14.027  32.992  13.816  1.00 20.08           C  \\nATOM    239  N   VAL A  32      12.390  30.005  13.537  1.00 19.73           N  \\nATOM    240  CA  VAL A  32      11.893  28.983  14.419  1.00 20.18           C  \\nATOM    241  C   VAL A  32      13.036  28.655  15.292  1.00 18.49           C  \\nATOM    242  O   VAL A  32      14.067  28.221  14.821  1.00 21.86           O  \\nATOM    243  CB  VAL A  32      11.528  27.683  13.690  1.00 20.27           C  \\nATOM    244  CG1 VAL A  32      10.656  26.825  14.592  1.00 21.42           C  \\nATOM    245  CG2 VAL A  32      10.805  27.963  12.423  1.00 20.29           C  \\nATOM    246  N   LEU A  33      12.899  28.904  16.576  1.00 21.84           N  \\nATOM    247  CA  LEU A  33      13.996  28.594  17.500  1.00 24.48           C  \\nATOM    248  C   LEU A  33      13.571  27.454  18.396  1.00 25.37           C  \\nATOM    249  O   LEU A  33      12.363  27.234  18.612  1.00 25.11           O  \\nATOM    250  CB  LEU A  33      14.337  29.799  18.375  1.00 24.32           C  \\nATOM    251  CG  LEU A  33      14.849  31.061  17.691  1.00 28.97           C  \\nATOM    252  CD1 LEU A  33      15.091  32.156  18.733  1.00 31.03           C  \\nATOM    253  CD2 LEU A  33      16.139  30.718  16.927  1.00 30.18           C  \\nATOM    254  N   GLU A  34      14.568  26.722  18.889  1.00 29.09           N  \\nATOM    255  CA  GLU A  34      14.390  25.650  19.874  1.00 32.79           C  \\nATOM    256  C   GLU A  34      13.739  26.125  21.160  1.00 33.96           C  \\nATOM    257  O   GLU A  34      13.982  27.222  21.618  1.00 34.70           O  \\nATOM    258  CB  GLU A  34      15.727  25.007  20.190  1.00 36.48           C  \\nATOM    259  CG  GLU A  34      16.297  24.250  18.988  1.00 43.49           C  \\nATOM    260  CD  GLU A  34      17.726  23.801  19.191  1.00 49.89           C  \\nATOM    261  OE1 GLU A  34      18.134  23.657  20.375  1.00 52.23           O  \\nATOM    262  OE2 GLU A  34      18.443  23.614  18.182  1.00 53.58           O  \\nATOM    263  N   GLU A  35      12.865  25.288  21.703  1.00 32.88           N  \\nATOM    264  CA  GLU A  35      12.183  25.482  22.981  1.00 33.85           C  \\nATOM    265  C   GLU A  35      12.971  26.329  23.986  1.00 34.72           C  \\nATOM    266  O   GLU A  35      13.981  25.861  24.497  1.00 34.03           O  \\nATOM    267  CB  GLU A  35      11.941  24.114  23.581  1.00 35.16           C  \\nATOM    268  CG  GLU A  35      10.800  24.049  24.516  1.00 39.66           C  \\nATOM    269  CD  GLU A  35       9.489  24.067  23.809  1.00 45.60           C  \\nATOM    270  OE1 GLU A  35       9.134  23.066  23.120  1.00 50.36           O  \\nATOM    271  OE2 GLU A  35       8.758  25.047  24.035  1.00 47.94           O  \\nATOM    272  N   MET A  36      12.495  27.556  24.269  1.00 33.77           N  \\nATOM    273  CA  MET A  36      13.101  28.479  25.261  1.00 32.08           C  \\nATOM    274  C   MET A  36      12.013  29.437  25.755  1.00 33.50           C  \\nATOM    275  O   MET A  36      10.969  29.535  25.133  1.00 33.82           O  \\nATOM    276  CB  MET A  36      14.216  29.306  24.621  1.00 31.77           C  \\nATOM    277  CG  MET A  36      13.741  30.341  23.590  1.00 33.78           C  \\nATOM    278  SD  MET A  36      15.123  31.051  22.667  1.00 38.76           S  \\nATOM    279  CE  MET A  36      15.783  32.224  23.828  1.00 34.69           C  \\nATOM    280  N   SER A  37      12.249  30.179  26.852  1.00 34.23           N  \\nATOM    281  CA  SER A  37      11.163  31.036  27.460  1.00 33.81           C  \\nATOM    282  C   SER A  37      11.347  32.442  26.960  1.00 32.96           C  \\nATOM    283  O   SER A  37      12.475  32.929  27.007  1.00 32.62           O  \\nATOM    284  CB  SER A  37      11.300  31.071  28.976  1.00 34.02           C  \\nATOM    285  OG  SER A  37       9.948  31.148  29.559  1.00 38.20           O  \\nATOM    286  N   LEU A  38      10.330  33.112  26.459  1.00 35.12           N  \\nATOM    287  CA  LEU A  38      10.566  34.476  26.033  1.00 38.10           C  \\nATOM    288  C   LEU A  38       9.594  35.375  26.756  1.00 42.61           C  \\nATOM    289  O   LEU A  38       8.616  34.906  27.343  1.00 41.25           O  \\nATOM    290  CB  LEU A  38      10.409  34.626  24.500  1.00 35.60           C  \\nATOM    291  CG  LEU A  38      11.559  34.187  23.577  1.00 33.68           C  \\nATOM    292  CD1 LEU A  38      11.171  34.399  22.132  1.00 33.91           C  \\nATOM    293  CD2 LEU A  38      12.807  34.964  23.875  1.00 34.05           C  \\nATOM    294  N   PRO A  39       9.929  36.666  26.880  1.00 45.17           N  \\nATOM    295  CA  PRO A  39       8.980  37.700  27.301  1.00 45.32           C  \\nATOM    296  C   PRO A  39       7.760  37.785  26.410  1.00 44.13           C  \\nATOM    297  O   PRO A  39       7.866  37.883  25.194  1.00 44.57           O  \\nATOM    298  CB  PRO A  39       9.778  38.989  27.220  1.00 48.51           C  \\nATOM    299  CG  PRO A  39      11.021  38.637  26.370  1.00 47.48           C  \\nATOM    300  CD  PRO A  39      11.291  37.226  26.725  1.00 48.21           C  \\nATOM    301  N   GLY A  40       6.601  37.811  27.029  1.00 43.26           N  \\nATOM    302  CA  GLY A  40       5.419  38.218  26.302  1.00 44.04           C  \\nATOM    303  C   GLY A  40       4.430  37.094  26.331  1.00 46.02           C  \\nATOM    304  O   GLY A  40       4.591  36.107  27.055  1.00 48.40           O  \\nATOM    305  N   ARG A  41       3.289  37.341  25.729  1.00 47.22           N  \\nATOM    306  CA  ARG A  41       2.382  36.252  25.509  1.00 48.14           C  \\nATOM    307  C   ARG A  41       2.606  35.713  24.096  1.00 45.12           C  \\nATOM    308  O   ARG A  41       3.225  36.383  23.273  1.00 43.73           O  \\nATOM    309  CB  ARG A  41       0.956  36.719  25.748  1.00 53.98           C  \\nATOM    310  CG  ARG A  41       0.288  36.021  26.959  1.00 61.76           C  \\nATOM    311  CD  ARG A  41       0.118  36.953  28.169  1.00 64.66           C  \\nATOM    312  NE  ARG A  41       1.356  37.143  28.933  1.00 67.95           N  \\nATOM    313  CZ  ARG A  41       1.830  38.332  29.318  1.00 69.74           C  \\nATOM    314  NH1 ARG A  41       1.161  39.450  29.040  1.00 69.56           N  \\nATOM    315  NH2 ARG A  41       2.973  38.402  29.994  1.00 68.51           N  \\nATOM    316  N   TRP A  42       2.145  34.493  23.834  1.00 42.00           N  \\nATOM    317  CA  TRP A  42       2.295  33.862  22.533  1.00 40.42           C  \\nATOM    318  C   TRP A  42       0.934  33.419  21.959  1.00 40.51           C  \\nATOM    319  O   TRP A  42       0.031  33.049  22.694  1.00 41.61           O  \\nATOM    320  CB  TRP A  42       3.207  32.645  22.642  1.00 42.08           C  \\nATOM    321  CG  TRP A  42       2.946  31.783  23.787  1.00 42.80           C  \\nATOM    322  CD1 TRP A  42       3.473  31.896  25.041  1.00 46.14           C  \\nATOM    323  CD2 TRP A  42       1.989  30.710  23.857  1.00 44.40           C  \\nATOM    324  NE1 TRP A  42       2.882  30.973  25.884  1.00 48.15           N  \\nATOM    325  CE2 TRP A  42       1.966  30.246  25.193  1.00 45.80           C  \\nATOM    326  CE3 TRP A  42       1.129  30.108  22.909  1.00 44.14           C  \\nATOM    327  CZ2 TRP A  42       1.117  29.219  25.618  1.00 47.06           C  \\nATOM    328  CZ3 TRP A  42       0.313  29.091  23.334  1.00 45.02           C  \\nATOM    329  CH2 TRP A  42       0.305  28.651  24.686  1.00 47.76           C  \\nATOM    330  N   LYS A  43       0.781  33.465  20.639  1.00 39.07           N  \\nATOM    331  CA  LYS A  43      -0.305  32.776  19.928  1.00 38.61           C  \\nATOM    332  C   LYS A  43       0.220  31.412  19.477  1.00 38.09           C  \\nATOM    333  O   LYS A  43       1.400  31.270  19.145  1.00 37.97           O  \\nATOM    334  CB  LYS A  43      -0.739  33.603  18.700  1.00 40.22           C  \\nATOM    335  CG  LYS A  43      -1.311  34.967  19.027  1.00 40.71           C  \\nATOM    336  CD  LYS A  43      -1.066  35.945  17.886  1.00 46.25           C  \\nATOM    337  CE  LYS A  43      -1.726  37.319  18.156  1.00 53.77           C  \\nATOM    338  NZ  LYS A  43      -0.979  38.292  19.067  1.00 55.67           N  \\nATOM    339  N   PRO A  44      -0.601  30.363  19.541  1.00 36.78           N  \\nATOM    340  CA  PRO A  44      -0.088  29.114  18.966  1.00 36.73           C  \\nATOM    341  C   PRO A  44      -0.275  29.085  17.454  1.00 35.93           C  \\nATOM    342  O   PRO A  44      -1.185  29.721  16.929  1.00 35.84           O  \\nATOM    343  CB  PRO A  44      -0.893  28.021  19.667  1.00 37.26           C  \\nATOM    344  CG  PRO A  44      -2.170  28.683  20.012  1.00 38.05           C  \\nATOM    345  CD  PRO A  44      -1.825  30.129  20.325  1.00 40.15           C  \\nATOM    346  N   LYS A  45       0.586  28.336  16.762  1.00 34.68           N  \\nATOM    347  CA  LYS A  45       0.634  28.302  15.290  1.00 31.98           C  \\nATOM    348  C   LYS A  45       1.025  26.869  14.873  1.00 29.00           C  \\nATOM    349  O   LYS A  45       1.711  26.163  15.608  1.00 27.87           O  \\nATOM    350  CB  LYS A  45       1.693  29.299  14.799  1.00 31.87           C  \\nATOM    351  CG  LYS A  45       1.495  29.822  13.396  1.00 32.85           C  \\nATOM    352  CD  LYS A  45       2.628  30.791  12.986  1.00 39.51           C  \\nATOM    353  CE  LYS A  45       2.662  31.103  11.471  1.00 38.60           C  \\nATOM    354  NZ  LYS A  45       1.837  32.301  11.181  1.00 45.48           N  \\nATOM    355  N   MET A  46       0.570  26.438  13.707  1.00 28.78           N  \\nATOM    356  CA  MET A  46       1.091  25.232  13.081  1.00 28.75           C  \\nATOM    357  C   MET A  46       1.899  25.638  11.874  1.00 26.81           C  \\nATOM    358  O   MET A  46       1.385  26.292  10.965  1.00 28.48           O  \\nATOM    359  CB  MET A  46      -0.047  24.319  12.624  1.00 30.70           C  \\nATOM    360  CG  MET A  46      -0.970  23.867  13.745  1.00 34.30           C  \\nATOM    361  SD  MET A  46      -0.348  22.459  14.681  1.00 42.21           S  \\nATOM    362  CE  MET A  46      -0.585  21.081  13.426  1.00 43.40           C  \\nATOM    363  N   ILE A  47       3.167  25.258  11.849  1.00 25.63           N  \\nATOM    364  CA  ILE A  47       3.978  25.464  10.655  1.00 25.64           C  \\nATOM    365  C   ILE A  47       4.420  24.140  10.114  1.00 23.79           C  \\nATOM    366  O   ILE A  47       4.667  23.248  10.887  1.00 25.39           O  \\nATOM    367  CB  ILE A  47       5.234  26.259  10.953  1.00 25.82           C  \\nATOM    368  CG1 ILE A  47       5.959  25.628  12.127  1.00 27.41           C  \\nATOM    369  CG2 ILE A  47       4.898  27.703  11.148  1.00 29.47           C  \\nATOM    370  CD1 ILE A  47       7.369  26.170  12.291  1.00 33.28           C  \\nATOM    371  N   GLY A  48       4.567  24.042   8.795  1.00 23.56           N  \\nATOM    372  CA  GLY A  48       4.886  22.777   8.145  1.00 28.25           C  \\nATOM    373  C   GLY A  48       6.265  22.720   7.521  1.00 30.81           C  \\nATOM    374  O   GLY A  48       6.723  23.689   6.900  1.00 30.06           O  \\nATOM    375  N   GLY A  49       7.015  21.688   7.884  1.00 31.96           N  \\nATOM    376  CA  GLY A  49       8.313  21.471   7.276  1.00 33.92           C  \\nATOM    377  C   GLY A  49       8.221  20.379   6.232  1.00 37.71           C  \\nATOM    378  O   GLY A  49       7.177  20.197   5.583  1.00 36.71           O  \\nATOM    379  N   ILE A  50       9.309  19.619   6.155  1.00 39.37           N  \\nATOM    380  CA  ILE A  50       9.537  18.544   5.194  1.00 40.56           C  \\nATOM    381  C   ILE A  50       8.802  17.261   5.658  1.00 39.02           C  \\nATOM    382  O   ILE A  50       8.143  16.589   4.863  1.00 40.72           O  \\nATOM    383  CB  ILE A  50      11.095  18.362   5.046  1.00 40.75           C  \\nATOM    384  CG1 ILE A  50      11.553  18.874   3.682  1.00 39.18           C  \\nATOM    385  CG2 ILE A  50      11.521  16.945   5.317  1.00 42.58           C  \\nATOM    386  CD1 ILE A  50      10.910  18.225   2.567  1.00 39.03           C  \\nATOM    387  N   GLY A  51       8.865  16.952   6.945  1.00 35.64           N  \\nATOM    388  CA  GLY A  51       8.174  15.771   7.405  1.00 37.36           C  \\nATOM    389  C   GLY A  51       6.812  16.062   7.983  1.00 38.38           C  \\nATOM    390  O   GLY A  51       6.408  15.342   8.870  1.00 42.43           O  \\nATOM    391  N   GLY A  52       6.141  17.132   7.563  1.00 35.83           N  \\nATOM    392  CA  GLY A  52       4.855  17.480   8.157  1.00 34.71           C  \\nATOM    393  C   GLY A  52       4.884  18.624   9.170  1.00 32.77           C  \\nATOM    394  O   GLY A  52       5.873  19.342   9.280  1.00 33.65           O  \\nATOM    395  N   PHE A  53       3.806  18.788   9.925  1.00 31.50           N  \\nATOM    396  CA  PHE A  53       3.593  19.996  10.731  1.00 30.76           C  \\nATOM    397  C   PHE A  53       4.015  19.881  12.194  1.00 31.86           C  \\nATOM    398  O   PHE A  53       3.930  18.810  12.781  1.00 36.37           O  \\nATOM    399  CB  PHE A  53       2.121  20.351  10.670  1.00 28.77           C  \\nATOM    400  CG  PHE A  53       1.760  21.152   9.484  1.00 30.51           C  \\nATOM    401  CD1 PHE A  53       1.725  20.567   8.216  1.00 27.94           C  \\nATOM    402  CD2 PHE A  53       1.556  22.518   9.607  1.00 30.74           C  \\nATOM    403  CE1 PHE A  53       1.500  21.332   7.075  1.00 29.27           C  \\nATOM    404  CE2 PHE A  53       1.327  23.302   8.496  1.00 32.36           C  \\nATOM    405  CZ  PHE A  53       1.290  22.718   7.212  1.00 28.01           C  \\nATOM    406  N   ILE A  54       4.483  20.969  12.792  1.00 28.86           N  \\nATOM    407  CA  ILE A  54       4.689  21.005  14.248  1.00 28.83           C  \\nATOM    408  C   ILE A  54       3.921  22.179  14.858  1.00 29.53           C  \\nATOM    409  O   ILE A  54       3.575  23.139  14.182  1.00 28.42           O  \\nATOM    410  CB  ILE A  54       6.199  21.155  14.625  1.00 28.74           C  \\nATOM    411  CG1 ILE A  54       6.796  22.408  13.939  1.00 27.76           C  \\nATOM    412  CG2 ILE A  54       6.967  19.888  14.203  1.00 28.78           C  \\nATOM    413  CD1 ILE A  54       8.110  22.821  14.465  1.00 23.65           C  \\nATOM    414  N   LYS A  55       3.632  22.095  16.145  1.00 31.86           N  \\nATOM    415  CA  LYS A  55       2.968  23.196  16.823  1.00 31.37           C  \\nATOM    416  C   LYS A  55       4.038  24.093  17.449  1.00 31.40           C  \\nATOM    417  O   LYS A  55       4.949  23.610  18.157  1.00 30.39           O  \\nATOM    418  CB  LYS A  55       2.021  22.661  17.895  1.00 34.83           C  \\nATOM    419  CG  LYS A  55       0.974  23.665  18.300  1.00 41.25           C  \\nATOM    420  CD  LYS A  55       0.006  23.101  19.304  1.00 48.65           C  \\nATOM    421  CE  LYS A  55      -0.580  24.217  20.149  1.00 52.68           C  \\nATOM    422  NZ  LYS A  55       0.439  24.751  21.104  1.00 56.46           N  \\nATOM    423  N   VAL A  56       3.953  25.391  17.185  1.00 27.17           N  \\nATOM    424  CA  VAL A  56       4.927  26.319  17.754  1.00 26.79           C  \\nATOM    425  C   VAL A  56       4.225  27.378  18.556  1.00 25.98           C  \\nATOM    426  O   VAL A  56       3.023  27.557  18.455  1.00 28.45           O  \\nATOM    427  CB  VAL A  56       5.769  27.009  16.663  1.00 23.58           C  \\nATOM    428  CG1 VAL A  56       6.791  26.027  16.120  1.00 24.00           C  \\nATOM    429  CG2 VAL A  56       4.881  27.551  15.567  1.00 19.88           C  \\nATOM    430  N   ARG A  57       4.978  28.079  19.377  1.00 27.52           N  \\nATOM    431  CA  ARG A  57       4.459  29.271  20.026  1.00 29.29           C  \\nATOM    432  C   ARG A  57       5.038  30.502  19.335  1.00 26.53           C  \\nATOM    433  O   ARG A  57       6.242  30.596  19.138  1.00 26.51           O  \\nATOM    434  CB  ARG A  57       4.824  29.245  21.505  1.00 33.25           C  \\nATOM    435  CG  ARG A  57       4.168  28.102  22.260  1.00 39.60           C  \\nATOM    436  CD  ARG A  57       4.656  28.068  23.693  1.00 44.47           C  \\nATOM    437  NE  ARG A  57       6.032  27.573  23.790  1.00 50.18           N  \\nATOM    438  CZ  ARG A  57       7.027  28.273  24.317  1.00 49.84           C  \\nATOM    439  NH1 ARG A  57       6.825  29.532  24.678  1.00 51.65           N  \\nATOM    440  NH2 ARG A  57       8.223  27.723  24.467  1.00 52.43           N  \\nATOM    441  N   GLN A  58       4.171  31.431  18.958  1.00 25.48           N  \\nATOM    442  CA  GLN A  58       4.570  32.596  18.172  1.00 27.73           C  \\nATOM    443  C   GLN A  58       4.681  33.818  19.085  1.00 30.15           C  \\nATOM    444  O   GLN A  58       3.694  34.242  19.683  1.00 33.75           O  \\nATOM    445  CB  GLN A  58       3.539  32.859  17.094  1.00 26.15           C  \\nATOM    446  CG  GLN A  58       3.736  34.104  16.321  1.00 29.09           C  \\nATOM    447  CD  GLN A  58       2.500  34.473  15.541  1.00 37.13           C  \\nATOM    448  OE1 GLN A  58       1.530  33.703  15.489  1.00 40.89           O  \\nATOM    449  NE2 GLN A  58       2.508  35.651  14.940  1.00 39.09           N  \\nATOM    450  N   TYR A  59       5.883  34.378  19.196  1.00 32.83           N  \\nATOM    451  CA  TYR A  59       6.097  35.658  19.896  1.00 34.57           C  \\nATOM    452  C   TYR A  59       6.304  36.752  18.835  1.00 35.86           C  \\nATOM    453  O   TYR A  59       6.923  36.513  17.800  1.00 38.78           O  \\nATOM    454  CB  TYR A  59       7.354  35.588  20.765  1.00 33.06           C  \\nATOM    455  CG  TYR A  59       7.213  34.624  21.955  1.00 36.56           C  \\nATOM    456  CD1 TYR A  59       7.479  33.237  21.805  1.00 37.53           C  \\nATOM    457  CD2 TYR A  59       6.795  35.087  23.223  1.00 33.33           C  \\nATOM    458  CE1 TYR A  59       7.345  32.365  22.871  1.00 34.69           C  \\nATOM    459  CE2 TYR A  59       6.638  34.224  24.268  1.00 33.09           C  \\nATOM    460  CZ  TYR A  59       6.926  32.869  24.102  1.00 33.21           C  \\nATOM    461  OH  TYR A  59       6.967  32.076  25.200  1.00 40.16           O  \\nATOM    462  N   ASP A  60       5.767  37.940  19.049  1.00 37.21           N  \\nATOM    463  CA  ASP A  60       6.022  39.045  18.125  1.00 36.50           C  \\nATOM    464  C   ASP A  60       7.025  40.015  18.725  1.00 35.62           C  \\nATOM    465  O   ASP A  60       7.340  39.951  19.900  1.00 33.30           O  \\nATOM    466  CB  ASP A  60       4.719  39.777  17.832  1.00 43.82           C  \\nATOM    467  CG  ASP A  60       3.699  38.899  17.148  1.00 49.03           C  \\nATOM    468  OD1 ASP A  60       3.989  38.368  16.050  1.00 53.15           O  \\nATOM    469  OD2 ASP A  60       2.570  38.799  17.672  1.00 54.18           O  \\nATOM    470  N   GLN A  61       7.529  40.913  17.896  1.00 35.15           N  \\nATOM    471  CA  GLN A  61       8.337  42.060  18.331  1.00 37.27           C  \\nATOM    472  C   GLN A  61       9.535  41.630  19.179  1.00 36.83           C  \\nATOM    473  O   GLN A  61       9.777  42.191  20.264  1.00 39.02           O  \\nATOM    474  CB  GLN A  61       7.471  43.051  19.131  1.00 41.54           C  \\nATOM    475  CG  GLN A  61       7.718  44.555  18.814  1.00 53.40           C  \\nATOM    476  CD  GLN A  61       7.182  45.552  19.907  1.00 61.08           C  \\nATOM    477  OE1 GLN A  61       7.936  46.461  20.398  1.00 65.46           O  \\nATOM    478  NE2 GLN A  61       5.892  45.377  20.306  1.00 58.46           N  \\nATOM    479  N   ILE A  62      10.283  40.645  18.676  1.00 33.10           N  \\nATOM    480  CA  ILE A  62      11.484  40.115  19.328  1.00 33.95           C  \\nATOM    481  C   ILE A  62      12.745  40.584  18.614  1.00 35.70           C  \\nATOM    482  O   ILE A  62      12.830  40.485  17.396  1.00 38.95           O  \\nATOM    483  CB  ILE A  62      11.465  38.545  19.309  1.00 33.50           C  \\nATOM    484  CG1 ILE A  62      10.152  38.035  19.930  1.00 31.68           C  \\nATOM    485  CG2 ILE A  62      12.688  37.973  20.027  1.00 33.86           C  \\nATOM    486  CD1 ILE A  62       9.966  38.380  21.363  1.00 35.62           C  \\nATOM    487  N   LEU A  63      13.722  41.086  19.369  1.00 38.14           N  \\nATOM    488  CA  LEU A  63      15.038  41.476  18.822  1.00 41.38           C  \\nATOM    489  C   LEU A  63      16.033  40.304  18.862  1.00 42.34           C  \\nATOM    490  O   LEU A  63      16.195  39.661  19.897  1.00 43.91           O  \\nATOM    491  CB  LEU A  63      15.631  42.666  19.619  1.00 41.40           C  \\nATOM    492  CG  LEU A  63      16.776  43.426  18.914  1.00 42.58           C  \\nATOM    493  CD1 LEU A  63      16.560  44.922  18.993  1.00 46.33           C  \\nATOM    494  CD2 LEU A  63      18.103  43.062  19.558  1.00 45.30           C  \\nATOM    495  N   ILE A  64      16.686  40.036  17.738  1.00 44.21           N  \\nATOM    496  CA  ILE A  64      17.760  39.039  17.653  1.00 46.55           C  \\nATOM    497  C   ILE A  64      18.991  39.753  17.116  1.00 46.30           C  \\nATOM    498  O   ILE A  64      18.862  40.632  16.288  1.00 45.60           O  \\nATOM    499  CB  ILE A  64      17.390  37.875  16.634  1.00 48.42           C  \\nATOM    500  CG1 ILE A  64      16.127  37.137  17.110  1.00 51.56           C  \\nATOM    501  CG2 ILE A  64      18.551  36.857  16.518  1.00 45.78           C  \\nATOM    502  CD1 ILE A  64      16.194  35.643  16.885  1.00 52.26           C  \\nATOM    503  N   GLU A  65      20.181  39.387  17.573  1.00 48.38           N  \\nATOM    504  CA  GLU A  65      21.406  39.983  17.036  1.00 52.65           C  \\nATOM    505  C   GLU A  65      22.192  39.019  16.135  1.00 53.34           C  \\nATOM    506  O   GLU A  65      22.866  38.128  16.631  1.00 57.14           O  \\nATOM    507  CB  GLU A  65      22.307  40.439  18.180  1.00 53.39           C  \\nATOM    508  CG  GLU A  65      21.987  41.843  18.676  1.00 58.82           C  \\nATOM    509  CD  GLU A  65      23.228  42.558  19.187  1.00 61.85           C  \\nATOM    510  OE1 GLU A  65      24.094  42.925  18.348  1.00 62.51           O  \\nATOM    511  OE2 GLU A  65      23.348  42.730  20.429  1.00 63.85           O  \\nATOM    512  N   ILE A  66      22.148  39.215  14.823  1.00 54.18           N  \\nATOM    513  CA  ILE A  66      22.818  38.327  13.863  1.00 53.69           C  \\nATOM    514  C   ILE A  66      24.123  38.945  13.303  1.00 55.63           C  \\nATOM    515  O   ILE A  66      24.114  39.903  12.521  1.00 55.17           O  \\nATOM    516  CB  ILE A  66      21.831  37.964  12.694  1.00 53.26           C  \\nATOM    517  CG1 ILE A  66      20.481  37.516  13.278  1.00 50.35           C  \\nATOM    518  CG2 ILE A  66      22.444  36.880  11.799  1.00 51.36           C  \\nATOM    519  CD1 ILE A  66      19.263  38.072  12.560  1.00 49.54           C  \\nATOM    520  N   CYS A  67      25.251  38.396  13.731  1.00 57.47           N  \\nATOM    521  CA  CYS A  67      26.590  38.871  13.351  1.00 59.30           C  \\nATOM    522  C   CYS A  67      26.798  40.370  13.560  1.00 58.98           C  \\nATOM    523  O   CYS A  67      27.461  41.045  12.763  1.00 59.83           O  \\nATOM    524  CB  CYS A  67      26.907  38.497  11.905  1.00 60.45           C  \\nATOM    525  SG  CYS A  67      27.274  36.734  11.705  1.00 66.26           S  \\nATOM    526  N   GLY A  68      26.239  40.887  14.650  1.00 58.28           N  \\nATOM    527  CA  GLY A  68      26.319  42.307  14.938  1.00 56.53           C  \\nATOM    528  C   GLY A  68      24.980  42.946  14.665  1.00 54.84           C  \\nATOM    529  O   GLY A  68      24.371  43.518  15.561  1.00 55.20           O  \\nATOM    530  N   HIS A  69      24.449  42.689  13.479  1.00 52.63           N  \\nATOM    531  CA  HIS A  69      23.251  43.368  13.013  1.00 49.83           C  \\nATOM    532  C   HIS A  69      22.009  43.025  13.836  1.00 49.49           C  \\nATOM    533  O   HIS A  69      21.626  41.865  13.958  1.00 50.24           O  \\nATOM    534  CB  HIS A  69      22.975  43.009  11.568  1.00 48.37           C  \\nATOM    535  CG  HIS A  69      24.157  43.172  10.639  1.00 48.55           C  \\nATOM    536  ND1 HIS A  69      25.294  42.398  10.762  1.00 46.92           N  \\nATOM    537  CD2 HIS A  69      24.283  43.886   9.518  1.00 47.07           C  \\nATOM    538  CE1 HIS A  69      26.075  42.630   9.723  1.00 45.30           C  \\nATOM    539  NE2 HIS A  69      25.505  43.532   8.946  1.00 49.32           N  \\nATOM    540  N   LYS A  70      21.364  44.050  14.376  1.00 48.04           N  \\nATOM    541  CA  LYS A  70      20.030  43.883  14.945  1.00 44.00           C  \\nATOM    542  C   LYS A  70      18.929  43.698  13.882  1.00 40.53           C  \\nATOM    543  O   LYS A  70      19.000  44.197  12.761  1.00 37.44           O  \\nATOM    544  CB  LYS A  70      19.667  45.075  15.840  1.00 46.06           C  \\nATOM    545  CG  LYS A  70      20.422  45.141  17.154  1.00 48.65           C  \\nATOM    546  CD  LYS A  70      19.885  46.281  18.036  1.00 52.10           C  \\nATOM    547  CE  LYS A  70      20.905  46.699  19.095  1.00 52.81           C  \\nATOM    548  NZ  LYS A  70      20.376  47.817  19.946  1.00 57.49           N  \\nATOM    549  N   ALA A  71      17.879  43.010  14.305  1.00 37.00           N  \\nATOM    550  CA  ALA A  71      16.703  42.737  13.499  1.00 33.57           C  \\nATOM    551  C   ALA A  71      15.600  42.546  14.556  1.00 31.56           C  \\nATOM    552  O   ALA A  71      15.880  42.175  15.705  1.00 34.29           O  \\nATOM    553  CB  ALA A  71      16.937  41.464  12.683  1.00 28.40           C  \\nATOM    554  N   ILE A  72      14.366  42.881  14.219  1.00 28.94           N  \\nATOM    555  CA  ILE A  72      13.233  42.663  15.111  1.00 26.93           C  \\nATOM    556  C   ILE A  72      12.196  41.969  14.237  1.00 25.42           C  \\nATOM    557  O   ILE A  72      12.083  42.266  13.025  1.00 23.83           O  \\nATOM    558  CB  ILE A  72      12.635  44.019  15.609  1.00 34.11           C  \\nATOM    559  CG1 ILE A  72      13.664  44.777  16.446  1.00 39.50           C  \\nATOM    560  CG2 ILE A  72      11.353  43.782  16.409  1.00 34.28           C  \\nATOM    561  CD1 ILE A  72      13.437  46.286  16.451  1.00 44.26           C  \\nATOM    562  N   GLY A  73      11.457  41.034  14.821  1.00 23.40           N  \\nATOM    563  CA  GLY A  73      10.359  40.420  14.090  1.00 22.07           C  \\nATOM    564  C   GLY A  73       9.750  39.238  14.835  1.00 24.48           C  \\nATOM    565  O   GLY A  73      10.019  39.007  16.009  1.00 24.29           O  \\nATOM    566  N   THR A  74       8.853  38.524  14.181  1.00 23.67           N  \\nATOM    567  CA  THR A  74       8.224  37.361  14.786  1.00 24.46           C  \\nATOM    568  C   THR A  74       9.169  36.194  14.895  1.00 25.63           C  \\nATOM    569  O   THR A  74       9.964  35.908  14.007  1.00 25.67           O  \\nATOM    570  CB  THR A  74       6.961  36.929  14.010  1.00 24.94           C  \\nATOM    571  OG1 THR A  74       6.030  38.013  14.001  1.00 29.61           O  \\nATOM    572  CG2 THR A  74       6.287  35.760  14.688  1.00 19.06           C  \\nATOM    573  N   VAL A  75       9.085  35.534  16.025  1.00 25.14           N  \\nATOM    574  CA  VAL A  75       9.944  34.420  16.291  1.00 26.87           C  \\nATOM    575  C   VAL A  75       9.018  33.325  16.795  1.00 27.97           C  \\nATOM    576  O   VAL A  75       8.104  33.576  17.594  1.00 27.87           O  \\nATOM    577  CB  VAL A  75      11.002  34.791  17.336  1.00 25.74           C  \\nATOM    578  CG1 VAL A  75      11.638  33.561  17.884  1.00 27.82           C  \\nATOM    579  CG2 VAL A  75      12.070  35.661  16.648  1.00 21.53           C  \\nATOM    580  N   LEU A  76       9.200  32.127  16.258  1.00 27.21           N  \\nATOM    581  CA  LEU A  76       8.353  30.995  16.628  1.00 25.80           C  \\nATOM    582  C   LEU A  76       9.229  30.084  17.483  1.00 24.05           C  \\nATOM    583  O   LEU A  76      10.409  29.923  17.194  1.00 23.89           O  \\nATOM    584  CB  LEU A  76       7.937  30.247  15.365  1.00 24.57           C  \\nATOM    585  CG  LEU A  76       7.222  30.919  14.207  1.00 24.94           C  \\nATOM    586  CD1 LEU A  76       6.909  29.914  13.139  1.00 21.47           C  \\nATOM    587  CD2 LEU A  76       5.961  31.526  14.713  1.00 22.70           C  \\nATOM    588  N   VAL A  77       8.689  29.507  18.538  1.00 22.25           N  \\nATOM    589  CA  VAL A  77       9.519  28.691  19.405  1.00 25.77           C  \\nATOM    590  C   VAL A  77       8.852  27.309  19.499  1.00 25.41           C  \\nATOM    591  O   VAL A  77       7.621  27.241  19.608  1.00 21.46           O  \\nATOM    592  CB  VAL A  77       9.648  29.353  20.800  1.00 26.64           C  \\nATOM    593  CG1 VAL A  77      10.306  28.419  21.773  1.00 24.10           C  \\nATOM    594  CG2 VAL A  77      10.426  30.686  20.648  1.00 24.74           C  \\nATOM    595  N   GLY A  78       9.637  26.227  19.375  1.00 23.37           N  \\nATOM    596  CA  GLY A  78       9.027  24.918  19.185  1.00 25.28           C  \\nATOM    597  C   GLY A  78      10.005  23.782  18.984  1.00 24.69           C  \\nATOM    598  O   GLY A  78      11.215  24.012  19.065  1.00 27.34           O  \\nATOM    599  N   PRO A  79       9.538  22.542  18.758  1.00 24.96           N  \\nATOM    600  CA  PRO A  79      10.442  21.388  18.731  1.00 26.27           C  \\nATOM    601  C   PRO A  79      11.136  21.242  17.389  1.00 27.30           C  \\nATOM    602  O   PRO A  79      10.748  20.397  16.559  1.00 30.31           O  \\nATOM    603  CB  PRO A  79       9.515  20.215  18.995  1.00 26.15           C  \\nATOM    604  CG  PRO A  79       8.239  20.616  18.339  1.00 27.52           C  \\nATOM    605  CD  PRO A  79       8.170  22.144  18.383  1.00 27.77           C  \\nATOM    606  N   THR A  80      12.138  22.078  17.162  1.00 27.82           N  \\nATOM    607  CA  THR A  80      12.910  22.043  15.936  1.00 27.04           C  \\nATOM    608  C   THR A  80      14.280  21.503  16.325  1.00 28.49           C  \\nATOM    609  O   THR A  80      14.692  21.666  17.473  1.00 33.89           O  \\nATOM    610  CB  THR A  80      13.031  23.467  15.319  1.00 24.34           C  \\nATOM    611  OG1 THR A  80      13.971  23.419  14.244  1.00 28.59           O  \\nATOM    612  CG2 THR A  80      13.542  24.478  16.300  1.00 17.97           C  \\nATOM    613  N   PRO A  81      14.915  20.725  15.449  1.00 27.56           N  \\nATOM    614  CA  PRO A  81      16.233  20.170  15.766  1.00 28.35           C  \\nATOM    615  C   PRO A  81      17.352  21.205  15.795  1.00 32.18           C  \\nATOM    616  O   PRO A  81      18.306  21.085  16.567  1.00 35.74           O  \\nATOM    617  CB  PRO A  81      16.467  19.139  14.669  1.00 28.05           C  \\nATOM    618  CG  PRO A  81      15.477  19.489  13.607  1.00 24.27           C  \\nATOM    619  CD  PRO A  81      14.331  20.114  14.238  1.00 24.21           C  \\nATOM    620  N   VAL A  82      17.220  22.219  14.948  1.00 31.78           N  \\nATOM    621  CA  VAL A  82      18.236  23.243  14.762  1.00 30.36           C  \\nATOM    622  C   VAL A  82      17.549  24.626  14.801  1.00 29.01           C  \\nATOM    623  O   VAL A  82      16.328  24.735  14.569  1.00 28.83           O  \\nATOM    624  CB  VAL A  82      18.969  23.017  13.388  1.00 27.70           C  \\nATOM    625  CG1 VAL A  82      18.009  22.769  12.263  1.00 25.82           C  \\nATOM    626  CG2 VAL A  82      19.843  24.144  13.080  1.00 29.05           C  \\nATOM    627  N   ASN A  83      18.292  25.671  15.167  1.00 28.44           N  \\nATOM    628  CA  ASN A  83      17.731  27.051  15.193  1.00 23.14           C  \\nATOM    629  C   ASN A  83      17.799  27.628  13.799  1.00 20.40           C  \\nATOM    630  O   ASN A  83      18.794  27.456  13.113  1.00 22.72           O  \\nATOM    631  CB  ASN A  83      18.508  27.950  16.161  1.00 23.96           C  \\nATOM    632  CG  ASN A  83      18.236  27.600  17.636  1.00 19.36           C  \\nATOM    633  OD1 ASN A  83      17.102  27.381  18.051  1.00 24.75           O  \\nATOM    634  ND2 ASN A  83      19.287  27.475  18.398  1.00 23.07           N  \\nATOM    635  N   ILE A  84      16.729  28.283  13.370  1.00 19.46           N  \\nATOM    636  CA  ILE A  84      16.588  28.651  11.955  1.00 18.70           C  \\nATOM    637  C   ILE A  84      16.190  30.132  11.811  1.00 15.24           C  \\nATOM    638  O   ILE A  84      15.178  30.600  12.384  1.00 16.01           O  \\nATOM    639  CB  ILE A  84      15.504  27.755  11.242  1.00 18.01           C  \\nATOM    640  CG1 ILE A  84      16.049  26.365  11.040  1.00 21.46           C  \\nATOM    641  CG2 ILE A  84      15.081  28.324   9.932  1.00 18.09           C  \\nATOM    642  CD1 ILE A  84      14.957  25.345  11.321  1.00 21.77           C  \\nATOM    643  N   ILE A  85      16.991  30.863  11.053  1.00 17.41           N  \\nATOM    644  CA  ILE A  85      16.710  32.257  10.821  1.00 17.84           C  \\nATOM    645  C   ILE A  85      16.155  32.252   9.420  1.00 18.00           C  \\nATOM    646  O   ILE A  85      16.857  31.950   8.464  1.00 16.33           O  \\nATOM    647  CB  ILE A  85      17.999  33.119  10.844  1.00 19.87           C  \\nATOM    648  CG1 ILE A  85      18.724  32.983  12.207  1.00 21.72           C  \\nATOM    649  CG2 ILE A  85      17.653  34.600  10.517  1.00 19.84           C  \\nATOM    650  CD1 ILE A  85      17.830  33.204  13.418  1.00 23.27           C  \\nATOM    651  N   GLY A  86      14.888  32.608   9.302  1.00 17.67           N  \\nATOM    652  CA  GLY A  86      14.238  32.655   8.011  1.00 19.47           C  \\nATOM    653  C   GLY A  86      14.181  34.034   7.393  1.00 20.59           C  \\nATOM    654  O   GLY A  86      14.714  34.991   7.894  1.00 19.31           O  \\nATOM    655  N   ARG A  87      13.398  34.131   6.334  1.00 19.04           N  \\nATOM    656  CA  ARG A  87      13.370  35.302   5.456  1.00 21.43           C  \\nATOM    657  C   ARG A  87      12.931  36.548   6.216  1.00 20.84           C  \\nATOM    658  O   ARG A  87      13.429  37.633   5.958  1.00 24.40           O  \\nATOM    659  CB  ARG A  87      12.459  35.018   4.263  1.00 15.37           C  \\nATOM    660  CG  ARG A  87      13.030  34.044   3.318  1.00 18.83           C  \\nATOM    661  CD  ARG A  87      12.310  34.101   1.966  1.00 21.67           C  \\nATOM    662  NE  ARG A  87      10.903  33.713   2.088  1.00 21.37           N  \\nATOM    663  CZ  ARG A  87       9.899  34.575   2.137  1.00 22.28           C  \\nATOM    664  NH1 ARG A  87      10.126  35.860   1.922  1.00 20.00           N  \\nATOM    665  NH2 ARG A  87       8.657  34.143   2.300  1.00 21.02           N  \\nATOM    666  N   ASN A  88      12.063  36.352   7.198  1.00 21.72           N  \\nATOM    667  CA  ASN A  88      11.458  37.455   7.919  1.00 19.12           C  \\nATOM    668  C   ASN A  88      12.511  38.266   8.653  1.00 21.99           C  \\nATOM    669  O   ASN A  88      12.419  39.481   8.723  1.00 24.63           O  \\nATOM    670  CB  ASN A  88      10.359  36.959   8.863  1.00 17.71           C  \\nATOM    671  CG  ASN A  88      10.892  36.309  10.125  1.00 23.05           C  \\nATOM    672  OD1 ASN A  88      11.577  35.273  10.065  1.00 24.51           O  \\nATOM    673  ND2 ASN A  88      10.446  36.809  11.283  1.00 21.17           N  \\nATOM    674  N   LEU A  89      13.551  37.601   9.136  1.00 21.73           N  \\nATOM    675  CA  LEU A  89      14.633  38.337   9.729  1.00 21.46           C  \\nATOM    676  C   LEU A  89      15.802  38.487   8.783  1.00 21.01           C  \\nATOM    677  O   LEU A  89      16.580  39.394   8.941  1.00 22.81           O  \\nATOM    678  CB  LEU A  89      15.096  37.687  11.029  1.00 24.37           C  \\nATOM    679  CG  LEU A  89      14.146  37.555  12.221  1.00 26.43           C  \\nATOM    680  CD1 LEU A  89      14.939  37.022  13.434  1.00 27.76           C  \\nATOM    681  CD2 LEU A  89      13.508  38.913  12.527  1.00 29.10           C  \\nATOM    682  N   LEU A  90      15.910  37.651   7.761  1.00 18.04           N  \\nATOM    683  CA  LEU A  90      17.078  37.773   6.865  1.00 21.90           C  \\nATOM    684  C   LEU A  90      17.048  39.068   6.049  1.00 22.24           C  \\nATOM    685  O   LEU A  90      18.098  39.613   5.652  1.00 20.42           O  \\nATOM    686  CB  LEU A  90      17.200  36.561   5.913  1.00 21.44           C  \\nATOM    687  CG  LEU A  90      17.754  35.226   6.440  1.00 19.50           C  \\nATOM    688  CD1 LEU A  90      17.798  34.207   5.340  1.00 20.48           C  \\nATOM    689  CD2 LEU A  90      19.138  35.441   7.022  1.00 15.96           C  \\nATOM    690  N   THR A  91      15.835  39.547   5.808  1.00 20.88           N  \\nATOM    691  CA  THR A  91      15.653  40.738   4.985  1.00 25.31           C  \\nATOM    692  C   THR A  91      16.137  41.999   5.772  1.00 25.69           C  \\nATOM    693  O   THR A  91      16.848  42.870   5.252  1.00 29.29           O  \\nATOM    694  CB  THR A  91      14.157  40.860   4.594  1.00 21.94           C  \\nATOM    695  OG1 THR A  91      13.342  40.810   5.786  1.00 20.91           O  \\nATOM    696  CG2 THR A  91      13.740  39.709   3.681  1.00 24.44           C  \\nATOM    697  N   GLN A  92      15.842  42.001   7.064  1.00 23.55           N  \\nATOM    698  CA  GLN A  92      16.170  43.099   7.967  1.00 23.15           C  \\nATOM    699  C   GLN A  92      17.650  43.315   8.126  1.00 25.63           C  \\nATOM    700  O   GLN A  92      18.071  44.440   8.459  1.00 29.05           O  \\nATOM    701  CB  GLN A  92      15.580  42.837   9.347  1.00 17.48           C  \\nATOM    702  CG  GLN A  92      14.081  42.603   9.325  1.00 12.58           C  \\nATOM    703  CD  GLN A  92      13.318  43.811   8.800  1.00 23.01           C  \\nATOM    704  OE1 GLN A  92      12.836  43.807   7.683  1.00 24.98           O  \\nATOM    705  NE2 GLN A  92      13.349  44.892   9.543  1.00 15.18           N  \\nATOM    706  N   ILE A  93      18.444  42.266   7.913  1.00 25.00           N  \\nATOM    707  CA  ILE A  93      19.887  42.417   8.035  1.00 25.37           C  \\nATOM    708  C   ILE A  93      20.530  42.555   6.677  1.00 24.18           C  \\nATOM    709  O   ILE A  93      21.744  42.639   6.577  1.00 26.26           O  \\nATOM    710  CB  ILE A  93      20.557  41.231   8.872  1.00 24.44           C  \\nATOM    711  CG1 ILE A  93      20.472  39.878   8.113  1.00 24.46           C  \\nATOM    712  CG2 ILE A  93      19.926  41.182  10.272  1.00 22.23           C  \\nATOM    713  CD1 ILE A  93      21.520  38.796   8.533  1.00 24.68           C  \\nATOM    714  N   GLY A  94      19.713  42.563   5.636  1.00 24.04           N  \\nATOM    715  CA  GLY A  94      20.226  42.870   4.327  1.00 25.09           C  \\nATOM    716  C   GLY A  94      20.843  41.689   3.611  1.00 27.08           C  \\nATOM    717  O   GLY A  94      21.680  41.866   2.723  1.00 28.80           O  \\nATOM    718  N   CYS A  95      20.294  40.507   3.844  1.00 27.02           N  \\nATOM    719  CA  CYS A  95      20.890  39.296   3.297  1.00 26.34           C  \\nATOM    720  C   CYS A  95      20.407  39.005   1.897  1.00 26.35           C  \\nATOM    721  O   CYS A  95      19.217  39.101   1.606  1.00 28.34           O  \\nATOM    722  CB  CYS A  95      20.585  38.134   4.215  1.00 27.62           C  \\nATOM    723  SG  CYS A  95      21.505  36.663   3.848  1.00 32.32           S  \\nATOM    724  N   THR A  96      21.339  38.698   1.005  1.00 27.53           N  \\nATOM    725  CA  THR A  96      20.969  38.276  -0.346  1.00 27.51           C  \\nATOM    726  C   THR A  96      21.721  37.024  -0.758  1.00 27.27           C  \\nATOM    727  O   THR A  96      22.753  36.645  -0.178  1.00 27.30           O  \\nATOM    728  CB  THR A  96      21.298  39.331  -1.459  1.00 28.47           C  \\nATOM    729  OG1 THR A  96      22.688  39.698  -1.364  1.00 28.16           O  \\nATOM    730  CG2 THR A  96      20.405  40.560  -1.303  1.00 26.73           C  \\nATOM    731  N   LEU A  97      21.183  36.413  -1.805  1.00 28.68           N  \\nATOM    732  CA  LEU A  97      21.718  35.228  -2.473  1.00 26.62           C  \\nATOM    733  C   LEU A  97      22.314  35.753  -3.779  1.00 25.49           C  \\nATOM    734  O   LEU A  97      21.616  36.396  -4.577  1.00 23.96           O  \\nATOM    735  CB  LEU A  97      20.518  34.349  -2.810  1.00 24.94           C  \\nATOM    736  CG  LEU A  97      20.318  32.897  -2.464  1.00 28.32           C  \\nATOM    737  CD1 LEU A  97      21.285  32.388  -1.422  1.00 27.79           C  \\nATOM    738  CD2 LEU A  97      18.896  32.782  -2.010  1.00 26.48           C  \\nATOM    739  N   ASN A  98      23.577  35.469  -4.026  1.00 26.29           N  \\nATOM    740  CA  ASN A  98      24.207  35.904  -5.257  1.00 29.12           C  \\nATOM    741  C   ASN A  98      24.863  34.748  -5.999  1.00 29.85           C  \\nATOM    742  O   ASN A  98      25.635  33.982  -5.396  1.00 26.89           O  \\nATOM    743  CB  ASN A  98      25.229  36.991  -4.938  1.00 33.75           C  \\nATOM    744  CG  ASN A  98      24.609  38.190  -4.212  1.00 40.13           C  \\nATOM    745  OD1 ASN A  98      24.263  38.112  -3.019  1.00 43.34           O  \\nATOM    746  ND2 ASN A  98      24.354  39.252  -4.955  1.00 42.07           N  \\nATOM    747  N   PHE A  99      24.539  34.602  -7.287  1.00 31.14           N  \\nATOM    748  CA  PHE A  99      25.376  33.754  -8.172  1.00 35.14           C  \\nATOM    749  C   PHE A  99      25.726  34.383  -9.544  1.00 34.93           C  \\nATOM    750  O   PHE A  99      24.797  34.890 -10.226  1.00 36.66           O  \\nATOM    751  CB  PHE A  99      24.743  32.354  -8.375  1.00 32.92           C  \\nATOM    752  CG  PHE A  99      23.328  32.389  -8.856  1.00 31.47           C  \\nATOM    753  CD1 PHE A  99      22.303  32.588  -7.961  1.00 29.83           C  \\nATOM    754  CD2 PHE A  99      23.029  32.118 -10.181  1.00 28.13           C  \\nATOM    755  CE1 PHE A  99      21.000  32.515  -8.357  1.00 27.98           C  \\nATOM    756  CE2 PHE A  99      21.730  32.028 -10.613  1.00 25.49           C  \\nATOM    757  CZ  PHE A  99      20.700  32.221  -9.700  1.00 27.25           C  \\nTER\\nATOM    759  N   PRO B   1      22.659  36.727 -10.823  1.00 48.12           N  \\nATOM    760  CA  PRO B   1      21.708  37.741 -10.269  1.00 43.36           C  \\nATOM    761  C   PRO B   1      21.931  37.939  -8.779  1.00 39.59           C  \\nATOM    762  O   PRO B   1      22.755  37.283  -8.190  1.00 37.70           O  \\nATOM    763  CB  PRO B   1      20.263  37.289 -10.512  1.00 46.58           C  \\nATOM    764  CG  PRO B   1      20.385  35.811 -10.891  1.00 48.47           C  \\nATOM    765  CD  PRO B   1      21.753  35.755 -11.555  1.00 50.98           C  \\nATOM    766  N   GLN B   2      21.203  38.873  -8.191  1.00 36.85           N  \\nATOM    767  CA  GLN B   2      21.156  39.043  -6.744  1.00 37.15           C  \\nATOM    768  C   GLN B   2      19.698  38.882  -6.389  1.00 36.43           C  \\nATOM    769  O   GLN B   2      18.850  39.538  -6.975  1.00 39.41           O  \\nATOM    770  CB  GLN B   2      21.625  40.447  -6.329  1.00 38.60           C  \\nATOM    771  CG  GLN B   2      21.353  40.777  -4.865  1.00 39.92           C  \\nATOM    772  CD  GLN B   2      22.139  41.975  -4.358  1.00 44.52           C  \\nATOM    773  OE1 GLN B   2      21.577  42.881  -3.752  1.00 48.57           O  \\nATOM    774  NE2 GLN B   2      23.450  41.976  -4.586  1.00 45.25           N  \\nATOM    775  N   ILE B   3      19.405  38.008  -5.448  1.00 32.18           N  \\nATOM    776  CA  ILE B   3      18.037  37.742  -5.100  1.00 30.91           C  \\nATOM    777  C   ILE B   3      17.832  38.164  -3.660  1.00 28.84           C  \\nATOM    778  O   ILE B   3      18.457  37.631  -2.746  1.00 28.43           O  \\nATOM    779  CB  ILE B   3      17.694  36.224  -5.238  1.00 33.01           C  \\nATOM    780  CG1 ILE B   3      17.788  35.772  -6.692  1.00 35.76           C  \\nATOM    781  CG2 ILE B   3      16.284  35.967  -4.750  1.00 31.17           C  \\nATOM    782  CD1 ILE B   3      18.183  34.327  -6.802  1.00 36.59           C  \\nATOM    783  N   THR B   4      16.960  39.132  -3.461  1.00 24.52           N  \\nATOM    784  CA  THR B   4      16.635  39.571  -2.117  1.00 26.46           C  \\nATOM    785  C   THR B   4      15.555  38.634  -1.627  1.00 23.26           C  \\nATOM    786  O   THR B   4      15.066  37.784  -2.372  1.00 23.16           O  \\nATOM    787  CB  THR B   4      16.147  41.074  -2.110  1.00 30.32           C  \\nATOM    788  OG1 THR B   4      15.093  41.256  -3.079  1.00 32.67           O  \\nATOM    789  CG2 THR B   4      17.283  42.019  -2.472  1.00 30.57           C  \\nATOM    790  N   LEU B   5      15.157  38.761  -0.379  1.00 21.95           N  \\nATOM    791  CA  LEU B   5      14.466  37.636   0.259  1.00 21.45           C  \\nATOM    792  C   LEU B   5      13.125  38.065   0.821  1.00 22.43           C  \\nATOM    793  O   LEU B   5      12.585  37.446   1.733  1.00 22.26           O  \\nATOM    794  CB  LEU B   5      15.340  37.047   1.374  1.00 18.69           C  \\nATOM    795  CG  LEU B   5      16.622  36.365   0.892  1.00 18.41           C  \\nATOM    796  CD1 LEU B   5      17.455  35.953   2.080  1.00 16.32           C  \\nATOM    797  CD2 LEU B   5      16.248  35.136  -0.006  1.00 16.07           C  \\nATOM    798  N   TRP B   6      12.567  39.127   0.262  1.00 21.66           N  \\nATOM    799  CA  TRP B   6      11.260  39.582   0.682  1.00 21.58           C  \\nATOM    800  C   TRP B   6      10.196  38.601   0.218  1.00 21.21           C  \\nATOM    801  O   TRP B   6       9.192  38.404   0.903  1.00 22.05           O  \\nATOM    802  CB  TRP B   6      11.004  40.992   0.135  1.00 19.59           C  \\nATOM    803  CG  TRP B   6      12.065  42.014   0.478  1.00 18.40           C  \\nATOM    804  CD1 TRP B   6      13.157  42.366  -0.279  1.00 17.80           C  \\nATOM    805  CD2 TRP B   6      12.209  42.716   1.739  1.00 14.37           C  \\nATOM    806  NE1 TRP B   6      13.979  43.196   0.470  1.00 17.13           N  \\nATOM    807  CE2 TRP B   6      13.433  43.441   1.686  1.00 17.08           C  \\nATOM    808  CE3 TRP B   6      11.443  42.805   2.913  1.00 17.33           C  \\nATOM    809  CZ2 TRP B   6      13.914  44.211   2.785  1.00 16.59           C  \\nATOM    810  CZ3 TRP B   6      11.903  43.585   3.953  1.00 15.43           C  \\nATOM    811  CH2 TRP B   6      13.148  44.273   3.896  1.00 18.86           C  \\nATOM    812  N   GLN B   7      10.396  38.008  -0.958  1.00 23.30           N  \\nATOM    813  CA  GLN B   7       9.518  36.960  -1.516  1.00 24.55           C  \\nATOM    814  C   GLN B   7      10.321  35.670  -1.433  1.00 23.64           C  \\nATOM    815  O   GLN B   7      11.546  35.694  -1.298  1.00 23.66           O  \\nATOM    816  CB  GLN B   7       9.215  37.238  -3.000  1.00 32.55           C  \\nATOM    817  CG  GLN B   7       8.278  38.433  -3.326  1.00 41.57           C  \\nATOM    818  CD  GLN B   7       7.629  38.332  -4.744  1.00 50.90           C  \\nATOM    819  OE1 GLN B   7       8.319  38.100  -5.754  1.00 55.87           O  \\nATOM    820  NE2 GLN B   7       6.307  38.532  -4.814  1.00 51.09           N  \\nATOM    821  N   ARG B   8       9.661  34.528  -1.525  1.00 21.29           N  \\nATOM    822  CA  ARG B   8      10.385  33.251  -1.642  1.00 20.70           C  \\nATOM    823  C   ARG B   8      11.348  33.305  -2.780  1.00 19.16           C  \\nATOM    824  O   ARG B   8      10.964  33.682  -3.906  1.00 22.46           O  \\nATOM    825  CB  ARG B   8       9.435  32.061  -1.862  1.00 21.59           C  \\nATOM    826  CG  ARG B   8       8.623  31.716  -0.644  1.00 27.03           C  \\nATOM    827  CD  ARG B   8       7.828  30.471  -0.844  1.00 28.48           C  \\nATOM    828  NE  ARG B   8       7.143  30.102   0.378  1.00 38.82           N  \\nATOM    829  CZ  ARG B   8       6.523  28.938   0.561  1.00 45.44           C  \\nATOM    830  NH1 ARG B   8       6.476  28.028  -0.411  1.00 47.55           N  \\nATOM    831  NH2 ARG B   8       5.925  28.688   1.719  1.00 49.71           N  \\nATOM    832  N   PRO B   9      12.533  32.711  -2.598  1.00 18.31           N  \\nATOM    833  CA  PRO B   9      13.443  32.743  -3.746  1.00 16.67           C  \\nATOM    834  C   PRO B   9      13.174  31.592  -4.703  1.00 18.20           C  \\nATOM    835  O   PRO B   9      13.897  30.587  -4.698  1.00 17.79           O  \\nATOM    836  CB  PRO B   9      14.813  32.658  -3.125  1.00 15.13           C  \\nATOM    837  CG  PRO B   9      14.564  31.823  -1.917  1.00 13.81           C  \\nATOM    838  CD  PRO B   9      13.238  32.289  -1.373  1.00 15.31           C  \\nATOM    839  N   LEU B  10      12.134  31.727  -5.504  1.00 18.74           N  \\nATOM    840  CA  LEU B  10      11.816  30.740  -6.534  1.00 24.75           C  \\nATOM    841  C   LEU B  10      12.459  31.075  -7.877  1.00 28.33           C  \\nATOM    842  O   LEU B  10      12.274  32.150  -8.406  1.00 34.15           O  \\nATOM    843  CB  LEU B  10      10.303  30.637  -6.738  1.00 22.30           C  \\nATOM    844  CG  LEU B  10       9.483  30.307  -5.497  1.00 26.19           C  \\nATOM    845  CD1 LEU B  10       8.028  30.334  -5.876  1.00 26.68           C  \\nATOM    846  CD2 LEU B  10       9.845  28.975  -4.951  1.00 25.72           C  \\nATOM    847  N   VAL B  11      13.225  30.141  -8.420  1.00 29.04           N  \\nATOM    848  CA  VAL B  11      13.759  30.227  -9.768  1.00 25.94           C  \\nATOM    849  C   VAL B  11      13.103  29.153 -10.641  1.00 28.64           C  \\nATOM    850  O   VAL B  11      12.381  28.285 -10.135  1.00 26.28           O  \\nATOM    851  CB  VAL B  11      15.253  29.988  -9.735  1.00 26.71           C  \\nATOM    852  CG1 VAL B  11      15.898  31.108  -8.939  1.00 26.27           C  \\nATOM    853  CG2 VAL B  11      15.573  28.635  -9.104  1.00 23.17           C  \\nATOM    854  N   THR B  12      13.346  29.214 -11.949  1.00 29.16           N  \\nATOM    855  CA  THR B  12      12.809  28.220 -12.873  1.00 29.59           C  \\nATOM    856  C   THR B  12      13.951  27.253 -13.210  1.00 27.37           C  \\nATOM    857  O   THR B  12      15.089  27.656 -13.442  1.00 28.24           O  \\nATOM    858  CB  THR B  12      12.259  28.907 -14.158  1.00 33.38           C  \\nATOM    859  OG1 THR B  12      11.693  27.933 -15.028  1.00 41.16           O  \\nATOM    860  CG2 THR B  12      13.341  29.639 -14.925  1.00 37.24           C  \\nATOM    861  N   ILE B  13      13.684  25.961 -13.124  1.00 27.04           N  \\nATOM    862  CA  ILE B  13      14.708  24.966 -13.446  1.00 26.55           C  \\nATOM    863  C   ILE B  13      14.230  24.165 -14.639  1.00 28.05           C  \\nATOM    864  O   ILE B  13      13.014  24.057 -14.918  1.00 25.03           O  \\nATOM    865  CB  ILE B  13      14.993  23.953 -12.269  1.00 25.84           C  \\nATOM    866  CG1 ILE B  13      13.699  23.190 -11.870  1.00 28.87           C  \\nATOM    867  CG2 ILE B  13      15.564  24.705 -11.094  1.00 20.54           C  \\nATOM    868  CD1 ILE B  13      13.900  22.077 -10.834  1.00 29.32           C  \\nATOM    869  N   LYS B  14      15.186  23.630 -15.378  1.00 27.45           N  \\nATOM    870  CA  LYS B  14      14.828  22.733 -16.464  1.00 26.92           C  \\nATOM    871  C   LYS B  14      15.482  21.387 -16.141  1.00 26.01           C  \\nATOM    872  O   LYS B  14      16.690  21.305 -15.886  1.00 24.75           O  \\nATOM    873  CB  LYS B  14      15.340  23.256 -17.814  1.00 25.93           C  \\nATOM    874  CG  LYS B  14      14.868  22.447 -18.992  1.00 27.04           C  \\nATOM    875  CD  LYS B  14      14.687  23.295 -20.194  1.00 32.12           C  \\nATOM    876  CE  LYS B  14      15.979  23.453 -20.922  1.00 34.02           C  \\nATOM    877  NZ  LYS B  14      15.739  23.451 -22.389  1.00 41.05           N  \\nATOM    878  N   ILE B  15      14.660  20.354 -16.136  1.00 26.74           N  \\nATOM    879  CA  ILE B  15      15.108  18.999 -15.906  1.00 30.24           C  \\nATOM    880  C   ILE B  15      14.188  18.067 -16.702  1.00 33.16           C  \\nATOM    881  O   ILE B  15      12.968  18.199 -16.719  1.00 31.38           O  \\nATOM    882  CB  ILE B  15      15.090  18.663 -14.360  1.00 31.34           C  \\nATOM    883  CG1 ILE B  15      15.694  17.283 -14.101  1.00 32.33           C  \\nATOM    884  CG2 ILE B  15      13.682  18.760 -13.780  1.00 28.02           C  \\nATOM    885  CD1 ILE B  15      16.011  17.036 -12.625  1.00 33.84           C  \\nATOM    886  N   GLY B  16      14.799  17.159 -17.438  1.00 36.75           N  \\nATOM    887  CA  GLY B  16      14.024  16.279 -18.286  1.00 39.96           C  \\nATOM    888  C   GLY B  16      13.311  17.029 -19.391  1.00 40.86           C  \\nATOM    889  O   GLY B  16      12.318  16.549 -19.924  1.00 42.44           O  \\nATOM    890  N   GLY B  17      13.887  18.145 -19.823  1.00 40.79           N  \\nATOM    891  CA  GLY B  17      13.243  18.938 -20.850  1.00 37.08           C  \\nATOM    892  C   GLY B  17      12.009  19.638 -20.345  1.00 35.82           C  \\nATOM    893  O   GLY B  17      11.392  20.369 -21.084  1.00 37.78           O  \\nATOM    894  N   GLN B  18      11.676  19.486 -19.073  1.00 32.85           N  \\nATOM    895  CA  GLN B  18      10.572  20.249 -18.515  1.00 35.03           C  \\nATOM    896  C   GLN B  18      11.056  21.466 -17.699  1.00 34.53           C  \\nATOM    897  O   GLN B  18      12.196  21.494 -17.175  1.00 33.51           O  \\nATOM    898  CB  GLN B  18       9.708  19.388 -17.619  1.00 40.01           C  \\nATOM    899  CG  GLN B  18       8.936  18.297 -18.309  1.00 47.43           C  \\nATOM    900  CD  GLN B  18       9.088  16.973 -17.566  1.00 53.35           C  \\nATOM    901  OE1 GLN B  18       9.813  16.078 -18.014  1.00 55.74           O  \\nATOM    902  NE2 GLN B  18       8.488  16.884 -16.371  1.00 54.03           N  \\nATOM    903  N   LEU B  19      10.186  22.475 -17.590  1.00 32.63           N  \\nATOM    904  CA  LEU B  19      10.450  23.647 -16.749  1.00 29.37           C  \\nATOM    905  C   LEU B  19       9.631  23.511 -15.483  1.00 28.10           C  \\nATOM    906  O   LEU B  19       8.432  23.277 -15.551  1.00 29.04           O  \\nATOM    907  CB  LEU B  19      10.010  24.932 -17.474  1.00 28.40           C  \\nATOM    908  CG  LEU B  19      10.775  25.419 -18.723  1.00 26.42           C  \\nATOM    909  CD1 LEU B  19      10.226  26.727 -19.190  1.00 22.91           C  \\nATOM    910  CD2 LEU B  19      12.241  25.543 -18.395  1.00 23.99           C  \\nATOM    911  N   LYS B  20      10.273  23.619 -14.329  1.00 28.58           N  \\nATOM    912  CA  LYS B  20       9.576  23.583 -13.044  1.00 25.77           C  \\nATOM    913  C   LYS B  20      10.018  24.784 -12.260  1.00 26.35           C  \\nATOM    914  O   LYS B  20      10.998  25.429 -12.605  1.00 25.15           O  \\nATOM    915  CB  LYS B  20       9.970  22.364 -12.236  1.00 29.54           C  \\nATOM    916  CG  LYS B  20      10.281  21.123 -13.051  1.00 36.66           C  \\nATOM    917  CD  LYS B  20       9.037  20.289 -13.305  1.00 41.68           C  \\nATOM    918  CE  LYS B  20       9.400  18.836 -13.595  1.00 45.08           C  \\nATOM    919  NZ  LYS B  20       9.672  18.102 -12.328  1.00 46.33           N  \\nATOM    920  N   GLU B  21       9.324  25.048 -11.162  1.00 24.88           N  \\nATOM    921  CA  GLU B  21       9.705  26.075 -10.199  1.00 25.39           C  \\nATOM    922  C   GLU B  21      10.311  25.408  -8.990  1.00 23.31           C  \\nATOM    923  O   GLU B  21       9.847  24.351  -8.547  1.00 25.34           O  \\nATOM    924  CB  GLU B  21       8.468  26.848  -9.767  1.00 32.42           C  \\nATOM    925  CG  GLU B  21       8.676  28.343  -9.687  1.00 47.17           C  \\nATOM    926  CD  GLU B  21       7.419  29.111 -10.041  1.00 57.11           C  \\nATOM    927  OE1 GLU B  21       6.374  28.877  -9.383  1.00 62.83           O  \\nATOM    928  OE2 GLU B  21       7.461  29.911 -11.004  1.00 64.02           O  \\nATOM    929  N   ALA B  22      11.348  26.008  -8.443  1.00 16.20           N  \\nATOM    930  CA  ALA B  22      12.025  25.431  -7.271  1.00 14.52           C  \\nATOM    931  C   ALA B  22      12.472  26.569  -6.331  1.00 15.55           C  \\nATOM    932  O   ALA B  22      12.709  27.701  -6.765  1.00 17.95           O  \\nATOM    933  CB  ALA B  22      13.248  24.643  -7.708  1.00 11.99           C  \\nATOM    934  N   LEU B  23      12.560  26.257  -5.054  1.00 14.37           N  \\nATOM    935  CA  LEU B  23      13.017  27.151  -4.001  1.00 15.39           C  \\nATOM    936  C   LEU B  23      14.518  27.005  -3.822  1.00 15.08           C  \\nATOM    937  O   LEU B  23      15.008  25.915  -3.588  1.00 14.05           O  \\nATOM    938  CB  LEU B  23      12.330  26.721  -2.741  1.00 16.68           C  \\nATOM    939  CG  LEU B  23      12.592  27.472  -1.469  1.00 20.94           C  \\nATOM    940  CD1 LEU B  23      12.006  28.877  -1.562  1.00 18.77           C  \\nATOM    941  CD2 LEU B  23      11.917  26.658  -0.379  1.00 21.23           C  \\nATOM    942  N   LEU B  24      15.266  28.090  -3.963  1.00 13.16           N  \\nATOM    943  CA  LEU B  24      16.672  28.114  -3.511  1.00 17.92           C  \\nATOM    944  C   LEU B  24      16.809  28.098  -1.992  1.00 18.17           C  \\nATOM    945  O   LEU B  24      16.417  29.019  -1.338  1.00 19.32           O  \\nATOM    946  CB  LEU B  24      17.416  29.342  -4.065  1.00 17.42           C  \\nATOM    947  CG  LEU B  24      17.444  29.528  -5.585  1.00 19.17           C  \\nATOM    948  CD1 LEU B  24      18.151  30.843  -5.884  1.00 20.12           C  \\nATOM    949  CD2 LEU B  24      18.170  28.385  -6.270  1.00 19.21           C  \\nATOM    950  N   ASP B  25      17.407  27.054  -1.437  1.00 19.08           N  \\nATOM    951  CA  ASP B  25      17.227  26.751  -0.026  1.00 18.20           C  \\nATOM    952  C   ASP B  25      18.555  26.446   0.653  1.00 19.09           C  \\nATOM    953  O   ASP B  25      19.003  25.309   0.692  1.00 18.68           O  \\nATOM    954  CB  ASP B  25      16.258  25.572   0.084  1.00 18.15           C  \\nATOM    955  CG  ASP B  25      15.759  25.336   1.493  1.00 20.90           C  \\nATOM    956  OD1 ASP B  25      16.399  25.780   2.453  1.00 23.13           O  \\nATOM    957  OD2 ASP B  25      14.731  24.675   1.645  1.00 22.18           O  \\nATOM    958  N   THR B  26      19.163  27.455   1.257  1.00 14.92           N  \\nATOM    959  CA  THR B  26      20.441  27.290   1.920  1.00 13.68           C  \\nATOM    960  C   THR B  26      20.319  26.393   3.168  1.00 15.84           C  \\nATOM    961  O   THR B  26      21.316  25.867   3.637  1.00 18.69           O  \\nATOM    962  CB  THR B  26      21.063  28.678   2.282  1.00 15.43           C  \\nATOM    963  OG1 THR B  26      20.188  29.407   3.146  1.00 15.52           O  \\nATOM    964  CG2 THR B  26      21.279  29.499   1.024  1.00 15.01           C  \\nATOM    965  N   GLY B  27      19.106  26.199   3.688  1.00 13.19           N  \\nATOM    966  CA  GLY B  27      18.957  25.372   4.876  1.00 13.54           C  \\nATOM    967  C   GLY B  27      18.845  23.903   4.520  1.00 17.44           C  \\nATOM    968  O   GLY B  27      18.660  23.054   5.417  1.00 18.85           O  \\nATOM    969  N   ALA B  28      18.819  23.600   3.217  1.00 17.91           N  \\nATOM    970  CA  ALA B  28      18.721  22.211   2.738  1.00 18.89           C  \\nATOM    971  C   ALA B  28      20.089  21.661   2.292  1.00 20.66           C  \\nATOM    972  O   ALA B  28      20.749  22.243   1.403  1.00 22.38           O  \\nATOM    973  CB  ALA B  28      17.682  22.117   1.578  1.00 13.77           C  \\nATOM    974  N   ASP B  29      20.536  20.559   2.918  1.00 20.64           N  \\nATOM    975  CA  ASP B  29      21.779  19.912   2.496  1.00 14.85           C  \\nATOM    976  C   ASP B  29      21.693  19.374   1.107  1.00 14.01           C  \\nATOM    977  O   ASP B  29      22.642  19.502   0.361  1.00 17.76           O  \\nATOM    978  CB  ASP B  29      22.169  18.827   3.447  1.00 15.99           C  \\nATOM    979  CG  ASP B  29      22.272  19.337   4.844  1.00 22.55           C  \\nATOM    980  OD1 ASP B  29      22.714  20.482   5.029  1.00 27.81           O  \\nATOM    981  OD2 ASP B  29      21.836  18.647   5.778  1.00 29.43           O  \\nATOM    982  N   ASP B  30      20.524  18.868   0.719  1.00 16.70           N  \\nATOM    983  CA  ASP B  30      20.355  18.227  -0.584  1.00 15.10           C  \\nATOM    984  C   ASP B  30      19.212  18.807  -1.371  1.00 16.38           C  \\nATOM    985  O   ASP B  30      18.383  19.523  -0.846  1.00 17.11           O  \\nATOM    986  CB  ASP B  30      20.084  16.745  -0.413  1.00 21.76           C  \\nATOM    987  CG  ASP B  30      21.023  16.088   0.586  1.00 25.41           C  \\nATOM    988  OD1 ASP B  30      22.233  15.970   0.265  1.00 25.58           O  \\nATOM    989  OD2 ASP B  30      20.531  15.682   1.672  1.00 27.89           O  \\nATOM    990  N   THR B  31      19.152  18.428  -2.643  1.00 18.44           N  \\nATOM    991  CA  THR B  31      18.113  18.843  -3.603  1.00 15.45           C  \\nATOM    992  C   THR B  31      17.019  17.743  -3.682  1.00 19.23           C  \\nATOM    993  O   THR B  31      17.342  16.586  -3.904  1.00 18.95           O  \\nATOM    994  CB  THR B  31      18.810  19.051  -4.967  1.00 12.28           C  \\nATOM    995  OG1 THR B  31      19.740  20.123  -4.831  1.00 13.54           O  \\nATOM    996  CG2 THR B  31      17.844  19.330  -6.078  1.00 10.95           C  \\nATOM    997  N   VAL B  32      15.750  18.102  -3.440  1.00 19.53           N  \\nATOM    998  CA  VAL B  32      14.628  17.162  -3.514  1.00 18.71           C  \\nATOM    999  C   VAL B  32      13.618  17.726  -4.436  1.00 19.01           C  \\nATOM   1000  O   VAL B  32      13.169  18.861  -4.263  1.00 19.90           O  \\nATOM   1001  CB  VAL B  32      13.781  17.005  -2.245  1.00 20.49           C  \\nATOM   1002  CG1 VAL B  32      13.297  15.592  -2.184  1.00 26.38           C  \\nATOM   1003  CG2 VAL B  32      14.518  17.455  -1.007  1.00 20.87           C  \\nATOM   1004  N   LEU B  33      13.199  16.926  -5.401  1.00 22.78           N  \\nATOM   1005  CA  LEU B  33      12.141  17.335  -6.327  1.00 23.84           C  \\nATOM   1006  C   LEU B  33      10.876  16.500  -6.065  1.00 27.19           C  \\nATOM   1007  O   LEU B  33      10.948  15.389  -5.534  1.00 26.71           O  \\nATOM   1008  CB  LEU B  33      12.618  17.139  -7.766  1.00 21.02           C  \\nATOM   1009  CG  LEU B  33      13.889  17.846  -8.247  1.00 20.79           C  \\nATOM   1010  CD1 LEU B  33      13.942  17.794  -9.731  1.00 21.64           C  \\nATOM   1011  CD2 LEU B  33      13.897  19.266  -7.782  1.00 23.27           C  \\nATOM   1012  N   GLU B  34       9.719  17.083  -6.361  1.00 26.46           N  \\nATOM   1013  CA  GLU B  34       8.442  16.392  -6.346  1.00 26.40           C  \\nATOM   1014  C   GLU B  34       8.514  15.172  -7.224  1.00 26.66           C  \\nATOM   1015  O   GLU B  34       9.413  15.013  -8.040  1.00 26.75           O  \\nATOM   1016  CB  GLU B  34       7.316  17.305  -6.819  1.00 24.89           C  \\nATOM   1017  CG  GLU B  34       6.914  18.362  -5.808  1.00 31.34           C  \\nATOM   1018  CD  GLU B  34       6.205  19.552  -6.439  1.00 32.62           C  \\nATOM   1019  OE1 GLU B  34       6.323  19.742  -7.666  1.00 39.77           O  \\nATOM   1020  OE2 GLU B  34       5.613  20.369  -5.715  1.00 39.65           O  \\nATOM   1021  N   GLU B  35       7.526  14.309  -7.044  1.00 30.87           N  \\nATOM   1022  CA  GLU B  35       7.425  13.006  -7.682  1.00 32.05           C  \\nATOM   1023  C   GLU B  35       7.528  13.141  -9.172  1.00 32.29           C  \\nATOM   1024  O   GLU B  35       6.660  13.711  -9.819  1.00 37.80           O  \\nATOM   1025  CB  GLU B  35       6.100  12.361  -7.297  1.00 35.17           C  \\nATOM   1026  CG  GLU B  35       5.907  10.953  -7.838  1.00 44.03           C  \\nATOM   1027  CD  GLU B  35       7.182  10.093  -7.854  1.00 44.48           C  \\nATOM   1028  OE1 GLU B  35       7.743   9.853  -6.766  1.00 38.16           O  \\nATOM   1029  OE2 GLU B  35       7.521   9.561  -8.946  1.00 46.13           O  \\nATOM   1030  N   MET B  36       8.627  12.651  -9.705  1.00 31.85           N  \\nATOM   1031  CA  MET B  36       8.791  12.578 -11.145  1.00 33.53           C  \\nATOM   1032  C   MET B  36       9.583  11.322 -11.483  1.00 33.93           C  \\nATOM   1033  O   MET B  36      10.100  10.637 -10.616  1.00 36.78           O  \\nATOM   1034  CB  MET B  36       9.546  13.808 -11.654  1.00 35.97           C  \\nATOM   1035  CG  MET B  36      10.867  14.095 -11.014  1.00 35.75           C  \\nATOM   1036  SD  MET B  36      11.575  15.547 -11.778  1.00 43.16           S  \\nATOM   1037  CE  MET B  36      11.710  15.108 -13.551  1.00 42.89           C  \\nATOM   1038  N   SER B  37       9.657  11.016 -12.763  1.00 33.54           N  \\nATOM   1039  CA  SER B  37      10.411   9.858 -13.218  1.00 35.84           C  \\nATOM   1040  C   SER B  37      11.673  10.374 -13.825  1.00 34.42           C  \\nATOM   1041  O   SER B  37      11.636  11.272 -14.685  1.00 33.84           O  \\nATOM   1042  CB  SER B  37       9.573   9.049 -14.221  1.00 38.59           C  \\nATOM   1043  OG  SER B  37       8.330   8.594 -13.579  1.00 41.47           O  \\nATOM   1044  N   LEU B  38      12.793   9.884 -13.330  1.00 35.38           N  \\nATOM   1045  CA  LEU B  38      14.091  10.261 -13.857  1.00 34.72           C  \\nATOM   1046  C   LEU B  38      14.818   9.018 -14.330  1.00 36.10           C  \\nATOM   1047  O   LEU B  38      14.416   7.898 -13.995  1.00 35.71           O  \\nATOM   1048  CB  LEU B  38      14.866  10.942 -12.759  1.00 30.77           C  \\nATOM   1049  CG  LEU B  38      14.480  12.376 -12.556  1.00 26.92           C  \\nATOM   1050  CD1 LEU B  38      15.159  12.900 -11.300  1.00 29.33           C  \\nATOM   1051  CD2 LEU B  38      14.955  13.131 -13.766  1.00 27.40           C  \\nATOM   1052  N   PRO B  39      15.767   9.161 -15.261  1.00 39.43           N  \\nATOM   1053  CA  PRO B  39      16.525   8.031 -15.798  1.00 40.91           C  \\nATOM   1054  C   PRO B  39      17.366   7.241 -14.777  1.00 41.38           C  \\nATOM   1055  O   PRO B  39      17.943   7.817 -13.847  1.00 42.07           O  \\nATOM   1056  CB  PRO B  39      17.407   8.673 -16.857  1.00 41.75           C  \\nATOM   1057  CG  PRO B  39      17.532  10.100 -16.423  1.00 41.42           C  \\nATOM   1058  CD  PRO B  39      16.150  10.405 -15.968  1.00 42.37           C  \\nATOM   1059  N   GLY B  40      17.477   5.932 -14.999  1.00 35.62           N  \\nATOM   1060  CA  GLY B  40      18.494   5.171 -14.302  1.00 33.54           C  \\nATOM   1061  C   GLY B  40      18.048   4.556 -12.995  1.00 29.12           C  \\nATOM   1062  O   GLY B  40      16.865   4.438 -12.729  1.00 28.38           O  \\nATOM   1063  N   ARG B  41      19.000   3.939 -12.313  1.00 27.66           N  \\nATOM   1064  CA  ARG B  41      18.722   3.282 -11.042  1.00 28.95           C  \\nATOM   1065  C   ARG B  41      18.615   4.306  -9.916  1.00 30.49           C  \\nATOM   1066  O   ARG B  41      19.168   5.390 -10.018  1.00 31.54           O  \\nATOM   1067  CB  ARG B  41      19.852   2.333 -10.662  1.00 28.94           C  \\nATOM   1068  CG  ARG B  41      20.359   1.417 -11.726  1.00 34.11           C  \\nATOM   1069  CD  ARG B  41      20.905   0.188 -11.023  1.00 34.17           C  \\nATOM   1070  NE  ARG B  41      19.927  -0.864 -11.169  1.00 38.61           N  \\nATOM   1071  CZ  ARG B  41      19.354  -1.538 -10.177  1.00 35.13           C  \\nATOM   1072  NH1 ARG B  41      19.839  -1.513  -8.939  1.00 27.84           N  \\nATOM   1073  NH2 ARG B  41      18.333  -2.314 -10.472  1.00 27.82           N  \\nATOM   1074  N   TRP B  42      17.989   3.918  -8.810  1.00 27.94           N  \\nATOM   1075  CA  TRP B  42      17.920   4.766  -7.634  1.00 28.18           C  \\nATOM   1076  C   TRP B  42      18.295   3.969  -6.380  1.00 30.79           C  \\nATOM   1077  O   TRP B  42      18.163   2.742  -6.361  1.00 28.97           O  \\nATOM   1078  CB  TRP B  42      16.525   5.338  -7.459  1.00 24.28           C  \\nATOM   1079  CG  TRP B  42      15.444   4.372  -7.312  1.00 18.74           C  \\nATOM   1080  CD1 TRP B  42      14.681   3.834  -8.299  1.00 16.49           C  \\nATOM   1081  CD2 TRP B  42      14.840   3.957  -6.079  1.00 18.74           C  \\nATOM   1082  NE1 TRP B  42      13.640   3.121  -7.756  1.00 16.06           N  \\nATOM   1083  CE2 TRP B  42      13.719   3.166  -6.402  1.00 14.09           C  \\nATOM   1084  CE3 TRP B  42      15.154   4.180  -4.715  1.00 20.09           C  \\nATOM   1085  CZ2 TRP B  42      12.881   2.589  -5.411  1.00 18.75           C  \\nATOM   1086  CZ3 TRP B  42      14.300   3.625  -3.745  1.00 22.86           C  \\nATOM   1087  CH2 TRP B  42      13.168   2.842  -4.106  1.00 20.90           C  \\nATOM   1088  N   LYS B  43      18.801   4.689  -5.365  1.00 31.89           N  \\nATOM   1089  CA  LYS B  43      19.180   4.182  -4.032  1.00 30.18           C  \\nATOM   1090  C   LYS B  43      18.127   4.736  -3.089  1.00 27.53           C  \\nATOM   1091  O   LYS B  43      17.442   5.729  -3.400  1.00 25.86           O  \\nATOM   1092  CB  LYS B  43      20.561   4.731  -3.581  1.00 33.16           C  \\nATOM   1093  CG  LYS B  43      21.777   4.400  -4.445  1.00 40.56           C  \\nATOM   1094  CD  LYS B  43      22.996   5.295  -4.048  1.00 49.90           C  \\nATOM   1095  CE  LYS B  43      24.193   5.280  -5.063  1.00 52.53           C  \\nATOM   1096  NZ  LYS B  43      25.251   6.324  -4.725  1.00 52.90           N  \\nATOM   1097  N   PRO B  44      18.053   4.208  -1.878  1.00 25.82           N  \\nATOM   1098  CA  PRO B  44      17.102   4.804  -0.946  1.00 25.30           C  \\nATOM   1099  C   PRO B  44      17.754   5.853  -0.023  1.00 27.71           C  \\nATOM   1100  O   PRO B  44      18.929   5.769   0.330  1.00 25.94           O  \\nATOM   1101  CB  PRO B  44      16.596   3.610  -0.171  1.00 25.59           C  \\nATOM   1102  CG  PRO B  44      17.803   2.676  -0.117  1.00 26.07           C  \\nATOM   1103  CD  PRO B  44      18.649   2.962  -1.335  1.00 27.58           C  \\nATOM   1104  N   LYS B  45      16.974   6.847   0.381  1.00 29.96           N  \\nATOM   1105  CA  LYS B  45      17.443   7.812   1.371  1.00 28.39           C  \\nATOM   1106  C   LYS B  45      16.334   8.328   2.257  1.00 27.43           C  \\nATOM   1107  O   LYS B  45      15.192   8.470   1.828  1.00 26.93           O  \\nATOM   1108  CB  LYS B  45      18.177   8.988   0.701  1.00 27.50           C  \\nATOM   1109  CG  LYS B  45      19.183   9.659   1.670  1.00 27.69           C  \\nATOM   1110  CD  LYS B  45      20.095  10.640   1.011  1.00 25.34           C  \\nATOM   1111  CE  LYS B  45      20.751  11.491   2.069  1.00 32.56           C  \\nATOM   1112  NZ  LYS B  45      21.413  12.705   1.509  1.00 32.92           N  \\nATOM   1113  N   MET B  46      16.672   8.585   3.514  1.00 29.02           N  \\nATOM   1114  CA  MET B  46      15.755   9.281   4.404  1.00 31.16           C  \\nATOM   1115  C   MET B  46      16.373  10.584   4.732  1.00 29.75           C  \\nATOM   1116  O   MET B  46      17.542  10.636   5.104  1.00 29.99           O  \\nATOM   1117  CB  MET B  46      15.562   8.530   5.708  1.00 38.22           C  \\nATOM   1118  CG  MET B  46      14.763   7.266   5.540  1.00 45.23           C  \\nATOM   1119  SD  MET B  46      13.357   7.367   6.566  1.00 52.02           S  \\nATOM   1120  CE  MET B  46      14.146   6.922   8.167  1.00 49.41           C  \\nATOM   1121  N   ILE B  47      15.582  11.636   4.604  1.00 30.87           N  \\nATOM   1122  CA  ILE B  47      16.003  12.986   4.955  1.00 29.85           C  \\nATOM   1123  C   ILE B  47      15.018  13.507   5.961  1.00 27.34           C  \\nATOM   1124  O   ILE B  47      13.822  13.222   5.884  1.00 26.79           O  \\nATOM   1125  CB  ILE B  47      16.040  13.915   3.699  1.00 29.30           C  \\nATOM   1126  CG1 ILE B  47      14.745  13.761   2.918  1.00 25.99           C  \\nATOM   1127  CG2 ILE B  47      17.229  13.534   2.782  1.00 28.73           C  \\nATOM   1128  CD1 ILE B  47      14.742  14.561   1.698  1.00 27.41           C  \\nATOM   1129  N   GLY B  48      15.542  14.239   6.941  1.00 31.53           N  \\nATOM   1130  CA  GLY B  48      14.714  14.799   8.014  1.00 31.93           C  \\nATOM   1131  C   GLY B  48      14.762  16.314   8.114  1.00 33.10           C  \\nATOM   1132  O   GLY B  48      15.803  16.952   7.888  1.00 30.88           O  \\nATOM   1133  N   GLY B  49      13.583  16.896   8.239  1.00 32.08           N  \\nATOM   1134  CA  GLY B  49      13.484  18.319   8.459  1.00 34.90           C  \\nATOM   1135  C   GLY B  49      12.647  18.565   9.672  1.00 35.58           C  \\nATOM   1136  O   GLY B  49      12.880  17.976  10.721  1.00 36.70           O  \\nATOM   1137  N   ILE B  50      11.850  19.611   9.584  1.00 35.37           N  \\nATOM   1138  CA  ILE B  50      10.858  19.974  10.594  1.00 35.93           C  \\nATOM   1139  C   ILE B  50       9.707  18.988  10.393  1.00 35.51           C  \\nATOM   1140  O   ILE B  50       9.341  18.670   9.251  1.00 34.79           O  \\nATOM   1141  CB  ILE B  50      10.365  21.453  10.316  1.00 36.57           C  \\nATOM   1142  CG1 ILE B  50      11.556  22.421  10.394  1.00 38.14           C  \\nATOM   1143  CG2 ILE B  50       9.299  21.862  11.270  1.00 34.90           C  \\nATOM   1144  CD1 ILE B  50      11.936  22.850  11.773  1.00 36.99           C  \\nATOM   1145  N   GLY B  51       9.164  18.455  11.474  1.00 32.76           N  \\nATOM   1146  CA  GLY B  51       8.011  17.583  11.313  1.00 34.23           C  \\nATOM   1147  C   GLY B  51       8.360  16.130  11.054  1.00 37.16           C  \\nATOM   1148  O   GLY B  51       7.494  15.283  11.167  1.00 40.75           O  \\nATOM   1149  N   GLY B  52       9.638  15.842  10.818  1.00 36.36           N  \\nATOM   1150  CA  GLY B  52      10.123  14.474  10.792  1.00 35.14           C  \\nATOM   1151  C   GLY B  52      10.860  14.080   9.524  1.00 35.06           C  \\nATOM   1152  O   GLY B  52      11.419  14.930   8.826  1.00 33.99           O  \\nATOM   1153  N   PHE B  53      10.878  12.788   9.221  1.00 33.56           N  \\nATOM   1154  CA  PHE B  53      11.638  12.302   8.079  1.00 33.93           C  \\nATOM   1155  C   PHE B  53      10.739  11.914   6.924  1.00 33.07           C  \\nATOM   1156  O   PHE B  53       9.601  11.543   7.137  1.00 35.98           O  \\nATOM   1157  CB  PHE B  53      12.458  11.126   8.531  1.00 35.25           C  \\nATOM   1158  CG  PHE B  53      13.464  11.471   9.564  1.00 39.11           C  \\nATOM   1159  CD1 PHE B  53      13.092  11.697  10.886  1.00 40.72           C  \\nATOM   1160  CD2 PHE B  53      14.789  11.625   9.189  1.00 40.77           C  \\nATOM   1161  CE1 PHE B  53      14.036  12.076  11.825  1.00 42.79           C  \\nATOM   1162  CE2 PHE B  53      15.753  12.001  10.078  1.00 41.95           C  \\nATOM   1163  CZ  PHE B  53      15.392  12.225  11.421  1.00 44.36           C  \\nATOM   1164  N   ILE B  54      11.204  12.078   5.695  1.00 30.50           N  \\nATOM   1165  CA  ILE B  54      10.538  11.431   4.563  1.00 28.82           C  \\nATOM   1166  C   ILE B  54      11.513  10.453   3.866  1.00 28.68           C  \\nATOM   1167  O   ILE B  54      12.727  10.529   4.052  1.00 30.25           O  \\nATOM   1168  CB  ILE B  54       9.923  12.446   3.500  1.00 25.49           C  \\nATOM   1169  CG1 ILE B  54      10.968  13.414   2.964  1.00 24.37           C  \\nATOM   1170  CG2 ILE B  54       8.754  13.195   4.090  1.00 27.89           C  \\nATOM   1171  CD1 ILE B  54      10.571  14.020   1.616  1.00 16.71           C  \\nATOM   1172  N   LYS B  55      10.983   9.503   3.111  1.00 29.03           N  \\nATOM   1173  CA  LYS B  55      11.816   8.478   2.482  1.00 31.48           C  \\nATOM   1174  C   LYS B  55      11.862   8.988   1.074  1.00 28.45           C  \\nATOM   1175  O   LYS B  55      10.827   9.256   0.525  1.00 28.39           O  \\nATOM   1176  CB  LYS B  55      11.062   7.136   2.489  1.00 38.52           C  \\nATOM   1177  CG  LYS B  55      11.699   5.963   3.273  1.00 45.52           C  \\nATOM   1178  CD  LYS B  55      13.070   5.502   2.689  1.00 51.68           C  \\nATOM   1179  CE  LYS B  55      12.949   4.923   1.253  1.00 55.32           C  \\nATOM   1180  NZ  LYS B  55      13.964   5.445   0.291  1.00 51.46           N  \\nATOM   1181  N   VAL B  56      13.024   9.137   0.474  1.00 25.88           N  \\nATOM   1182  CA  VAL B  56      13.072   9.652  -0.897  1.00 26.87           C  \\nATOM   1183  C   VAL B  56      13.885   8.719  -1.786  1.00 26.06           C  \\nATOM   1184  O   VAL B  56      14.547   7.817  -1.279  1.00 29.12           O  \\nATOM   1185  CB  VAL B  56      13.757  11.033  -0.959  1.00 27.47           C  \\nATOM   1186  CG1 VAL B  56      12.766  12.134  -0.523  1.00 27.66           C  \\nATOM   1187  CG2 VAL B  56      15.032  11.016  -0.119  1.00 29.79           C  \\nATOM   1188  N   ARG B  57      13.889   8.977  -3.102  1.00 24.26           N  \\nATOM   1189  CA  ARG B  57      14.697   8.220  -4.083  1.00 21.61           C  \\nATOM   1190  C   ARG B  57      15.894   9.023  -4.591  1.00 20.76           C  \\nATOM   1191  O   ARG B  57      15.735  10.066  -5.210  1.00 24.14           O  \\nATOM   1192  CB  ARG B  57      13.862   7.854  -5.298  1.00 20.35           C  \\nATOM   1193  CG  ARG B  57      12.767   6.845  -5.041  1.00 26.15           C  \\nATOM   1194  CD  ARG B  57      12.224   6.316  -6.354  1.00 24.10           C  \\nATOM   1195  NE  ARG B  57      10.944   6.937  -6.617  1.00 34.58           N  \\nATOM   1196  CZ  ARG B  57      10.717   7.776  -7.614  1.00 31.59           C  \\nATOM   1197  NH1 ARG B  57      11.534   7.792  -8.658  1.00 33.77           N  \\nATOM   1198  NH2 ARG B  57       9.555   8.403  -7.678  1.00 29.56           N  \\nATOM   1199  N   GLN B  58      17.095   8.516  -4.388  1.00 19.42           N  \\nATOM   1200  CA  GLN B  58      18.306   9.218  -4.819  1.00 21.62           C  \\nATOM   1201  C   GLN B  58      18.742   8.833  -6.226  1.00 23.18           C  \\nATOM   1202  O   GLN B  58      19.157   7.694  -6.438  1.00 26.34           O  \\nATOM   1203  CB  GLN B  58      19.465   8.920  -3.861  1.00 20.63           C  \\nATOM   1204  CG  GLN B  58      20.738   9.622  -4.271  1.00 18.81           C  \\nATOM   1205  CD  GLN B  58      21.825   9.463  -3.248  1.00 20.16           C  \\nATOM   1206  OE1 GLN B  58      21.554   9.424  -2.048  1.00 28.16           O  \\nATOM   1207  NE2 GLN B  58      23.045   9.365  -3.692  1.00 21.91           N  \\nATOM   1208  N   TYR B  59      18.705   9.773  -7.167  1.00 21.35           N  \\nATOM   1209  CA  TYR B  59      19.361   9.587  -8.464  1.00 19.01           C  \\nATOM   1210  C   TYR B  59      20.689  10.330  -8.544  1.00 21.82           C  \\nATOM   1211  O   TYR B  59      20.860  11.368  -7.943  1.00 25.32           O  \\nATOM   1212  CB  TYR B  59      18.472  10.082  -9.563  1.00 18.59           C  \\nATOM   1213  CG  TYR B  59      17.116   9.383  -9.609  1.00 15.73           C  \\nATOM   1214  CD1 TYR B  59      16.157   9.612  -8.615  1.00 15.43           C  \\nATOM   1215  CD2 TYR B  59      16.814   8.484 -10.637  1.00 19.10           C  \\nATOM   1216  CE1 TYR B  59      14.959   8.977  -8.640  1.00 16.84           C  \\nATOM   1217  CE2 TYR B  59      15.647   7.851 -10.673  1.00 19.50           C  \\nATOM   1218  CZ  TYR B  59      14.704   8.066  -9.679  1.00 22.02           C  \\nATOM   1219  OH  TYR B  59      13.561   7.307  -9.711  1.00 23.01           O  \\nATOM   1220  N   ASP B  60      21.665   9.797  -9.258  1.00 26.17           N  \\nATOM   1221  CA  ASP B  60      22.959  10.470  -9.336  1.00 25.69           C  \\nATOM   1222  C   ASP B  60      23.303  10.921 -10.737  1.00 27.15           C  \\nATOM   1223  O   ASP B  60      22.793  10.396 -11.707  1.00 26.71           O  \\nATOM   1224  CB  ASP B  60      24.042   9.554  -8.834  1.00 30.50           C  \\nATOM   1225  CG  ASP B  60      23.843   9.184  -7.407  1.00 36.31           C  \\nATOM   1226  OD1 ASP B  60      23.463  10.074  -6.620  1.00 37.41           O  \\nATOM   1227  OD2 ASP B  60      24.107   8.012  -7.044  1.00 40.37           O  \\nATOM   1228  N   GLN B  61      24.189  11.897 -10.837  1.00 27.15           N  \\nATOM   1229  CA  GLN B  61      24.622  12.478 -12.111  1.00 29.27           C  \\nATOM   1230  C   GLN B  61      23.474  12.903 -13.022  1.00 28.21           C  \\nATOM   1231  O   GLN B  61      23.492  12.665 -14.229  1.00 29.57           O  \\nATOM   1232  CB  GLN B  61      25.596  11.549 -12.869  1.00 35.98           C  \\nATOM   1233  CG  GLN B  61      26.892  12.283 -13.369  1.00 45.09           C  \\nATOM   1234  CD  GLN B  61      28.007  11.392 -13.985  1.00 50.40           C  \\nATOM   1235  OE1 GLN B  61      28.747  11.845 -14.875  1.00 49.27           O  \\nATOM   1236  NE2 GLN B  61      28.197  10.173 -13.442  1.00 55.52           N  \\nATOM   1237  N   ILE B  62      22.493  13.589 -12.452  1.00 26.57           N  \\nATOM   1238  CA  ILE B  62      21.380  14.141 -13.224  1.00 24.82           C  \\nATOM   1239  C   ILE B  62      21.710  15.575 -13.686  1.00 25.46           C  \\nATOM   1240  O   ILE B  62      22.247  16.373 -12.924  1.00 25.12           O  \\nATOM   1241  CB  ILE B  62      20.090  14.147 -12.331  1.00 24.26           C  \\nATOM   1242  CG1 ILE B  62      19.709  12.702 -11.952  1.00 23.74           C  \\nATOM   1243  CG2 ILE B  62      18.950  14.826 -13.045  1.00 21.48           C  \\nATOM   1244  CD1 ILE B  62      19.068  11.933 -13.057  1.00 23.09           C  \\nATOM   1245  N   LEU B  63      21.400  15.900 -14.931  1.00 25.95           N  \\nATOM   1246  CA  LEU B  63      21.600  17.263 -15.431  1.00 29.84           C  \\nATOM   1247  C   LEU B  63      20.386  18.085 -15.052  1.00 30.58           C  \\nATOM   1248  O   LEU B  63      19.260  17.703 -15.355  1.00 31.36           O  \\nATOM   1249  CB  LEU B  63      21.769  17.265 -16.962  1.00 32.16           C  \\nATOM   1250  CG  LEU B  63      21.792  18.587 -17.759  1.00 33.80           C  \\nATOM   1251  CD1 LEU B  63      22.903  19.529 -17.300  1.00 36.66           C  \\nATOM   1252  CD2 LEU B  63      21.997  18.246 -19.205  1.00 38.83           C  \\nATOM   1253  N   ILE B  64      20.626  19.203 -14.381  1.00 31.59           N  \\nATOM   1254  CA  ILE B  64      19.548  20.111 -14.029  1.00 31.52           C  \\nATOM   1255  C   ILE B  64      20.089  21.523 -14.223  1.00 33.29           C  \\nATOM   1256  O   ILE B  64      21.175  21.858 -13.763  1.00 33.56           O  \\nATOM   1257  CB  ILE B  64      19.107  19.880 -12.540  1.00 29.35           C  \\nATOM   1258  CG1 ILE B  64      18.216  20.990 -12.036  1.00 30.67           C  \\nATOM   1259  CG2 ILE B  64      20.311  19.766 -11.655  1.00 34.19           C  \\nATOM   1260  CD1 ILE B  64      17.324  20.544 -10.930  1.00 34.50           C  \\nATOM   1261  N   GLU B  65      19.327  22.330 -14.953  1.00 35.37           N  \\nATOM   1262  CA  GLU B  65      19.661  23.719 -15.251  1.00 34.26           C  \\nATOM   1263  C   GLU B  65      18.938  24.686 -14.338  1.00 33.11           C  \\nATOM   1264  O   GLU B  65      17.700  24.745 -14.345  1.00 32.35           O  \\nATOM   1265  CB  GLU B  65      19.282  24.017 -16.688  1.00 37.05           C  \\nATOM   1266  CG  GLU B  65      20.180  25.011 -17.326  1.00 48.15           C  \\nATOM   1267  CD  GLU B  65      19.960  25.126 -18.805  1.00 54.00           C  \\nATOM   1268  OE1 GLU B  65      19.601  24.094 -19.445  1.00 54.40           O  \\nATOM   1269  OE2 GLU B  65      20.214  26.241 -19.314  1.00 59.11           O  \\nATOM   1270  N   ILE B  66      19.709  25.427 -13.547  1.00 34.12           N  \\nATOM   1271  CA  ILE B  66      19.159  26.431 -12.654  1.00 36.05           C  \\nATOM   1272  C   ILE B  66      19.519  27.864 -13.127  1.00 37.57           C  \\nATOM   1273  O   ILE B  66      20.684  28.254 -13.167  1.00 36.67           O  \\nATOM   1274  CB  ILE B  66      19.663  26.199 -11.203  1.00 33.70           C  \\nATOM   1275  CG1 ILE B  66      19.566  24.717 -10.848  1.00 32.55           C  \\nATOM   1276  CG2 ILE B  66      18.824  27.018 -10.232  1.00 33.60           C  \\nATOM   1277  CD1 ILE B  66      20.510  24.280  -9.745  1.00 35.00           C  \\nATOM   1278  N   CYS B  67      18.504  28.630 -13.516  1.00 41.68           N  \\nATOM   1279  CA  CYS B  67      18.684  29.971 -14.104  1.00 44.87           C  \\nATOM   1280  C   CYS B  67      19.685  29.990 -15.245  1.00 44.44           C  \\nATOM   1281  O   CYS B  67      20.565  30.852 -15.294  1.00 42.31           O  \\nATOM   1282  CB  CYS B  67      19.124  30.970 -13.037  1.00 48.45           C  \\nATOM   1283  SG  CYS B  67      17.736  31.542 -12.037  1.00 54.18           S  \\nATOM   1284  N   GLY B  68      19.562  29.010 -16.143  1.00 43.24           N  \\nATOM   1285  CA  GLY B  68      20.485  28.891 -17.256  1.00 41.28           C  \\nATOM   1286  C   GLY B  68      21.899  28.603 -16.811  1.00 41.98           C  \\nATOM   1287  O   GLY B  68      22.843  28.970 -17.493  1.00 46.85           O  \\nATOM   1288  N   HIS B  69      22.059  28.002 -15.633  1.00 40.00           N  \\nATOM   1289  CA  HIS B  69      23.354  27.479 -15.197  1.00 36.63           C  \\nATOM   1290  C   HIS B  69      23.178  25.984 -15.087  1.00 34.62           C  \\nATOM   1291  O   HIS B  69      22.307  25.523 -14.354  1.00 32.72           O  \\nATOM   1292  CB  HIS B  69      23.711  27.993 -13.810  1.00 39.25           C  \\nATOM   1293  CG  HIS B  69      23.976  29.473 -13.740  1.00 44.38           C  \\nATOM   1294  ND1 HIS B  69      25.177  29.994 -13.361  1.00 46.88           N  \\nATOM   1295  CD2 HIS B  69      23.114  30.512 -13.920  1.00 45.80           C  \\nATOM   1296  CE1 HIS B  69      25.058  31.325 -13.286  1.00 50.18           C  \\nATOM   1297  NE2 HIS B  69      23.849  31.652 -13.613  1.00 47.74           N  \\nATOM   1298  N   LYS B  70      23.995  25.240 -15.820  1.00 33.27           N  \\nATOM   1299  CA  LYS B  70      23.935  23.791 -15.800  1.00 31.17           C  \\nATOM   1300  C   LYS B  70      24.749  23.243 -14.652  1.00 29.41           C  \\nATOM   1301  O   LYS B  70      25.875  23.676 -14.403  1.00 29.56           O  \\nATOM   1302  CB  LYS B  70      24.423  23.212 -17.115  1.00 32.71           C  \\nATOM   1303  CG  LYS B  70      23.463  23.445 -18.279  1.00 34.39           C  \\nATOM   1304  CD  LYS B  70      24.261  23.524 -19.576  1.00 44.19           C  \\nATOM   1305  CE  LYS B  70      23.377  23.737 -20.816  1.00 48.61           C  \\nATOM   1306  NZ  LYS B  70      22.863  22.443 -21.404  1.00 54.35           N  \\nATOM   1307  N   ALA B  71      24.104  22.353 -13.909  1.00 24.69           N  \\nATOM   1308  CA  ALA B  71      24.689  21.612 -12.802  1.00 23.65           C  \\nATOM   1309  C   ALA B  71      24.391  20.156 -13.159  1.00 24.51           C  \\nATOM   1310  O   ALA B  71      23.339  19.865 -13.735  1.00 24.89           O  \\nATOM   1311  CB  ALA B  71      23.991  21.992 -11.485  1.00 16.65           C  \\nATOM   1312  N   ILE B  72      25.330  19.253 -12.902  1.00 25.50           N  \\nATOM   1313  CA  ILE B  72      25.048  17.816 -13.016  1.00 24.06           C  \\nATOM   1314  C   ILE B  72      25.312  17.246 -11.637  1.00 22.15           C  \\nATOM   1315  O   ILE B  72      26.442  17.315 -11.167  1.00 23.87           O  \\nATOM   1316  CB  ILE B  72      26.029  17.094 -13.983  1.00 24.38           C  \\nATOM   1317  CG1 ILE B  72      26.092  17.805 -15.333  1.00 26.24           C  \\nATOM   1318  CG2 ILE B  72      25.615  15.649 -14.171  1.00 23.69           C  \\nATOM   1319  CD1 ILE B  72      27.241  17.224 -16.197  1.00 23.26           C  \\nATOM   1320  N   GLY B  73      24.303  16.690 -10.975  1.00 19.12           N  \\nATOM   1321  CA  GLY B  73      24.545  16.248  -9.616  1.00 19.31           C  \\nATOM   1322  C   GLY B  73      23.470  15.337  -9.095  1.00 19.37           C  \\nATOM   1323  O   GLY B  73      22.674  14.852  -9.881  1.00 21.87           O  \\nATOM   1324  N   THR B  74      23.517  15.041  -7.794  1.00 19.61           N  \\nATOM   1325  CA  THR B  74      22.568  14.162  -7.116  1.00 19.07           C  \\nATOM   1326  C   THR B  74      21.280  14.889  -6.829  1.00 22.17           C  \\nATOM   1327  O   THR B  74      21.299  16.005  -6.275  1.00 19.62           O  \\nATOM   1328  CB  THR B  74      23.128  13.638  -5.748  1.00 19.04           C  \\nATOM   1329  OG1 THR B  74      24.323  12.880  -5.961  1.00 24.28           O  \\nATOM   1330  CG2 THR B  74      22.071  12.763  -5.030  1.00 17.43           C  \\nATOM   1331  N   VAL B  75      20.177  14.227  -7.192  1.00 18.83           N  \\nATOM   1332  CA  VAL B  75      18.832  14.773  -7.068  1.00 20.46           C  \\nATOM   1333  C   VAL B  75      17.989  13.688  -6.360  1.00 22.85           C  \\nATOM   1334  O   VAL B  75      17.993  12.504  -6.743  1.00 20.15           O  \\nATOM   1335  CB  VAL B  75      18.229  15.113  -8.501  1.00 22.69           C  \\nATOM   1336  CG1 VAL B  75      16.760  15.421  -8.434  1.00 19.10           C  \\nATOM   1337  CG2 VAL B  75      18.967  16.317  -9.099  1.00 18.68           C  \\nATOM   1338  N   LEU B  76      17.295  14.086  -5.303  1.00 21.32           N  \\nATOM   1339  CA  LEU B  76      16.390  13.196  -4.575  1.00 19.82           C  \\nATOM   1340  C   LEU B  76      14.972  13.423  -5.073  1.00 21.74           C  \\nATOM   1341  O   LEU B  76      14.652  14.514  -5.518  1.00 25.18           O  \\nATOM   1342  CB  LEU B  76      16.450  13.476  -3.067  1.00 16.45           C  \\nATOM   1343  CG  LEU B  76      17.787  13.595  -2.330  1.00 15.15           C  \\nATOM   1344  CD1 LEU B  76      17.591  13.640  -0.845  1.00 14.83           C  \\nATOM   1345  CD2 LEU B  76      18.678  12.463  -2.705  1.00 20.59           C  \\nATOM   1346  N   VAL B  77      14.135  12.391  -5.049  1.00 23.03           N  \\nATOM   1347  CA  VAL B  77      12.749  12.509  -5.485  1.00 17.63           C  \\nATOM   1348  C   VAL B  77      11.826  11.894  -4.472  1.00 17.51           C  \\nATOM   1349  O   VAL B  77      12.052  10.766  -3.999  1.00 16.69           O  \\nATOM   1350  CB  VAL B  77      12.502  11.835  -6.868  1.00 18.16           C  \\nATOM   1351  CG1 VAL B  77      11.065  12.148  -7.398  1.00 20.02           C  \\nATOM   1352  CG2 VAL B  77      13.593  12.322  -7.843  1.00 16.66           C  \\nATOM   1353  N   GLY B  78      10.778  12.616  -4.125  1.00 16.55           N  \\nATOM   1354  CA  GLY B  78      10.004  12.229  -2.965  1.00 20.06           C  \\nATOM   1355  C   GLY B  78       8.832  13.128  -2.672  1.00 21.31           C  \\nATOM   1356  O   GLY B  78       8.614  14.117  -3.393  1.00 24.13           O  \\nATOM   1357  N   PRO B  79       8.032  12.814  -1.646  1.00 19.47           N  \\nATOM   1358  CA  PRO B  79       6.887  13.664  -1.350  1.00 21.78           C  \\nATOM   1359  C   PRO B  79       7.292  14.915  -0.550  1.00 21.89           C  \\nATOM   1360  O   PRO B  79       7.007  15.036   0.638  1.00 22.16           O  \\nATOM   1361  CB  PRO B  79       5.951  12.742  -0.594  1.00 17.28           C  \\nATOM   1362  CG  PRO B  79       6.838  11.781   0.040  1.00 20.54           C  \\nATOM   1363  CD  PRO B  79       8.096  11.665  -0.739  1.00 20.64           C  \\nATOM   1364  N   THR B  80       7.997  15.816  -1.220  1.00 24.38           N  \\nATOM   1365  CA  THR B  80       8.324  17.137  -0.702  1.00 22.15           C  \\nATOM   1366  C   THR B  80       7.227  18.114  -1.090  1.00 20.84           C  \\nATOM   1367  O   THR B  80       6.528  17.896  -2.080  1.00 20.99           O  \\nATOM   1368  CB  THR B  80       9.677  17.594  -1.299  1.00 21.20           C  \\nATOM   1369  OG1 THR B  80       9.952  18.951  -0.924  1.00 22.05           O  \\nATOM   1370  CG2 THR B  80       9.688  17.449  -2.825  1.00 13.16           C  \\nATOM   1371  N   PRO B  81       6.922  19.074  -0.214  1.00 24.57           N  \\nATOM   1372  CA  PRO B  81       5.896  20.066  -0.556  1.00 24.68           C  \\nATOM   1373  C   PRO B  81       6.244  20.969  -1.727  1.00 26.51           C  \\nATOM   1374  O   PRO B  81       5.343  21.294  -2.509  1.00 32.43           O  \\nATOM   1375  CB  PRO B  81       5.694  20.874   0.729  1.00 22.89           C  \\nATOM   1376  CG  PRO B  81       6.274  19.954   1.831  1.00 24.08           C  \\nATOM   1377  CD  PRO B  81       7.387  19.243   1.190  1.00 21.46           C  \\nATOM   1378  N   VAL B  82       7.520  21.355  -1.868  1.00 23.91           N  \\nATOM   1379  CA  VAL B  82       7.990  22.207  -2.983  1.00 24.09           C  \\nATOM   1380  C   VAL B  82       9.255  21.636  -3.581  1.00 21.54           C  \\nATOM   1381  O   VAL B  82       9.973  20.911  -2.929  1.00 26.47           O  \\nATOM   1382  CB  VAL B  82       8.375  23.616  -2.484  1.00 26.47           C  \\nATOM   1383  CG1 VAL B  82       7.122  24.513  -2.361  1.00 26.39           C  \\nATOM   1384  CG2 VAL B  82       9.101  23.485  -1.163  1.00 24.12           C  \\nATOM   1385  N   ASN B  83       9.588  21.960  -4.812  1.00 16.61           N  \\nATOM   1386  CA  ASN B  83      10.914  21.521  -5.319  1.00 16.90           C  \\nATOM   1387  C   ASN B  83      11.922  22.373  -4.576  1.00 19.55           C  \\nATOM   1388  O   ASN B  83      11.716  23.574  -4.429  1.00 18.36           O  \\nATOM   1389  CB  ASN B  83      11.068  21.763  -6.823  1.00 16.55           C  \\nATOM   1390  CG  ASN B  83      10.096  20.950  -7.647  1.00 22.00           C  \\nATOM   1391  OD1 ASN B  83      10.013  19.733  -7.494  1.00 23.24           O  \\nATOM   1392  ND2 ASN B  83       9.305  21.627  -8.498  1.00 22.85           N  \\nATOM   1393  N   ILE B  84      12.983  21.755  -4.066  1.00 17.31           N  \\nATOM   1394  CA  ILE B  84      13.979  22.449  -3.233  1.00 13.51           C  \\nATOM   1395  C   ILE B  84      15.345  22.255  -3.870  1.00 19.87           C  \\nATOM   1396  O   ILE B  84      15.779  21.111  -4.072  1.00 20.54           O  \\nATOM   1397  CB  ILE B  84      14.041  21.833  -1.837  1.00 10.82           C  \\nATOM   1398  CG1 ILE B  84      12.754  22.151  -1.088  1.00 13.42           C  \\nATOM   1399  CG2 ILE B  84      15.323  22.264  -1.122  1.00 11.48           C  \\nATOM   1400  CD1 ILE B  84      12.438  21.217   0.060  1.00 20.08           C  \\nATOM   1401  N   ILE B  85      16.044  23.346  -4.167  1.00 19.47           N  \\nATOM   1402  CA  ILE B  85      17.441  23.243  -4.575  1.00 19.69           C  \\nATOM   1403  C   ILE B  85      18.305  23.504  -3.345  1.00 22.78           C  \\nATOM   1404  O   ILE B  85      18.262  24.613  -2.802  1.00 24.74           O  \\nATOM   1405  CB  ILE B  85      17.805  24.332  -5.644  1.00 18.51           C  \\nATOM   1406  CG1 ILE B  85      16.809  24.299  -6.827  1.00 19.44           C  \\nATOM   1407  CG2 ILE B  85      19.271  24.191  -6.067  1.00 14.76           C  \\nATOM   1408  CD1 ILE B  85      16.672  22.956  -7.581  1.00 22.90           C  \\nATOM   1409  N   GLY B  86      19.121  22.530  -2.936  1.00 19.72           N  \\nATOM   1410  CA  GLY B  86      19.857  22.642  -1.690  1.00 14.65           C  \\nATOM   1411  C   GLY B  86      21.324  22.800  -1.940  1.00 13.18           C  \\nATOM   1412  O   GLY B  86      21.750  22.958  -3.056  1.00 13.07           O  \\nATOM   1413  N   ARG B  87      22.117  22.755  -0.887  1.00 11.71           N  \\nATOM   1414  CA  ARG B  87      23.533  23.126  -0.985  1.00 14.23           C  \\nATOM   1415  C   ARG B  87      24.413  22.356  -1.973  1.00 19.73           C  \\nATOM   1416  O   ARG B  87      25.398  22.903  -2.461  1.00 17.28           O  \\nATOM   1417  CB  ARG B  87      24.171  23.147   0.403  1.00 15.02           C  \\nATOM   1418  CG  ARG B  87      23.646  24.256   1.283  1.00  8.76           C  \\nATOM   1419  CD  ARG B  87      24.429  24.306   2.576  1.00 16.02           C  \\nATOM   1420  NE  ARG B  87      24.362  23.068   3.371  1.00 21.61           N  \\nATOM   1421  CZ  ARG B  87      25.357  22.185   3.495  1.00 21.15           C  \\nATOM   1422  NH1 ARG B  87      26.467  22.303   2.795  1.00 18.57           N  \\nATOM   1423  NH2 ARG B  87      25.255  21.190   4.368  1.00 26.79           N  \\nATOM   1424  N   ASN B  88      24.074  21.101  -2.275  1.00 18.56           N  \\nATOM   1425  CA  ASN B  88      24.950  20.312  -3.132  1.00 17.41           C  \\nATOM   1426  C   ASN B  88      24.980  20.893  -4.527  1.00 19.59           C  \\nATOM   1427  O   ASN B  88      26.015  20.853  -5.202  1.00 20.40           O  \\nATOM   1428  CB  ASN B  88      24.512  18.849  -3.197  1.00 19.90           C  \\nATOM   1429  CG  ASN B  88      23.126  18.649  -3.777  1.00 15.28           C  \\nATOM   1430  OD1 ASN B  88      22.167  19.280  -3.351  1.00 22.61           O  \\nATOM   1431  ND2 ASN B  88      23.020  17.775  -4.767  1.00 16.65           N  \\nATOM   1432  N   LEU B  89      23.863  21.490  -4.949  1.00 20.98           N  \\nATOM   1433  CA  LEU B  89      23.811  22.125  -6.273  1.00 21.49           C  \\nATOM   1434  C   LEU B  89      24.018  23.645  -6.231  1.00 20.99           C  \\nATOM   1435  O   LEU B  89      24.321  24.242  -7.236  1.00 21.25           O  \\nATOM   1436  CB  LEU B  89      22.457  21.815  -6.962  1.00 20.00           C  \\nATOM   1437  CG  LEU B  89      22.219  20.372  -7.436  1.00 17.87           C  \\nATOM   1438  CD1 LEU B  89      20.937  20.300  -8.243  1.00 20.88           C  \\nATOM   1439  CD2 LEU B  89      23.408  19.901  -8.273  1.00 17.17           C  \\nATOM   1440  N   LEU B  90      23.819  24.255  -5.075  1.00 20.01           N  \\nATOM   1441  CA  LEU B  90      24.020  25.701  -4.954  1.00 22.17           C  \\nATOM   1442  C   LEU B  90      25.511  26.005  -5.072  1.00 19.95           C  \\nATOM   1443  O   LEU B  90      25.907  26.959  -5.732  1.00 21.08           O  \\nATOM   1444  CB  LEU B  90      23.430  26.234  -3.624  1.00 17.71           C  \\nATOM   1445  CG  LEU B  90      21.900  26.309  -3.475  1.00 16.96           C  \\nATOM   1446  CD1 LEU B  90      21.487  26.779  -2.081  1.00 11.88           C  \\nATOM   1447  CD2 LEU B  90      21.358  27.241  -4.506  1.00 18.70           C  \\nATOM   1448  N   THR B  91      26.336  25.143  -4.491  1.00 23.70           N  \\nATOM   1449  CA  THR B  91      27.785  25.304  -4.546  1.00 23.96           C  \\nATOM   1450  C   THR B  91      28.270  25.184  -5.969  1.00 24.81           C  \\nATOM   1451  O   THR B  91      29.168  25.903  -6.378  1.00 26.72           O  \\nATOM   1452  CB  THR B  91      28.501  24.261  -3.669  1.00 21.26           C  \\nATOM   1453  OG1 THR B  91      27.898  22.990  -3.894  1.00 25.49           O  \\nATOM   1454  CG2 THR B  91      28.366  24.579  -2.208  1.00 17.64           C  \\nATOM   1455  N   GLN B  92      27.619  24.323  -6.741  1.00 25.95           N  \\nATOM   1456  CA  GLN B  92      28.009  24.110  -8.150  1.00 27.31           C  \\nATOM   1457  C   GLN B  92      27.823  25.361  -8.999  1.00 27.97           C  \\nATOM   1458  O   GLN B  92      28.719  25.701  -9.794  1.00 30.31           O  \\nATOM   1459  CB  GLN B  92      27.226  22.956  -8.793  1.00 24.09           C  \\nATOM   1460  CG  GLN B  92      27.720  21.588  -8.406  1.00 25.97           C  \\nATOM   1461  CD  GLN B  92      27.313  20.496  -9.421  1.00 27.56           C  \\nATOM   1462  OE1 GLN B  92      27.138  20.746 -10.620  1.00 26.23           O  \\nATOM   1463  NE2 GLN B  92      27.230  19.281  -8.941  1.00 27.50           N  \\nATOM   1464  N   ILE B  93      26.683  26.043  -8.820  1.00 28.73           N  \\nATOM   1465  CA  ILE B  93      26.362  27.233  -9.606  1.00 28.11           C  \\nATOM   1466  C   ILE B  93      26.904  28.524  -8.963  1.00 30.61           C  \\nATOM   1467  O   ILE B  93      26.574  29.627  -9.385  1.00 32.40           O  \\nATOM   1468  CB  ILE B  93      24.838  27.349  -9.857  1.00 23.33           C  \\nATOM   1469  CG1 ILE B  93      24.103  27.648  -8.559  1.00 25.74           C  \\nATOM   1470  CG2 ILE B  93      24.300  26.092 -10.460  1.00 21.29           C  \\nATOM   1471  CD1 ILE B  93      22.672  28.017  -8.785  1.00 27.65           C  \\nATOM   1472  N   GLY B  94      27.741  28.369  -7.949  1.00 30.93           N  \\nATOM   1473  CA  GLY B  94      28.481  29.498  -7.421  1.00 31.94           C  \\nATOM   1474  C   GLY B  94      27.749  30.439  -6.488  1.00 30.20           C  \\nATOM   1475  O   GLY B  94      28.177  31.555  -6.261  1.00 31.24           O  \\nATOM   1476  N   CYS B  95      26.808  29.899  -5.748  1.00 27.82           N  \\nATOM   1477  CA  CYS B  95      25.895  30.718  -5.004  1.00 26.76           C  \\nATOM   1478  C   CYS B  95      26.408  30.993  -3.598  1.00 27.20           C  \\nATOM   1479  O   CYS B  95      26.769  30.065  -2.870  1.00 27.85           O  \\nATOM   1480  CB  CYS B  95      24.578  29.989  -4.978  1.00 27.09           C  \\nATOM   1481  SG  CYS B  95      23.221  30.929  -4.410  1.00 36.34           S  \\nATOM   1482  N   THR B  96      26.473  32.277  -3.244  1.00 26.04           N  \\nATOM   1483  CA  THR B  96      26.794  32.734  -1.882  1.00 25.60           C  \\nATOM   1484  C   THR B  96      25.672  33.544  -1.205  1.00 24.26           C  \\nATOM   1485  O   THR B  96      24.760  34.079  -1.852  1.00 23.28           O  \\nATOM   1486  CB  THR B  96      28.051  33.660  -1.858  1.00 27.82           C  \\nATOM   1487  OG1 THR B  96      27.888  34.689  -2.857  1.00 31.12           O  \\nATOM   1488  CG2 THR B  96      29.316  32.870  -2.141  1.00 24.73           C  \\nATOM   1489  N   LEU B  97      25.759  33.617   0.119  1.00 24.54           N  \\nATOM   1490  CA  LEU B  97      24.902  34.468   0.963  1.00 27.92           C  \\nATOM   1491  C   LEU B  97      25.714  35.689   1.398  1.00 30.25           C  \\nATOM   1492  O   LEU B  97      26.854  35.558   1.870  1.00 29.52           O  \\nATOM   1493  CB  LEU B  97      24.489  33.718   2.236  1.00 27.18           C  \\nATOM   1494  CG  LEU B  97      23.211  32.901   2.344  1.00 22.23           C  \\nATOM   1495  CD1 LEU B  97      23.114  32.358   3.719  1.00 23.52           C  \\nATOM   1496  CD2 LEU B  97      22.037  33.773   2.076  1.00 20.87           C  \\nATOM   1497  N   ASN B  98      25.121  36.868   1.264  1.00 32.20           N  \\nATOM   1498  CA  ASN B  98      25.870  38.101   1.449  1.00 34.86           C  \\nATOM   1499  C   ASN B  98      25.102  39.038   2.370  1.00 34.26           C  \\nATOM   1500  O   ASN B  98      23.889  39.124   2.261  1.00 36.18           O  \\nATOM   1501  CB  ASN B  98      26.140  38.756   0.086  1.00 31.24           C  \\nATOM   1502  CG  ASN B  98      27.048  37.921  -0.814  1.00 33.93           C  \\nATOM   1503  OD1 ASN B  98      28.268  37.895  -0.630  1.00 37.15           O  \\nATOM   1504  ND2 ASN B  98      26.455  37.192  -1.754  1.00 33.06           N  \\nATOM   1505  N   PHE B  99      25.809  39.706   3.283  1.00 36.76           N  \\nATOM   1506  CA  PHE B  99      25.267  40.855   4.034  1.00 36.49           C  \\nATOM   1507  C   PHE B  99      26.351  41.742   4.659  1.00 35.50           C  \\nATOM   1508  O   PHE B  99      27.448  41.208   5.013  1.00 37.49           O  \\nATOM   1509  CB  PHE B  99      24.284  40.418   5.127  1.00 34.88           C  \\nATOM   1510  CG  PHE B  99      24.859  39.479   6.130  1.00 36.75           C  \\nATOM   1511  CD1 PHE B  99      25.061  38.150   5.808  1.00 37.04           C  \\nATOM   1512  CD2 PHE B  99      25.071  39.890   7.436  1.00 38.13           C  \\nATOM   1513  CE1 PHE B  99      25.450  37.240   6.756  1.00 37.02           C  \\nATOM   1514  CE2 PHE B  99      25.473  38.988   8.409  1.00 37.11           C  \\nATOM   1515  CZ  PHE B  99      25.658  37.663   8.073  1.00 36.24           C  \\nTER\\nEND\",\"pdb\");\n\tviewer_16363918842476943.setStyle({\"cartoon\": {\"color\": \"spectrum\"}});\n\tviewer_16363918842476943.addStyle({\"resi\": \"32,47,82-84\"},{\"stick\": {\"colorscheme\": \"greenCarbon\"}});\n\tviewer_16363918842476943.setBackgroundColor(\"0xffffff\");\n\tviewer_16363918842476943.zoomTo();\nviewer_16363918842476943.render();\n});\n</script>",
                  "text/html": "<div id=\"3dmolviewer_16363918842476943\"  style=\"position: relative; width: 1000px; height: 600px\">\n        <p id=\"3dmolwarning_16363918842476943\" style=\"background-color:#ffcccc;color:black\">You appear to be running in JupyterLab (or JavaScript failed to load for some other reason).  You need to install the 3dmol extension: <br>\n        <tt>jupyter labextension install jupyterlab_3dmol</tt></p>\n        </div>\n<script>\n\nvar loadScriptAsync = function(uri){\n  return new Promise((resolve, reject) => {\n    var tag = document.createElement('script');\n    tag.src = uri;\n    tag.async = true;\n    tag.onload = () => {\n      resolve();\n    };\n  var firstScriptTag = document.getElementsByTagName('script')[0];\n  firstScriptTag.parentNode.insertBefore(tag, firstScriptTag);\n});\n};\n\nif(typeof $3Dmolpromise === 'undefined') {\n$3Dmolpromise = null;\n  $3Dmolpromise = loadScriptAsync('https://3dmol.org/build/3Dmol.js');\n}\n\nvar viewer_16363918842476943 = null;\nvar warn = document.getElementById(\"3dmolwarning_16363918842476943\");\nif(warn) {\n    warn.parentNode.removeChild(warn);\n}\n$3Dmolpromise.then(function() {\nviewer_16363918842476943 = $3Dmol.createViewer($(\"#3dmolviewer_16363918842476943\"),{backgroundColor:\"white\"});\nviewer_16363918842476943.zoomTo();\n\tviewer_16363918842476943.addBox({\"center\": {\"x\": 15, \"y\": 29, \"z\": 4}, \"dimensions\": {\"w\": 20, \"h\": 20, \"d\": 20}, \"color\": \"blue\", \"opacity\": 0.6});\n\tviewer_16363918842476943.addModel(\"ATOM      1  N   PRO A   1      29.361  39.686   5.862  1.00 38.10           N  \\nATOM      2  CA  PRO A   1      30.307  38.663   5.319  1.00 40.62           C  \\nATOM      3  C   PRO A   1      29.760  38.071   4.022  1.00 42.64           C  \\nATOM      4  O   PRO A   1      28.600  38.302   3.676  1.00 43.40           O  \\nATOM      5  CB  PRO A   1      30.508  37.541   6.342  1.00 37.87           C  \\nATOM      6  CG  PRO A   1      29.296  37.591   7.162  1.00 38.40           C  \\nATOM      7  CD  PRO A   1      28.778  39.015   7.019  1.00 38.74           C  \\nATOM      8  N   GLN A   2      30.607  37.334   3.305  1.00 41.76           N  \\nATOM      9  CA  GLN A   2      30.158  36.492   2.199  1.00 41.30           C  \\nATOM     10  C   GLN A   2      30.298  35.041   2.643  1.00 41.38           C  \\nATOM     11  O   GLN A   2      31.401  34.494   2.763  1.00 43.09           O  \\nATOM     12  CB  GLN A   2      30.970  36.738   0.926  1.00 40.81           C  \\nATOM     13  CG  GLN A   2      30.625  35.783  -0.201  1.00 46.61           C  \\nATOM     14  CD  GLN A   2      31.184  36.217  -1.549  1.00 50.36           C  \\nATOM     15  OE1 GLN A   2      32.006  35.518  -2.156  1.00 53.89           O  \\nATOM     16  NE2 GLN A   2      30.684  37.339  -2.061  1.00 51.46           N  \\nATOM     17  N   ILE A   3      29.160  34.436   2.919  1.00 37.80           N  \\nATOM     18  CA  ILE A   3      29.123  33.098   3.397  1.00 34.13           C  \\nATOM     19  C   ILE A   3      28.968  32.155   2.198  1.00 33.19           C  \\nATOM     20  O   ILE A   3      28.088  32.330   1.368  1.00 32.74           O  \\nATOM     21  CB  ILE A   3      27.977  32.995   4.409  1.00 34.34           C  \\nATOM     22  CG1 ILE A   3      28.341  33.820   5.652  1.00 33.95           C  \\nATOM     23  CG2 ILE A   3      27.692  31.548   4.745  1.00 33.06           C  \\nATOM     24  CD1 ILE A   3      27.264  33.884   6.696  1.00 32.50           C  \\nATOM     25  N   THR A   4      29.891  31.210   2.066  1.00 31.65           N  \\nATOM     26  CA  THR A   4      29.774  30.143   1.062  1.00 30.14           C  \\nATOM     27  C   THR A   4      28.986  28.975   1.658  1.00 29.74           C  \\nATOM     28  O   THR A   4      28.690  28.948   2.875  1.00 27.88           O  \\nATOM     29  CB  THR A   4      31.165  29.618   0.634  1.00 29.24           C  \\nATOM     30  OG1 THR A   4      31.866  29.209   1.815  1.00 27.60           O  \\nATOM     31  CG2 THR A   4      31.980  30.688  -0.085  1.00 26.26           C  \\nATOM     32  N   LEU A   5      28.641  28.019   0.803  1.00 29.27           N  \\nATOM     33  CA  LEU A   5      27.644  27.003   1.144  1.00 30.12           C  \\nATOM     34  C   LEU A   5      28.204  25.559   1.071  1.00 32.98           C  \\nATOM     35  O   LEU A   5      27.446  24.583   0.969  1.00 32.32           O  \\nATOM     36  CB  LEU A   5      26.411  27.139   0.226  1.00 26.21           C  \\nATOM     37  CG  LEU A   5      25.676  28.479   0.352  1.00 24.56           C  \\nATOM     38  CD1 LEU A   5      24.624  28.624  -0.753  1.00 20.74           C  \\nATOM     39  CD2 LEU A   5      25.088  28.590   1.745  1.00 21.87           C  \\nATOM     40  N   TRP A   6      29.528  25.436   1.146  1.00 31.52           N  \\nATOM     41  CA  TRP A   6      30.177  24.150   1.279  1.00 30.82           C  \\nATOM     42  C   TRP A   6      29.837  23.488   2.611  1.00 31.90           C  \\nATOM     43  O   TRP A   6      29.706  22.271   2.673  1.00 33.26           O  \\nATOM     44  CB  TRP A   6      31.685  24.301   1.109  1.00 28.66           C  \\nATOM     45  CG  TRP A   6      32.152  24.955  -0.189  1.00 26.42           C  \\nATOM     46  CD1 TRP A   6      32.681  26.216  -0.345  1.00 28.49           C  \\nATOM     47  CD2 TRP A   6      32.274  24.314  -1.478  1.00 28.47           C  \\nATOM     48  NE1 TRP A   6      33.102  26.385  -1.655  1.00 29.88           N  \\nATOM     49  CE2 TRP A   6      32.864  25.258  -2.369  1.00 28.86           C  \\nATOM     50  CE3 TRP A   6      31.949  23.035  -1.986  1.00 25.06           C  \\nATOM     51  CZ2 TRP A   6      33.093  24.968  -3.717  1.00 32.14           C  \\nATOM     52  CZ3 TRP A   6      32.195  22.755  -3.294  1.00 27.41           C  \\nATOM     53  CH2 TRP A   6      32.754  23.722  -4.169  1.00 30.03           C  \\nATOM     54  N   GLN A   7      29.667  24.280   3.667  1.00 33.01           N  \\nATOM     55  CA  GLN A   7      29.141  23.799   4.960  1.00 32.37           C  \\nATOM     56  C   GLN A   7      27.747  24.395   5.208  1.00 29.95           C  \\nATOM     57  O   GLN A   7      27.349  25.330   4.547  1.00 26.55           O  \\nATOM     58  CB  GLN A   7      30.072  24.227   6.100  1.00 38.12           C  \\nATOM     59  CG  GLN A   7      31.512  23.694   5.995  1.00 48.91           C  \\nATOM     60  CD  GLN A   7      32.521  24.750   5.469  1.00 59.75           C  \\nATOM     61  OE1 GLN A   7      32.666  25.860   6.038  1.00 61.83           O  \\nATOM     62  NE2 GLN A   7      33.268  24.374   4.419  1.00 59.99           N  \\nATOM     63  N   ARG A   8      26.992  23.877   6.169  1.00 27.34           N  \\nATOM     64  CA  ARG A   8      25.757  24.566   6.593  1.00 29.87           C  \\nATOM     65  C   ARG A   8      26.029  26.025   6.996  1.00 31.94           C  \\nATOM     66  O   ARG A   8      26.947  26.291   7.775  1.00 33.83           O  \\nATOM     67  CB  ARG A   8      25.087  23.849   7.776  1.00 28.16           C  \\nATOM     68  CG  ARG A   8      24.646  22.409   7.505  1.00 27.47           C  \\nATOM     69  CD  ARG A   8      23.728  21.896   8.637  1.00 25.45           C  \\nATOM     70  NE  ARG A   8      22.952  20.730   8.230  1.00 23.06           N  \\nATOM     71  CZ  ARG A   8      22.367  19.871   9.064  1.00 28.80           C  \\nATOM     72  NH1 ARG A   8      22.376  20.074  10.370  1.00 30.95           N  \\nATOM     73  NH2 ARG A   8      21.776  18.789   8.589  1.00 26.02           N  \\nATOM     74  N   PRO A   9      25.123  26.955   6.645  1.00 30.21           N  \\nATOM     75  CA  PRO A   9      25.491  28.352   6.938  1.00 29.48           C  \\nATOM     76  C   PRO A   9      25.127  28.763   8.364  1.00 29.45           C  \\nATOM     77  O   PRO A   9      24.136  29.472   8.578  1.00 28.45           O  \\nATOM     78  CB  PRO A   9      24.719  29.176   5.916  1.00 27.88           C  \\nATOM     79  CG  PRO A   9      23.625  28.254   5.407  1.00 28.12           C  \\nATOM     80  CD  PRO A   9      24.096  26.855   5.591  1.00 31.64           C  \\nATOM     81  N   LEU A  10      25.905  28.285   9.330  1.00 28.83           N  \\nATOM     82  CA  LEU A  10      25.653  28.510  10.750  1.00 31.57           C  \\nATOM     83  C   LEU A  10      26.383  29.770  11.208  1.00 30.48           C  \\nATOM     84  O   LEU A  10      27.567  29.927  10.938  1.00 31.00           O  \\nATOM     85  CB  LEU A  10      26.120  27.284  11.573  1.00 31.09           C  \\nATOM     86  CG  LEU A  10      25.161  26.082  11.544  1.00 35.91           C  \\nATOM     87  CD1 LEU A  10      25.895  24.743  11.662  1.00 40.15           C  \\nATOM     88  CD2 LEU A  10      24.206  26.196  12.696  1.00 40.51           C  \\nATOM     89  N   VAL A  11      25.667  30.672  11.872  1.00 30.80           N  \\nATOM     90  CA  VAL A  11      26.267  31.854  12.497  1.00 30.14           C  \\nATOM     91  C   VAL A  11      25.818  31.957  13.955  1.00 33.13           C  \\nATOM     92  O   VAL A  11      24.929  31.184  14.402  1.00 34.48           O  \\nATOM     93  CB  VAL A  11      25.824  33.131  11.791  1.00 27.12           C  \\nATOM     94  CG1 VAL A  11      26.270  33.089  10.323  1.00 28.48           C  \\nATOM     95  CG2 VAL A  11      24.333  33.275  11.879  1.00 26.29           C  \\nATOM     96  N   THR A  12      26.397  32.913  14.700  1.00 32.34           N  \\nATOM     97  CA  THR A  12      26.001  33.143  16.102  1.00 32.56           C  \\nATOM     98  C   THR A  12      24.915  34.200  16.204  1.00 33.07           C  \\nATOM     99  O   THR A  12      25.010  35.279  15.610  1.00 33.62           O  \\nATOM    100  CB  THR A  12      27.201  33.565  16.998  1.00 33.81           C  \\nATOM    101  OG1 THR A  12      28.330  32.709  16.751  1.00 40.47           O  \\nATOM    102  CG2 THR A  12      26.827  33.430  18.450  1.00 34.22           C  \\nATOM    103  N   ILE A  13      23.848  33.868  16.909  1.00 31.84           N  \\nATOM    104  CA  ILE A  13      22.842  34.875  17.206  1.00 32.26           C  \\nATOM    105  C   ILE A  13      22.770  35.114  18.707  1.00 33.69           C  \\nATOM    106  O   ILE A  13      23.328  34.363  19.500  1.00 30.43           O  \\nATOM    107  CB  ILE A  13      21.413  34.460  16.661  1.00 32.80           C  \\nATOM    108  CG1 ILE A  13      20.878  33.229  17.431  1.00 31.81           C  \\nATOM    109  CG2 ILE A  13      21.510  34.194  15.162  1.00 27.69           C  \\nATOM    110  CD1 ILE A  13      19.353  33.201  17.603  1.00 32.46           C  \\nATOM    111  N   LYS A  14      22.106  36.199  19.087  1.00 36.78           N  \\nATOM    112  CA  LYS A  14      21.894  36.545  20.492  1.00 38.20           C  \\nATOM    113  C   LYS A  14      20.442  36.943  20.615  1.00 37.51           C  \\nATOM    114  O   LYS A  14      19.960  37.808  19.873  1.00 33.78           O  \\nATOM    115  CB  LYS A  14      22.777  37.724  20.896  1.00 43.07           C  \\nATOM    116  CG  LYS A  14      22.727  38.056  22.383  1.00 50.67           C  \\nATOM    117  CD  LYS A  14      23.270  39.450  22.678  1.00 56.97           C  \\nATOM    118  CE  LYS A  14      24.814  39.490  22.755  1.00 62.89           C  \\nATOM    119  NZ  LYS A  14      25.394  40.891  22.572  1.00 69.50           N  \\nATOM    120  N   ILE A  15      19.739  36.267  21.512  1.00 40.26           N  \\nATOM    121  CA  ILE A  15      18.345  36.563  21.813  1.00 46.34           C  \\nATOM    122  C   ILE A  15      18.224  36.327  23.316  1.00 49.77           C  \\nATOM    123  O   ILE A  15      18.886  35.449  23.864  1.00 52.38           O  \\nATOM    124  CB  ILE A  15      17.380  35.592  21.022  1.00 45.04           C  \\nATOM    125  CG1 ILE A  15      15.935  35.812  21.435  1.00 46.91           C  \\nATOM    126  CG2 ILE A  15      17.745  34.137  21.266  1.00 47.78           C  \\nATOM    127  CD1 ILE A  15      14.929  35.116  20.526  1.00 50.24           C  \\nATOM    128  N   GLY A  16      17.446  37.139  24.012  1.00 53.37           N  \\nATOM    129  CA  GLY A  16      17.356  36.968  25.459  1.00 56.32           C  \\nATOM    130  C   GLY A  16      18.711  36.871  26.160  1.00 56.91           C  \\nATOM    131  O   GLY A  16      18.866  36.162  27.153  1.00 55.53           O  \\nATOM    132  N   GLY A  17      19.671  37.659  25.697  1.00 57.90           N  \\nATOM    133  CA  GLY A  17      20.970  37.660  26.340  1.00 59.71           C  \\nATOM    134  C   GLY A  17      21.680  36.316  26.278  1.00 60.57           C  \\nATOM    135  O   GLY A  17      22.785  36.163  26.794  1.00 63.20           O  \\nATOM    136  N   GLN A  18      21.093  35.361  25.572  1.00 59.37           N  \\nATOM    137  CA  GLN A  18      21.780  34.106  25.263  1.00 58.98           C  \\nATOM    138  C   GLN A  18      22.500  34.159  23.907  1.00 56.87           C  \\nATOM    139  O   GLN A  18      21.937  34.624  22.915  1.00 56.84           O  \\nATOM    140  CB  GLN A  18      20.776  32.957  25.228  1.00 63.37           C  \\nATOM    141  CG  GLN A  18      19.599  33.116  26.176  1.00 67.60           C  \\nATOM    142  CD  GLN A  18      19.556  31.997  27.179  1.00 72.39           C  \\nATOM    143  OE1 GLN A  18      20.393  31.944  28.082  1.00 76.16           O  \\nATOM    144  NE2 GLN A  18      18.647  31.035  26.975  1.00 74.55           N  \\nATOM    145  N   LEU A  19      23.733  33.672  23.848  1.00 53.88           N  \\nATOM    146  CA  LEU A  19      24.334  33.365  22.552  1.00 49.32           C  \\nATOM    147  C   LEU A  19      23.896  31.963  22.106  1.00 46.38           C  \\nATOM    148  O   LEU A  19      23.975  31.020  22.863  1.00 43.18           O  \\nATOM    149  CB  LEU A  19      25.869  33.432  22.625  1.00 47.14           C  \\nATOM    150  CG  LEU A  19      26.561  34.761  22.968  1.00 46.02           C  \\nATOM    151  CD1 LEU A  19      28.007  34.629  22.620  1.00 46.45           C  \\nATOM    152  CD2 LEU A  19      25.983  35.913  22.194  1.00 46.45           C  \\nATOM    153  N   LYS A  20      23.416  31.855  20.876  1.00 44.76           N  \\nATOM    154  CA  LYS A  20      23.006  30.584  20.266  1.00 44.52           C  \\nATOM    155  C   LYS A  20      23.626  30.463  18.874  1.00 42.87           C  \\nATOM    156  O   LYS A  20      24.024  31.460  18.283  1.00 41.39           O  \\nATOM    157  CB  LYS A  20      21.494  30.523  20.107  1.00 43.50           C  \\nATOM    158  CG  LYS A  20      20.778  29.875  21.264  1.00 46.90           C  \\nATOM    159  CD  LYS A  20      19.868  30.857  21.939  1.00 49.38           C  \\nATOM    160  CE  LYS A  20      19.112  30.168  23.043  1.00 54.07           C  \\nATOM    161  NZ  LYS A  20      18.467  28.892  22.571  1.00 60.37           N  \\nATOM    162  N   GLU A  21      23.725  29.250  18.342  1.00 41.75           N  \\nATOM    163  CA  GLU A  21      24.053  29.117  16.931  1.00 40.02           C  \\nATOM    164  C   GLU A  21      22.822  28.761  16.150  1.00 35.18           C  \\nATOM    165  O   GLU A  21      21.879  28.136  16.672  1.00 30.96           O  \\nATOM    166  CB  GLU A  21      25.197  28.130  16.679  1.00 45.21           C  \\nATOM    167  CG  GLU A  21      25.035  26.716  17.168  1.00 55.20           C  \\nATOM    168  CD  GLU A  21      25.878  25.743  16.334  1.00 63.88           C  \\nATOM    169  OE1 GLU A  21      27.022  26.130  15.972  1.00 67.73           O  \\nATOM    170  OE2 GLU A  21      25.379  24.639  15.983  1.00 60.14           O  \\nATOM    171  N   ALA A  22      22.778  29.268  14.927  1.00 30.04           N  \\nATOM    172  CA  ALA A  22      21.553  29.189  14.165  1.00 26.79           C  \\nATOM    173  C   ALA A  22      21.870  29.183  12.682  1.00 26.36           C  \\nATOM    174  O   ALA A  22      22.975  29.578  12.252  1.00 24.88           O  \\nATOM    175  CB  ALA A  22      20.625  30.359  14.524  1.00 22.80           C  \\nATOM    176  N   LEU A  23      20.893  28.726  11.903  1.00 25.58           N  \\nATOM    177  CA  LEU A  23      21.047  28.473  10.476  1.00 25.08           C  \\nATOM    178  C   LEU A  23      20.381  29.596   9.664  1.00 23.67           C  \\nATOM    179  O   LEU A  23      19.231  29.943   9.912  1.00 25.94           O  \\nATOM    180  CB  LEU A  23      20.382  27.135  10.174  1.00 27.31           C  \\nATOM    181  CG  LEU A  23      20.532  26.573   8.786  1.00 27.99           C  \\nATOM    182  CD1 LEU A  23      21.939  26.039   8.621  1.00 29.29           C  \\nATOM    183  CD2 LEU A  23      19.490  25.490   8.627  1.00 31.05           C  \\nATOM    184  N   LEU A  24      21.122  30.163   8.715  1.00 21.67           N  \\nATOM    185  CA  LEU A  24      20.617  31.144   7.775  1.00 18.03           C  \\nATOM    186  C   LEU A  24      19.940  30.412   6.617  1.00 19.77           C  \\nATOM    187  O   LEU A  24      20.567  29.833   5.740  1.00 20.40           O  \\nATOM    188  CB  LEU A  24      21.767  32.023   7.262  1.00 15.36           C  \\nATOM    189  CG  LEU A  24      22.647  32.673   8.359  1.00 18.86           C  \\nATOM    190  CD1 LEU A  24      23.698  33.581   7.738  1.00 16.70           C  \\nATOM    191  CD2 LEU A  24      21.797  33.496   9.368  1.00 18.96           C  \\nATOM    192  N   ASP A  25      18.626  30.444   6.627  1.00 18.83           N  \\nATOM    193  CA  ASP A  25      17.853  29.516   5.837  1.00 18.91           C  \\nATOM    194  C   ASP A  25      16.945  30.292   4.886  1.00 16.83           C  \\nATOM    195  O   ASP A  25      15.843  30.678   5.237  1.00 17.64           O  \\nATOM    196  CB  ASP A  25      17.047  28.642   6.811  1.00 16.55           C  \\nATOM    197  CG  ASP A  25      16.316  27.513   6.146  1.00 21.74           C  \\nATOM    198  OD1 ASP A  25      16.236  27.458   4.905  1.00 22.87           O  \\nATOM    199  OD2 ASP A  25      15.762  26.696   6.882  1.00 24.00           O  \\nATOM    200  N   THR A  26      17.364  30.439   3.645  1.00 15.44           N  \\nATOM    201  CA  THR A  26      16.548  31.148   2.684  1.00 15.16           C  \\nATOM    202  C   THR A  26      15.302  30.382   2.289  1.00 15.12           C  \\nATOM    203  O   THR A  26      14.412  30.939   1.615  1.00 12.07           O  \\nATOM    204  CB  THR A  26      17.328  31.419   1.447  1.00 17.69           C  \\nATOM    205  OG1 THR A  26      17.693  30.177   0.863  1.00 16.60           O  \\nATOM    206  CG2 THR A  26      18.601  32.197   1.773  1.00 13.90           C  \\nATOM    207  N   GLY A  27      15.213  29.111   2.702  1.00 17.61           N  \\nATOM    208  CA  GLY A  27      14.043  28.331   2.349  1.00 14.06           C  \\nATOM    209  C   GLY A  27      12.958  28.456   3.394  1.00 13.84           C  \\nATOM    210  O   GLY A  27      11.832  28.015   3.171  1.00 14.08           O  \\nATOM    211  N   ALA A  28      13.301  28.967   4.569  1.00 12.94           N  \\nATOM    212  CA  ALA A  28      12.324  29.192   5.642  1.00 13.20           C  \\nATOM    213  C   ALA A  28      11.629  30.567   5.554  1.00 17.23           C  \\nATOM    214  O   ALA A  28      12.303  31.618   5.504  1.00 15.43           O  \\nATOM    215  CB  ALA A  28      13.031  29.084   6.978  1.00 12.92           C  \\nATOM    216  N   ASP A  29      10.296  30.560   5.587  1.00 17.65           N  \\nATOM    217  CA  ASP A  29       9.512  31.798   5.651  1.00 19.68           C  \\nATOM    218  C   ASP A  29       9.632  32.481   6.994  1.00 21.65           C  \\nATOM    219  O   ASP A  29       9.671  33.706   7.056  1.00 26.39           O  \\nATOM    220  CB  ASP A  29       8.029  31.534   5.402  1.00 18.61           C  \\nATOM    221  CG  ASP A  29       7.752  31.004   4.015  1.00 23.38           C  \\nATOM    222  OD1 ASP A  29       8.591  31.192   3.104  1.00 23.84           O  \\nATOM    223  OD2 ASP A  29       6.661  30.410   3.833  1.00 24.58           O  \\nATOM    224  N   ASP A  30       9.698  31.685   8.062  1.00 23.67           N  \\nATOM    225  CA  ASP A  30       9.718  32.168   9.444  1.00 22.55           C  \\nATOM    226  C   ASP A  30      10.988  31.819  10.163  1.00 20.55           C  \\nATOM    227  O   ASP A  30      11.818  31.072   9.679  1.00 22.98           O  \\nATOM    228  CB  ASP A  30       8.549  31.585  10.214  1.00 24.31           C  \\nATOM    229  CG  ASP A  30       7.254  31.916   9.579  1.00 25.77           C  \\nATOM    230  OD1 ASP A  30       6.951  33.118   9.473  1.00 37.03           O  \\nATOM    231  OD2 ASP A  30       6.561  31.008   9.099  1.00 33.64           O  \\nATOM    232  N   THR A  31      11.161  32.408  11.326  1.00 21.65           N  \\nATOM    233  CA  THR A  31      12.248  32.053  12.215  1.00 19.28           C  \\nATOM    234  C   THR A  31      11.707  31.128  13.318  1.00 20.65           C  \\nATOM    235  O   THR A  31      10.660  31.408  13.910  1.00 21.27           O  \\nATOM    236  CB  THR A  31      12.896  33.338  12.795  1.00 21.21           C  \\nATOM    237  OG1 THR A  31      13.451  34.082  11.707  1.00 17.85           O  \\nATOM    238  CG2 THR A  31      14.027  32.992  13.816  1.00 20.08           C  \\nATOM    239  N   VAL A  32      12.390  30.005  13.537  1.00 19.73           N  \\nATOM    240  CA  VAL A  32      11.893  28.983  14.419  1.00 20.18           C  \\nATOM    241  C   VAL A  32      13.036  28.655  15.292  1.00 18.49           C  \\nATOM    242  O   VAL A  32      14.067  28.221  14.821  1.00 21.86           O  \\nATOM    243  CB  VAL A  32      11.528  27.683  13.690  1.00 20.27           C  \\nATOM    244  CG1 VAL A  32      10.656  26.825  14.592  1.00 21.42           C  \\nATOM    245  CG2 VAL A  32      10.805  27.963  12.423  1.00 20.29           C  \\nATOM    246  N   LEU A  33      12.899  28.904  16.576  1.00 21.84           N  \\nATOM    247  CA  LEU A  33      13.996  28.594  17.500  1.00 24.48           C  \\nATOM    248  C   LEU A  33      13.571  27.454  18.396  1.00 25.37           C  \\nATOM    249  O   LEU A  33      12.363  27.234  18.612  1.00 25.11           O  \\nATOM    250  CB  LEU A  33      14.337  29.799  18.375  1.00 24.32           C  \\nATOM    251  CG  LEU A  33      14.849  31.061  17.691  1.00 28.97           C  \\nATOM    252  CD1 LEU A  33      15.091  32.156  18.733  1.00 31.03           C  \\nATOM    253  CD2 LEU A  33      16.139  30.718  16.927  1.00 30.18           C  \\nATOM    254  N   GLU A  34      14.568  26.722  18.889  1.00 29.09           N  \\nATOM    255  CA  GLU A  34      14.390  25.650  19.874  1.00 32.79           C  \\nATOM    256  C   GLU A  34      13.739  26.125  21.160  1.00 33.96           C  \\nATOM    257  O   GLU A  34      13.982  27.222  21.618  1.00 34.70           O  \\nATOM    258  CB  GLU A  34      15.727  25.007  20.190  1.00 36.48           C  \\nATOM    259  CG  GLU A  34      16.297  24.250  18.988  1.00 43.49           C  \\nATOM    260  CD  GLU A  34      17.726  23.801  19.191  1.00 49.89           C  \\nATOM    261  OE1 GLU A  34      18.134  23.657  20.375  1.00 52.23           O  \\nATOM    262  OE2 GLU A  34      18.443  23.614  18.182  1.00 53.58           O  \\nATOM    263  N   GLU A  35      12.865  25.288  21.703  1.00 32.88           N  \\nATOM    264  CA  GLU A  35      12.183  25.482  22.981  1.00 33.85           C  \\nATOM    265  C   GLU A  35      12.971  26.329  23.986  1.00 34.72           C  \\nATOM    266  O   GLU A  35      13.981  25.861  24.497  1.00 34.03           O  \\nATOM    267  CB  GLU A  35      11.941  24.114  23.581  1.00 35.16           C  \\nATOM    268  CG  GLU A  35      10.800  24.049  24.516  1.00 39.66           C  \\nATOM    269  CD  GLU A  35       9.489  24.067  23.809  1.00 45.60           C  \\nATOM    270  OE1 GLU A  35       9.134  23.066  23.120  1.00 50.36           O  \\nATOM    271  OE2 GLU A  35       8.758  25.047  24.035  1.00 47.94           O  \\nATOM    272  N   MET A  36      12.495  27.556  24.269  1.00 33.77           N  \\nATOM    273  CA  MET A  36      13.101  28.479  25.261  1.00 32.08           C  \\nATOM    274  C   MET A  36      12.013  29.437  25.755  1.00 33.50           C  \\nATOM    275  O   MET A  36      10.969  29.535  25.133  1.00 33.82           O  \\nATOM    276  CB  MET A  36      14.216  29.306  24.621  1.00 31.77           C  \\nATOM    277  CG  MET A  36      13.741  30.341  23.590  1.00 33.78           C  \\nATOM    278  SD  MET A  36      15.123  31.051  22.667  1.00 38.76           S  \\nATOM    279  CE  MET A  36      15.783  32.224  23.828  1.00 34.69           C  \\nATOM    280  N   SER A  37      12.249  30.179  26.852  1.00 34.23           N  \\nATOM    281  CA  SER A  37      11.163  31.036  27.460  1.00 33.81           C  \\nATOM    282  C   SER A  37      11.347  32.442  26.960  1.00 32.96           C  \\nATOM    283  O   SER A  37      12.475  32.929  27.007  1.00 32.62           O  \\nATOM    284  CB  SER A  37      11.300  31.071  28.976  1.00 34.02           C  \\nATOM    285  OG  SER A  37       9.948  31.148  29.559  1.00 38.20           O  \\nATOM    286  N   LEU A  38      10.330  33.112  26.459  1.00 35.12           N  \\nATOM    287  CA  LEU A  38      10.566  34.476  26.033  1.00 38.10           C  \\nATOM    288  C   LEU A  38       9.594  35.375  26.756  1.00 42.61           C  \\nATOM    289  O   LEU A  38       8.616  34.906  27.343  1.00 41.25           O  \\nATOM    290  CB  LEU A  38      10.409  34.626  24.500  1.00 35.60           C  \\nATOM    291  CG  LEU A  38      11.559  34.187  23.577  1.00 33.68           C  \\nATOM    292  CD1 LEU A  38      11.171  34.399  22.132  1.00 33.91           C  \\nATOM    293  CD2 LEU A  38      12.807  34.964  23.875  1.00 34.05           C  \\nATOM    294  N   PRO A  39       9.929  36.666  26.880  1.00 45.17           N  \\nATOM    295  CA  PRO A  39       8.980  37.700  27.301  1.00 45.32           C  \\nATOM    296  C   PRO A  39       7.760  37.785  26.410  1.00 44.13           C  \\nATOM    297  O   PRO A  39       7.866  37.883  25.194  1.00 44.57           O  \\nATOM    298  CB  PRO A  39       9.778  38.989  27.220  1.00 48.51           C  \\nATOM    299  CG  PRO A  39      11.021  38.637  26.370  1.00 47.48           C  \\nATOM    300  CD  PRO A  39      11.291  37.226  26.725  1.00 48.21           C  \\nATOM    301  N   GLY A  40       6.601  37.811  27.029  1.00 43.26           N  \\nATOM    302  CA  GLY A  40       5.419  38.218  26.302  1.00 44.04           C  \\nATOM    303  C   GLY A  40       4.430  37.094  26.331  1.00 46.02           C  \\nATOM    304  O   GLY A  40       4.591  36.107  27.055  1.00 48.40           O  \\nATOM    305  N   ARG A  41       3.289  37.341  25.729  1.00 47.22           N  \\nATOM    306  CA  ARG A  41       2.382  36.252  25.509  1.00 48.14           C  \\nATOM    307  C   ARG A  41       2.606  35.713  24.096  1.00 45.12           C  \\nATOM    308  O   ARG A  41       3.225  36.383  23.273  1.00 43.73           O  \\nATOM    309  CB  ARG A  41       0.956  36.719  25.748  1.00 53.98           C  \\nATOM    310  CG  ARG A  41       0.288  36.021  26.959  1.00 61.76           C  \\nATOM    311  CD  ARG A  41       0.118  36.953  28.169  1.00 64.66           C  \\nATOM    312  NE  ARG A  41       1.356  37.143  28.933  1.00 67.95           N  \\nATOM    313  CZ  ARG A  41       1.830  38.332  29.318  1.00 69.74           C  \\nATOM    314  NH1 ARG A  41       1.161  39.450  29.040  1.00 69.56           N  \\nATOM    315  NH2 ARG A  41       2.973  38.402  29.994  1.00 68.51           N  \\nATOM    316  N   TRP A  42       2.145  34.493  23.834  1.00 42.00           N  \\nATOM    317  CA  TRP A  42       2.295  33.862  22.533  1.00 40.42           C  \\nATOM    318  C   TRP A  42       0.934  33.419  21.959  1.00 40.51           C  \\nATOM    319  O   TRP A  42       0.031  33.049  22.694  1.00 41.61           O  \\nATOM    320  CB  TRP A  42       3.207  32.645  22.642  1.00 42.08           C  \\nATOM    321  CG  TRP A  42       2.946  31.783  23.787  1.00 42.80           C  \\nATOM    322  CD1 TRP A  42       3.473  31.896  25.041  1.00 46.14           C  \\nATOM    323  CD2 TRP A  42       1.989  30.710  23.857  1.00 44.40           C  \\nATOM    324  NE1 TRP A  42       2.882  30.973  25.884  1.00 48.15           N  \\nATOM    325  CE2 TRP A  42       1.966  30.246  25.193  1.00 45.80           C  \\nATOM    326  CE3 TRP A  42       1.129  30.108  22.909  1.00 44.14           C  \\nATOM    327  CZ2 TRP A  42       1.117  29.219  25.618  1.00 47.06           C  \\nATOM    328  CZ3 TRP A  42       0.313  29.091  23.334  1.00 45.02           C  \\nATOM    329  CH2 TRP A  42       0.305  28.651  24.686  1.00 47.76           C  \\nATOM    330  N   LYS A  43       0.781  33.465  20.639  1.00 39.07           N  \\nATOM    331  CA  LYS A  43      -0.305  32.776  19.928  1.00 38.61           C  \\nATOM    332  C   LYS A  43       0.220  31.412  19.477  1.00 38.09           C  \\nATOM    333  O   LYS A  43       1.400  31.270  19.145  1.00 37.97           O  \\nATOM    334  CB  LYS A  43      -0.739  33.603  18.700  1.00 40.22           C  \\nATOM    335  CG  LYS A  43      -1.311  34.967  19.027  1.00 40.71           C  \\nATOM    336  CD  LYS A  43      -1.066  35.945  17.886  1.00 46.25           C  \\nATOM    337  CE  LYS A  43      -1.726  37.319  18.156  1.00 53.77           C  \\nATOM    338  NZ  LYS A  43      -0.979  38.292  19.067  1.00 55.67           N  \\nATOM    339  N   PRO A  44      -0.601  30.363  19.541  1.00 36.78           N  \\nATOM    340  CA  PRO A  44      -0.088  29.114  18.966  1.00 36.73           C  \\nATOM    341  C   PRO A  44      -0.275  29.085  17.454  1.00 35.93           C  \\nATOM    342  O   PRO A  44      -1.185  29.721  16.929  1.00 35.84           O  \\nATOM    343  CB  PRO A  44      -0.893  28.021  19.667  1.00 37.26           C  \\nATOM    344  CG  PRO A  44      -2.170  28.683  20.012  1.00 38.05           C  \\nATOM    345  CD  PRO A  44      -1.825  30.129  20.325  1.00 40.15           C  \\nATOM    346  N   LYS A  45       0.586  28.336  16.762  1.00 34.68           N  \\nATOM    347  CA  LYS A  45       0.634  28.302  15.290  1.00 31.98           C  \\nATOM    348  C   LYS A  45       1.025  26.869  14.873  1.00 29.00           C  \\nATOM    349  O   LYS A  45       1.711  26.163  15.608  1.00 27.87           O  \\nATOM    350  CB  LYS A  45       1.693  29.299  14.799  1.00 31.87           C  \\nATOM    351  CG  LYS A  45       1.495  29.822  13.396  1.00 32.85           C  \\nATOM    352  CD  LYS A  45       2.628  30.791  12.986  1.00 39.51           C  \\nATOM    353  CE  LYS A  45       2.662  31.103  11.471  1.00 38.60           C  \\nATOM    354  NZ  LYS A  45       1.837  32.301  11.181  1.00 45.48           N  \\nATOM    355  N   MET A  46       0.570  26.438  13.707  1.00 28.78           N  \\nATOM    356  CA  MET A  46       1.091  25.232  13.081  1.00 28.75           C  \\nATOM    357  C   MET A  46       1.899  25.638  11.874  1.00 26.81           C  \\nATOM    358  O   MET A  46       1.385  26.292  10.965  1.00 28.48           O  \\nATOM    359  CB  MET A  46      -0.047  24.319  12.624  1.00 30.70           C  \\nATOM    360  CG  MET A  46      -0.970  23.867  13.745  1.00 34.30           C  \\nATOM    361  SD  MET A  46      -0.348  22.459  14.681  1.00 42.21           S  \\nATOM    362  CE  MET A  46      -0.585  21.081  13.426  1.00 43.40           C  \\nATOM    363  N   ILE A  47       3.167  25.258  11.849  1.00 25.63           N  \\nATOM    364  CA  ILE A  47       3.978  25.464  10.655  1.00 25.64           C  \\nATOM    365  C   ILE A  47       4.420  24.140  10.114  1.00 23.79           C  \\nATOM    366  O   ILE A  47       4.667  23.248  10.887  1.00 25.39           O  \\nATOM    367  CB  ILE A  47       5.234  26.259  10.953  1.00 25.82           C  \\nATOM    368  CG1 ILE A  47       5.959  25.628  12.127  1.00 27.41           C  \\nATOM    369  CG2 ILE A  47       4.898  27.703  11.148  1.00 29.47           C  \\nATOM    370  CD1 ILE A  47       7.369  26.170  12.291  1.00 33.28           C  \\nATOM    371  N   GLY A  48       4.567  24.042   8.795  1.00 23.56           N  \\nATOM    372  CA  GLY A  48       4.886  22.777   8.145  1.00 28.25           C  \\nATOM    373  C   GLY A  48       6.265  22.720   7.521  1.00 30.81           C  \\nATOM    374  O   GLY A  48       6.723  23.689   6.900  1.00 30.06           O  \\nATOM    375  N   GLY A  49       7.015  21.688   7.884  1.00 31.96           N  \\nATOM    376  CA  GLY A  49       8.313  21.471   7.276  1.00 33.92           C  \\nATOM    377  C   GLY A  49       8.221  20.379   6.232  1.00 37.71           C  \\nATOM    378  O   GLY A  49       7.177  20.197   5.583  1.00 36.71           O  \\nATOM    379  N   ILE A  50       9.309  19.619   6.155  1.00 39.37           N  \\nATOM    380  CA  ILE A  50       9.537  18.544   5.194  1.00 40.56           C  \\nATOM    381  C   ILE A  50       8.802  17.261   5.658  1.00 39.02           C  \\nATOM    382  O   ILE A  50       8.143  16.589   4.863  1.00 40.72           O  \\nATOM    383  CB  ILE A  50      11.095  18.362   5.046  1.00 40.75           C  \\nATOM    384  CG1 ILE A  50      11.553  18.874   3.682  1.00 39.18           C  \\nATOM    385  CG2 ILE A  50      11.521  16.945   5.317  1.00 42.58           C  \\nATOM    386  CD1 ILE A  50      10.910  18.225   2.567  1.00 39.03           C  \\nATOM    387  N   GLY A  51       8.865  16.952   6.945  1.00 35.64           N  \\nATOM    388  CA  GLY A  51       8.174  15.771   7.405  1.00 37.36           C  \\nATOM    389  C   GLY A  51       6.812  16.062   7.983  1.00 38.38           C  \\nATOM    390  O   GLY A  51       6.408  15.342   8.870  1.00 42.43           O  \\nATOM    391  N   GLY A  52       6.141  17.132   7.563  1.00 35.83           N  \\nATOM    392  CA  GLY A  52       4.855  17.480   8.157  1.00 34.71           C  \\nATOM    393  C   GLY A  52       4.884  18.624   9.170  1.00 32.77           C  \\nATOM    394  O   GLY A  52       5.873  19.342   9.280  1.00 33.65           O  \\nATOM    395  N   PHE A  53       3.806  18.788   9.925  1.00 31.50           N  \\nATOM    396  CA  PHE A  53       3.593  19.996  10.731  1.00 30.76           C  \\nATOM    397  C   PHE A  53       4.015  19.881  12.194  1.00 31.86           C  \\nATOM    398  O   PHE A  53       3.930  18.810  12.781  1.00 36.37           O  \\nATOM    399  CB  PHE A  53       2.121  20.351  10.670  1.00 28.77           C  \\nATOM    400  CG  PHE A  53       1.760  21.152   9.484  1.00 30.51           C  \\nATOM    401  CD1 PHE A  53       1.725  20.567   8.216  1.00 27.94           C  \\nATOM    402  CD2 PHE A  53       1.556  22.518   9.607  1.00 30.74           C  \\nATOM    403  CE1 PHE A  53       1.500  21.332   7.075  1.00 29.27           C  \\nATOM    404  CE2 PHE A  53       1.327  23.302   8.496  1.00 32.36           C  \\nATOM    405  CZ  PHE A  53       1.290  22.718   7.212  1.00 28.01           C  \\nATOM    406  N   ILE A  54       4.483  20.969  12.792  1.00 28.86           N  \\nATOM    407  CA  ILE A  54       4.689  21.005  14.248  1.00 28.83           C  \\nATOM    408  C   ILE A  54       3.921  22.179  14.858  1.00 29.53           C  \\nATOM    409  O   ILE A  54       3.575  23.139  14.182  1.00 28.42           O  \\nATOM    410  CB  ILE A  54       6.199  21.155  14.625  1.00 28.74           C  \\nATOM    411  CG1 ILE A  54       6.796  22.408  13.939  1.00 27.76           C  \\nATOM    412  CG2 ILE A  54       6.967  19.888  14.203  1.00 28.78           C  \\nATOM    413  CD1 ILE A  54       8.110  22.821  14.465  1.00 23.65           C  \\nATOM    414  N   LYS A  55       3.632  22.095  16.145  1.00 31.86           N  \\nATOM    415  CA  LYS A  55       2.968  23.196  16.823  1.00 31.37           C  \\nATOM    416  C   LYS A  55       4.038  24.093  17.449  1.00 31.40           C  \\nATOM    417  O   LYS A  55       4.949  23.610  18.157  1.00 30.39           O  \\nATOM    418  CB  LYS A  55       2.021  22.661  17.895  1.00 34.83           C  \\nATOM    419  CG  LYS A  55       0.974  23.665  18.300  1.00 41.25           C  \\nATOM    420  CD  LYS A  55       0.006  23.101  19.304  1.00 48.65           C  \\nATOM    421  CE  LYS A  55      -0.580  24.217  20.149  1.00 52.68           C  \\nATOM    422  NZ  LYS A  55       0.439  24.751  21.104  1.00 56.46           N  \\nATOM    423  N   VAL A  56       3.953  25.391  17.185  1.00 27.17           N  \\nATOM    424  CA  VAL A  56       4.927  26.319  17.754  1.00 26.79           C  \\nATOM    425  C   VAL A  56       4.225  27.378  18.556  1.00 25.98           C  \\nATOM    426  O   VAL A  56       3.023  27.557  18.455  1.00 28.45           O  \\nATOM    427  CB  VAL A  56       5.769  27.009  16.663  1.00 23.58           C  \\nATOM    428  CG1 VAL A  56       6.791  26.027  16.120  1.00 24.00           C  \\nATOM    429  CG2 VAL A  56       4.881  27.551  15.567  1.00 19.88           C  \\nATOM    430  N   ARG A  57       4.978  28.079  19.377  1.00 27.52           N  \\nATOM    431  CA  ARG A  57       4.459  29.271  20.026  1.00 29.29           C  \\nATOM    432  C   ARG A  57       5.038  30.502  19.335  1.00 26.53           C  \\nATOM    433  O   ARG A  57       6.242  30.596  19.138  1.00 26.51           O  \\nATOM    434  CB  ARG A  57       4.824  29.245  21.505  1.00 33.25           C  \\nATOM    435  CG  ARG A  57       4.168  28.102  22.260  1.00 39.60           C  \\nATOM    436  CD  ARG A  57       4.656  28.068  23.693  1.00 44.47           C  \\nATOM    437  NE  ARG A  57       6.032  27.573  23.790  1.00 50.18           N  \\nATOM    438  CZ  ARG A  57       7.027  28.273  24.317  1.00 49.84           C  \\nATOM    439  NH1 ARG A  57       6.825  29.532  24.678  1.00 51.65           N  \\nATOM    440  NH2 ARG A  57       8.223  27.723  24.467  1.00 52.43           N  \\nATOM    441  N   GLN A  58       4.171  31.431  18.958  1.00 25.48           N  \\nATOM    442  CA  GLN A  58       4.570  32.596  18.172  1.00 27.73           C  \\nATOM    443  C   GLN A  58       4.681  33.818  19.085  1.00 30.15           C  \\nATOM    444  O   GLN A  58       3.694  34.242  19.683  1.00 33.75           O  \\nATOM    445  CB  GLN A  58       3.539  32.859  17.094  1.00 26.15           C  \\nATOM    446  CG  GLN A  58       3.736  34.104  16.321  1.00 29.09           C  \\nATOM    447  CD  GLN A  58       2.500  34.473  15.541  1.00 37.13           C  \\nATOM    448  OE1 GLN A  58       1.530  33.703  15.489  1.00 40.89           O  \\nATOM    449  NE2 GLN A  58       2.508  35.651  14.940  1.00 39.09           N  \\nATOM    450  N   TYR A  59       5.883  34.378  19.196  1.00 32.83           N  \\nATOM    451  CA  TYR A  59       6.097  35.658  19.896  1.00 34.57           C  \\nATOM    452  C   TYR A  59       6.304  36.752  18.835  1.00 35.86           C  \\nATOM    453  O   TYR A  59       6.923  36.513  17.800  1.00 38.78           O  \\nATOM    454  CB  TYR A  59       7.354  35.588  20.765  1.00 33.06           C  \\nATOM    455  CG  TYR A  59       7.213  34.624  21.955  1.00 36.56           C  \\nATOM    456  CD1 TYR A  59       7.479  33.237  21.805  1.00 37.53           C  \\nATOM    457  CD2 TYR A  59       6.795  35.087  23.223  1.00 33.33           C  \\nATOM    458  CE1 TYR A  59       7.345  32.365  22.871  1.00 34.69           C  \\nATOM    459  CE2 TYR A  59       6.638  34.224  24.268  1.00 33.09           C  \\nATOM    460  CZ  TYR A  59       6.926  32.869  24.102  1.00 33.21           C  \\nATOM    461  OH  TYR A  59       6.967  32.076  25.200  1.00 40.16           O  \\nATOM    462  N   ASP A  60       5.767  37.940  19.049  1.00 37.21           N  \\nATOM    463  CA  ASP A  60       6.022  39.045  18.125  1.00 36.50           C  \\nATOM    464  C   ASP A  60       7.025  40.015  18.725  1.00 35.62           C  \\nATOM    465  O   ASP A  60       7.340  39.951  19.900  1.00 33.30           O  \\nATOM    466  CB  ASP A  60       4.719  39.777  17.832  1.00 43.82           C  \\nATOM    467  CG  ASP A  60       3.699  38.899  17.148  1.00 49.03           C  \\nATOM    468  OD1 ASP A  60       3.989  38.368  16.050  1.00 53.15           O  \\nATOM    469  OD2 ASP A  60       2.570  38.799  17.672  1.00 54.18           O  \\nATOM    470  N   GLN A  61       7.529  40.913  17.896  1.00 35.15           N  \\nATOM    471  CA  GLN A  61       8.337  42.060  18.331  1.00 37.27           C  \\nATOM    472  C   GLN A  61       9.535  41.630  19.179  1.00 36.83           C  \\nATOM    473  O   GLN A  61       9.777  42.191  20.264  1.00 39.02           O  \\nATOM    474  CB  GLN A  61       7.471  43.051  19.131  1.00 41.54           C  \\nATOM    475  CG  GLN A  61       7.718  44.555  18.814  1.00 53.40           C  \\nATOM    476  CD  GLN A  61       7.182  45.552  19.907  1.00 61.08           C  \\nATOM    477  OE1 GLN A  61       7.936  46.461  20.398  1.00 65.46           O  \\nATOM    478  NE2 GLN A  61       5.892  45.377  20.306  1.00 58.46           N  \\nATOM    479  N   ILE A  62      10.283  40.645  18.676  1.00 33.10           N  \\nATOM    480  CA  ILE A  62      11.484  40.115  19.328  1.00 33.95           C  \\nATOM    481  C   ILE A  62      12.745  40.584  18.614  1.00 35.70           C  \\nATOM    482  O   ILE A  62      12.830  40.485  17.396  1.00 38.95           O  \\nATOM    483  CB  ILE A  62      11.465  38.545  19.309  1.00 33.50           C  \\nATOM    484  CG1 ILE A  62      10.152  38.035  19.930  1.00 31.68           C  \\nATOM    485  CG2 ILE A  62      12.688  37.973  20.027  1.00 33.86           C  \\nATOM    486  CD1 ILE A  62       9.966  38.380  21.363  1.00 35.62           C  \\nATOM    487  N   LEU A  63      13.722  41.086  19.369  1.00 38.14           N  \\nATOM    488  CA  LEU A  63      15.038  41.476  18.822  1.00 41.38           C  \\nATOM    489  C   LEU A  63      16.033  40.304  18.862  1.00 42.34           C  \\nATOM    490  O   LEU A  63      16.195  39.661  19.897  1.00 43.91           O  \\nATOM    491  CB  LEU A  63      15.631  42.666  19.619  1.00 41.40           C  \\nATOM    492  CG  LEU A  63      16.776  43.426  18.914  1.00 42.58           C  \\nATOM    493  CD1 LEU A  63      16.560  44.922  18.993  1.00 46.33           C  \\nATOM    494  CD2 LEU A  63      18.103  43.062  19.558  1.00 45.30           C  \\nATOM    495  N   ILE A  64      16.686  40.036  17.738  1.00 44.21           N  \\nATOM    496  CA  ILE A  64      17.760  39.039  17.653  1.00 46.55           C  \\nATOM    497  C   ILE A  64      18.991  39.753  17.116  1.00 46.30           C  \\nATOM    498  O   ILE A  64      18.862  40.632  16.288  1.00 45.60           O  \\nATOM    499  CB  ILE A  64      17.390  37.875  16.634  1.00 48.42           C  \\nATOM    500  CG1 ILE A  64      16.127  37.137  17.110  1.00 51.56           C  \\nATOM    501  CG2 ILE A  64      18.551  36.857  16.518  1.00 45.78           C  \\nATOM    502  CD1 ILE A  64      16.194  35.643  16.885  1.00 52.26           C  \\nATOM    503  N   GLU A  65      20.181  39.387  17.573  1.00 48.38           N  \\nATOM    504  CA  GLU A  65      21.406  39.983  17.036  1.00 52.65           C  \\nATOM    505  C   GLU A  65      22.192  39.019  16.135  1.00 53.34           C  \\nATOM    506  O   GLU A  65      22.866  38.128  16.631  1.00 57.14           O  \\nATOM    507  CB  GLU A  65      22.307  40.439  18.180  1.00 53.39           C  \\nATOM    508  CG  GLU A  65      21.987  41.843  18.676  1.00 58.82           C  \\nATOM    509  CD  GLU A  65      23.228  42.558  19.187  1.00 61.85           C  \\nATOM    510  OE1 GLU A  65      24.094  42.925  18.348  1.00 62.51           O  \\nATOM    511  OE2 GLU A  65      23.348  42.730  20.429  1.00 63.85           O  \\nATOM    512  N   ILE A  66      22.148  39.215  14.823  1.00 54.18           N  \\nATOM    513  CA  ILE A  66      22.818  38.327  13.863  1.00 53.69           C  \\nATOM    514  C   ILE A  66      24.123  38.945  13.303  1.00 55.63           C  \\nATOM    515  O   ILE A  66      24.114  39.903  12.521  1.00 55.17           O  \\nATOM    516  CB  ILE A  66      21.831  37.964  12.694  1.00 53.26           C  \\nATOM    517  CG1 ILE A  66      20.481  37.516  13.278  1.00 50.35           C  \\nATOM    518  CG2 ILE A  66      22.444  36.880  11.799  1.00 51.36           C  \\nATOM    519  CD1 ILE A  66      19.263  38.072  12.560  1.00 49.54           C  \\nATOM    520  N   CYS A  67      25.251  38.396  13.731  1.00 57.47           N  \\nATOM    521  CA  CYS A  67      26.590  38.871  13.351  1.00 59.30           C  \\nATOM    522  C   CYS A  67      26.798  40.370  13.560  1.00 58.98           C  \\nATOM    523  O   CYS A  67      27.461  41.045  12.763  1.00 59.83           O  \\nATOM    524  CB  CYS A  67      26.907  38.497  11.905  1.00 60.45           C  \\nATOM    525  SG  CYS A  67      27.274  36.734  11.705  1.00 66.26           S  \\nATOM    526  N   GLY A  68      26.239  40.887  14.650  1.00 58.28           N  \\nATOM    527  CA  GLY A  68      26.319  42.307  14.938  1.00 56.53           C  \\nATOM    528  C   GLY A  68      24.980  42.946  14.665  1.00 54.84           C  \\nATOM    529  O   GLY A  68      24.371  43.518  15.561  1.00 55.20           O  \\nATOM    530  N   HIS A  69      24.449  42.689  13.479  1.00 52.63           N  \\nATOM    531  CA  HIS A  69      23.251  43.368  13.013  1.00 49.83           C  \\nATOM    532  C   HIS A  69      22.009  43.025  13.836  1.00 49.49           C  \\nATOM    533  O   HIS A  69      21.626  41.865  13.958  1.00 50.24           O  \\nATOM    534  CB  HIS A  69      22.975  43.009  11.568  1.00 48.37           C  \\nATOM    535  CG  HIS A  69      24.157  43.172  10.639  1.00 48.55           C  \\nATOM    536  ND1 HIS A  69      25.294  42.398  10.762  1.00 46.92           N  \\nATOM    537  CD2 HIS A  69      24.283  43.886   9.518  1.00 47.07           C  \\nATOM    538  CE1 HIS A  69      26.075  42.630   9.723  1.00 45.30           C  \\nATOM    539  NE2 HIS A  69      25.505  43.532   8.946  1.00 49.32           N  \\nATOM    540  N   LYS A  70      21.364  44.050  14.376  1.00 48.04           N  \\nATOM    541  CA  LYS A  70      20.030  43.883  14.945  1.00 44.00           C  \\nATOM    542  C   LYS A  70      18.929  43.698  13.882  1.00 40.53           C  \\nATOM    543  O   LYS A  70      19.000  44.197  12.761  1.00 37.44           O  \\nATOM    544  CB  LYS A  70      19.667  45.075  15.840  1.00 46.06           C  \\nATOM    545  CG  LYS A  70      20.422  45.141  17.154  1.00 48.65           C  \\nATOM    546  CD  LYS A  70      19.885  46.281  18.036  1.00 52.10           C  \\nATOM    547  CE  LYS A  70      20.905  46.699  19.095  1.00 52.81           C  \\nATOM    548  NZ  LYS A  70      20.376  47.817  19.946  1.00 57.49           N  \\nATOM    549  N   ALA A  71      17.879  43.010  14.305  1.00 37.00           N  \\nATOM    550  CA  ALA A  71      16.703  42.737  13.499  1.00 33.57           C  \\nATOM    551  C   ALA A  71      15.600  42.546  14.556  1.00 31.56           C  \\nATOM    552  O   ALA A  71      15.880  42.175  15.705  1.00 34.29           O  \\nATOM    553  CB  ALA A  71      16.937  41.464  12.683  1.00 28.40           C  \\nATOM    554  N   ILE A  72      14.366  42.881  14.219  1.00 28.94           N  \\nATOM    555  CA  ILE A  72      13.233  42.663  15.111  1.00 26.93           C  \\nATOM    556  C   ILE A  72      12.196  41.969  14.237  1.00 25.42           C  \\nATOM    557  O   ILE A  72      12.083  42.266  13.025  1.00 23.83           O  \\nATOM    558  CB  ILE A  72      12.635  44.019  15.609  1.00 34.11           C  \\nATOM    559  CG1 ILE A  72      13.664  44.777  16.446  1.00 39.50           C  \\nATOM    560  CG2 ILE A  72      11.353  43.782  16.409  1.00 34.28           C  \\nATOM    561  CD1 ILE A  72      13.437  46.286  16.451  1.00 44.26           C  \\nATOM    562  N   GLY A  73      11.457  41.034  14.821  1.00 23.40           N  \\nATOM    563  CA  GLY A  73      10.359  40.420  14.090  1.00 22.07           C  \\nATOM    564  C   GLY A  73       9.750  39.238  14.835  1.00 24.48           C  \\nATOM    565  O   GLY A  73      10.019  39.007  16.009  1.00 24.29           O  \\nATOM    566  N   THR A  74       8.853  38.524  14.181  1.00 23.67           N  \\nATOM    567  CA  THR A  74       8.224  37.361  14.786  1.00 24.46           C  \\nATOM    568  C   THR A  74       9.169  36.194  14.895  1.00 25.63           C  \\nATOM    569  O   THR A  74       9.964  35.908  14.007  1.00 25.67           O  \\nATOM    570  CB  THR A  74       6.961  36.929  14.010  1.00 24.94           C  \\nATOM    571  OG1 THR A  74       6.030  38.013  14.001  1.00 29.61           O  \\nATOM    572  CG2 THR A  74       6.287  35.760  14.688  1.00 19.06           C  \\nATOM    573  N   VAL A  75       9.085  35.534  16.025  1.00 25.14           N  \\nATOM    574  CA  VAL A  75       9.944  34.420  16.291  1.00 26.87           C  \\nATOM    575  C   VAL A  75       9.018  33.325  16.795  1.00 27.97           C  \\nATOM    576  O   VAL A  75       8.104  33.576  17.594  1.00 27.87           O  \\nATOM    577  CB  VAL A  75      11.002  34.791  17.336  1.00 25.74           C  \\nATOM    578  CG1 VAL A  75      11.638  33.561  17.884  1.00 27.82           C  \\nATOM    579  CG2 VAL A  75      12.070  35.661  16.648  1.00 21.53           C  \\nATOM    580  N   LEU A  76       9.200  32.127  16.258  1.00 27.21           N  \\nATOM    581  CA  LEU A  76       8.353  30.995  16.628  1.00 25.80           C  \\nATOM    582  C   LEU A  76       9.229  30.084  17.483  1.00 24.05           C  \\nATOM    583  O   LEU A  76      10.409  29.923  17.194  1.00 23.89           O  \\nATOM    584  CB  LEU A  76       7.937  30.247  15.365  1.00 24.57           C  \\nATOM    585  CG  LEU A  76       7.222  30.919  14.207  1.00 24.94           C  \\nATOM    586  CD1 LEU A  76       6.909  29.914  13.139  1.00 21.47           C  \\nATOM    587  CD2 LEU A  76       5.961  31.526  14.713  1.00 22.70           C  \\nATOM    588  N   VAL A  77       8.689  29.507  18.538  1.00 22.25           N  \\nATOM    589  CA  VAL A  77       9.519  28.691  19.405  1.00 25.77           C  \\nATOM    590  C   VAL A  77       8.852  27.309  19.499  1.00 25.41           C  \\nATOM    591  O   VAL A  77       7.621  27.241  19.608  1.00 21.46           O  \\nATOM    592  CB  VAL A  77       9.648  29.353  20.800  1.00 26.64           C  \\nATOM    593  CG1 VAL A  77      10.306  28.419  21.773  1.00 24.10           C  \\nATOM    594  CG2 VAL A  77      10.426  30.686  20.648  1.00 24.74           C  \\nATOM    595  N   GLY A  78       9.637  26.227  19.375  1.00 23.37           N  \\nATOM    596  CA  GLY A  78       9.027  24.918  19.185  1.00 25.28           C  \\nATOM    597  C   GLY A  78      10.005  23.782  18.984  1.00 24.69           C  \\nATOM    598  O   GLY A  78      11.215  24.012  19.065  1.00 27.34           O  \\nATOM    599  N   PRO A  79       9.538  22.542  18.758  1.00 24.96           N  \\nATOM    600  CA  PRO A  79      10.442  21.388  18.731  1.00 26.27           C  \\nATOM    601  C   PRO A  79      11.136  21.242  17.389  1.00 27.30           C  \\nATOM    602  O   PRO A  79      10.748  20.397  16.559  1.00 30.31           O  \\nATOM    603  CB  PRO A  79       9.515  20.215  18.995  1.00 26.15           C  \\nATOM    604  CG  PRO A  79       8.239  20.616  18.339  1.00 27.52           C  \\nATOM    605  CD  PRO A  79       8.170  22.144  18.383  1.00 27.77           C  \\nATOM    606  N   THR A  80      12.138  22.078  17.162  1.00 27.82           N  \\nATOM    607  CA  THR A  80      12.910  22.043  15.936  1.00 27.04           C  \\nATOM    608  C   THR A  80      14.280  21.503  16.325  1.00 28.49           C  \\nATOM    609  O   THR A  80      14.692  21.666  17.473  1.00 33.89           O  \\nATOM    610  CB  THR A  80      13.031  23.467  15.319  1.00 24.34           C  \\nATOM    611  OG1 THR A  80      13.971  23.419  14.244  1.00 28.59           O  \\nATOM    612  CG2 THR A  80      13.542  24.478  16.300  1.00 17.97           C  \\nATOM    613  N   PRO A  81      14.915  20.725  15.449  1.00 27.56           N  \\nATOM    614  CA  PRO A  81      16.233  20.170  15.766  1.00 28.35           C  \\nATOM    615  C   PRO A  81      17.352  21.205  15.795  1.00 32.18           C  \\nATOM    616  O   PRO A  81      18.306  21.085  16.567  1.00 35.74           O  \\nATOM    617  CB  PRO A  81      16.467  19.139  14.669  1.00 28.05           C  \\nATOM    618  CG  PRO A  81      15.477  19.489  13.607  1.00 24.27           C  \\nATOM    619  CD  PRO A  81      14.331  20.114  14.238  1.00 24.21           C  \\nATOM    620  N   VAL A  82      17.220  22.219  14.948  1.00 31.78           N  \\nATOM    621  CA  VAL A  82      18.236  23.243  14.762  1.00 30.36           C  \\nATOM    622  C   VAL A  82      17.549  24.626  14.801  1.00 29.01           C  \\nATOM    623  O   VAL A  82      16.328  24.735  14.569  1.00 28.83           O  \\nATOM    624  CB  VAL A  82      18.969  23.017  13.388  1.00 27.70           C  \\nATOM    625  CG1 VAL A  82      18.009  22.769  12.263  1.00 25.82           C  \\nATOM    626  CG2 VAL A  82      19.843  24.144  13.080  1.00 29.05           C  \\nATOM    627  N   ASN A  83      18.292  25.671  15.167  1.00 28.44           N  \\nATOM    628  CA  ASN A  83      17.731  27.051  15.193  1.00 23.14           C  \\nATOM    629  C   ASN A  83      17.799  27.628  13.799  1.00 20.40           C  \\nATOM    630  O   ASN A  83      18.794  27.456  13.113  1.00 22.72           O  \\nATOM    631  CB  ASN A  83      18.508  27.950  16.161  1.00 23.96           C  \\nATOM    632  CG  ASN A  83      18.236  27.600  17.636  1.00 19.36           C  \\nATOM    633  OD1 ASN A  83      17.102  27.381  18.051  1.00 24.75           O  \\nATOM    634  ND2 ASN A  83      19.287  27.475  18.398  1.00 23.07           N  \\nATOM    635  N   ILE A  84      16.729  28.283  13.370  1.00 19.46           N  \\nATOM    636  CA  ILE A  84      16.588  28.651  11.955  1.00 18.70           C  \\nATOM    637  C   ILE A  84      16.190  30.132  11.811  1.00 15.24           C  \\nATOM    638  O   ILE A  84      15.178  30.600  12.384  1.00 16.01           O  \\nATOM    639  CB  ILE A  84      15.504  27.755  11.242  1.00 18.01           C  \\nATOM    640  CG1 ILE A  84      16.049  26.365  11.040  1.00 21.46           C  \\nATOM    641  CG2 ILE A  84      15.081  28.324   9.932  1.00 18.09           C  \\nATOM    642  CD1 ILE A  84      14.957  25.345  11.321  1.00 21.77           C  \\nATOM    643  N   ILE A  85      16.991  30.863  11.053  1.00 17.41           N  \\nATOM    644  CA  ILE A  85      16.710  32.257  10.821  1.00 17.84           C  \\nATOM    645  C   ILE A  85      16.155  32.252   9.420  1.00 18.00           C  \\nATOM    646  O   ILE A  85      16.857  31.950   8.464  1.00 16.33           O  \\nATOM    647  CB  ILE A  85      17.999  33.119  10.844  1.00 19.87           C  \\nATOM    648  CG1 ILE A  85      18.724  32.983  12.207  1.00 21.72           C  \\nATOM    649  CG2 ILE A  85      17.653  34.600  10.517  1.00 19.84           C  \\nATOM    650  CD1 ILE A  85      17.830  33.204  13.418  1.00 23.27           C  \\nATOM    651  N   GLY A  86      14.888  32.608   9.302  1.00 17.67           N  \\nATOM    652  CA  GLY A  86      14.238  32.655   8.011  1.00 19.47           C  \\nATOM    653  C   GLY A  86      14.181  34.034   7.393  1.00 20.59           C  \\nATOM    654  O   GLY A  86      14.714  34.991   7.894  1.00 19.31           O  \\nATOM    655  N   ARG A  87      13.398  34.131   6.334  1.00 19.04           N  \\nATOM    656  CA  ARG A  87      13.370  35.302   5.456  1.00 21.43           C  \\nATOM    657  C   ARG A  87      12.931  36.548   6.216  1.00 20.84           C  \\nATOM    658  O   ARG A  87      13.429  37.633   5.958  1.00 24.40           O  \\nATOM    659  CB  ARG A  87      12.459  35.018   4.263  1.00 15.37           C  \\nATOM    660  CG  ARG A  87      13.030  34.044   3.318  1.00 18.83           C  \\nATOM    661  CD  ARG A  87      12.310  34.101   1.966  1.00 21.67           C  \\nATOM    662  NE  ARG A  87      10.903  33.713   2.088  1.00 21.37           N  \\nATOM    663  CZ  ARG A  87       9.899  34.575   2.137  1.00 22.28           C  \\nATOM    664  NH1 ARG A  87      10.126  35.860   1.922  1.00 20.00           N  \\nATOM    665  NH2 ARG A  87       8.657  34.143   2.300  1.00 21.02           N  \\nATOM    666  N   ASN A  88      12.063  36.352   7.198  1.00 21.72           N  \\nATOM    667  CA  ASN A  88      11.458  37.455   7.919  1.00 19.12           C  \\nATOM    668  C   ASN A  88      12.511  38.266   8.653  1.00 21.99           C  \\nATOM    669  O   ASN A  88      12.419  39.481   8.723  1.00 24.63           O  \\nATOM    670  CB  ASN A  88      10.359  36.959   8.863  1.00 17.71           C  \\nATOM    671  CG  ASN A  88      10.892  36.309  10.125  1.00 23.05           C  \\nATOM    672  OD1 ASN A  88      11.577  35.273  10.065  1.00 24.51           O  \\nATOM    673  ND2 ASN A  88      10.446  36.809  11.283  1.00 21.17           N  \\nATOM    674  N   LEU A  89      13.551  37.601   9.136  1.00 21.73           N  \\nATOM    675  CA  LEU A  89      14.633  38.337   9.729  1.00 21.46           C  \\nATOM    676  C   LEU A  89      15.802  38.487   8.783  1.00 21.01           C  \\nATOM    677  O   LEU A  89      16.580  39.394   8.941  1.00 22.81           O  \\nATOM    678  CB  LEU A  89      15.096  37.687  11.029  1.00 24.37           C  \\nATOM    679  CG  LEU A  89      14.146  37.555  12.221  1.00 26.43           C  \\nATOM    680  CD1 LEU A  89      14.939  37.022  13.434  1.00 27.76           C  \\nATOM    681  CD2 LEU A  89      13.508  38.913  12.527  1.00 29.10           C  \\nATOM    682  N   LEU A  90      15.910  37.651   7.761  1.00 18.04           N  \\nATOM    683  CA  LEU A  90      17.078  37.773   6.865  1.00 21.90           C  \\nATOM    684  C   LEU A  90      17.048  39.068   6.049  1.00 22.24           C  \\nATOM    685  O   LEU A  90      18.098  39.613   5.652  1.00 20.42           O  \\nATOM    686  CB  LEU A  90      17.200  36.561   5.913  1.00 21.44           C  \\nATOM    687  CG  LEU A  90      17.754  35.226   6.440  1.00 19.50           C  \\nATOM    688  CD1 LEU A  90      17.798  34.207   5.340  1.00 20.48           C  \\nATOM    689  CD2 LEU A  90      19.138  35.441   7.022  1.00 15.96           C  \\nATOM    690  N   THR A  91      15.835  39.547   5.808  1.00 20.88           N  \\nATOM    691  CA  THR A  91      15.653  40.738   4.985  1.00 25.31           C  \\nATOM    692  C   THR A  91      16.137  41.999   5.772  1.00 25.69           C  \\nATOM    693  O   THR A  91      16.848  42.870   5.252  1.00 29.29           O  \\nATOM    694  CB  THR A  91      14.157  40.860   4.594  1.00 21.94           C  \\nATOM    695  OG1 THR A  91      13.342  40.810   5.786  1.00 20.91           O  \\nATOM    696  CG2 THR A  91      13.740  39.709   3.681  1.00 24.44           C  \\nATOM    697  N   GLN A  92      15.842  42.001   7.064  1.00 23.55           N  \\nATOM    698  CA  GLN A  92      16.170  43.099   7.967  1.00 23.15           C  \\nATOM    699  C   GLN A  92      17.650  43.315   8.126  1.00 25.63           C  \\nATOM    700  O   GLN A  92      18.071  44.440   8.459  1.00 29.05           O  \\nATOM    701  CB  GLN A  92      15.580  42.837   9.347  1.00 17.48           C  \\nATOM    702  CG  GLN A  92      14.081  42.603   9.325  1.00 12.58           C  \\nATOM    703  CD  GLN A  92      13.318  43.811   8.800  1.00 23.01           C  \\nATOM    704  OE1 GLN A  92      12.836  43.807   7.683  1.00 24.98           O  \\nATOM    705  NE2 GLN A  92      13.349  44.892   9.543  1.00 15.18           N  \\nATOM    706  N   ILE A  93      18.444  42.266   7.913  1.00 25.00           N  \\nATOM    707  CA  ILE A  93      19.887  42.417   8.035  1.00 25.37           C  \\nATOM    708  C   ILE A  93      20.530  42.555   6.677  1.00 24.18           C  \\nATOM    709  O   ILE A  93      21.744  42.639   6.577  1.00 26.26           O  \\nATOM    710  CB  ILE A  93      20.557  41.231   8.872  1.00 24.44           C  \\nATOM    711  CG1 ILE A  93      20.472  39.878   8.113  1.00 24.46           C  \\nATOM    712  CG2 ILE A  93      19.926  41.182  10.272  1.00 22.23           C  \\nATOM    713  CD1 ILE A  93      21.520  38.796   8.533  1.00 24.68           C  \\nATOM    714  N   GLY A  94      19.713  42.563   5.636  1.00 24.04           N  \\nATOM    715  CA  GLY A  94      20.226  42.870   4.327  1.00 25.09           C  \\nATOM    716  C   GLY A  94      20.843  41.689   3.611  1.00 27.08           C  \\nATOM    717  O   GLY A  94      21.680  41.866   2.723  1.00 28.80           O  \\nATOM    718  N   CYS A  95      20.294  40.507   3.844  1.00 27.02           N  \\nATOM    719  CA  CYS A  95      20.890  39.296   3.297  1.00 26.34           C  \\nATOM    720  C   CYS A  95      20.407  39.005   1.897  1.00 26.35           C  \\nATOM    721  O   CYS A  95      19.217  39.101   1.606  1.00 28.34           O  \\nATOM    722  CB  CYS A  95      20.585  38.134   4.215  1.00 27.62           C  \\nATOM    723  SG  CYS A  95      21.505  36.663   3.848  1.00 32.32           S  \\nATOM    724  N   THR A  96      21.339  38.698   1.005  1.00 27.53           N  \\nATOM    725  CA  THR A  96      20.969  38.276  -0.346  1.00 27.51           C  \\nATOM    726  C   THR A  96      21.721  37.024  -0.758  1.00 27.27           C  \\nATOM    727  O   THR A  96      22.753  36.645  -0.178  1.00 27.30           O  \\nATOM    728  CB  THR A  96      21.298  39.331  -1.459  1.00 28.47           C  \\nATOM    729  OG1 THR A  96      22.688  39.698  -1.364  1.00 28.16           O  \\nATOM    730  CG2 THR A  96      20.405  40.560  -1.303  1.00 26.73           C  \\nATOM    731  N   LEU A  97      21.183  36.413  -1.805  1.00 28.68           N  \\nATOM    732  CA  LEU A  97      21.718  35.228  -2.473  1.00 26.62           C  \\nATOM    733  C   LEU A  97      22.314  35.753  -3.779  1.00 25.49           C  \\nATOM    734  O   LEU A  97      21.616  36.396  -4.577  1.00 23.96           O  \\nATOM    735  CB  LEU A  97      20.518  34.349  -2.810  1.00 24.94           C  \\nATOM    736  CG  LEU A  97      20.318  32.897  -2.464  1.00 28.32           C  \\nATOM    737  CD1 LEU A  97      21.285  32.388  -1.422  1.00 27.79           C  \\nATOM    738  CD2 LEU A  97      18.896  32.782  -2.010  1.00 26.48           C  \\nATOM    739  N   ASN A  98      23.577  35.469  -4.026  1.00 26.29           N  \\nATOM    740  CA  ASN A  98      24.207  35.904  -5.257  1.00 29.12           C  \\nATOM    741  C   ASN A  98      24.863  34.748  -5.999  1.00 29.85           C  \\nATOM    742  O   ASN A  98      25.635  33.982  -5.396  1.00 26.89           O  \\nATOM    743  CB  ASN A  98      25.229  36.991  -4.938  1.00 33.75           C  \\nATOM    744  CG  ASN A  98      24.609  38.190  -4.212  1.00 40.13           C  \\nATOM    745  OD1 ASN A  98      24.263  38.112  -3.019  1.00 43.34           O  \\nATOM    746  ND2 ASN A  98      24.354  39.252  -4.955  1.00 42.07           N  \\nATOM    747  N   PHE A  99      24.539  34.602  -7.287  1.00 31.14           N  \\nATOM    748  CA  PHE A  99      25.376  33.754  -8.172  1.00 35.14           C  \\nATOM    749  C   PHE A  99      25.726  34.383  -9.544  1.00 34.93           C  \\nATOM    750  O   PHE A  99      24.797  34.890 -10.226  1.00 36.66           O  \\nATOM    751  CB  PHE A  99      24.743  32.354  -8.375  1.00 32.92           C  \\nATOM    752  CG  PHE A  99      23.328  32.389  -8.856  1.00 31.47           C  \\nATOM    753  CD1 PHE A  99      22.303  32.588  -7.961  1.00 29.83           C  \\nATOM    754  CD2 PHE A  99      23.029  32.118 -10.181  1.00 28.13           C  \\nATOM    755  CE1 PHE A  99      21.000  32.515  -8.357  1.00 27.98           C  \\nATOM    756  CE2 PHE A  99      21.730  32.028 -10.613  1.00 25.49           C  \\nATOM    757  CZ  PHE A  99      20.700  32.221  -9.700  1.00 27.25           C  \\nTER\\nATOM    759  N   PRO B   1      22.659  36.727 -10.823  1.00 48.12           N  \\nATOM    760  CA  PRO B   1      21.708  37.741 -10.269  1.00 43.36           C  \\nATOM    761  C   PRO B   1      21.931  37.939  -8.779  1.00 39.59           C  \\nATOM    762  O   PRO B   1      22.755  37.283  -8.190  1.00 37.70           O  \\nATOM    763  CB  PRO B   1      20.263  37.289 -10.512  1.00 46.58           C  \\nATOM    764  CG  PRO B   1      20.385  35.811 -10.891  1.00 48.47           C  \\nATOM    765  CD  PRO B   1      21.753  35.755 -11.555  1.00 50.98           C  \\nATOM    766  N   GLN B   2      21.203  38.873  -8.191  1.00 36.85           N  \\nATOM    767  CA  GLN B   2      21.156  39.043  -6.744  1.00 37.15           C  \\nATOM    768  C   GLN B   2      19.698  38.882  -6.389  1.00 36.43           C  \\nATOM    769  O   GLN B   2      18.850  39.538  -6.975  1.00 39.41           O  \\nATOM    770  CB  GLN B   2      21.625  40.447  -6.329  1.00 38.60           C  \\nATOM    771  CG  GLN B   2      21.353  40.777  -4.865  1.00 39.92           C  \\nATOM    772  CD  GLN B   2      22.139  41.975  -4.358  1.00 44.52           C  \\nATOM    773  OE1 GLN B   2      21.577  42.881  -3.752  1.00 48.57           O  \\nATOM    774  NE2 GLN B   2      23.450  41.976  -4.586  1.00 45.25           N  \\nATOM    775  N   ILE B   3      19.405  38.008  -5.448  1.00 32.18           N  \\nATOM    776  CA  ILE B   3      18.037  37.742  -5.100  1.00 30.91           C  \\nATOM    777  C   ILE B   3      17.832  38.164  -3.660  1.00 28.84           C  \\nATOM    778  O   ILE B   3      18.457  37.631  -2.746  1.00 28.43           O  \\nATOM    779  CB  ILE B   3      17.694  36.224  -5.238  1.00 33.01           C  \\nATOM    780  CG1 ILE B   3      17.788  35.772  -6.692  1.00 35.76           C  \\nATOM    781  CG2 ILE B   3      16.284  35.967  -4.750  1.00 31.17           C  \\nATOM    782  CD1 ILE B   3      18.183  34.327  -6.802  1.00 36.59           C  \\nATOM    783  N   THR B   4      16.960  39.132  -3.461  1.00 24.52           N  \\nATOM    784  CA  THR B   4      16.635  39.571  -2.117  1.00 26.46           C  \\nATOM    785  C   THR B   4      15.555  38.634  -1.627  1.00 23.26           C  \\nATOM    786  O   THR B   4      15.066  37.784  -2.372  1.00 23.16           O  \\nATOM    787  CB  THR B   4      16.147  41.074  -2.110  1.00 30.32           C  \\nATOM    788  OG1 THR B   4      15.093  41.256  -3.079  1.00 32.67           O  \\nATOM    789  CG2 THR B   4      17.283  42.019  -2.472  1.00 30.57           C  \\nATOM    790  N   LEU B   5      15.157  38.761  -0.379  1.00 21.95           N  \\nATOM    791  CA  LEU B   5      14.466  37.636   0.259  1.00 21.45           C  \\nATOM    792  C   LEU B   5      13.125  38.065   0.821  1.00 22.43           C  \\nATOM    793  O   LEU B   5      12.585  37.446   1.733  1.00 22.26           O  \\nATOM    794  CB  LEU B   5      15.340  37.047   1.374  1.00 18.69           C  \\nATOM    795  CG  LEU B   5      16.622  36.365   0.892  1.00 18.41           C  \\nATOM    796  CD1 LEU B   5      17.455  35.953   2.080  1.00 16.32           C  \\nATOM    797  CD2 LEU B   5      16.248  35.136  -0.006  1.00 16.07           C  \\nATOM    798  N   TRP B   6      12.567  39.127   0.262  1.00 21.66           N  \\nATOM    799  CA  TRP B   6      11.260  39.582   0.682  1.00 21.58           C  \\nATOM    800  C   TRP B   6      10.196  38.601   0.218  1.00 21.21           C  \\nATOM    801  O   TRP B   6       9.192  38.404   0.903  1.00 22.05           O  \\nATOM    802  CB  TRP B   6      11.004  40.992   0.135  1.00 19.59           C  \\nATOM    803  CG  TRP B   6      12.065  42.014   0.478  1.00 18.40           C  \\nATOM    804  CD1 TRP B   6      13.157  42.366  -0.279  1.00 17.80           C  \\nATOM    805  CD2 TRP B   6      12.209  42.716   1.739  1.00 14.37           C  \\nATOM    806  NE1 TRP B   6      13.979  43.196   0.470  1.00 17.13           N  \\nATOM    807  CE2 TRP B   6      13.433  43.441   1.686  1.00 17.08           C  \\nATOM    808  CE3 TRP B   6      11.443  42.805   2.913  1.00 17.33           C  \\nATOM    809  CZ2 TRP B   6      13.914  44.211   2.785  1.00 16.59           C  \\nATOM    810  CZ3 TRP B   6      11.903  43.585   3.953  1.00 15.43           C  \\nATOM    811  CH2 TRP B   6      13.148  44.273   3.896  1.00 18.86           C  \\nATOM    812  N   GLN B   7      10.396  38.008  -0.958  1.00 23.30           N  \\nATOM    813  CA  GLN B   7       9.518  36.960  -1.516  1.00 24.55           C  \\nATOM    814  C   GLN B   7      10.321  35.670  -1.433  1.00 23.64           C  \\nATOM    815  O   GLN B   7      11.546  35.694  -1.298  1.00 23.66           O  \\nATOM    816  CB  GLN B   7       9.215  37.238  -3.000  1.00 32.55           C  \\nATOM    817  CG  GLN B   7       8.278  38.433  -3.326  1.00 41.57           C  \\nATOM    818  CD  GLN B   7       7.629  38.332  -4.744  1.00 50.90           C  \\nATOM    819  OE1 GLN B   7       8.319  38.100  -5.754  1.00 55.87           O  \\nATOM    820  NE2 GLN B   7       6.307  38.532  -4.814  1.00 51.09           N  \\nATOM    821  N   ARG B   8       9.661  34.528  -1.525  1.00 21.29           N  \\nATOM    822  CA  ARG B   8      10.385  33.251  -1.642  1.00 20.70           C  \\nATOM    823  C   ARG B   8      11.348  33.305  -2.780  1.00 19.16           C  \\nATOM    824  O   ARG B   8      10.964  33.682  -3.906  1.00 22.46           O  \\nATOM    825  CB  ARG B   8       9.435  32.061  -1.862  1.00 21.59           C  \\nATOM    826  CG  ARG B   8       8.623  31.716  -0.644  1.00 27.03           C  \\nATOM    827  CD  ARG B   8       7.828  30.471  -0.844  1.00 28.48           C  \\nATOM    828  NE  ARG B   8       7.143  30.102   0.378  1.00 38.82           N  \\nATOM    829  CZ  ARG B   8       6.523  28.938   0.561  1.00 45.44           C  \\nATOM    830  NH1 ARG B   8       6.476  28.028  -0.411  1.00 47.55           N  \\nATOM    831  NH2 ARG B   8       5.925  28.688   1.719  1.00 49.71           N  \\nATOM    832  N   PRO B   9      12.533  32.711  -2.598  1.00 18.31           N  \\nATOM    833  CA  PRO B   9      13.443  32.743  -3.746  1.00 16.67           C  \\nATOM    834  C   PRO B   9      13.174  31.592  -4.703  1.00 18.20           C  \\nATOM    835  O   PRO B   9      13.897  30.587  -4.698  1.00 17.79           O  \\nATOM    836  CB  PRO B   9      14.813  32.658  -3.125  1.00 15.13           C  \\nATOM    837  CG  PRO B   9      14.564  31.823  -1.917  1.00 13.81           C  \\nATOM    838  CD  PRO B   9      13.238  32.289  -1.373  1.00 15.31           C  \\nATOM    839  N   LEU B  10      12.134  31.727  -5.504  1.00 18.74           N  \\nATOM    840  CA  LEU B  10      11.816  30.740  -6.534  1.00 24.75           C  \\nATOM    841  C   LEU B  10      12.459  31.075  -7.877  1.00 28.33           C  \\nATOM    842  O   LEU B  10      12.274  32.150  -8.406  1.00 34.15           O  \\nATOM    843  CB  LEU B  10      10.303  30.637  -6.738  1.00 22.30           C  \\nATOM    844  CG  LEU B  10       9.483  30.307  -5.497  1.00 26.19           C  \\nATOM    845  CD1 LEU B  10       8.028  30.334  -5.876  1.00 26.68           C  \\nATOM    846  CD2 LEU B  10       9.845  28.975  -4.951  1.00 25.72           C  \\nATOM    847  N   VAL B  11      13.225  30.141  -8.420  1.00 29.04           N  \\nATOM    848  CA  VAL B  11      13.759  30.227  -9.768  1.00 25.94           C  \\nATOM    849  C   VAL B  11      13.103  29.153 -10.641  1.00 28.64           C  \\nATOM    850  O   VAL B  11      12.381  28.285 -10.135  1.00 26.28           O  \\nATOM    851  CB  VAL B  11      15.253  29.988  -9.735  1.00 26.71           C  \\nATOM    852  CG1 VAL B  11      15.898  31.108  -8.939  1.00 26.27           C  \\nATOM    853  CG2 VAL B  11      15.573  28.635  -9.104  1.00 23.17           C  \\nATOM    854  N   THR B  12      13.346  29.214 -11.949  1.00 29.16           N  \\nATOM    855  CA  THR B  12      12.809  28.220 -12.873  1.00 29.59           C  \\nATOM    856  C   THR B  12      13.951  27.253 -13.210  1.00 27.37           C  \\nATOM    857  O   THR B  12      15.089  27.656 -13.442  1.00 28.24           O  \\nATOM    858  CB  THR B  12      12.259  28.907 -14.158  1.00 33.38           C  \\nATOM    859  OG1 THR B  12      11.693  27.933 -15.028  1.00 41.16           O  \\nATOM    860  CG2 THR B  12      13.341  29.639 -14.925  1.00 37.24           C  \\nATOM    861  N   ILE B  13      13.684  25.961 -13.124  1.00 27.04           N  \\nATOM    862  CA  ILE B  13      14.708  24.966 -13.446  1.00 26.55           C  \\nATOM    863  C   ILE B  13      14.230  24.165 -14.639  1.00 28.05           C  \\nATOM    864  O   ILE B  13      13.014  24.057 -14.918  1.00 25.03           O  \\nATOM    865  CB  ILE B  13      14.993  23.953 -12.269  1.00 25.84           C  \\nATOM    866  CG1 ILE B  13      13.699  23.190 -11.870  1.00 28.87           C  \\nATOM    867  CG2 ILE B  13      15.564  24.705 -11.094  1.00 20.54           C  \\nATOM    868  CD1 ILE B  13      13.900  22.077 -10.834  1.00 29.32           C  \\nATOM    869  N   LYS B  14      15.186  23.630 -15.378  1.00 27.45           N  \\nATOM    870  CA  LYS B  14      14.828  22.733 -16.464  1.00 26.92           C  \\nATOM    871  C   LYS B  14      15.482  21.387 -16.141  1.00 26.01           C  \\nATOM    872  O   LYS B  14      16.690  21.305 -15.886  1.00 24.75           O  \\nATOM    873  CB  LYS B  14      15.340  23.256 -17.814  1.00 25.93           C  \\nATOM    874  CG  LYS B  14      14.868  22.447 -18.992  1.00 27.04           C  \\nATOM    875  CD  LYS B  14      14.687  23.295 -20.194  1.00 32.12           C  \\nATOM    876  CE  LYS B  14      15.979  23.453 -20.922  1.00 34.02           C  \\nATOM    877  NZ  LYS B  14      15.739  23.451 -22.389  1.00 41.05           N  \\nATOM    878  N   ILE B  15      14.660  20.354 -16.136  1.00 26.74           N  \\nATOM    879  CA  ILE B  15      15.108  18.999 -15.906  1.00 30.24           C  \\nATOM    880  C   ILE B  15      14.188  18.067 -16.702  1.00 33.16           C  \\nATOM    881  O   ILE B  15      12.968  18.199 -16.719  1.00 31.38           O  \\nATOM    882  CB  ILE B  15      15.090  18.663 -14.360  1.00 31.34           C  \\nATOM    883  CG1 ILE B  15      15.694  17.283 -14.101  1.00 32.33           C  \\nATOM    884  CG2 ILE B  15      13.682  18.760 -13.780  1.00 28.02           C  \\nATOM    885  CD1 ILE B  15      16.011  17.036 -12.625  1.00 33.84           C  \\nATOM    886  N   GLY B  16      14.799  17.159 -17.438  1.00 36.75           N  \\nATOM    887  CA  GLY B  16      14.024  16.279 -18.286  1.00 39.96           C  \\nATOM    888  C   GLY B  16      13.311  17.029 -19.391  1.00 40.86           C  \\nATOM    889  O   GLY B  16      12.318  16.549 -19.924  1.00 42.44           O  \\nATOM    890  N   GLY B  17      13.887  18.145 -19.823  1.00 40.79           N  \\nATOM    891  CA  GLY B  17      13.243  18.938 -20.850  1.00 37.08           C  \\nATOM    892  C   GLY B  17      12.009  19.638 -20.345  1.00 35.82           C  \\nATOM    893  O   GLY B  17      11.392  20.369 -21.084  1.00 37.78           O  \\nATOM    894  N   GLN B  18      11.676  19.486 -19.073  1.00 32.85           N  \\nATOM    895  CA  GLN B  18      10.572  20.249 -18.515  1.00 35.03           C  \\nATOM    896  C   GLN B  18      11.056  21.466 -17.699  1.00 34.53           C  \\nATOM    897  O   GLN B  18      12.196  21.494 -17.175  1.00 33.51           O  \\nATOM    898  CB  GLN B  18       9.708  19.388 -17.619  1.00 40.01           C  \\nATOM    899  CG  GLN B  18       8.936  18.297 -18.309  1.00 47.43           C  \\nATOM    900  CD  GLN B  18       9.088  16.973 -17.566  1.00 53.35           C  \\nATOM    901  OE1 GLN B  18       9.813  16.078 -18.014  1.00 55.74           O  \\nATOM    902  NE2 GLN B  18       8.488  16.884 -16.371  1.00 54.03           N  \\nATOM    903  N   LEU B  19      10.186  22.475 -17.590  1.00 32.63           N  \\nATOM    904  CA  LEU B  19      10.450  23.647 -16.749  1.00 29.37           C  \\nATOM    905  C   LEU B  19       9.631  23.511 -15.483  1.00 28.10           C  \\nATOM    906  O   LEU B  19       8.432  23.277 -15.551  1.00 29.04           O  \\nATOM    907  CB  LEU B  19      10.010  24.932 -17.474  1.00 28.40           C  \\nATOM    908  CG  LEU B  19      10.775  25.419 -18.723  1.00 26.42           C  \\nATOM    909  CD1 LEU B  19      10.226  26.727 -19.190  1.00 22.91           C  \\nATOM    910  CD2 LEU B  19      12.241  25.543 -18.395  1.00 23.99           C  \\nATOM    911  N   LYS B  20      10.273  23.619 -14.329  1.00 28.58           N  \\nATOM    912  CA  LYS B  20       9.576  23.583 -13.044  1.00 25.77           C  \\nATOM    913  C   LYS B  20      10.018  24.784 -12.260  1.00 26.35           C  \\nATOM    914  O   LYS B  20      10.998  25.429 -12.605  1.00 25.15           O  \\nATOM    915  CB  LYS B  20       9.970  22.364 -12.236  1.00 29.54           C  \\nATOM    916  CG  LYS B  20      10.281  21.123 -13.051  1.00 36.66           C  \\nATOM    917  CD  LYS B  20       9.037  20.289 -13.305  1.00 41.68           C  \\nATOM    918  CE  LYS B  20       9.400  18.836 -13.595  1.00 45.08           C  \\nATOM    919  NZ  LYS B  20       9.672  18.102 -12.328  1.00 46.33           N  \\nATOM    920  N   GLU B  21       9.324  25.048 -11.162  1.00 24.88           N  \\nATOM    921  CA  GLU B  21       9.705  26.075 -10.199  1.00 25.39           C  \\nATOM    922  C   GLU B  21      10.311  25.408  -8.990  1.00 23.31           C  \\nATOM    923  O   GLU B  21       9.847  24.351  -8.547  1.00 25.34           O  \\nATOM    924  CB  GLU B  21       8.468  26.848  -9.767  1.00 32.42           C  \\nATOM    925  CG  GLU B  21       8.676  28.343  -9.687  1.00 47.17           C  \\nATOM    926  CD  GLU B  21       7.419  29.111 -10.041  1.00 57.11           C  \\nATOM    927  OE1 GLU B  21       6.374  28.877  -9.383  1.00 62.83           O  \\nATOM    928  OE2 GLU B  21       7.461  29.911 -11.004  1.00 64.02           O  \\nATOM    929  N   ALA B  22      11.348  26.008  -8.443  1.00 16.20           N  \\nATOM    930  CA  ALA B  22      12.025  25.431  -7.271  1.00 14.52           C  \\nATOM    931  C   ALA B  22      12.472  26.569  -6.331  1.00 15.55           C  \\nATOM    932  O   ALA B  22      12.709  27.701  -6.765  1.00 17.95           O  \\nATOM    933  CB  ALA B  22      13.248  24.643  -7.708  1.00 11.99           C  \\nATOM    934  N   LEU B  23      12.560  26.257  -5.054  1.00 14.37           N  \\nATOM    935  CA  LEU B  23      13.017  27.151  -4.001  1.00 15.39           C  \\nATOM    936  C   LEU B  23      14.518  27.005  -3.822  1.00 15.08           C  \\nATOM    937  O   LEU B  23      15.008  25.915  -3.588  1.00 14.05           O  \\nATOM    938  CB  LEU B  23      12.330  26.721  -2.741  1.00 16.68           C  \\nATOM    939  CG  LEU B  23      12.592  27.472  -1.469  1.00 20.94           C  \\nATOM    940  CD1 LEU B  23      12.006  28.877  -1.562  1.00 18.77           C  \\nATOM    941  CD2 LEU B  23      11.917  26.658  -0.379  1.00 21.23           C  \\nATOM    942  N   LEU B  24      15.266  28.090  -3.963  1.00 13.16           N  \\nATOM    943  CA  LEU B  24      16.672  28.114  -3.511  1.00 17.92           C  \\nATOM    944  C   LEU B  24      16.809  28.098  -1.992  1.00 18.17           C  \\nATOM    945  O   LEU B  24      16.417  29.019  -1.338  1.00 19.32           O  \\nATOM    946  CB  LEU B  24      17.416  29.342  -4.065  1.00 17.42           C  \\nATOM    947  CG  LEU B  24      17.444  29.528  -5.585  1.00 19.17           C  \\nATOM    948  CD1 LEU B  24      18.151  30.843  -5.884  1.00 20.12           C  \\nATOM    949  CD2 LEU B  24      18.170  28.385  -6.270  1.00 19.21           C  \\nATOM    950  N   ASP B  25      17.407  27.054  -1.437  1.00 19.08           N  \\nATOM    951  CA  ASP B  25      17.227  26.751  -0.026  1.00 18.20           C  \\nATOM    952  C   ASP B  25      18.555  26.446   0.653  1.00 19.09           C  \\nATOM    953  O   ASP B  25      19.003  25.309   0.692  1.00 18.68           O  \\nATOM    954  CB  ASP B  25      16.258  25.572   0.084  1.00 18.15           C  \\nATOM    955  CG  ASP B  25      15.759  25.336   1.493  1.00 20.90           C  \\nATOM    956  OD1 ASP B  25      16.399  25.780   2.453  1.00 23.13           O  \\nATOM    957  OD2 ASP B  25      14.731  24.675   1.645  1.00 22.18           O  \\nATOM    958  N   THR B  26      19.163  27.455   1.257  1.00 14.92           N  \\nATOM    959  CA  THR B  26      20.441  27.290   1.920  1.00 13.68           C  \\nATOM    960  C   THR B  26      20.319  26.393   3.168  1.00 15.84           C  \\nATOM    961  O   THR B  26      21.316  25.867   3.637  1.00 18.69           O  \\nATOM    962  CB  THR B  26      21.063  28.678   2.282  1.00 15.43           C  \\nATOM    963  OG1 THR B  26      20.188  29.407   3.146  1.00 15.52           O  \\nATOM    964  CG2 THR B  26      21.279  29.499   1.024  1.00 15.01           C  \\nATOM    965  N   GLY B  27      19.106  26.199   3.688  1.00 13.19           N  \\nATOM    966  CA  GLY B  27      18.957  25.372   4.876  1.00 13.54           C  \\nATOM    967  C   GLY B  27      18.845  23.903   4.520  1.00 17.44           C  \\nATOM    968  O   GLY B  27      18.660  23.054   5.417  1.00 18.85           O  \\nATOM    969  N   ALA B  28      18.819  23.600   3.217  1.00 17.91           N  \\nATOM    970  CA  ALA B  28      18.721  22.211   2.738  1.00 18.89           C  \\nATOM    971  C   ALA B  28      20.089  21.661   2.292  1.00 20.66           C  \\nATOM    972  O   ALA B  28      20.749  22.243   1.403  1.00 22.38           O  \\nATOM    973  CB  ALA B  28      17.682  22.117   1.578  1.00 13.77           C  \\nATOM    974  N   ASP B  29      20.536  20.559   2.918  1.00 20.64           N  \\nATOM    975  CA  ASP B  29      21.779  19.912   2.496  1.00 14.85           C  \\nATOM    976  C   ASP B  29      21.693  19.374   1.107  1.00 14.01           C  \\nATOM    977  O   ASP B  29      22.642  19.502   0.361  1.00 17.76           O  \\nATOM    978  CB  ASP B  29      22.169  18.827   3.447  1.00 15.99           C  \\nATOM    979  CG  ASP B  29      22.272  19.337   4.844  1.00 22.55           C  \\nATOM    980  OD1 ASP B  29      22.714  20.482   5.029  1.00 27.81           O  \\nATOM    981  OD2 ASP B  29      21.836  18.647   5.778  1.00 29.43           O  \\nATOM    982  N   ASP B  30      20.524  18.868   0.719  1.00 16.70           N  \\nATOM    983  CA  ASP B  30      20.355  18.227  -0.584  1.00 15.10           C  \\nATOM    984  C   ASP B  30      19.212  18.807  -1.371  1.00 16.38           C  \\nATOM    985  O   ASP B  30      18.383  19.523  -0.846  1.00 17.11           O  \\nATOM    986  CB  ASP B  30      20.084  16.745  -0.413  1.00 21.76           C  \\nATOM    987  CG  ASP B  30      21.023  16.088   0.586  1.00 25.41           C  \\nATOM    988  OD1 ASP B  30      22.233  15.970   0.265  1.00 25.58           O  \\nATOM    989  OD2 ASP B  30      20.531  15.682   1.672  1.00 27.89           O  \\nATOM    990  N   THR B  31      19.152  18.428  -2.643  1.00 18.44           N  \\nATOM    991  CA  THR B  31      18.113  18.843  -3.603  1.00 15.45           C  \\nATOM    992  C   THR B  31      17.019  17.743  -3.682  1.00 19.23           C  \\nATOM    993  O   THR B  31      17.342  16.586  -3.904  1.00 18.95           O  \\nATOM    994  CB  THR B  31      18.810  19.051  -4.967  1.00 12.28           C  \\nATOM    995  OG1 THR B  31      19.740  20.123  -4.831  1.00 13.54           O  \\nATOM    996  CG2 THR B  31      17.844  19.330  -6.078  1.00 10.95           C  \\nATOM    997  N   VAL B  32      15.750  18.102  -3.440  1.00 19.53           N  \\nATOM    998  CA  VAL B  32      14.628  17.162  -3.514  1.00 18.71           C  \\nATOM    999  C   VAL B  32      13.618  17.726  -4.436  1.00 19.01           C  \\nATOM   1000  O   VAL B  32      13.169  18.861  -4.263  1.00 19.90           O  \\nATOM   1001  CB  VAL B  32      13.781  17.005  -2.245  1.00 20.49           C  \\nATOM   1002  CG1 VAL B  32      13.297  15.592  -2.184  1.00 26.38           C  \\nATOM   1003  CG2 VAL B  32      14.518  17.455  -1.007  1.00 20.87           C  \\nATOM   1004  N   LEU B  33      13.199  16.926  -5.401  1.00 22.78           N  \\nATOM   1005  CA  LEU B  33      12.141  17.335  -6.327  1.00 23.84           C  \\nATOM   1006  C   LEU B  33      10.876  16.500  -6.065  1.00 27.19           C  \\nATOM   1007  O   LEU B  33      10.948  15.389  -5.534  1.00 26.71           O  \\nATOM   1008  CB  LEU B  33      12.618  17.139  -7.766  1.00 21.02           C  \\nATOM   1009  CG  LEU B  33      13.889  17.846  -8.247  1.00 20.79           C  \\nATOM   1010  CD1 LEU B  33      13.942  17.794  -9.731  1.00 21.64           C  \\nATOM   1011  CD2 LEU B  33      13.897  19.266  -7.782  1.00 23.27           C  \\nATOM   1012  N   GLU B  34       9.719  17.083  -6.361  1.00 26.46           N  \\nATOM   1013  CA  GLU B  34       8.442  16.392  -6.346  1.00 26.40           C  \\nATOM   1014  C   GLU B  34       8.514  15.172  -7.224  1.00 26.66           C  \\nATOM   1015  O   GLU B  34       9.413  15.013  -8.040  1.00 26.75           O  \\nATOM   1016  CB  GLU B  34       7.316  17.305  -6.819  1.00 24.89           C  \\nATOM   1017  CG  GLU B  34       6.914  18.362  -5.808  1.00 31.34           C  \\nATOM   1018  CD  GLU B  34       6.205  19.552  -6.439  1.00 32.62           C  \\nATOM   1019  OE1 GLU B  34       6.323  19.742  -7.666  1.00 39.77           O  \\nATOM   1020  OE2 GLU B  34       5.613  20.369  -5.715  1.00 39.65           O  \\nATOM   1021  N   GLU B  35       7.526  14.309  -7.044  1.00 30.87           N  \\nATOM   1022  CA  GLU B  35       7.425  13.006  -7.682  1.00 32.05           C  \\nATOM   1023  C   GLU B  35       7.528  13.141  -9.172  1.00 32.29           C  \\nATOM   1024  O   GLU B  35       6.660  13.711  -9.819  1.00 37.80           O  \\nATOM   1025  CB  GLU B  35       6.100  12.361  -7.297  1.00 35.17           C  \\nATOM   1026  CG  GLU B  35       5.907  10.953  -7.838  1.00 44.03           C  \\nATOM   1027  CD  GLU B  35       7.182  10.093  -7.854  1.00 44.48           C  \\nATOM   1028  OE1 GLU B  35       7.743   9.853  -6.766  1.00 38.16           O  \\nATOM   1029  OE2 GLU B  35       7.521   9.561  -8.946  1.00 46.13           O  \\nATOM   1030  N   MET B  36       8.627  12.651  -9.705  1.00 31.85           N  \\nATOM   1031  CA  MET B  36       8.791  12.578 -11.145  1.00 33.53           C  \\nATOM   1032  C   MET B  36       9.583  11.322 -11.483  1.00 33.93           C  \\nATOM   1033  O   MET B  36      10.100  10.637 -10.616  1.00 36.78           O  \\nATOM   1034  CB  MET B  36       9.546  13.808 -11.654  1.00 35.97           C  \\nATOM   1035  CG  MET B  36      10.867  14.095 -11.014  1.00 35.75           C  \\nATOM   1036  SD  MET B  36      11.575  15.547 -11.778  1.00 43.16           S  \\nATOM   1037  CE  MET B  36      11.710  15.108 -13.551  1.00 42.89           C  \\nATOM   1038  N   SER B  37       9.657  11.016 -12.763  1.00 33.54           N  \\nATOM   1039  CA  SER B  37      10.411   9.858 -13.218  1.00 35.84           C  \\nATOM   1040  C   SER B  37      11.673  10.374 -13.825  1.00 34.42           C  \\nATOM   1041  O   SER B  37      11.636  11.272 -14.685  1.00 33.84           O  \\nATOM   1042  CB  SER B  37       9.573   9.049 -14.221  1.00 38.59           C  \\nATOM   1043  OG  SER B  37       8.330   8.594 -13.579  1.00 41.47           O  \\nATOM   1044  N   LEU B  38      12.793   9.884 -13.330  1.00 35.38           N  \\nATOM   1045  CA  LEU B  38      14.091  10.261 -13.857  1.00 34.72           C  \\nATOM   1046  C   LEU B  38      14.818   9.018 -14.330  1.00 36.10           C  \\nATOM   1047  O   LEU B  38      14.416   7.898 -13.995  1.00 35.71           O  \\nATOM   1048  CB  LEU B  38      14.866  10.942 -12.759  1.00 30.77           C  \\nATOM   1049  CG  LEU B  38      14.480  12.376 -12.556  1.00 26.92           C  \\nATOM   1050  CD1 LEU B  38      15.159  12.900 -11.300  1.00 29.33           C  \\nATOM   1051  CD2 LEU B  38      14.955  13.131 -13.766  1.00 27.40           C  \\nATOM   1052  N   PRO B  39      15.767   9.161 -15.261  1.00 39.43           N  \\nATOM   1053  CA  PRO B  39      16.525   8.031 -15.798  1.00 40.91           C  \\nATOM   1054  C   PRO B  39      17.366   7.241 -14.777  1.00 41.38           C  \\nATOM   1055  O   PRO B  39      17.943   7.817 -13.847  1.00 42.07           O  \\nATOM   1056  CB  PRO B  39      17.407   8.673 -16.857  1.00 41.75           C  \\nATOM   1057  CG  PRO B  39      17.532  10.100 -16.423  1.00 41.42           C  \\nATOM   1058  CD  PRO B  39      16.150  10.405 -15.968  1.00 42.37           C  \\nATOM   1059  N   GLY B  40      17.477   5.932 -14.999  1.00 35.62           N  \\nATOM   1060  CA  GLY B  40      18.494   5.171 -14.302  1.00 33.54           C  \\nATOM   1061  C   GLY B  40      18.048   4.556 -12.995  1.00 29.12           C  \\nATOM   1062  O   GLY B  40      16.865   4.438 -12.729  1.00 28.38           O  \\nATOM   1063  N   ARG B  41      19.000   3.939 -12.313  1.00 27.66           N  \\nATOM   1064  CA  ARG B  41      18.722   3.282 -11.042  1.00 28.95           C  \\nATOM   1065  C   ARG B  41      18.615   4.306  -9.916  1.00 30.49           C  \\nATOM   1066  O   ARG B  41      19.168   5.390 -10.018  1.00 31.54           O  \\nATOM   1067  CB  ARG B  41      19.852   2.333 -10.662  1.00 28.94           C  \\nATOM   1068  CG  ARG B  41      20.359   1.417 -11.726  1.00 34.11           C  \\nATOM   1069  CD  ARG B  41      20.905   0.188 -11.023  1.00 34.17           C  \\nATOM   1070  NE  ARG B  41      19.927  -0.864 -11.169  1.00 38.61           N  \\nATOM   1071  CZ  ARG B  41      19.354  -1.538 -10.177  1.00 35.13           C  \\nATOM   1072  NH1 ARG B  41      19.839  -1.513  -8.939  1.00 27.84           N  \\nATOM   1073  NH2 ARG B  41      18.333  -2.314 -10.472  1.00 27.82           N  \\nATOM   1074  N   TRP B  42      17.989   3.918  -8.810  1.00 27.94           N  \\nATOM   1075  CA  TRP B  42      17.920   4.766  -7.634  1.00 28.18           C  \\nATOM   1076  C   TRP B  42      18.295   3.969  -6.380  1.00 30.79           C  \\nATOM   1077  O   TRP B  42      18.163   2.742  -6.361  1.00 28.97           O  \\nATOM   1078  CB  TRP B  42      16.525   5.338  -7.459  1.00 24.28           C  \\nATOM   1079  CG  TRP B  42      15.444   4.372  -7.312  1.00 18.74           C  \\nATOM   1080  CD1 TRP B  42      14.681   3.834  -8.299  1.00 16.49           C  \\nATOM   1081  CD2 TRP B  42      14.840   3.957  -6.079  1.00 18.74           C  \\nATOM   1082  NE1 TRP B  42      13.640   3.121  -7.756  1.00 16.06           N  \\nATOM   1083  CE2 TRP B  42      13.719   3.166  -6.402  1.00 14.09           C  \\nATOM   1084  CE3 TRP B  42      15.154   4.180  -4.715  1.00 20.09           C  \\nATOM   1085  CZ2 TRP B  42      12.881   2.589  -5.411  1.00 18.75           C  \\nATOM   1086  CZ3 TRP B  42      14.300   3.625  -3.745  1.00 22.86           C  \\nATOM   1087  CH2 TRP B  42      13.168   2.842  -4.106  1.00 20.90           C  \\nATOM   1088  N   LYS B  43      18.801   4.689  -5.365  1.00 31.89           N  \\nATOM   1089  CA  LYS B  43      19.180   4.182  -4.032  1.00 30.18           C  \\nATOM   1090  C   LYS B  43      18.127   4.736  -3.089  1.00 27.53           C  \\nATOM   1091  O   LYS B  43      17.442   5.729  -3.400  1.00 25.86           O  \\nATOM   1092  CB  LYS B  43      20.561   4.731  -3.581  1.00 33.16           C  \\nATOM   1093  CG  LYS B  43      21.777   4.400  -4.445  1.00 40.56           C  \\nATOM   1094  CD  LYS B  43      22.996   5.295  -4.048  1.00 49.90           C  \\nATOM   1095  CE  LYS B  43      24.193   5.280  -5.063  1.00 52.53           C  \\nATOM   1096  NZ  LYS B  43      25.251   6.324  -4.725  1.00 52.90           N  \\nATOM   1097  N   PRO B  44      18.053   4.208  -1.878  1.00 25.82           N  \\nATOM   1098  CA  PRO B  44      17.102   4.804  -0.946  1.00 25.30           C  \\nATOM   1099  C   PRO B  44      17.754   5.853  -0.023  1.00 27.71           C  \\nATOM   1100  O   PRO B  44      18.929   5.769   0.330  1.00 25.94           O  \\nATOM   1101  CB  PRO B  44      16.596   3.610  -0.171  1.00 25.59           C  \\nATOM   1102  CG  PRO B  44      17.803   2.676  -0.117  1.00 26.07           C  \\nATOM   1103  CD  PRO B  44      18.649   2.962  -1.335  1.00 27.58           C  \\nATOM   1104  N   LYS B  45      16.974   6.847   0.381  1.00 29.96           N  \\nATOM   1105  CA  LYS B  45      17.443   7.812   1.371  1.00 28.39           C  \\nATOM   1106  C   LYS B  45      16.334   8.328   2.257  1.00 27.43           C  \\nATOM   1107  O   LYS B  45      15.192   8.470   1.828  1.00 26.93           O  \\nATOM   1108  CB  LYS B  45      18.177   8.988   0.701  1.00 27.50           C  \\nATOM   1109  CG  LYS B  45      19.183   9.659   1.670  1.00 27.69           C  \\nATOM   1110  CD  LYS B  45      20.095  10.640   1.011  1.00 25.34           C  \\nATOM   1111  CE  LYS B  45      20.751  11.491   2.069  1.00 32.56           C  \\nATOM   1112  NZ  LYS B  45      21.413  12.705   1.509  1.00 32.92           N  \\nATOM   1113  N   MET B  46      16.672   8.585   3.514  1.00 29.02           N  \\nATOM   1114  CA  MET B  46      15.755   9.281   4.404  1.00 31.16           C  \\nATOM   1115  C   MET B  46      16.373  10.584   4.732  1.00 29.75           C  \\nATOM   1116  O   MET B  46      17.542  10.636   5.104  1.00 29.99           O  \\nATOM   1117  CB  MET B  46      15.562   8.530   5.708  1.00 38.22           C  \\nATOM   1118  CG  MET B  46      14.763   7.266   5.540  1.00 45.23           C  \\nATOM   1119  SD  MET B  46      13.357   7.367   6.566  1.00 52.02           S  \\nATOM   1120  CE  MET B  46      14.146   6.922   8.167  1.00 49.41           C  \\nATOM   1121  N   ILE B  47      15.582  11.636   4.604  1.00 30.87           N  \\nATOM   1122  CA  ILE B  47      16.003  12.986   4.955  1.00 29.85           C  \\nATOM   1123  C   ILE B  47      15.018  13.507   5.961  1.00 27.34           C  \\nATOM   1124  O   ILE B  47      13.822  13.222   5.884  1.00 26.79           O  \\nATOM   1125  CB  ILE B  47      16.040  13.915   3.699  1.00 29.30           C  \\nATOM   1126  CG1 ILE B  47      14.745  13.761   2.918  1.00 25.99           C  \\nATOM   1127  CG2 ILE B  47      17.229  13.534   2.782  1.00 28.73           C  \\nATOM   1128  CD1 ILE B  47      14.742  14.561   1.698  1.00 27.41           C  \\nATOM   1129  N   GLY B  48      15.542  14.239   6.941  1.00 31.53           N  \\nATOM   1130  CA  GLY B  48      14.714  14.799   8.014  1.00 31.93           C  \\nATOM   1131  C   GLY B  48      14.762  16.314   8.114  1.00 33.10           C  \\nATOM   1132  O   GLY B  48      15.803  16.952   7.888  1.00 30.88           O  \\nATOM   1133  N   GLY B  49      13.583  16.896   8.239  1.00 32.08           N  \\nATOM   1134  CA  GLY B  49      13.484  18.319   8.459  1.00 34.90           C  \\nATOM   1135  C   GLY B  49      12.647  18.565   9.672  1.00 35.58           C  \\nATOM   1136  O   GLY B  49      12.880  17.976  10.721  1.00 36.70           O  \\nATOM   1137  N   ILE B  50      11.850  19.611   9.584  1.00 35.37           N  \\nATOM   1138  CA  ILE B  50      10.858  19.974  10.594  1.00 35.93           C  \\nATOM   1139  C   ILE B  50       9.707  18.988  10.393  1.00 35.51           C  \\nATOM   1140  O   ILE B  50       9.341  18.670   9.251  1.00 34.79           O  \\nATOM   1141  CB  ILE B  50      10.365  21.453  10.316  1.00 36.57           C  \\nATOM   1142  CG1 ILE B  50      11.556  22.421  10.394  1.00 38.14           C  \\nATOM   1143  CG2 ILE B  50       9.299  21.862  11.270  1.00 34.90           C  \\nATOM   1144  CD1 ILE B  50      11.936  22.850  11.773  1.00 36.99           C  \\nATOM   1145  N   GLY B  51       9.164  18.455  11.474  1.00 32.76           N  \\nATOM   1146  CA  GLY B  51       8.011  17.583  11.313  1.00 34.23           C  \\nATOM   1147  C   GLY B  51       8.360  16.130  11.054  1.00 37.16           C  \\nATOM   1148  O   GLY B  51       7.494  15.283  11.167  1.00 40.75           O  \\nATOM   1149  N   GLY B  52       9.638  15.842  10.818  1.00 36.36           N  \\nATOM   1150  CA  GLY B  52      10.123  14.474  10.792  1.00 35.14           C  \\nATOM   1151  C   GLY B  52      10.860  14.080   9.524  1.00 35.06           C  \\nATOM   1152  O   GLY B  52      11.419  14.930   8.826  1.00 33.99           O  \\nATOM   1153  N   PHE B  53      10.878  12.788   9.221  1.00 33.56           N  \\nATOM   1154  CA  PHE B  53      11.638  12.302   8.079  1.00 33.93           C  \\nATOM   1155  C   PHE B  53      10.739  11.914   6.924  1.00 33.07           C  \\nATOM   1156  O   PHE B  53       9.601  11.543   7.137  1.00 35.98           O  \\nATOM   1157  CB  PHE B  53      12.458  11.126   8.531  1.00 35.25           C  \\nATOM   1158  CG  PHE B  53      13.464  11.471   9.564  1.00 39.11           C  \\nATOM   1159  CD1 PHE B  53      13.092  11.697  10.886  1.00 40.72           C  \\nATOM   1160  CD2 PHE B  53      14.789  11.625   9.189  1.00 40.77           C  \\nATOM   1161  CE1 PHE B  53      14.036  12.076  11.825  1.00 42.79           C  \\nATOM   1162  CE2 PHE B  53      15.753  12.001  10.078  1.00 41.95           C  \\nATOM   1163  CZ  PHE B  53      15.392  12.225  11.421  1.00 44.36           C  \\nATOM   1164  N   ILE B  54      11.204  12.078   5.695  1.00 30.50           N  \\nATOM   1165  CA  ILE B  54      10.538  11.431   4.563  1.00 28.82           C  \\nATOM   1166  C   ILE B  54      11.513  10.453   3.866  1.00 28.68           C  \\nATOM   1167  O   ILE B  54      12.727  10.529   4.052  1.00 30.25           O  \\nATOM   1168  CB  ILE B  54       9.923  12.446   3.500  1.00 25.49           C  \\nATOM   1169  CG1 ILE B  54      10.968  13.414   2.964  1.00 24.37           C  \\nATOM   1170  CG2 ILE B  54       8.754  13.195   4.090  1.00 27.89           C  \\nATOM   1171  CD1 ILE B  54      10.571  14.020   1.616  1.00 16.71           C  \\nATOM   1172  N   LYS B  55      10.983   9.503   3.111  1.00 29.03           N  \\nATOM   1173  CA  LYS B  55      11.816   8.478   2.482  1.00 31.48           C  \\nATOM   1174  C   LYS B  55      11.862   8.988   1.074  1.00 28.45           C  \\nATOM   1175  O   LYS B  55      10.827   9.256   0.525  1.00 28.39           O  \\nATOM   1176  CB  LYS B  55      11.062   7.136   2.489  1.00 38.52           C  \\nATOM   1177  CG  LYS B  55      11.699   5.963   3.273  1.00 45.52           C  \\nATOM   1178  CD  LYS B  55      13.070   5.502   2.689  1.00 51.68           C  \\nATOM   1179  CE  LYS B  55      12.949   4.923   1.253  1.00 55.32           C  \\nATOM   1180  NZ  LYS B  55      13.964   5.445   0.291  1.00 51.46           N  \\nATOM   1181  N   VAL B  56      13.024   9.137   0.474  1.00 25.88           N  \\nATOM   1182  CA  VAL B  56      13.072   9.652  -0.897  1.00 26.87           C  \\nATOM   1183  C   VAL B  56      13.885   8.719  -1.786  1.00 26.06           C  \\nATOM   1184  O   VAL B  56      14.547   7.817  -1.279  1.00 29.12           O  \\nATOM   1185  CB  VAL B  56      13.757  11.033  -0.959  1.00 27.47           C  \\nATOM   1186  CG1 VAL B  56      12.766  12.134  -0.523  1.00 27.66           C  \\nATOM   1187  CG2 VAL B  56      15.032  11.016  -0.119  1.00 29.79           C  \\nATOM   1188  N   ARG B  57      13.889   8.977  -3.102  1.00 24.26           N  \\nATOM   1189  CA  ARG B  57      14.697   8.220  -4.083  1.00 21.61           C  \\nATOM   1190  C   ARG B  57      15.894   9.023  -4.591  1.00 20.76           C  \\nATOM   1191  O   ARG B  57      15.735  10.066  -5.210  1.00 24.14           O  \\nATOM   1192  CB  ARG B  57      13.862   7.854  -5.298  1.00 20.35           C  \\nATOM   1193  CG  ARG B  57      12.767   6.845  -5.041  1.00 26.15           C  \\nATOM   1194  CD  ARG B  57      12.224   6.316  -6.354  1.00 24.10           C  \\nATOM   1195  NE  ARG B  57      10.944   6.937  -6.617  1.00 34.58           N  \\nATOM   1196  CZ  ARG B  57      10.717   7.776  -7.614  1.00 31.59           C  \\nATOM   1197  NH1 ARG B  57      11.534   7.792  -8.658  1.00 33.77           N  \\nATOM   1198  NH2 ARG B  57       9.555   8.403  -7.678  1.00 29.56           N  \\nATOM   1199  N   GLN B  58      17.095   8.516  -4.388  1.00 19.42           N  \\nATOM   1200  CA  GLN B  58      18.306   9.218  -4.819  1.00 21.62           C  \\nATOM   1201  C   GLN B  58      18.742   8.833  -6.226  1.00 23.18           C  \\nATOM   1202  O   GLN B  58      19.157   7.694  -6.438  1.00 26.34           O  \\nATOM   1203  CB  GLN B  58      19.465   8.920  -3.861  1.00 20.63           C  \\nATOM   1204  CG  GLN B  58      20.738   9.622  -4.271  1.00 18.81           C  \\nATOM   1205  CD  GLN B  58      21.825   9.463  -3.248  1.00 20.16           C  \\nATOM   1206  OE1 GLN B  58      21.554   9.424  -2.048  1.00 28.16           O  \\nATOM   1207  NE2 GLN B  58      23.045   9.365  -3.692  1.00 21.91           N  \\nATOM   1208  N   TYR B  59      18.705   9.773  -7.167  1.00 21.35           N  \\nATOM   1209  CA  TYR B  59      19.361   9.587  -8.464  1.00 19.01           C  \\nATOM   1210  C   TYR B  59      20.689  10.330  -8.544  1.00 21.82           C  \\nATOM   1211  O   TYR B  59      20.860  11.368  -7.943  1.00 25.32           O  \\nATOM   1212  CB  TYR B  59      18.472  10.082  -9.563  1.00 18.59           C  \\nATOM   1213  CG  TYR B  59      17.116   9.383  -9.609  1.00 15.73           C  \\nATOM   1214  CD1 TYR B  59      16.157   9.612  -8.615  1.00 15.43           C  \\nATOM   1215  CD2 TYR B  59      16.814   8.484 -10.637  1.00 19.10           C  \\nATOM   1216  CE1 TYR B  59      14.959   8.977  -8.640  1.00 16.84           C  \\nATOM   1217  CE2 TYR B  59      15.647   7.851 -10.673  1.00 19.50           C  \\nATOM   1218  CZ  TYR B  59      14.704   8.066  -9.679  1.00 22.02           C  \\nATOM   1219  OH  TYR B  59      13.561   7.307  -9.711  1.00 23.01           O  \\nATOM   1220  N   ASP B  60      21.665   9.797  -9.258  1.00 26.17           N  \\nATOM   1221  CA  ASP B  60      22.959  10.470  -9.336  1.00 25.69           C  \\nATOM   1222  C   ASP B  60      23.303  10.921 -10.737  1.00 27.15           C  \\nATOM   1223  O   ASP B  60      22.793  10.396 -11.707  1.00 26.71           O  \\nATOM   1224  CB  ASP B  60      24.042   9.554  -8.834  1.00 30.50           C  \\nATOM   1225  CG  ASP B  60      23.843   9.184  -7.407  1.00 36.31           C  \\nATOM   1226  OD1 ASP B  60      23.463  10.074  -6.620  1.00 37.41           O  \\nATOM   1227  OD2 ASP B  60      24.107   8.012  -7.044  1.00 40.37           O  \\nATOM   1228  N   GLN B  61      24.189  11.897 -10.837  1.00 27.15           N  \\nATOM   1229  CA  GLN B  61      24.622  12.478 -12.111  1.00 29.27           C  \\nATOM   1230  C   GLN B  61      23.474  12.903 -13.022  1.00 28.21           C  \\nATOM   1231  O   GLN B  61      23.492  12.665 -14.229  1.00 29.57           O  \\nATOM   1232  CB  GLN B  61      25.596  11.549 -12.869  1.00 35.98           C  \\nATOM   1233  CG  GLN B  61      26.892  12.283 -13.369  1.00 45.09           C  \\nATOM   1234  CD  GLN B  61      28.007  11.392 -13.985  1.00 50.40           C  \\nATOM   1235  OE1 GLN B  61      28.747  11.845 -14.875  1.00 49.27           O  \\nATOM   1236  NE2 GLN B  61      28.197  10.173 -13.442  1.00 55.52           N  \\nATOM   1237  N   ILE B  62      22.493  13.589 -12.452  1.00 26.57           N  \\nATOM   1238  CA  ILE B  62      21.380  14.141 -13.224  1.00 24.82           C  \\nATOM   1239  C   ILE B  62      21.710  15.575 -13.686  1.00 25.46           C  \\nATOM   1240  O   ILE B  62      22.247  16.373 -12.924  1.00 25.12           O  \\nATOM   1241  CB  ILE B  62      20.090  14.147 -12.331  1.00 24.26           C  \\nATOM   1242  CG1 ILE B  62      19.709  12.702 -11.952  1.00 23.74           C  \\nATOM   1243  CG2 ILE B  62      18.950  14.826 -13.045  1.00 21.48           C  \\nATOM   1244  CD1 ILE B  62      19.068  11.933 -13.057  1.00 23.09           C  \\nATOM   1245  N   LEU B  63      21.400  15.900 -14.931  1.00 25.95           N  \\nATOM   1246  CA  LEU B  63      21.600  17.263 -15.431  1.00 29.84           C  \\nATOM   1247  C   LEU B  63      20.386  18.085 -15.052  1.00 30.58           C  \\nATOM   1248  O   LEU B  63      19.260  17.703 -15.355  1.00 31.36           O  \\nATOM   1249  CB  LEU B  63      21.769  17.265 -16.962  1.00 32.16           C  \\nATOM   1250  CG  LEU B  63      21.792  18.587 -17.759  1.00 33.80           C  \\nATOM   1251  CD1 LEU B  63      22.903  19.529 -17.300  1.00 36.66           C  \\nATOM   1252  CD2 LEU B  63      21.997  18.246 -19.205  1.00 38.83           C  \\nATOM   1253  N   ILE B  64      20.626  19.203 -14.381  1.00 31.59           N  \\nATOM   1254  CA  ILE B  64      19.548  20.111 -14.029  1.00 31.52           C  \\nATOM   1255  C   ILE B  64      20.089  21.523 -14.223  1.00 33.29           C  \\nATOM   1256  O   ILE B  64      21.175  21.858 -13.763  1.00 33.56           O  \\nATOM   1257  CB  ILE B  64      19.107  19.880 -12.540  1.00 29.35           C  \\nATOM   1258  CG1 ILE B  64      18.216  20.990 -12.036  1.00 30.67           C  \\nATOM   1259  CG2 ILE B  64      20.311  19.766 -11.655  1.00 34.19           C  \\nATOM   1260  CD1 ILE B  64      17.324  20.544 -10.930  1.00 34.50           C  \\nATOM   1261  N   GLU B  65      19.327  22.330 -14.953  1.00 35.37           N  \\nATOM   1262  CA  GLU B  65      19.661  23.719 -15.251  1.00 34.26           C  \\nATOM   1263  C   GLU B  65      18.938  24.686 -14.338  1.00 33.11           C  \\nATOM   1264  O   GLU B  65      17.700  24.745 -14.345  1.00 32.35           O  \\nATOM   1265  CB  GLU B  65      19.282  24.017 -16.688  1.00 37.05           C  \\nATOM   1266  CG  GLU B  65      20.180  25.011 -17.326  1.00 48.15           C  \\nATOM   1267  CD  GLU B  65      19.960  25.126 -18.805  1.00 54.00           C  \\nATOM   1268  OE1 GLU B  65      19.601  24.094 -19.445  1.00 54.40           O  \\nATOM   1269  OE2 GLU B  65      20.214  26.241 -19.314  1.00 59.11           O  \\nATOM   1270  N   ILE B  66      19.709  25.427 -13.547  1.00 34.12           N  \\nATOM   1271  CA  ILE B  66      19.159  26.431 -12.654  1.00 36.05           C  \\nATOM   1272  C   ILE B  66      19.519  27.864 -13.127  1.00 37.57           C  \\nATOM   1273  O   ILE B  66      20.684  28.254 -13.167  1.00 36.67           O  \\nATOM   1274  CB  ILE B  66      19.663  26.199 -11.203  1.00 33.70           C  \\nATOM   1275  CG1 ILE B  66      19.566  24.717 -10.848  1.00 32.55           C  \\nATOM   1276  CG2 ILE B  66      18.824  27.018 -10.232  1.00 33.60           C  \\nATOM   1277  CD1 ILE B  66      20.510  24.280  -9.745  1.00 35.00           C  \\nATOM   1278  N   CYS B  67      18.504  28.630 -13.516  1.00 41.68           N  \\nATOM   1279  CA  CYS B  67      18.684  29.971 -14.104  1.00 44.87           C  \\nATOM   1280  C   CYS B  67      19.685  29.990 -15.245  1.00 44.44           C  \\nATOM   1281  O   CYS B  67      20.565  30.852 -15.294  1.00 42.31           O  \\nATOM   1282  CB  CYS B  67      19.124  30.970 -13.037  1.00 48.45           C  \\nATOM   1283  SG  CYS B  67      17.736  31.542 -12.037  1.00 54.18           S  \\nATOM   1284  N   GLY B  68      19.562  29.010 -16.143  1.00 43.24           N  \\nATOM   1285  CA  GLY B  68      20.485  28.891 -17.256  1.00 41.28           C  \\nATOM   1286  C   GLY B  68      21.899  28.603 -16.811  1.00 41.98           C  \\nATOM   1287  O   GLY B  68      22.843  28.970 -17.493  1.00 46.85           O  \\nATOM   1288  N   HIS B  69      22.059  28.002 -15.633  1.00 40.00           N  \\nATOM   1289  CA  HIS B  69      23.354  27.479 -15.197  1.00 36.63           C  \\nATOM   1290  C   HIS B  69      23.178  25.984 -15.087  1.00 34.62           C  \\nATOM   1291  O   HIS B  69      22.307  25.523 -14.354  1.00 32.72           O  \\nATOM   1292  CB  HIS B  69      23.711  27.993 -13.810  1.00 39.25           C  \\nATOM   1293  CG  HIS B  69      23.976  29.473 -13.740  1.00 44.38           C  \\nATOM   1294  ND1 HIS B  69      25.177  29.994 -13.361  1.00 46.88           N  \\nATOM   1295  CD2 HIS B  69      23.114  30.512 -13.920  1.00 45.80           C  \\nATOM   1296  CE1 HIS B  69      25.058  31.325 -13.286  1.00 50.18           C  \\nATOM   1297  NE2 HIS B  69      23.849  31.652 -13.613  1.00 47.74           N  \\nATOM   1298  N   LYS B  70      23.995  25.240 -15.820  1.00 33.27           N  \\nATOM   1299  CA  LYS B  70      23.935  23.791 -15.800  1.00 31.17           C  \\nATOM   1300  C   LYS B  70      24.749  23.243 -14.652  1.00 29.41           C  \\nATOM   1301  O   LYS B  70      25.875  23.676 -14.403  1.00 29.56           O  \\nATOM   1302  CB  LYS B  70      24.423  23.212 -17.115  1.00 32.71           C  \\nATOM   1303  CG  LYS B  70      23.463  23.445 -18.279  1.00 34.39           C  \\nATOM   1304  CD  LYS B  70      24.261  23.524 -19.576  1.00 44.19           C  \\nATOM   1305  CE  LYS B  70      23.377  23.737 -20.816  1.00 48.61           C  \\nATOM   1306  NZ  LYS B  70      22.863  22.443 -21.404  1.00 54.35           N  \\nATOM   1307  N   ALA B  71      24.104  22.353 -13.909  1.00 24.69           N  \\nATOM   1308  CA  ALA B  71      24.689  21.612 -12.802  1.00 23.65           C  \\nATOM   1309  C   ALA B  71      24.391  20.156 -13.159  1.00 24.51           C  \\nATOM   1310  O   ALA B  71      23.339  19.865 -13.735  1.00 24.89           O  \\nATOM   1311  CB  ALA B  71      23.991  21.992 -11.485  1.00 16.65           C  \\nATOM   1312  N   ILE B  72      25.330  19.253 -12.902  1.00 25.50           N  \\nATOM   1313  CA  ILE B  72      25.048  17.816 -13.016  1.00 24.06           C  \\nATOM   1314  C   ILE B  72      25.312  17.246 -11.637  1.00 22.15           C  \\nATOM   1315  O   ILE B  72      26.442  17.315 -11.167  1.00 23.87           O  \\nATOM   1316  CB  ILE B  72      26.029  17.094 -13.983  1.00 24.38           C  \\nATOM   1317  CG1 ILE B  72      26.092  17.805 -15.333  1.00 26.24           C  \\nATOM   1318  CG2 ILE B  72      25.615  15.649 -14.171  1.00 23.69           C  \\nATOM   1319  CD1 ILE B  72      27.241  17.224 -16.197  1.00 23.26           C  \\nATOM   1320  N   GLY B  73      24.303  16.690 -10.975  1.00 19.12           N  \\nATOM   1321  CA  GLY B  73      24.545  16.248  -9.616  1.00 19.31           C  \\nATOM   1322  C   GLY B  73      23.470  15.337  -9.095  1.00 19.37           C  \\nATOM   1323  O   GLY B  73      22.674  14.852  -9.881  1.00 21.87           O  \\nATOM   1324  N   THR B  74      23.517  15.041  -7.794  1.00 19.61           N  \\nATOM   1325  CA  THR B  74      22.568  14.162  -7.116  1.00 19.07           C  \\nATOM   1326  C   THR B  74      21.280  14.889  -6.829  1.00 22.17           C  \\nATOM   1327  O   THR B  74      21.299  16.005  -6.275  1.00 19.62           O  \\nATOM   1328  CB  THR B  74      23.128  13.638  -5.748  1.00 19.04           C  \\nATOM   1329  OG1 THR B  74      24.323  12.880  -5.961  1.00 24.28           O  \\nATOM   1330  CG2 THR B  74      22.071  12.763  -5.030  1.00 17.43           C  \\nATOM   1331  N   VAL B  75      20.177  14.227  -7.192  1.00 18.83           N  \\nATOM   1332  CA  VAL B  75      18.832  14.773  -7.068  1.00 20.46           C  \\nATOM   1333  C   VAL B  75      17.989  13.688  -6.360  1.00 22.85           C  \\nATOM   1334  O   VAL B  75      17.993  12.504  -6.743  1.00 20.15           O  \\nATOM   1335  CB  VAL B  75      18.229  15.113  -8.501  1.00 22.69           C  \\nATOM   1336  CG1 VAL B  75      16.760  15.421  -8.434  1.00 19.10           C  \\nATOM   1337  CG2 VAL B  75      18.967  16.317  -9.099  1.00 18.68           C  \\nATOM   1338  N   LEU B  76      17.295  14.086  -5.303  1.00 21.32           N  \\nATOM   1339  CA  LEU B  76      16.390  13.196  -4.575  1.00 19.82           C  \\nATOM   1340  C   LEU B  76      14.972  13.423  -5.073  1.00 21.74           C  \\nATOM   1341  O   LEU B  76      14.652  14.514  -5.518  1.00 25.18           O  \\nATOM   1342  CB  LEU B  76      16.450  13.476  -3.067  1.00 16.45           C  \\nATOM   1343  CG  LEU B  76      17.787  13.595  -2.330  1.00 15.15           C  \\nATOM   1344  CD1 LEU B  76      17.591  13.640  -0.845  1.00 14.83           C  \\nATOM   1345  CD2 LEU B  76      18.678  12.463  -2.705  1.00 20.59           C  \\nATOM   1346  N   VAL B  77      14.135  12.391  -5.049  1.00 23.03           N  \\nATOM   1347  CA  VAL B  77      12.749  12.509  -5.485  1.00 17.63           C  \\nATOM   1348  C   VAL B  77      11.826  11.894  -4.472  1.00 17.51           C  \\nATOM   1349  O   VAL B  77      12.052  10.766  -3.999  1.00 16.69           O  \\nATOM   1350  CB  VAL B  77      12.502  11.835  -6.868  1.00 18.16           C  \\nATOM   1351  CG1 VAL B  77      11.065  12.148  -7.398  1.00 20.02           C  \\nATOM   1352  CG2 VAL B  77      13.593  12.322  -7.843  1.00 16.66           C  \\nATOM   1353  N   GLY B  78      10.778  12.616  -4.125  1.00 16.55           N  \\nATOM   1354  CA  GLY B  78      10.004  12.229  -2.965  1.00 20.06           C  \\nATOM   1355  C   GLY B  78       8.832  13.128  -2.672  1.00 21.31           C  \\nATOM   1356  O   GLY B  78       8.614  14.117  -3.393  1.00 24.13           O  \\nATOM   1357  N   PRO B  79       8.032  12.814  -1.646  1.00 19.47           N  \\nATOM   1358  CA  PRO B  79       6.887  13.664  -1.350  1.00 21.78           C  \\nATOM   1359  C   PRO B  79       7.292  14.915  -0.550  1.00 21.89           C  \\nATOM   1360  O   PRO B  79       7.007  15.036   0.638  1.00 22.16           O  \\nATOM   1361  CB  PRO B  79       5.951  12.742  -0.594  1.00 17.28           C  \\nATOM   1362  CG  PRO B  79       6.838  11.781   0.040  1.00 20.54           C  \\nATOM   1363  CD  PRO B  79       8.096  11.665  -0.739  1.00 20.64           C  \\nATOM   1364  N   THR B  80       7.997  15.816  -1.220  1.00 24.38           N  \\nATOM   1365  CA  THR B  80       8.324  17.137  -0.702  1.00 22.15           C  \\nATOM   1366  C   THR B  80       7.227  18.114  -1.090  1.00 20.84           C  \\nATOM   1367  O   THR B  80       6.528  17.896  -2.080  1.00 20.99           O  \\nATOM   1368  CB  THR B  80       9.677  17.594  -1.299  1.00 21.20           C  \\nATOM   1369  OG1 THR B  80       9.952  18.951  -0.924  1.00 22.05           O  \\nATOM   1370  CG2 THR B  80       9.688  17.449  -2.825  1.00 13.16           C  \\nATOM   1371  N   PRO B  81       6.922  19.074  -0.214  1.00 24.57           N  \\nATOM   1372  CA  PRO B  81       5.896  20.066  -0.556  1.00 24.68           C  \\nATOM   1373  C   PRO B  81       6.244  20.969  -1.727  1.00 26.51           C  \\nATOM   1374  O   PRO B  81       5.343  21.294  -2.509  1.00 32.43           O  \\nATOM   1375  CB  PRO B  81       5.694  20.874   0.729  1.00 22.89           C  \\nATOM   1376  CG  PRO B  81       6.274  19.954   1.831  1.00 24.08           C  \\nATOM   1377  CD  PRO B  81       7.387  19.243   1.190  1.00 21.46           C  \\nATOM   1378  N   VAL B  82       7.520  21.355  -1.868  1.00 23.91           N  \\nATOM   1379  CA  VAL B  82       7.990  22.207  -2.983  1.00 24.09           C  \\nATOM   1380  C   VAL B  82       9.255  21.636  -3.581  1.00 21.54           C  \\nATOM   1381  O   VAL B  82       9.973  20.911  -2.929  1.00 26.47           O  \\nATOM   1382  CB  VAL B  82       8.375  23.616  -2.484  1.00 26.47           C  \\nATOM   1383  CG1 VAL B  82       7.122  24.513  -2.361  1.00 26.39           C  \\nATOM   1384  CG2 VAL B  82       9.101  23.485  -1.163  1.00 24.12           C  \\nATOM   1385  N   ASN B  83       9.588  21.960  -4.812  1.00 16.61           N  \\nATOM   1386  CA  ASN B  83      10.914  21.521  -5.319  1.00 16.90           C  \\nATOM   1387  C   ASN B  83      11.922  22.373  -4.576  1.00 19.55           C  \\nATOM   1388  O   ASN B  83      11.716  23.574  -4.429  1.00 18.36           O  \\nATOM   1389  CB  ASN B  83      11.068  21.763  -6.823  1.00 16.55           C  \\nATOM   1390  CG  ASN B  83      10.096  20.950  -7.647  1.00 22.00           C  \\nATOM   1391  OD1 ASN B  83      10.013  19.733  -7.494  1.00 23.24           O  \\nATOM   1392  ND2 ASN B  83       9.305  21.627  -8.498  1.00 22.85           N  \\nATOM   1393  N   ILE B  84      12.983  21.755  -4.066  1.00 17.31           N  \\nATOM   1394  CA  ILE B  84      13.979  22.449  -3.233  1.00 13.51           C  \\nATOM   1395  C   ILE B  84      15.345  22.255  -3.870  1.00 19.87           C  \\nATOM   1396  O   ILE B  84      15.779  21.111  -4.072  1.00 20.54           O  \\nATOM   1397  CB  ILE B  84      14.041  21.833  -1.837  1.00 10.82           C  \\nATOM   1398  CG1 ILE B  84      12.754  22.151  -1.088  1.00 13.42           C  \\nATOM   1399  CG2 ILE B  84      15.323  22.264  -1.122  1.00 11.48           C  \\nATOM   1400  CD1 ILE B  84      12.438  21.217   0.060  1.00 20.08           C  \\nATOM   1401  N   ILE B  85      16.044  23.346  -4.167  1.00 19.47           N  \\nATOM   1402  CA  ILE B  85      17.441  23.243  -4.575  1.00 19.69           C  \\nATOM   1403  C   ILE B  85      18.305  23.504  -3.345  1.00 22.78           C  \\nATOM   1404  O   ILE B  85      18.262  24.613  -2.802  1.00 24.74           O  \\nATOM   1405  CB  ILE B  85      17.805  24.332  -5.644  1.00 18.51           C  \\nATOM   1406  CG1 ILE B  85      16.809  24.299  -6.827  1.00 19.44           C  \\nATOM   1407  CG2 ILE B  85      19.271  24.191  -6.067  1.00 14.76           C  \\nATOM   1408  CD1 ILE B  85      16.672  22.956  -7.581  1.00 22.90           C  \\nATOM   1409  N   GLY B  86      19.121  22.530  -2.936  1.00 19.72           N  \\nATOM   1410  CA  GLY B  86      19.857  22.642  -1.690  1.00 14.65           C  \\nATOM   1411  C   GLY B  86      21.324  22.800  -1.940  1.00 13.18           C  \\nATOM   1412  O   GLY B  86      21.750  22.958  -3.056  1.00 13.07           O  \\nATOM   1413  N   ARG B  87      22.117  22.755  -0.887  1.00 11.71           N  \\nATOM   1414  CA  ARG B  87      23.533  23.126  -0.985  1.00 14.23           C  \\nATOM   1415  C   ARG B  87      24.413  22.356  -1.973  1.00 19.73           C  \\nATOM   1416  O   ARG B  87      25.398  22.903  -2.461  1.00 17.28           O  \\nATOM   1417  CB  ARG B  87      24.171  23.147   0.403  1.00 15.02           C  \\nATOM   1418  CG  ARG B  87      23.646  24.256   1.283  1.00  8.76           C  \\nATOM   1419  CD  ARG B  87      24.429  24.306   2.576  1.00 16.02           C  \\nATOM   1420  NE  ARG B  87      24.362  23.068   3.371  1.00 21.61           N  \\nATOM   1421  CZ  ARG B  87      25.357  22.185   3.495  1.00 21.15           C  \\nATOM   1422  NH1 ARG B  87      26.467  22.303   2.795  1.00 18.57           N  \\nATOM   1423  NH2 ARG B  87      25.255  21.190   4.368  1.00 26.79           N  \\nATOM   1424  N   ASN B  88      24.074  21.101  -2.275  1.00 18.56           N  \\nATOM   1425  CA  ASN B  88      24.950  20.312  -3.132  1.00 17.41           C  \\nATOM   1426  C   ASN B  88      24.980  20.893  -4.527  1.00 19.59           C  \\nATOM   1427  O   ASN B  88      26.015  20.853  -5.202  1.00 20.40           O  \\nATOM   1428  CB  ASN B  88      24.512  18.849  -3.197  1.00 19.90           C  \\nATOM   1429  CG  ASN B  88      23.126  18.649  -3.777  1.00 15.28           C  \\nATOM   1430  OD1 ASN B  88      22.167  19.280  -3.351  1.00 22.61           O  \\nATOM   1431  ND2 ASN B  88      23.020  17.775  -4.767  1.00 16.65           N  \\nATOM   1432  N   LEU B  89      23.863  21.490  -4.949  1.00 20.98           N  \\nATOM   1433  CA  LEU B  89      23.811  22.125  -6.273  1.00 21.49           C  \\nATOM   1434  C   LEU B  89      24.018  23.645  -6.231  1.00 20.99           C  \\nATOM   1435  O   LEU B  89      24.321  24.242  -7.236  1.00 21.25           O  \\nATOM   1436  CB  LEU B  89      22.457  21.815  -6.962  1.00 20.00           C  \\nATOM   1437  CG  LEU B  89      22.219  20.372  -7.436  1.00 17.87           C  \\nATOM   1438  CD1 LEU B  89      20.937  20.300  -8.243  1.00 20.88           C  \\nATOM   1439  CD2 LEU B  89      23.408  19.901  -8.273  1.00 17.17           C  \\nATOM   1440  N   LEU B  90      23.819  24.255  -5.075  1.00 20.01           N  \\nATOM   1441  CA  LEU B  90      24.020  25.701  -4.954  1.00 22.17           C  \\nATOM   1442  C   LEU B  90      25.511  26.005  -5.072  1.00 19.95           C  \\nATOM   1443  O   LEU B  90      25.907  26.959  -5.732  1.00 21.08           O  \\nATOM   1444  CB  LEU B  90      23.430  26.234  -3.624  1.00 17.71           C  \\nATOM   1445  CG  LEU B  90      21.900  26.309  -3.475  1.00 16.96           C  \\nATOM   1446  CD1 LEU B  90      21.487  26.779  -2.081  1.00 11.88           C  \\nATOM   1447  CD2 LEU B  90      21.358  27.241  -4.506  1.00 18.70           C  \\nATOM   1448  N   THR B  91      26.336  25.143  -4.491  1.00 23.70           N  \\nATOM   1449  CA  THR B  91      27.785  25.304  -4.546  1.00 23.96           C  \\nATOM   1450  C   THR B  91      28.270  25.184  -5.969  1.00 24.81           C  \\nATOM   1451  O   THR B  91      29.168  25.903  -6.378  1.00 26.72           O  \\nATOM   1452  CB  THR B  91      28.501  24.261  -3.669  1.00 21.26           C  \\nATOM   1453  OG1 THR B  91      27.898  22.990  -3.894  1.00 25.49           O  \\nATOM   1454  CG2 THR B  91      28.366  24.579  -2.208  1.00 17.64           C  \\nATOM   1455  N   GLN B  92      27.619  24.323  -6.741  1.00 25.95           N  \\nATOM   1456  CA  GLN B  92      28.009  24.110  -8.150  1.00 27.31           C  \\nATOM   1457  C   GLN B  92      27.823  25.361  -8.999  1.00 27.97           C  \\nATOM   1458  O   GLN B  92      28.719  25.701  -9.794  1.00 30.31           O  \\nATOM   1459  CB  GLN B  92      27.226  22.956  -8.793  1.00 24.09           C  \\nATOM   1460  CG  GLN B  92      27.720  21.588  -8.406  1.00 25.97           C  \\nATOM   1461  CD  GLN B  92      27.313  20.496  -9.421  1.00 27.56           C  \\nATOM   1462  OE1 GLN B  92      27.138  20.746 -10.620  1.00 26.23           O  \\nATOM   1463  NE2 GLN B  92      27.230  19.281  -8.941  1.00 27.50           N  \\nATOM   1464  N   ILE B  93      26.683  26.043  -8.820  1.00 28.73           N  \\nATOM   1465  CA  ILE B  93      26.362  27.233  -9.606  1.00 28.11           C  \\nATOM   1466  C   ILE B  93      26.904  28.524  -8.963  1.00 30.61           C  \\nATOM   1467  O   ILE B  93      26.574  29.627  -9.385  1.00 32.40           O  \\nATOM   1468  CB  ILE B  93      24.838  27.349  -9.857  1.00 23.33           C  \\nATOM   1469  CG1 ILE B  93      24.103  27.648  -8.559  1.00 25.74           C  \\nATOM   1470  CG2 ILE B  93      24.300  26.092 -10.460  1.00 21.29           C  \\nATOM   1471  CD1 ILE B  93      22.672  28.017  -8.785  1.00 27.65           C  \\nATOM   1472  N   GLY B  94      27.741  28.369  -7.949  1.00 30.93           N  \\nATOM   1473  CA  GLY B  94      28.481  29.498  -7.421  1.00 31.94           C  \\nATOM   1474  C   GLY B  94      27.749  30.439  -6.488  1.00 30.20           C  \\nATOM   1475  O   GLY B  94      28.177  31.555  -6.261  1.00 31.24           O  \\nATOM   1476  N   CYS B  95      26.808  29.899  -5.748  1.00 27.82           N  \\nATOM   1477  CA  CYS B  95      25.895  30.718  -5.004  1.00 26.76           C  \\nATOM   1478  C   CYS B  95      26.408  30.993  -3.598  1.00 27.20           C  \\nATOM   1479  O   CYS B  95      26.769  30.065  -2.870  1.00 27.85           O  \\nATOM   1480  CB  CYS B  95      24.578  29.989  -4.978  1.00 27.09           C  \\nATOM   1481  SG  CYS B  95      23.221  30.929  -4.410  1.00 36.34           S  \\nATOM   1482  N   THR B  96      26.473  32.277  -3.244  1.00 26.04           N  \\nATOM   1483  CA  THR B  96      26.794  32.734  -1.882  1.00 25.60           C  \\nATOM   1484  C   THR B  96      25.672  33.544  -1.205  1.00 24.26           C  \\nATOM   1485  O   THR B  96      24.760  34.079  -1.852  1.00 23.28           O  \\nATOM   1486  CB  THR B  96      28.051  33.660  -1.858  1.00 27.82           C  \\nATOM   1487  OG1 THR B  96      27.888  34.689  -2.857  1.00 31.12           O  \\nATOM   1488  CG2 THR B  96      29.316  32.870  -2.141  1.00 24.73           C  \\nATOM   1489  N   LEU B  97      25.759  33.617   0.119  1.00 24.54           N  \\nATOM   1490  CA  LEU B  97      24.902  34.468   0.963  1.00 27.92           C  \\nATOM   1491  C   LEU B  97      25.714  35.689   1.398  1.00 30.25           C  \\nATOM   1492  O   LEU B  97      26.854  35.558   1.870  1.00 29.52           O  \\nATOM   1493  CB  LEU B  97      24.489  33.718   2.236  1.00 27.18           C  \\nATOM   1494  CG  LEU B  97      23.211  32.901   2.344  1.00 22.23           C  \\nATOM   1495  CD1 LEU B  97      23.114  32.358   3.719  1.00 23.52           C  \\nATOM   1496  CD2 LEU B  97      22.037  33.773   2.076  1.00 20.87           C  \\nATOM   1497  N   ASN B  98      25.121  36.868   1.264  1.00 32.20           N  \\nATOM   1498  CA  ASN B  98      25.870  38.101   1.449  1.00 34.86           C  \\nATOM   1499  C   ASN B  98      25.102  39.038   2.370  1.00 34.26           C  \\nATOM   1500  O   ASN B  98      23.889  39.124   2.261  1.00 36.18           O  \\nATOM   1501  CB  ASN B  98      26.140  38.756   0.086  1.00 31.24           C  \\nATOM   1502  CG  ASN B  98      27.048  37.921  -0.814  1.00 33.93           C  \\nATOM   1503  OD1 ASN B  98      28.268  37.895  -0.630  1.00 37.15           O  \\nATOM   1504  ND2 ASN B  98      26.455  37.192  -1.754  1.00 33.06           N  \\nATOM   1505  N   PHE B  99      25.809  39.706   3.283  1.00 36.76           N  \\nATOM   1506  CA  PHE B  99      25.267  40.855   4.034  1.00 36.49           C  \\nATOM   1507  C   PHE B  99      26.351  41.742   4.659  1.00 35.50           C  \\nATOM   1508  O   PHE B  99      27.448  41.208   5.013  1.00 37.49           O  \\nATOM   1509  CB  PHE B  99      24.284  40.418   5.127  1.00 34.88           C  \\nATOM   1510  CG  PHE B  99      24.859  39.479   6.130  1.00 36.75           C  \\nATOM   1511  CD1 PHE B  99      25.061  38.150   5.808  1.00 37.04           C  \\nATOM   1512  CD2 PHE B  99      25.071  39.890   7.436  1.00 38.13           C  \\nATOM   1513  CE1 PHE B  99      25.450  37.240   6.756  1.00 37.02           C  \\nATOM   1514  CE2 PHE B  99      25.473  38.988   8.409  1.00 37.11           C  \\nATOM   1515  CZ  PHE B  99      25.658  37.663   8.073  1.00 36.24           C  \\nTER\\nEND\",\"pdb\");\n\tviewer_16363918842476943.setStyle({\"cartoon\": {\"color\": \"spectrum\"}});\n\tviewer_16363918842476943.addStyle({\"resi\": \"32,47,82-84\"},{\"stick\": {\"colorscheme\": \"greenCarbon\"}});\n\tviewer_16363918842476943.setBackgroundColor(\"0xffffff\");\n\tviewer_16363918842476943.zoomTo();\nviewer_16363918842476943.render();\n});\n</script>"
                },
                "metadata": {}
              }
            ],
            "_view_module": "@jupyter-widgets/output",
            "_model_module_version": "1.0.0",
            "_view_count": null,
            "_view_module_version": "1.0.0",
            "layout": "IPY_MODEL_ffedc817a2684e98851ea609bc4c6db7",
            "_model_module": "@jupyter-widgets/output"
          }
        },
        "6fd7e1c0a45843989ec22f52213e654e": {
          "model_module": "@jupyter-widgets/controls",
          "model_name": "DescriptionStyleModel",
          "model_module_version": "1.5.0",
          "state": {
            "_view_name": "StyleView",
            "_model_name": "DescriptionStyleModel",
            "description_width": "",
            "_view_module": "@jupyter-widgets/base",
            "_model_module_version": "1.5.0",
            "_view_count": null,
            "_view_module_version": "1.2.0",
            "_model_module": "@jupyter-widgets/controls"
          }
        },
        "9c96bdab0341465e8b352f2c7f583826": {
          "model_module": "@jupyter-widgets/base",
          "model_name": "LayoutModel",
          "model_module_version": "1.2.0",
          "state": {
            "_view_name": "LayoutView",
            "grid_template_rows": null,
            "right": null,
            "justify_content": null,
            "_view_module": "@jupyter-widgets/base",
            "overflow": null,
            "_model_module_version": "1.2.0",
            "_view_count": null,
            "flex_flow": null,
            "width": null,
            "min_width": null,
            "border": null,
            "align_items": null,
            "bottom": null,
            "_model_module": "@jupyter-widgets/base",
            "top": null,
            "grid_column": null,
            "overflow_y": null,
            "overflow_x": null,
            "grid_auto_flow": null,
            "grid_area": null,
            "grid_template_columns": null,
            "flex": null,
            "_model_name": "LayoutModel",
            "justify_items": null,
            "grid_row": null,
            "max_height": null,
            "align_content": null,
            "visibility": null,
            "align_self": null,
            "height": null,
            "min_height": null,
            "padding": null,
            "grid_auto_rows": null,
            "grid_gap": null,
            "max_width": null,
            "order": null,
            "_view_module_version": "1.2.0",
            "grid_template_areas": null,
            "object_position": null,
            "object_fit": null,
            "grid_auto_columns": null,
            "margin": null,
            "display": null,
            "left": null
          }
        },
        "4875e80573b040fb820c6decc1f97bee": {
          "model_module": "@jupyter-widgets/controls",
          "model_name": "DescriptionStyleModel",
          "model_module_version": "1.5.0",
          "state": {
            "_view_name": "StyleView",
            "_model_name": "DescriptionStyleModel",
            "description_width": "",
            "_view_module": "@jupyter-widgets/base",
            "_model_module_version": "1.5.0",
            "_view_count": null,
            "_view_module_version": "1.2.0",
            "_model_module": "@jupyter-widgets/controls"
          }
        },
        "b1a126c7e8024f71bf59b1f7cfe6a97b": {
          "model_module": "@jupyter-widgets/base",
          "model_name": "LayoutModel",
          "model_module_version": "1.2.0",
          "state": {
            "_view_name": "LayoutView",
            "grid_template_rows": null,
            "right": null,
            "justify_content": null,
            "_view_module": "@jupyter-widgets/base",
            "overflow": null,
            "_model_module_version": "1.2.0",
            "_view_count": null,
            "flex_flow": null,
            "width": null,
            "min_width": null,
            "border": null,
            "align_items": null,
            "bottom": null,
            "_model_module": "@jupyter-widgets/base",
            "top": null,
            "grid_column": null,
            "overflow_y": null,
            "overflow_x": null,
            "grid_auto_flow": null,
            "grid_area": null,
            "grid_template_columns": null,
            "flex": null,
            "_model_name": "LayoutModel",
            "justify_items": null,
            "grid_row": null,
            "max_height": null,
            "align_content": null,
            "visibility": null,
            "align_self": null,
            "height": null,
            "min_height": null,
            "padding": null,
            "grid_auto_rows": null,
            "grid_gap": null,
            "max_width": null,
            "order": null,
            "_view_module_version": "1.2.0",
            "grid_template_areas": null,
            "object_position": null,
            "object_fit": null,
            "grid_auto_columns": null,
            "margin": null,
            "display": null,
            "left": null
          }
        },
        "ddb7d881f0d14989949ceaf4d8d56037": {
          "model_module": "@jupyter-widgets/controls",
          "model_name": "SliderStyleModel",
          "model_module_version": "1.5.0",
          "state": {
            "_view_name": "StyleView",
            "handle_color": null,
            "_model_name": "SliderStyleModel",
            "description_width": "",
            "_view_module": "@jupyter-widgets/base",
            "_model_module_version": "1.5.0",
            "_view_count": null,
            "_view_module_version": "1.2.0",
            "_model_module": "@jupyter-widgets/controls"
          }
        },
        "e997b74582274a03a3a6fcf68be4adbc": {
          "model_module": "@jupyter-widgets/base",
          "model_name": "LayoutModel",
          "model_module_version": "1.2.0",
          "state": {
            "_view_name": "LayoutView",
            "grid_template_rows": null,
            "right": null,
            "justify_content": null,
            "_view_module": "@jupyter-widgets/base",
            "overflow": null,
            "_model_module_version": "1.2.0",
            "_view_count": null,
            "flex_flow": null,
            "width": null,
            "min_width": null,
            "border": null,
            "align_items": null,
            "bottom": null,
            "_model_module": "@jupyter-widgets/base",
            "top": null,
            "grid_column": null,
            "overflow_y": null,
            "overflow_x": null,
            "grid_auto_flow": null,
            "grid_area": null,
            "grid_template_columns": null,
            "flex": null,
            "_model_name": "LayoutModel",
            "justify_items": null,
            "grid_row": null,
            "max_height": null,
            "align_content": null,
            "visibility": null,
            "align_self": null,
            "height": null,
            "min_height": null,
            "padding": null,
            "grid_auto_rows": null,
            "grid_gap": null,
            "max_width": null,
            "order": null,
            "_view_module_version": "1.2.0",
            "grid_template_areas": null,
            "object_position": null,
            "object_fit": null,
            "grid_auto_columns": null,
            "margin": null,
            "display": null,
            "left": null
          }
        },
        "b5d4162d0e36476b9fc699c63e83368d": {
          "model_module": "@jupyter-widgets/controls",
          "model_name": "SliderStyleModel",
          "model_module_version": "1.5.0",
          "state": {
            "_view_name": "StyleView",
            "handle_color": null,
            "_model_name": "SliderStyleModel",
            "description_width": "",
            "_view_module": "@jupyter-widgets/base",
            "_model_module_version": "1.5.0",
            "_view_count": null,
            "_view_module_version": "1.2.0",
            "_model_module": "@jupyter-widgets/controls"
          }
        },
        "3c75490720064d7b89e0a34dd11c6a02": {
          "model_module": "@jupyter-widgets/base",
          "model_name": "LayoutModel",
          "model_module_version": "1.2.0",
          "state": {
            "_view_name": "LayoutView",
            "grid_template_rows": null,
            "right": null,
            "justify_content": null,
            "_view_module": "@jupyter-widgets/base",
            "overflow": null,
            "_model_module_version": "1.2.0",
            "_view_count": null,
            "flex_flow": null,
            "width": null,
            "min_width": null,
            "border": null,
            "align_items": null,
            "bottom": null,
            "_model_module": "@jupyter-widgets/base",
            "top": null,
            "grid_column": null,
            "overflow_y": null,
            "overflow_x": null,
            "grid_auto_flow": null,
            "grid_area": null,
            "grid_template_columns": null,
            "flex": null,
            "_model_name": "LayoutModel",
            "justify_items": null,
            "grid_row": null,
            "max_height": null,
            "align_content": null,
            "visibility": null,
            "align_self": null,
            "height": null,
            "min_height": null,
            "padding": null,
            "grid_auto_rows": null,
            "grid_gap": null,
            "max_width": null,
            "order": null,
            "_view_module_version": "1.2.0",
            "grid_template_areas": null,
            "object_position": null,
            "object_fit": null,
            "grid_auto_columns": null,
            "margin": null,
            "display": null,
            "left": null
          }
        },
        "5ed3826a74e2444badde885311855865": {
          "model_module": "@jupyter-widgets/controls",
          "model_name": "SliderStyleModel",
          "model_module_version": "1.5.0",
          "state": {
            "_view_name": "StyleView",
            "handle_color": null,
            "_model_name": "SliderStyleModel",
            "description_width": "",
            "_view_module": "@jupyter-widgets/base",
            "_model_module_version": "1.5.0",
            "_view_count": null,
            "_view_module_version": "1.2.0",
            "_model_module": "@jupyter-widgets/controls"
          }
        },
        "7a2a8d0be8984a33b71b0ae7a83304f3": {
          "model_module": "@jupyter-widgets/base",
          "model_name": "LayoutModel",
          "model_module_version": "1.2.0",
          "state": {
            "_view_name": "LayoutView",
            "grid_template_rows": null,
            "right": null,
            "justify_content": null,
            "_view_module": "@jupyter-widgets/base",
            "overflow": null,
            "_model_module_version": "1.2.0",
            "_view_count": null,
            "flex_flow": null,
            "width": null,
            "min_width": null,
            "border": null,
            "align_items": null,
            "bottom": null,
            "_model_module": "@jupyter-widgets/base",
            "top": null,
            "grid_column": null,
            "overflow_y": null,
            "overflow_x": null,
            "grid_auto_flow": null,
            "grid_area": null,
            "grid_template_columns": null,
            "flex": null,
            "_model_name": "LayoutModel",
            "justify_items": null,
            "grid_row": null,
            "max_height": null,
            "align_content": null,
            "visibility": null,
            "align_self": null,
            "height": null,
            "min_height": null,
            "padding": null,
            "grid_auto_rows": null,
            "grid_gap": null,
            "max_width": null,
            "order": null,
            "_view_module_version": "1.2.0",
            "grid_template_areas": null,
            "object_position": null,
            "object_fit": null,
            "grid_auto_columns": null,
            "margin": null,
            "display": null,
            "left": null
          }
        },
        "9d77b58f1b9d49039f02ec895504d548": {
          "model_module": "@jupyter-widgets/controls",
          "model_name": "SliderStyleModel",
          "model_module_version": "1.5.0",
          "state": {
            "_view_name": "StyleView",
            "handle_color": null,
            "_model_name": "SliderStyleModel",
            "description_width": "",
            "_view_module": "@jupyter-widgets/base",
            "_model_module_version": "1.5.0",
            "_view_count": null,
            "_view_module_version": "1.2.0",
            "_model_module": "@jupyter-widgets/controls"
          }
        },
        "6084d540685e45a9ae8e49b91dd27140": {
          "model_module": "@jupyter-widgets/base",
          "model_name": "LayoutModel",
          "model_module_version": "1.2.0",
          "state": {
            "_view_name": "LayoutView",
            "grid_template_rows": null,
            "right": null,
            "justify_content": null,
            "_view_module": "@jupyter-widgets/base",
            "overflow": null,
            "_model_module_version": "1.2.0",
            "_view_count": null,
            "flex_flow": null,
            "width": null,
            "min_width": null,
            "border": null,
            "align_items": null,
            "bottom": null,
            "_model_module": "@jupyter-widgets/base",
            "top": null,
            "grid_column": null,
            "overflow_y": null,
            "overflow_x": null,
            "grid_auto_flow": null,
            "grid_area": null,
            "grid_template_columns": null,
            "flex": null,
            "_model_name": "LayoutModel",
            "justify_items": null,
            "grid_row": null,
            "max_height": null,
            "align_content": null,
            "visibility": null,
            "align_self": null,
            "height": null,
            "min_height": null,
            "padding": null,
            "grid_auto_rows": null,
            "grid_gap": null,
            "max_width": null,
            "order": null,
            "_view_module_version": "1.2.0",
            "grid_template_areas": null,
            "object_position": null,
            "object_fit": null,
            "grid_auto_columns": null,
            "margin": null,
            "display": null,
            "left": null
          }
        },
        "df244e6e02f24a02ba4774a0d30e7628": {
          "model_module": "@jupyter-widgets/controls",
          "model_name": "SliderStyleModel",
          "model_module_version": "1.5.0",
          "state": {
            "_view_name": "StyleView",
            "handle_color": null,
            "_model_name": "SliderStyleModel",
            "description_width": "",
            "_view_module": "@jupyter-widgets/base",
            "_model_module_version": "1.5.0",
            "_view_count": null,
            "_view_module_version": "1.2.0",
            "_model_module": "@jupyter-widgets/controls"
          }
        },
        "bf9a4e9c13a246d093098d6430b2c388": {
          "model_module": "@jupyter-widgets/base",
          "model_name": "LayoutModel",
          "model_module_version": "1.2.0",
          "state": {
            "_view_name": "LayoutView",
            "grid_template_rows": null,
            "right": null,
            "justify_content": null,
            "_view_module": "@jupyter-widgets/base",
            "overflow": null,
            "_model_module_version": "1.2.0",
            "_view_count": null,
            "flex_flow": null,
            "width": null,
            "min_width": null,
            "border": null,
            "align_items": null,
            "bottom": null,
            "_model_module": "@jupyter-widgets/base",
            "top": null,
            "grid_column": null,
            "overflow_y": null,
            "overflow_x": null,
            "grid_auto_flow": null,
            "grid_area": null,
            "grid_template_columns": null,
            "flex": null,
            "_model_name": "LayoutModel",
            "justify_items": null,
            "grid_row": null,
            "max_height": null,
            "align_content": null,
            "visibility": null,
            "align_self": null,
            "height": null,
            "min_height": null,
            "padding": null,
            "grid_auto_rows": null,
            "grid_gap": null,
            "max_width": null,
            "order": null,
            "_view_module_version": "1.2.0",
            "grid_template_areas": null,
            "object_position": null,
            "object_fit": null,
            "grid_auto_columns": null,
            "margin": null,
            "display": null,
            "left": null
          }
        },
        "3f7b5c009266437b9ab0e156acb4a471": {
          "model_module": "@jupyter-widgets/controls",
          "model_name": "SliderStyleModel",
          "model_module_version": "1.5.0",
          "state": {
            "_view_name": "StyleView",
            "handle_color": null,
            "_model_name": "SliderStyleModel",
            "description_width": "",
            "_view_module": "@jupyter-widgets/base",
            "_model_module_version": "1.5.0",
            "_view_count": null,
            "_view_module_version": "1.2.0",
            "_model_module": "@jupyter-widgets/controls"
          }
        },
        "d8d32ee34c5947a7b40fcab6ffe1e75b": {
          "model_module": "@jupyter-widgets/base",
          "model_name": "LayoutModel",
          "model_module_version": "1.2.0",
          "state": {
            "_view_name": "LayoutView",
            "grid_template_rows": null,
            "right": null,
            "justify_content": null,
            "_view_module": "@jupyter-widgets/base",
            "overflow": null,
            "_model_module_version": "1.2.0",
            "_view_count": null,
            "flex_flow": null,
            "width": null,
            "min_width": null,
            "border": null,
            "align_items": null,
            "bottom": null,
            "_model_module": "@jupyter-widgets/base",
            "top": null,
            "grid_column": null,
            "overflow_y": null,
            "overflow_x": null,
            "grid_auto_flow": null,
            "grid_area": null,
            "grid_template_columns": null,
            "flex": null,
            "_model_name": "LayoutModel",
            "justify_items": null,
            "grid_row": null,
            "max_height": null,
            "align_content": null,
            "visibility": null,
            "align_self": null,
            "height": null,
            "min_height": null,
            "padding": null,
            "grid_auto_rows": null,
            "grid_gap": null,
            "max_width": null,
            "order": null,
            "_view_module_version": "1.2.0",
            "grid_template_areas": null,
            "object_position": null,
            "object_fit": null,
            "grid_auto_columns": null,
            "margin": null,
            "display": null,
            "left": null
          }
        },
        "ffedc817a2684e98851ea609bc4c6db7": {
          "model_module": "@jupyter-widgets/base",
          "model_name": "LayoutModel",
          "model_module_version": "1.2.0",
          "state": {
            "_view_name": "LayoutView",
            "grid_template_rows": null,
            "right": null,
            "justify_content": null,
            "_view_module": "@jupyter-widgets/base",
            "overflow": null,
            "_model_module_version": "1.2.0",
            "_view_count": null,
            "flex_flow": null,
            "width": null,
            "min_width": null,
            "border": null,
            "align_items": null,
            "bottom": null,
            "_model_module": "@jupyter-widgets/base",
            "top": null,
            "grid_column": null,
            "overflow_y": null,
            "overflow_x": null,
            "grid_auto_flow": null,
            "grid_area": null,
            "grid_template_columns": null,
            "flex": null,
            "_model_name": "LayoutModel",
            "justify_items": null,
            "grid_row": null,
            "max_height": null,
            "align_content": null,
            "visibility": null,
            "align_self": null,
            "height": null,
            "min_height": null,
            "padding": null,
            "grid_auto_rows": null,
            "grid_gap": null,
            "max_width": null,
            "order": null,
            "_view_module_version": "1.2.0",
            "grid_template_areas": null,
            "object_position": null,
            "object_fit": null,
            "grid_auto_columns": null,
            "margin": null,
            "display": null,
            "left": null
          }
        }
      }
    }
  },
  "cells": [
    {
      "cell_type": "markdown",
      "metadata": {
        "id": "view-in-github",
        "colab_type": "text"
      },
      "source": [
        "<a href=\"https://colab.research.google.com/github/jixing475/2015_workshops/blob/master/lab03_docking.ipynb\" target=\"_parent\"><img src=\"https://colab.research.google.com/assets/colab-badge.svg\" alt=\"Open In Colab\"/></a>"
      ]
    },
    {
      "cell_type": "markdown",
      "metadata": {
        "id": "WutUwTFo2e4j"
      },
      "source": [
        "#Lab.06 / IBM3202 – Molecular Docking on AutoDock"
      ]
    },
    {
      "cell_type": "markdown",
      "metadata": {
        "id": "FQMdCpigVK-X"
      },
      "source": [
        "###Theoretical aspects\n",
        "\n",
        "As more and more protein structures are determined experimentally using X-ray crystallography or nuclear magnetic resonance (NMR) spectroscopy, molecular docking is increasingly used as a tool in **drug discovery**.\n",
        "\n",
        "**Molecular docking simulations** explore the potential binding poses of small molecules on the **binding site** of a target protein for which an experimentally determined structure is available. \n",
        "Docking against protein targets generated by **comparative modelling** also becomes possible for proteins whose structures are yet to be solved.\n",
        "\n",
        "Thus, the **_druggability_** of different compounds and their binding affinity on a given protein target can be calculated for further lead optimization processes."
      ]
    },
    {
      "cell_type": "markdown",
      "metadata": {
        "id": "mD5dj8UMSqEC"
      },
      "source": [
        "<figure>\n",
        "<center>\n",
        "<img src='https://raw.githubusercontent.com/pb3lab/ibm3202/master/images/docking_01.png'/>\n",
        "<figcaption>FIGURE 1. In molecular docking, binding is evaluated in two steps: A) Energetics of the transition of the unbound states of ligand and target towards the conformations of the bound complex; and B) energetics of protein-ligand binding in these conformations. <br> Huey R et al (2007) <i>J Comput Chem 28(6), 1145-1152.</i></figcaption></center>\n",
        "</figure>"
      ]
    },
    {
      "cell_type": "markdown",
      "metadata": {
        "id": "A8w7VY84UDOc"
      },
      "source": [
        "Molecular docking programs perform a **search algorithm** in which varying conformations of a given ligand, typically generated using Monte Carlo or Genetic algorithms, are recursively evaluated until convergence to an energy minimum is reached. Finally, through an **affinity scoring function**, a ΔG [binding free energy in kcal/mol] is estimated and employed to rank the candidate poses as the sum of several energetic contributions (electrostatics, van der Waals, desolvation, etc)."
      ]
    },
    {
      "cell_type": "markdown",
      "metadata": {
        "id": "eiopP7EdVjqt"
      },
      "source": [
        "##Experimental Overview"
      ]
    },
    {
      "cell_type": "markdown",
      "metadata": {
        "id": "4CMeTYlZVo6P"
      },
      "source": [
        "Typically, in this laboratory session we dock a dimeric analog of the plastic polymer PET (2PET) onto the binding site of PET hydrolase from *I. sakaiensis*, a PET-degrading enzyme discovered in Japan in 2016 for which our lab solved its three-dimensional structure [Fecker T et al (2018) *Biophys J 114 (6), 1302-1312*].\n",
        "\n",
        "However, inspired by the COVID-19 pandemic, in this laboratory session we will perfom a docking assay of **indinavir**, an active component of the **antiretroviral therapy to treat HIV**, onto the binding site of its target protein, **HIV-2 protease**. \n",
        "\n",
        "For our laboratory session, we will install and use **MGLtools** (and alternatively **pdb2pqr**) to prepare the target protein files, **OpenBabel** to prepare the ligand files, **AutoDock Vina** for the docking procedure and **py3Dmol** to establish the appropriate search grid configuration and analyze the results."
      ]
    },
    {
      "cell_type": "markdown",
      "metadata": {
        "id": "xkpCp93eQsUS"
      },
      "source": [
        "<figure>\n",
        "<center>\n",
        "<img src='https://raw.githubusercontent.com/pb3lab/ibm3202/master/images/docking_02.png' />\n",
        "<figcaption>FIGURE 2. General steps of molecular docking. First, the target protein and ligand or ligands are parameterized. Then, the system is prepared by setting up the search grid. Once the docking calculation is performed, ligand poses are scored based on a given energy function. Lastly, the computational search is processed and compared against experimental data for validation <br><i>Taken from Pars Silico (en.parssilico.com).</i></figcaption></center>\n",
        "</figure>"
      ]
    },
    {
      "cell_type": "markdown",
      "metadata": {
        "id": "buTRd47h4QfK"
      },
      "source": [
        "#Part 0 – Downloading and Installing the required software"
      ]
    },
    {
      "cell_type": "markdown",
      "metadata": {
        "id": "KSAoowL_4XIV"
      },
      "source": [
        "Before we start, you must first **remember to start the hosted runtime in Google Colab**.\n",
        "\n",
        "Then, we must install several pieces of software to perform this tutorial. Namely:\n",
        "- **py3Dmol** for visualization of the protein structure and setting up the search grid.\n",
        "- **miniconda**, a free minimal installer of **conda** for software package and environment management.\n",
        "- **OpenBabel** for parameterization of our ligand(s).\n",
        "- **MGLtools** for parameterization of our target protein using Gasteiger charges.\n",
        "- **pdb2pqr** for parameterization of our protein using the AMBER ff99 forcefield.\n",
        "- **Autodock Vina** for the docking process\n",
        "\n",
        "After several tests, the following installation instructions are the best way of setting up **Google Colab** for this laboratory session."
      ]
    },
    {
      "cell_type": "code",
      "metadata": {
        "id": "flYkISi4RpqN",
        "colab": {
          "base_uri": "https://localhost:8080/"
        },
        "outputId": "c90e8d9c-1db9-4c15-9496-c6a46618b503"
      },
      "source": [
        "#Install conda using the new conda-colab library\n",
        "!pip install -q condacolab py3Dmol kora\n",
        "import condacolab\n",
        "condacolab.install_miniconda()\n",
        "\n",
        "#Install MGLtools and OpenBabel from\n",
        "#the bioconda repository\n",
        "!conda install -c conda-forge -c bioconda mgltools openbabel zlib --yes"
      ],
      "execution_count": null,
      "outputs": [
        {
          "output_type": "stream",
          "name": "stdout",
          "text": [
            "⏬ Downloading https://repo.anaconda.com/miniconda/Miniconda3-py37_4.9.2-Linux-x86_64.sh...\n",
            "📦 Installing...\n",
            "📌 Adjusting configuration...\n",
            "🩹 Patching environment...\n",
            "⏲ Done in 0:00:33\n",
            "🔁 Restarting kernel...\n",
            "Collecting package metadata (current_repodata.json): - \b\b\\ \b\b| \b\b/ \b\b- \b\b\\ \b\b| \b\b/ \b\b- \b\b\\ \b\b| \b\b/ \b\b- \b\b\\ \b\b| \b\b/ \b\b- \b\b\\ \b\b| \b\b/ \b\b- \b\b\\ \b\b| \b\b/ \b\b- \b\b\\ \b\b| \b\b/ \b\b- \b\b\\ \b\b| \b\b/ \b\b- \b\b\\ \b\b| \b\b/ \b\b- \b\b\\ \b\b| \b\b/ \b\b- \b\b\\ \b\b| \b\b/ \b\b- \b\b\\ \b\b| \b\b/ \b\b- \b\b\\ \b\b| \b\b/ \b\b- \b\b\\ \b\b| \b\b/ \b\b- \b\b\\ \b\b| \b\b/ \b\b- \b\b\\ \b\b| \b\b/ \b\b- \b\b\\ \b\b| \b\b/ \b\b- \b\b\\ \b\b| \b\b/ \b\b- \b\b\\ \b\b| \b\b/ \b\b- \b\b\\ \b\b| \b\b/ \b\b- \b\b\\ \b\b| \b\b/ \b\b- \b\b\\ \b\b| \b\b/ \b\b- \b\b\\ \b\b| \b\b/ \b\b- \b\b\\ \b\b| \b\b/ \b\b- \b\b\\ \b\b| \b\b/ \b\b- \b\b\\ \b\b| \b\b/ \b\b- \b\b\\ \b\b| \b\b/ \b\b- \b\b\\ \b\b| \b\bdone\n",
            "Solving environment: - \b\b\\ \b\b| \b\b/ \b\b- \b\b\\ \b\b| \b\b/ \b\b- \b\b\\ \b\b| \b\b/ \b\b- \b\b\\ \b\bdone\n",
            "\n",
            "\n",
            "==> WARNING: A newer version of conda exists. <==\n",
            "  current version: 4.9.2\n",
            "  latest version: 4.10.3\n",
            "\n",
            "Please update conda by running\n",
            "\n",
            "    $ conda update -n base -c defaults conda\n",
            "\n",
            "\n",
            "\n",
            "## Package Plan ##\n",
            "\n",
            "  environment location: /usr/local\n",
            "\n",
            "  added / updated specs:\n",
            "    - mgltools\n",
            "    - openbabel\n",
            "    - zlib\n",
            "\n",
            "\n",
            "The following packages will be downloaded:\n",
            "\n",
            "    package                    |            build\n",
            "    ---------------------------|-----------------\n",
            "    ca-certificates-2021.10.8  |       ha878542_0         139 KB  conda-forge\n",
            "    cairo-1.16.0               |    h3fc0475_1005         1.5 MB  conda-forge\n",
            "    certifi-2021.10.8          |   py37h89c1867_1         145 KB  conda-forge\n",
            "    conda-4.10.3               |   py37h89c1867_3         3.1 MB  conda-forge\n",
            "    fontconfig-2.13.1          |    h7e3eb15_1002         324 KB  conda-forge\n",
            "    freetype-2.10.4            |       h7ca028e_0         912 KB  conda-forge\n",
            "    glib-2.69.1                |       h5202010_0         1.7 MB\n",
            "    icu-67.1                   |       he1b5a44_0        12.9 MB  conda-forge\n",
            "    libiconv-1.16              |       h516909a_0         1.4 MB  conda-forge\n",
            "    libpng-1.6.37              |       h21135ba_2         306 KB  conda-forge\n",
            "    libuuid-2.32.1             |    h14c3975_1000          26 KB  conda-forge\n",
            "    libxcb-1.13                |    h14c3975_1002         396 KB  conda-forge\n",
            "    libxml2-2.9.10             |       h68273f3_2         1.3 MB  conda-forge\n",
            "    libzlib-1.2.11             |    h36c2ea0_1013          59 KB  conda-forge\n",
            "    mgltools-1.5.7             |       h9ee0642_1       107.0 MB  bioconda\n",
            "    openbabel-3.1.1            |   py37h200e996_1         5.5 MB  conda-forge\n",
            "    openssl-1.1.1l             |       h7f8727e_0         2.5 MB\n",
            "    pcre-8.45                  |       h295c915_0         207 KB\n",
            "    pixman-0.38.0              |    h516909a_1003         594 KB  conda-forge\n",
            "    pthread-stubs-0.4          |    h36c2ea0_1001           5 KB  conda-forge\n",
            "    python_abi-3.7             |          2_cp37m           4 KB  conda-forge\n",
            "    xorg-kbproto-1.0.7         |    h14c3975_1002          26 KB  conda-forge\n",
            "    xorg-libice-1.0.10         |       h516909a_0          57 KB  conda-forge\n",
            "    xorg-libsm-1.2.3           |    h84519dc_1000          25 KB  conda-forge\n",
            "    xorg-libx11-1.6.12         |       h36c2ea0_0         919 KB  conda-forge\n",
            "    xorg-libxau-1.0.9          |       h14c3975_0          13 KB  conda-forge\n",
            "    xorg-libxdmcp-1.1.3        |       h516909a_0          18 KB  conda-forge\n",
            "    xorg-libxext-1.3.4         |       h516909a_0          51 KB  conda-forge\n",
            "    xorg-libxrender-0.9.10     |    h516909a_1002          31 KB  conda-forge\n",
            "    xorg-renderproto-0.11.1    |    h14c3975_1002           8 KB  conda-forge\n",
            "    xorg-xextproto-7.3.0       |    h14c3975_1002          27 KB  conda-forge\n",
            "    xorg-xproto-7.0.31         |    h14c3975_1007          72 KB  conda-forge\n",
            "    zlib-1.2.11                |    h36c2ea0_1013          86 KB  conda-forge\n",
            "    ------------------------------------------------------------\n",
            "                                           Total:       141.1 MB\n",
            "\n",
            "The following NEW packages will be INSTALLED:\n",
            "\n",
            "  cairo              conda-forge/linux-64::cairo-1.16.0-h3fc0475_1005\n",
            "  fontconfig         conda-forge/linux-64::fontconfig-2.13.1-h7e3eb15_1002\n",
            "  freetype           conda-forge/linux-64::freetype-2.10.4-h7ca028e_0\n",
            "  glib               pkgs/main/linux-64::glib-2.69.1-h5202010_0\n",
            "  icu                conda-forge/linux-64::icu-67.1-he1b5a44_0\n",
            "  libiconv           conda-forge/linux-64::libiconv-1.16-h516909a_0\n",
            "  libpng             conda-forge/linux-64::libpng-1.6.37-h21135ba_2\n",
            "  libuuid            conda-forge/linux-64::libuuid-2.32.1-h14c3975_1000\n",
            "  libxcb             conda-forge/linux-64::libxcb-1.13-h14c3975_1002\n",
            "  libxml2            conda-forge/linux-64::libxml2-2.9.10-h68273f3_2\n",
            "  libzlib            conda-forge/linux-64::libzlib-1.2.11-h36c2ea0_1013\n",
            "  mgltools           bioconda/linux-64::mgltools-1.5.7-h9ee0642_1\n",
            "  openbabel          conda-forge/linux-64::openbabel-3.1.1-py37h200e996_1\n",
            "  pcre               pkgs/main/linux-64::pcre-8.45-h295c915_0\n",
            "  pixman             conda-forge/linux-64::pixman-0.38.0-h516909a_1003\n",
            "  pthread-stubs      conda-forge/linux-64::pthread-stubs-0.4-h36c2ea0_1001\n",
            "  python_abi         conda-forge/linux-64::python_abi-3.7-2_cp37m\n",
            "  xorg-kbproto       conda-forge/linux-64::xorg-kbproto-1.0.7-h14c3975_1002\n",
            "  xorg-libice        conda-forge/linux-64::xorg-libice-1.0.10-h516909a_0\n",
            "  xorg-libsm         conda-forge/linux-64::xorg-libsm-1.2.3-h84519dc_1000\n",
            "  xorg-libx11        conda-forge/linux-64::xorg-libx11-1.6.12-h36c2ea0_0\n",
            "  xorg-libxau        conda-forge/linux-64::xorg-libxau-1.0.9-h14c3975_0\n",
            "  xorg-libxdmcp      conda-forge/linux-64::xorg-libxdmcp-1.1.3-h516909a_0\n",
            "  xorg-libxext       conda-forge/linux-64::xorg-libxext-1.3.4-h516909a_0\n",
            "  xorg-libxrender    conda-forge/linux-64::xorg-libxrender-0.9.10-h516909a_1002\n",
            "  xorg-renderproto   conda-forge/linux-64::xorg-renderproto-0.11.1-h14c3975_1002\n",
            "  xorg-xextproto     conda-forge/linux-64::xorg-xextproto-7.3.0-h14c3975_1002\n",
            "  xorg-xproto        conda-forge/linux-64::xorg-xproto-7.0.31-h14c3975_1007\n",
            "\n",
            "The following packages will be UPDATED:\n",
            "\n",
            "  ca-certificates    pkgs/main::ca-certificates-2020.10.14~ --> conda-forge::ca-certificates-2021.10.8-ha878542_0\n",
            "  certifi            pkgs/main/noarch::certifi-2020.6.20-p~ --> conda-forge/linux-64::certifi-2021.10.8-py37h89c1867_1\n",
            "  conda               pkgs/main::conda-4.9.2-py37h06a4308_0 --> conda-forge::conda-4.10.3-py37h89c1867_3\n",
            "  openssl                                 1.1.1h-h7b6447c_0 --> 1.1.1l-h7f8727e_0\n",
            "  zlib                    pkgs/main::zlib-1.2.11-h7b6447c_3 --> conda-forge::zlib-1.2.11-h36c2ea0_1013\n",
            "\n",
            "\n",
            "\n",
            "Downloading and Extracting Packages\n",
            "fontconfig-2.13.1    | 324 KB    | : 100% 1.0/1 [00:00<00:00,  4.95it/s]                \n",
            "libzlib-1.2.11       | 59 KB     | : 100% 1.0/1 [00:00<00:00, 15.44it/s]\n",
            "xorg-xproto-7.0.31   | 72 KB     | : 100% 1.0/1 [00:00<00:00, 19.40it/s]\n",
            "certifi-2021.10.8    | 145 KB    | : 100% 1.0/1 [00:00<00:00, 11.64it/s]\n",
            "libpng-1.6.37        | 306 KB    | : 100% 1.0/1 [00:00<00:00,  5.17it/s]                 \n",
            "openssl-1.1.1l       | 2.5 MB    | : 100% 1.0/1 [00:00<00:00,  4.92it/s]\n",
            "xorg-xextproto-7.3.0 | 27 KB     | : 100% 1.0/1 [00:00<00:00, 21.03it/s]\n",
            "pthread-stubs-0.4    | 5 KB      | : 100% 1.0/1 [00:00<00:00, 24.25it/s]\n",
            "xorg-renderproto-0.1 | 8 KB      | : 100% 1.0/1 [00:00<00:00, 27.60it/s]\n",
            "xorg-libxau-1.0.9    | 13 KB     | : 100% 1.0/1 [00:00<00:00, 29.47it/s]\n",
            "conda-4.10.3         | 3.1 MB    | : 100% 1.0/1 [00:00<00:00,  1.34it/s]               \n",
            "libuuid-2.32.1       | 26 KB     | : 100% 1.0/1 [00:00<00:00, 27.09it/s]\n",
            "zlib-1.2.11          | 86 KB     | : 100% 1.0/1 [00:00<00:00, 20.13it/s]\n",
            "xorg-libice-1.0.10   | 57 KB     | : 100% 1.0/1 [00:00<00:00, 13.37it/s]\n",
            "xorg-kbproto-1.0.7   | 26 KB     | : 100% 1.0/1 [00:00<00:00,  5.86it/s]               \n",
            "libxcb-1.13          | 396 KB    | : 100% 1.0/1 [00:00<00:00,  5.48it/s]\n",
            "pcre-8.45            | 207 KB    | : 100% 1.0/1 [00:00<00:00,  8.95it/s]\n",
            "libxml2-2.9.10       | 1.3 MB    | : 100% 1.0/1 [00:00<00:00,  2.16it/s]\n",
            "freetype-2.10.4      | 912 KB    | : 100% 1.0/1 [00:00<00:00,  3.90it/s]\n",
            "libiconv-1.16        | 1.4 MB    | : 100% 1.0/1 [00:00<00:00,  4.02it/s]\n",
            "python_abi-3.7       | 4 KB      | : 100% 1.0/1 [00:00<00:00, 20.27it/s]\n",
            "xorg-libsm-1.2.3     | 25 KB     | : 100% 1.0/1 [00:00<00:00, 18.62it/s]\n",
            "openbabel-3.1.1      | 5.5 MB    | : 100% 1.0/1 [00:01<00:00,  1.37s/it]               \n",
            "xorg-libxrender-0.9. | 31 KB     | : 100% 1.0/1 [00:00<00:00, 18.39it/s]\n",
            "cairo-1.16.0         | 1.5 MB    | : 100% 1.0/1 [00:00<00:00,  2.41it/s]\n",
            "ca-certificates-2021 | 139 KB    | : 100% 1.0/1 [00:00<00:00, 18.22it/s]\n",
            "xorg-libx11-1.6.12   | 919 KB    | : 100% 1.0/1 [00:00<00:00,  3.90it/s]\n",
            "glib-2.69.1          | 1.7 MB    | : 100% 1.0/1 [00:00<00:00,  6.43it/s]\n",
            "xorg-libxext-1.3.4   | 51 KB     | : 100% 1.0/1 [00:00<00:00, 16.62it/s]\n",
            "icu-67.1             | 12.9 MB   | : 100% 1.0/1 [00:02<00:00,  2.59s/it]\n",
            "pixman-0.38.0        | 594 KB    | : 100% 1.0/1 [00:00<00:00,  5.66it/s]\n",
            "xorg-libxdmcp-1.1.3  | 18 KB     | : 100% 1.0/1 [00:00<00:00, 17.12it/s]\n",
            "mgltools-1.5.7       | 107.0 MB  | : 100% 1.0/1 [00:23<00:00, 23.42s/it]              \n",
            "Preparing transaction: / \b\b- \b\b\\ \b\b| \b\b/ \b\b- \b\bdone\n",
            "Verifying transaction: | \b\b/ \b\b- \b\b\\ \b\b| \b\b/ \b\b- \b\b\\ \b\b| \b\b/ \b\b- \b\b\\ \b\b| \b\b/ \b\b- \b\b\\ \b\bdone\n",
            "Executing transaction: / \b\b- \b\b\\ \b\b| \b\b/ \b\b- \b\b\\ \b\b| \b\b/ \b\b- \b\b\\ \b\b| \b\b/ \b\bdone\n"
          ]
        }
      ]
    },
    {
      "cell_type": "markdown",
      "metadata": {
        "id": "sHLis6QRm0lD"
      },
      "source": [
        "Make a folder for the task in you google drive and copy  the notebook there. Then mount google drive on Colab"
      ]
    },
    {
      "cell_type": "code",
      "metadata": {
        "colab": {
          "base_uri": "https://localhost:8080/"
        },
        "id": "gYhjS-ummpyn",
        "outputId": "c181ed4a-2593-45f7-efe9-8994c0751290"
      },
      "source": [
        "from google.colab import drive\n",
        "drive.mount('/content/drive')"
      ],
      "execution_count": null,
      "outputs": [
        {
          "output_type": "stream",
          "name": "stdout",
          "text": [
            "Drive already mounted at /content/drive; to attempt to forcibly remount, call drive.mount(\"/content/drive\", force_remount=True).\n"
          ]
        }
      ]
    },
    {
      "cell_type": "markdown",
      "metadata": {
        "id": "mac-A24aoHzI"
      },
      "source": [
        "Set your working path"
      ]
    },
    {
      "cell_type": "code",
      "metadata": {
        "colab": {
          "base_uri": "https://localhost:8080/"
        },
        "id": "eZ0HnfqfoJ9T",
        "outputId": "dd833c8a-22f7-4615-e760-e491cea0cfd4"
      },
      "source": [
        "local_path='/content/drive/MyDrive/Task3'   # PASTE YOUR LOCAL PATH IN PLACE OF /content\n",
        "%cd {local_path}"
      ],
      "execution_count": null,
      "outputs": [
        {
          "output_type": "stream",
          "name": "stdout",
          "text": [
            "/content/drive/MyDrive/Task3\n"
          ]
        }
      ]
    },
    {
      "cell_type": "markdown",
      "metadata": {
        "id": "Goex7fGQTmcR"
      },
      "source": [
        "2. Then, we will install PDB2PQR using apt-get as follows:"
      ]
    },
    {
      "cell_type": "code",
      "metadata": {
        "id": "CmcfMWrUm9eL",
        "colab": {
          "base_uri": "https://localhost:8080/"
        },
        "outputId": "47086cd4-87b7-49ca-bd2e-870e468efa96"
      },
      "source": [
        "#Installing pdb2pqr using apt-get\n",
        "!apt-get install -y pdb2pqr"
      ],
      "execution_count": null,
      "outputs": [
        {
          "output_type": "stream",
          "name": "stdout",
          "text": [
            "Reading package lists... Done\n",
            "Building dependency tree       \n",
            "Reading state information... Done\n",
            "The following additional packages will be installed:\n",
            "  python-decorator python-networkx python-pkg-resources python-yaml\n",
            "Suggested packages:\n",
            "  apbs python-matplotlib python-pydotplus python-scipy python-pygraphviz\n",
            "  | python-pydot python-setuptools\n",
            "The following NEW packages will be installed:\n",
            "  pdb2pqr python-decorator python-networkx python-pkg-resources python-yaml\n",
            "0 upgraded, 5 newly installed, 0 to remove and 37 not upgraded.\n",
            "Need to get 1,431 kB of archives.\n",
            "After this operation, 7,952 kB of additional disk space will be used.\n",
            "Get:1 http://archive.ubuntu.com/ubuntu bionic/main amd64 python-decorator all 4.1.2-1 [9,300 B]\n",
            "Get:2 http://archive.ubuntu.com/ubuntu bionic-updates/main amd64 python-networkx all 1.11-1ubuntu3 [804 kB]\n",
            "Get:3 http://archive.ubuntu.com/ubuntu bionic/universe amd64 pdb2pqr amd64 2.1.1+dfsg-2 [375 kB]\n",
            "Get:4 http://archive.ubuntu.com/ubuntu bionic/main amd64 python-pkg-resources all 39.0.1-2 [128 kB]\n",
            "Get:5 http://archive.ubuntu.com/ubuntu bionic/main amd64 python-yaml amd64 3.12-1build2 [115 kB]\n",
            "Fetched 1,431 kB in 2s (825 kB/s)\n",
            "Selecting previously unselected package python-decorator.\n",
            "(Reading database ... 155219 files and directories currently installed.)\n",
            "Preparing to unpack .../python-decorator_4.1.2-1_all.deb ...\n",
            "Unpacking python-decorator (4.1.2-1) ...\n",
            "Selecting previously unselected package python-networkx.\n",
            "Preparing to unpack .../python-networkx_1.11-1ubuntu3_all.deb ...\n",
            "Unpacking python-networkx (1.11-1ubuntu3) ...\n",
            "Selecting previously unselected package pdb2pqr.\n",
            "Preparing to unpack .../pdb2pqr_2.1.1+dfsg-2_amd64.deb ...\n",
            "Unpacking pdb2pqr (2.1.1+dfsg-2) ...\n",
            "Selecting previously unselected package python-pkg-resources.\n",
            "Preparing to unpack .../python-pkg-resources_39.0.1-2_all.deb ...\n",
            "Unpacking python-pkg-resources (39.0.1-2) ...\n",
            "Selecting previously unselected package python-yaml.\n",
            "Preparing to unpack .../python-yaml_3.12-1build2_amd64.deb ...\n",
            "Unpacking python-yaml (3.12-1build2) ...\n",
            "Setting up python-yaml (3.12-1build2) ...\n",
            "Setting up python-pkg-resources (39.0.1-2) ...\n",
            "Setting up python-decorator (4.1.2-1) ...\n",
            "Setting up python-networkx (1.11-1ubuntu3) ...\n",
            "Setting up pdb2pqr (2.1.1+dfsg-2) ...\n",
            "Processing triggers for man-db (2.8.3-2ubuntu0.1) ...\n"
          ]
        }
      ]
    },
    {
      "cell_type": "code",
      "metadata": {
        "id": "BPObwIbRnGJI",
        "colab": {
          "base_uri": "https://localhost:8080/"
        },
        "outputId": "a6b9cf5b-4cdb-40a2-9d31-0fca0526d000"
      },
      "source": [
        "#Checking that pdb2pqr was properly installed\n",
        "!pdb2pqr -h"
      ],
      "execution_count": null,
      "outputs": [
        {
          "output_type": "stream",
          "name": "stdout",
          "text": [
            "Usage: pdb2pqr [options] PDB_PATH PQR_OUTPUT_PATH\n",
            "\n",
            "This module takes a PDB file as input and performs optimizations before\n",
            "yielding a new PQR-style file in PQR_OUTPUT_PATH. If PDB_PATH is an ID it will\n",
            "automatically be obtained from the PDB archive.\n",
            "\n",
            "Options:\n",
            "  --version             show program's version number and exit\n",
            "  -h, --help            show this help message and exit\n",
            "\n",
            "  Manditory options:\n",
            "    One of the following options must be used.\n",
            "\n",
            "    --ff=FIELD_NAME     The forcefield to use - currently amber, charmm,\n",
            "                        parse, tyl06, peoepb and swanson are supported.\n",
            "    --userff=USER_FIELD_FILE\n",
            "                        The user created forcefield file to use. Requires\n",
            "                        --usernames overrides --ff\n",
            "    --clean             Do no optimization, atom addition, or parameter\n",
            "                        assignment, just return the original PDB file in\n",
            "                        aligned format. Overrides --ff and --userff\n",
            "\n",
            "  General options:\n",
            "    --nodebump          Do not perform the debumping operation\n",
            "    --noopt             Do not perform hydrogen optimization\n",
            "    --chain             Keep the chain ID in the output PQR file\n",
            "    --assign-only       Only assign charges and radii - do not add atoms,\n",
            "                        debump, or optimize.\n",
            "    --ffout=FIELD_NAME  Instead of using the standard canonical naming scheme\n",
            "                        for residue and atom names, use the names from the\n",
            "                        given forcefield - currently amber, charmm, parse,\n",
            "                        tyl06, peoepb and swanson are supported.\n",
            "    --usernames=USER_NAME_FILE\n",
            "                        The user created names file to use. Required if using\n",
            "                        --userff\n",
            "    --apbs-input        Create a template APBS input file based on the\n",
            "                        generated PQR file.  Also creates a Python pickle for\n",
            "                        using these parameters in other programs.\n",
            "    --ligand=PATH       Calculate the parameters for the ligand in mol2 format\n",
            "                        at the given path. Pdb2pka must be compiled.\n",
            "    --whitespace        Insert whitespaces between atom name and residue name,\n",
            "                        between x and y, and between y and z.\n",
            "    --typemap           Create Typemap output.\n",
            "    --neutraln          Make the N-terminus of this protein neutral (default\n",
            "                        is charged). Requires PARSE force field.\n",
            "    --neutralc          Make the C-terminus of this protein neutral (default\n",
            "                        is charged). Requires PARSE force field.\n",
            "    -v, --verbose       Print information to stdout.\n",
            "    --drop-water        Drop waters before processing protein. Currently\n",
            "                        recognized and deleted are the following water types:\n",
            "                        HOH, WAT\n",
            "    --include-header    Include pdb header in pqr file. WARNING: The resulting\n",
            "                        PQR file will not work with APBS versions prior to 1.5\n",
            "\n",
            "  pH options:\n",
            "    --ph-calc-method=PH_METHOD\n",
            "                        Method used to calculate ph values. If a pH\n",
            "                        calculation method is selected, for each titratable\n",
            "                        residue pH values will be calculated and the residue\n",
            "                        potentially modified after comparison with the pH\n",
            "                        value supplied by --with_ph propka - Use PROPKA to\n",
            "                        calculate pH values. Actual PROPKA results will be\n",
            "                        output to <output-path>.propka. pdb2pka - Use PDB2PKA\n",
            "                        to calculate pH values. Requires the use of the PARSE\n",
            "                        force field. Warning: Larger residues can take a very\n",
            "                        long time to run using this method. EXPERIMENTAL!\n",
            "    --with-ph=PH        pH values to use when applying the results of the\n",
            "                        selected pH calculation method. Defaults to 7.0\n",
            "\n",
            "  PDB2PKA method options:\n",
            "    --pdb2pka-out=PDB2PKA_OUT\n",
            "                        Output directory for PDB2PKA results. Defaults to\n",
            "                        pdb2pka_output\n",
            "    --pdb2pka-resume    Resume run from state saved in output directory.\n",
            "    --pdie=PDB2PKA_PDIE\n",
            "                        Protein dielectric constant. Defaults to 8\n",
            "    --sdie=PDB2PKA_SDIE\n",
            "                        Solvent dielectric constant. Defaults to 80\n",
            "    --pairene=PDB2PKA_PAIRENE\n",
            "                        Cutoff energy in kT for calculating non charged-\n",
            "                        charged interaction energies. Default: 1.0\n",
            "\n",
            "  PROPKA method options:\n",
            "    --propka-reference=PROPKA_REFERENCE\n",
            "                        Setting which reference to use for stability\n",
            "                        calculations. See PROPKA 3.0 documentation.\n",
            "    --propka-verbose    Print extra proPKA information to stdout. WARNING:\n",
            "                        This produces an incredible amount of output.\n",
            "\n",
            "  Extension options:\n",
            "    --chi               Print the per-residue backbone chi angle to {output-\n",
            "                        path}.chi\n",
            "    --summary           Print protein summary information to {output-\n",
            "                        path}.summary.\n",
            "    --contact           Print a list of contacts to {output-path}.con\n",
            "    --newresinter       Print interaction energy between each residue pair in\n",
            "                        the protein to {output-path}.newresinter.\n",
            "    --salt              Print a list of salt bridges to {output-path}.salt\n",
            "\n",
            "  Hbond extension options:\n",
            "    --hbond             Print a list of hydrogen bonds to {output-path}.hbond\n",
            "    --whatif            Change hbond output to WHAT-IF format.\n",
            "    --angle_cutoff=ANGLE_CUTOFF\n",
            "                        Angle cutoff to use when creating hbond data (default\n",
            "                        30.0)\n",
            "    --distance_cutoff=DISTANCE_CUTOFF\n",
            "                        Distance cutoff to use when creating hbond data\n",
            "                        (default 3.4)\n",
            "    --old_distance_method\n",
            "                        Use distance from donor hydrogen to acceptor to\n",
            "                        calculate distance used with --distance_cutoff.\n",
            "\n",
            "  Resinter extension options:\n",
            "    --resinter          Print interaction energy between each residue pair in\n",
            "                        the protein to {output-path}.resinter.\n",
            "    --residue_combinations\n",
            "                        Remap residues to different titration states and rerun\n",
            "                        resinter appending output. Consider only the minimum\n",
            "                        number of whole protein titration combinations needed\n",
            "                        to test each possible pairing of residue titration\n",
            "                        states. Normally used with --noopt. If a protein\n",
            "                        titration state combination results in a pair of\n",
            "                        residue being  re-tested in the same individual\n",
            "                        titration states a warning will be generated if the\n",
            "                        re-tested result is different. This warning should not\n",
            "                        be possible if used with --noopt.\n",
            "    --all_residue_combinations\n",
            "                        Remap residues to ALL possible titration state\n",
            "                        combinations and rerun resinter appending output.\n",
            "                        Results with --noopt should be the same as\n",
            "                        --residue_combinations. Runs considerably slower than\n",
            "                        --residue_combinations and generates the same type of\n",
            "                        warnings.  Use without --noopt to discover how\n",
            "                        hydrogen optimization affects residue  interaction\n",
            "                        energies via the warnings in the output.\n",
            "\n",
            "  Rama extension options:\n",
            "    --rama              Print the per-residue phi and psi angles to {output-\n",
            "                        path}.rama for Ramachandran plots\n",
            "    --phi_only          Only include phi angles in output. Rename output file\n",
            "                        {output-path}.phi\n",
            "    --psi_only          Only include psi angles in output. Rename output file\n",
            "                        {output-path}.psi\n"
          ]
        }
      ]
    },
    {
      "cell_type": "markdown",
      "metadata": {
        "id": "1poPd39lTsPv"
      },
      "source": [
        "3. And then we will install conda to be able to install MGLtools and OpenBabel"
      ]
    },
    {
      "cell_type": "markdown",
      "metadata": {
        "id": "T8Mbw9KE6Xss"
      },
      "source": [
        "4. Finally, we will download the Autodock Vina program from the Scripps website and make an alias to use it during this session"
      ]
    },
    {
      "cell_type": "code",
      "metadata": {
        "id": "k4UpudGkCUYn",
        "colab": {
          "base_uri": "https://localhost:8080/"
        },
        "outputId": "dbd49e89-4591-4972-b692-4d06fe600ce3"
      },
      "source": [
        "#Download and extract Autodock Vina from SCRIPPS\n",
        "#Then, we set up an alias for vina to be treated as a native binary\n",
        "!wget --no-check-certificate https://vina.scripps.edu/wp-content/uploads/sites/55/2020/12/autodock_vina_1_1_2_linux_x86.tgz\n",
        "!tar zxvf autodock_vina_1_1_2_linux_x86.tgz"
      ],
      "execution_count": null,
      "outputs": [
        {
          "output_type": "stream",
          "name": "stdout",
          "text": [
            "autodock_vina_1_1_2_linux_x86/\n",
            "autodock_vina_1_1_2_linux_x86/LICENSE\n",
            "autodock_vina_1_1_2_linux_x86/bin/\n",
            "autodock_vina_1_1_2_linux_x86/bin/vina\n",
            "autodock_vina_1_1_2_linux_x86/bin/vina_split\n"
          ]
        },
        {
          "output_type": "stream",
          "name": "stderr",
          "text": [
            "bash: /usr/local/lib/libtinfo.so.5: no version information available (required by bash)\n"
          ]
        }
      ]
    },
    {
      "cell_type": "code",
      "metadata": {
        "id": "s-4Jw2Om7GEn"
      },
      "source": [
        "%alias vina '{local_path}'/autodock_vina_1_1_2_linux_x86/bin/vina\n",
        "%alias vina_split '{local_path}/autodock_vina_1_1_2_linux_x86/bin/vina_split'"
      ],
      "execution_count": null,
      "outputs": []
    },
    {
      "cell_type": "markdown",
      "metadata": {
        "id": "14UIicNKW9A1"
      },
      "source": [
        "**⚠️WARNING:** We will be soon updated to the new Autodock Vina v1.2.2, which can be found [here](https://github.com/ccsb-scripps)"
      ]
    },
    {
      "cell_type": "markdown",
      "metadata": {
        "id": "5j24YCyD7Zlf"
      },
      "source": [
        "Once these software installation processes are completed, we are ready to perform our experiments"
      ]
    },
    {
      "cell_type": "markdown",
      "metadata": {
        "id": "bMaDj9PdZNlL"
      },
      "source": [
        "#Part 1 – Downloading and Preparing the Receptor for AutoDock"
      ]
    },
    {
      "cell_type": "markdown",
      "metadata": {
        "id": "NGNLlfnU748_"
      },
      "source": [
        "1. The first step in a molecular docking procedure is to have a structure of a given target protein. While in some cases a high-quality comparative model will be used, most cases start with an experimentally (X-ray, NMR, cryoEM) solved three-dimensional structure. \n",
        "\n",
        "  In such cases, a given target protein structure is downloaded from the **Protein Data Bank (PDB)** (https://www.rcsb.org/pdb) using a given accession ID. For example, the PET hydrolase solved by our lab has the accession ID 6ANE.\n",
        "\n",
        "  For this tutorial, we will use the structure of the HIV-2 protease, solved using X-ray crystallography and deposited in the PDB with the accession ID 1HSG. We can directly download this structure from the PDB using *wget* and extracting it using *gzip*:"
      ]
    },
    {
      "cell_type": "code",
      "metadata": {
        "id": "9j_NvhBRhVA0",
        "colab": {
          "base_uri": "https://localhost:8080/"
        },
        "outputId": "087aea23-bd8a-4156-fe3a-93db16768f50"
      },
      "source": [
        "#Download a protein structure from PDB using and extract it\n",
        "#!wget http://www.rcsb.org/pdb/files/[PDB_ID].pdb.gz\n",
        "#!gzip -d [PDB_ID].pdb.gz \n",
        "#DO IT YOURSELF!\n",
        "!wget http://www.rcsb.org/pdb/files/1HSG.pdb.gz\n",
        "!gzip -d 1HSG.pdb.gz "
      ],
      "execution_count": null,
      "outputs": [
        {
          "output_type": "stream",
          "name": "stdout",
          "text": [
            "/bin/bash: /usr/local/lib/libtinfo.so.5: no version information available (required by /bin/bash)\n",
            "--2021-11-08 16:24:58--  http://www.rcsb.org/pdb/files/1HSG.pdb.gz\n",
            "Resolving www.rcsb.org (www.rcsb.org)... 128.6.159.248\n",
            "Connecting to www.rcsb.org (www.rcsb.org)|128.6.159.248|:80... connected.\n",
            "HTTP request sent, awaiting response... 301 Moved Permanently\n",
            "Location: https://www.rcsb.org/pdb/files/1HSG.pdb.gz [following]\n",
            "--2021-11-08 16:24:58--  https://www.rcsb.org/pdb/files/1HSG.pdb.gz\n",
            "Connecting to www.rcsb.org (www.rcsb.org)|128.6.159.248|:443... connected.\n",
            "HTTP request sent, awaiting response... 301 Moved Permanently\n",
            "Location: https://files.rcsb.org/download/1HSG.pdb.gz [following]\n",
            "--2021-11-08 16:24:58--  https://files.rcsb.org/download/1HSG.pdb.gz\n",
            "Resolving files.rcsb.org (files.rcsb.org)... 128.6.158.70\n",
            "Connecting to files.rcsb.org (files.rcsb.org)|128.6.158.70|:443... connected.\n",
            "HTTP request sent, awaiting response... 200 OK\n",
            "Length: 39868 (39K) [application/octet-stream]\n",
            "Saving to: ‘1HSG.pdb.gz’\n",
            "\n",
            "\r1HSG.pdb.gz           0%[                    ]       0  --.-KB/s               \r1HSG.pdb.gz         100%[===================>]  38.93K  --.-KB/s    in 0.007s  \n",
            "\n",
            "2021-11-08 16:24:58 (5.64 MB/s) - ‘1HSG.pdb.gz’ saved [39868/39868]\n",
            "\n",
            "/bin/bash: /usr/local/lib/libtinfo.so.5: no version information available (required by /bin/bash)\n"
          ]
        }
      ]
    },
    {
      "cell_type": "markdown",
      "metadata": {
        "id": "rGxSfayJ9OCP"
      },
      "source": [
        "2. In the case of X-ray diffraction, this experimental strategy does not discriminate between electron density coming from static protein atoms or water molecules, meaning that most protein structures solved by X-ray diffraction also include so-called **crystallographic waters** (check the non-bonded red dots on the protein structure below). These molecules are not important for our particular docking simulation, and we also have to remove them.\n",
        "<figure>\n",
        "<center>\n",
        "<img src='https://raw.githubusercontent.com/pb3lab/ibm3202/master/images/docking_03.png' />\n",
        "<figcaption>FIGURE 3. Cartoon representation of HIV-2 protease dimer (PDB accession ID 1HSG), with its N-to-C-terminal residues colored from blue to red in rainbow spectrum, showing the crystallographic waters as red spheres.</i></figcaption></center>\n",
        "</figure>\n",
        "\n",
        "  Typically, this can be easily done by extracting all of the lines from the PDB file that start with **\"ATOM\"**, as this is how all of the atoms that belong to amino and nucleic acid residues are termed. In contrasts, the atoms from ligands, water molecules and other non-protein/non-nucleic residues are commonly referred to as **\"HETATM\"**. Also, the different chains of an oligomer are separated by a **\"TER\"** string, which is important to keep in our case.\n",
        "\n",
        "  The following **python script** will first create a folder in which we will store all data related to our molecular docking experiment. Then, it will extract all lines matching the string \"ATOM\" (for the protein atoms) or \"TER\" (for the chain separations) into a separate PDB file for further processing. Please take a good look at it."
      ]
    },
    {
      "cell_type": "code",
      "metadata": {
        "id": "_iZeeP0_BrpV",
        "colab": {
          "base_uri": "https://localhost:8080/"
        },
        "outputId": "4cd47b30-49b1-447e-873f-869290180893"
      },
      "source": [
        "#This script will create a folder called \"single-docking\" for our experiment\n",
        "#Then, it will print all \"ATOM\" and \"TER\" lines from a given PDB into a new file\n",
        "\n",
        "#Let's make a folder first. We need to import the os and path library\n",
        "import os\n",
        "from pathlib import Path \n",
        "\n",
        "#Then, we define the path of the folder we want to create.\n",
        "#ADAPT TO YOUR GOOGLE DRIVE ORGANIZATION\n",
        "singlepath = Path(\"single-dock/\")\n",
        "\n",
        "#Now, we create the folder using the os.mkdir() command\n",
        "#The if conditional is just to check whether the folder already exists\n",
        "#In which case, python returns an error\n",
        "if os.path.exists(singlepath):\n",
        "  print(\"path already exists\")\n",
        "if not os.path.exists(singlepath):\n",
        "  os.mkdir(singlepath)\n",
        "  print(\"path was succesfully created\")\n",
        "\n",
        "#Now we assign a variable \"protein\" with the name and extension of our pdb\n",
        "protein = \"1HSG.pdb\"\n",
        "\n",
        "#And we use the following script to selectively print the lines that contain the\n",
        "#string \"ATOM\" and \"TER\" into a new file inside our recently created folder\n",
        "with open(singlepath / \"1HSG_prot.pdb\",\"w\") as g:\n",
        "  f = open(protein,'r')\n",
        "  for line in f:\n",
        "    row = line.split()\n",
        "    if row[0] == \"ATOM\":\n",
        "      g.write(line)\n",
        "    elif row[0] == \"TER\":\n",
        "      g.write(\"TER\\n\")\n",
        "  g.write(\"END\")\n",
        "  print(\"file successfully created\")"
      ],
      "execution_count": null,
      "outputs": [
        {
          "output_type": "stream",
          "name": "stdout",
          "text": [
            "path was succesfully created\n",
            "file successfully created\n"
          ]
        }
      ]
    },
    {
      "cell_type": "markdown",
      "metadata": {
        "id": "Qzw3p0A04Yol"
      },
      "source": [
        "3. Once we printed out the \"ATOM\" lines of the parent PDB file, we have a new file that contains  the coordinates of our protein target.\n",
        "\n",
        "  However, for AutoDock to perform a molecular docking experiment, the protein target must contain information about the partial charges of each atom and atom types that are compatible with AutoDock. Such format is referred to as **PDBQT**, a modification of the PDB format that also includes **charges (q)** and **AutoDock-specific atom types (t)** in two extra columns at the end of the now PDBQT file.\n",
        "\n",
        "  Lastly, the protein target must contain **all polar hydrogens**. Most protein structures have no hydrogens included, meaning that we must add them. \n",
        "\n",
        "  This is the part of the tutorial where you have **two different options** to proceed with your experiment!"
      ]
    },
    {
      "cell_type": "markdown",
      "metadata": {
        "id": "dZzmg5Vt8YBe"
      },
      "source": [
        "3. a) Add the polar hydrogens of your protein and parameterize it with **Gasteiger** charges and atom types using **MGLtools** (this is the canonical option for the majority of AutoDock users)"
      ]
    },
    {
      "cell_type": "code",
      "metadata": {
        "id": "2CdkBcwcQxk8",
        "colab": {
          "base_uri": "https://localhost:8080/"
        },
        "outputId": "e466d239-ae2d-43ef-8898-425eb4abf179"
      },
      "source": [
        "#Parameterizing and adding Gasteiger charges into our protein using MGLtools\n",
        "!prepare_receptor4.py -r $singlepath/1HSG_prot.pdb -o $singlepath/1HSG_prot.pdbqt -A hydrogens -U nphs_lps -v"
      ],
      "execution_count": null,
      "outputs": [
        {
          "output_type": "stream",
          "name": "stdout",
          "text": [
            "/bin/bash: /usr/local/lib/libtinfo.so.5: no version information available (required by /bin/bash)\n",
            "set verbose to  True\n",
            "read  single-dock/1HSG_prot.pdb\n",
            "setting up RPO with mode= automatic and outputfilename=  single-dock/1HSG_prot.pdbqt\n",
            "charges_to_add= gasteiger\n",
            "delete_single_nonstd_residues= None\n",
            "adding gasteiger charges to peptide\n"
          ]
        }
      ]
    },
    {
      "cell_type": "markdown",
      "metadata": {
        "id": "Mg5oSpCb_9AO"
      },
      "source": [
        "3. b) Add the polar hydrogens of your protein and parameterize it based on the pKa of each aminoacid at pH 7.4 with the **AMBER99ff** force field using **pdb2pqr**, followed by deletion of non-polar hydrogens and conversion into **PDBQT** file using **MGLtools**.\n",
        "\n",
        "  In this case, pdb2pqr generates an intermediate **PQR** file, a modification of the PDB format which allows users to add charge and radius parameters to existing PDB data. This information is then unaltered during the use of **MGLtools**."
      ]
    },
    {
      "cell_type": "code",
      "metadata": {
        "id": "Gvq9H_C6DJvU",
        "colab": {
          "base_uri": "https://localhost:8080/"
        },
        "outputId": "22681c60-5499-431e-d91d-7b0e0a50a559"
      },
      "source": [
        "#First, using pdb2pqr to parameterize our receptor with AMBER99ff, maintaining\n",
        "#the chain IDs and setting up the receptor at a pH of 7.4\n",
        "!pdb2pqr --ff=amber --chain --with-ph=7.4 --verbose $singlepath/1HSG_prot.pdb $singlepath/1HSG_prot.pqr\n",
        "\n",
        "#Then, convert the .pqr file into a .pdbqt file while deleting non-polar\n",
        "#hydrogens but without changing the AMBER parameters added to the protein\n",
        "!prepare_receptor4.py -r $singlepath/1HSG_prot.pqr -o $singlepath/1HSG_prot.pdbqt -C -U nphs_lps -v"
      ],
      "execution_count": null,
      "outputs": [
        {
          "output_type": "stream",
          "name": "stdout",
          "text": [
            "/bin/bash: /usr/local/lib/libtinfo.so.5: no version information available (required by /bin/bash)\n",
            "\n",
            "--------------------------\n",
            "PDB2PQR - a Python-based structural conversion utility\n",
            "--------------------------\n",
            "Please cite your use of PDB2PQR as:\n",
            "  Dolinsky TJ, Nielsen JE, McCammon JA, Baker NA.\n",
            "  PDB2PQR: an automated pipeline for the setup, execution,\n",
            "  and analysis of Poisson-Boltzmann electrostatics calculations.\n",
            "  Nucleic Acids Research 32 W665-W667 (2004).\n",
            "\n",
            "Beginning PDB2PQR...\n",
            "\n",
            "Parsed Amino Acid definition file.\n",
            "Created protein object -\n",
            "\tNumber of residues in protein: 198\n",
            "\tNumber of atoms in protein   : 1514\n",
            "Setting the termini... \n",
            "\tPATCH INFO: PRO A 1 patched with NEUTRAL-NTERM\n",
            "\tPATCH INFO: PHE A 99 patched with CTERM\n",
            "\tPATCH INFO: PRO B 1 patched with NEUTRAL-NTERM\n",
            "\tPATCH INFO: PHE B 99 patched with CTERM\n",
            "Done.\n",
            "\tPATCH INFO: GLN A 2 patched with PEPTIDE\n",
            "\tPATCH INFO: ILE A 3 patched with PEPTIDE\n",
            "\tPATCH INFO: THR A 4 patched with PEPTIDE\n",
            "\tPATCH INFO: LEU A 5 patched with PEPTIDE\n",
            "\tPATCH INFO: TRP A 6 patched with PEPTIDE\n",
            "\tPATCH INFO: GLN A 7 patched with PEPTIDE\n",
            "\tPATCH INFO: ARG A 8 patched with PEPTIDE\n",
            "\tPATCH INFO: PRO A 9 patched with PEPTIDE\n",
            "\tPATCH INFO: LEU A 10 patched with PEPTIDE\n",
            "\tPATCH INFO: VAL A 11 patched with PEPTIDE\n",
            "\tPATCH INFO: THR A 12 patched with PEPTIDE\n",
            "\tPATCH INFO: ILE A 13 patched with PEPTIDE\n",
            "\tPATCH INFO: LYS A 14 patched with PEPTIDE\n",
            "\tPATCH INFO: ILE A 15 patched with PEPTIDE\n",
            "\tPATCH INFO: GLY A 16 patched with PEPTIDE\n",
            "\tPATCH INFO: GLY A 17 patched with PEPTIDE\n",
            "\tPATCH INFO: GLN A 18 patched with PEPTIDE\n",
            "\tPATCH INFO: LEU A 19 patched with PEPTIDE\n",
            "\tPATCH INFO: LYS A 20 patched with PEPTIDE\n",
            "\tPATCH INFO: GLU A 21 patched with PEPTIDE\n",
            "\tPATCH INFO: ALA A 22 patched with PEPTIDE\n",
            "\tPATCH INFO: LEU A 23 patched with PEPTIDE\n",
            "\tPATCH INFO: LEU A 24 patched with PEPTIDE\n",
            "\tPATCH INFO: ASP A 25 patched with PEPTIDE\n",
            "\tPATCH INFO: THR A 26 patched with PEPTIDE\n",
            "\tPATCH INFO: GLY A 27 patched with PEPTIDE\n",
            "\tPATCH INFO: ALA A 28 patched with PEPTIDE\n",
            "\tPATCH INFO: ASP A 29 patched with PEPTIDE\n",
            "\tPATCH INFO: ASP A 30 patched with PEPTIDE\n",
            "\tPATCH INFO: THR A 31 patched with PEPTIDE\n",
            "\tPATCH INFO: VAL A 32 patched with PEPTIDE\n",
            "\tPATCH INFO: LEU A 33 patched with PEPTIDE\n",
            "\tPATCH INFO: GLU A 34 patched with PEPTIDE\n",
            "\tPATCH INFO: GLU A 35 patched with PEPTIDE\n",
            "\tPATCH INFO: MET A 36 patched with PEPTIDE\n",
            "\tPATCH INFO: SER A 37 patched with PEPTIDE\n",
            "\tPATCH INFO: LEU A 38 patched with PEPTIDE\n",
            "\tPATCH INFO: PRO A 39 patched with PEPTIDE\n",
            "\tPATCH INFO: GLY A 40 patched with PEPTIDE\n",
            "\tPATCH INFO: ARG A 41 patched with PEPTIDE\n",
            "\tPATCH INFO: TRP A 42 patched with PEPTIDE\n",
            "\tPATCH INFO: LYS A 43 patched with PEPTIDE\n",
            "\tPATCH INFO: PRO A 44 patched with PEPTIDE\n",
            "\tPATCH INFO: LYS A 45 patched with PEPTIDE\n",
            "\tPATCH INFO: MET A 46 patched with PEPTIDE\n",
            "\tPATCH INFO: ILE A 47 patched with PEPTIDE\n",
            "\tPATCH INFO: GLY A 48 patched with PEPTIDE\n",
            "\tPATCH INFO: GLY A 49 patched with PEPTIDE\n",
            "\tPATCH INFO: ILE A 50 patched with PEPTIDE\n",
            "\tPATCH INFO: GLY A 51 patched with PEPTIDE\n",
            "\tPATCH INFO: GLY A 52 patched with PEPTIDE\n",
            "\tPATCH INFO: PHE A 53 patched with PEPTIDE\n",
            "\tPATCH INFO: ILE A 54 patched with PEPTIDE\n",
            "\tPATCH INFO: LYS A 55 patched with PEPTIDE\n",
            "\tPATCH INFO: VAL A 56 patched with PEPTIDE\n",
            "\tPATCH INFO: ARG A 57 patched with PEPTIDE\n",
            "\tPATCH INFO: GLN A 58 patched with PEPTIDE\n",
            "\tPATCH INFO: TYR A 59 patched with PEPTIDE\n",
            "\tPATCH INFO: ASP A 60 patched with PEPTIDE\n",
            "\tPATCH INFO: GLN A 61 patched with PEPTIDE\n",
            "\tPATCH INFO: ILE A 62 patched with PEPTIDE\n",
            "\tPATCH INFO: LEU A 63 patched with PEPTIDE\n",
            "\tPATCH INFO: ILE A 64 patched with PEPTIDE\n",
            "\tPATCH INFO: GLU A 65 patched with PEPTIDE\n",
            "\tPATCH INFO: ILE A 66 patched with PEPTIDE\n",
            "\tPATCH INFO: CYS A 67 patched with PEPTIDE\n",
            "\tPATCH INFO: GLY A 68 patched with PEPTIDE\n",
            "\tPATCH INFO: HIS A 69 patched with PEPTIDE\n",
            "\tPATCH INFO: LYS A 70 patched with PEPTIDE\n",
            "\tPATCH INFO: ALA A 71 patched with PEPTIDE\n",
            "\tPATCH INFO: ILE A 72 patched with PEPTIDE\n",
            "\tPATCH INFO: GLY A 73 patched with PEPTIDE\n",
            "\tPATCH INFO: THR A 74 patched with PEPTIDE\n",
            "\tPATCH INFO: VAL A 75 patched with PEPTIDE\n",
            "\tPATCH INFO: LEU A 76 patched with PEPTIDE\n",
            "\tPATCH INFO: VAL A 77 patched with PEPTIDE\n",
            "\tPATCH INFO: GLY A 78 patched with PEPTIDE\n",
            "\tPATCH INFO: PRO A 79 patched with PEPTIDE\n",
            "\tPATCH INFO: THR A 80 patched with PEPTIDE\n",
            "\tPATCH INFO: PRO A 81 patched with PEPTIDE\n",
            "\tPATCH INFO: VAL A 82 patched with PEPTIDE\n",
            "\tPATCH INFO: ASN A 83 patched with PEPTIDE\n",
            "\tPATCH INFO: ILE A 84 patched with PEPTIDE\n",
            "\tPATCH INFO: ILE A 85 patched with PEPTIDE\n",
            "\tPATCH INFO: GLY A 86 patched with PEPTIDE\n",
            "\tPATCH INFO: ARG A 87 patched with PEPTIDE\n",
            "\tPATCH INFO: ASN A 88 patched with PEPTIDE\n",
            "\tPATCH INFO: LEU A 89 patched with PEPTIDE\n",
            "\tPATCH INFO: LEU A 90 patched with PEPTIDE\n",
            "\tPATCH INFO: THR A 91 patched with PEPTIDE\n",
            "\tPATCH INFO: GLN A 92 patched with PEPTIDE\n",
            "\tPATCH INFO: ILE A 93 patched with PEPTIDE\n",
            "\tPATCH INFO: GLY A 94 patched with PEPTIDE\n",
            "\tPATCH INFO: CYS A 95 patched with PEPTIDE\n",
            "\tPATCH INFO: THR A 96 patched with PEPTIDE\n",
            "\tPATCH INFO: LEU A 97 patched with PEPTIDE\n",
            "\tPATCH INFO: ASN A 98 patched with PEPTIDE\n",
            "\tPATCH INFO: GLN B 2 patched with PEPTIDE\n",
            "\tPATCH INFO: ILE B 3 patched with PEPTIDE\n",
            "\tPATCH INFO: THR B 4 patched with PEPTIDE\n",
            "\tPATCH INFO: LEU B 5 patched with PEPTIDE\n",
            "\tPATCH INFO: TRP B 6 patched with PEPTIDE\n",
            "\tPATCH INFO: GLN B 7 patched with PEPTIDE\n",
            "\tPATCH INFO: ARG B 8 patched with PEPTIDE\n",
            "\tPATCH INFO: PRO B 9 patched with PEPTIDE\n",
            "\tPATCH INFO: LEU B 10 patched with PEPTIDE\n",
            "\tPATCH INFO: VAL B 11 patched with PEPTIDE\n",
            "\tPATCH INFO: THR B 12 patched with PEPTIDE\n",
            "\tPATCH INFO: ILE B 13 patched with PEPTIDE\n",
            "\tPATCH INFO: LYS B 14 patched with PEPTIDE\n",
            "\tPATCH INFO: ILE B 15 patched with PEPTIDE\n",
            "\tPATCH INFO: GLY B 16 patched with PEPTIDE\n",
            "\tPATCH INFO: GLY B 17 patched with PEPTIDE\n",
            "\tPATCH INFO: GLN B 18 patched with PEPTIDE\n",
            "\tPATCH INFO: LEU B 19 patched with PEPTIDE\n",
            "\tPATCH INFO: LYS B 20 patched with PEPTIDE\n",
            "\tPATCH INFO: GLU B 21 patched with PEPTIDE\n",
            "\tPATCH INFO: ALA B 22 patched with PEPTIDE\n",
            "\tPATCH INFO: LEU B 23 patched with PEPTIDE\n",
            "\tPATCH INFO: LEU B 24 patched with PEPTIDE\n",
            "\tPATCH INFO: ASP B 25 patched with PEPTIDE\n",
            "\tPATCH INFO: THR B 26 patched with PEPTIDE\n",
            "\tPATCH INFO: GLY B 27 patched with PEPTIDE\n",
            "\tPATCH INFO: ALA B 28 patched with PEPTIDE\n",
            "\tPATCH INFO: ASP B 29 patched with PEPTIDE\n",
            "\tPATCH INFO: ASP B 30 patched with PEPTIDE\n",
            "\tPATCH INFO: THR B 31 patched with PEPTIDE\n",
            "\tPATCH INFO: VAL B 32 patched with PEPTIDE\n",
            "\tPATCH INFO: LEU B 33 patched with PEPTIDE\n",
            "\tPATCH INFO: GLU B 34 patched with PEPTIDE\n",
            "\tPATCH INFO: GLU B 35 patched with PEPTIDE\n",
            "\tPATCH INFO: MET B 36 patched with PEPTIDE\n",
            "\tPATCH INFO: SER B 37 patched with PEPTIDE\n",
            "\tPATCH INFO: LEU B 38 patched with PEPTIDE\n",
            "\tPATCH INFO: PRO B 39 patched with PEPTIDE\n",
            "\tPATCH INFO: GLY B 40 patched with PEPTIDE\n",
            "\tPATCH INFO: ARG B 41 patched with PEPTIDE\n",
            "\tPATCH INFO: TRP B 42 patched with PEPTIDE\n",
            "\tPATCH INFO: LYS B 43 patched with PEPTIDE\n",
            "\tPATCH INFO: PRO B 44 patched with PEPTIDE\n",
            "\tPATCH INFO: LYS B 45 patched with PEPTIDE\n",
            "\tPATCH INFO: MET B 46 patched with PEPTIDE\n",
            "\tPATCH INFO: ILE B 47 patched with PEPTIDE\n",
            "\tPATCH INFO: GLY B 48 patched with PEPTIDE\n",
            "\tPATCH INFO: GLY B 49 patched with PEPTIDE\n",
            "\tPATCH INFO: ILE B 50 patched with PEPTIDE\n",
            "\tPATCH INFO: GLY B 51 patched with PEPTIDE\n",
            "\tPATCH INFO: GLY B 52 patched with PEPTIDE\n",
            "\tPATCH INFO: PHE B 53 patched with PEPTIDE\n",
            "\tPATCH INFO: ILE B 54 patched with PEPTIDE\n",
            "\tPATCH INFO: LYS B 55 patched with PEPTIDE\n",
            "\tPATCH INFO: VAL B 56 patched with PEPTIDE\n",
            "\tPATCH INFO: ARG B 57 patched with PEPTIDE\n",
            "\tPATCH INFO: GLN B 58 patched with PEPTIDE\n",
            "\tPATCH INFO: TYR B 59 patched with PEPTIDE\n",
            "\tPATCH INFO: ASP B 60 patched with PEPTIDE\n",
            "\tPATCH INFO: GLN B 61 patched with PEPTIDE\n",
            "\tPATCH INFO: ILE B 62 patched with PEPTIDE\n",
            "\tPATCH INFO: LEU B 63 patched with PEPTIDE\n",
            "\tPATCH INFO: ILE B 64 patched with PEPTIDE\n",
            "\tPATCH INFO: GLU B 65 patched with PEPTIDE\n",
            "\tPATCH INFO: ILE B 66 patched with PEPTIDE\n",
            "\tPATCH INFO: CYS B 67 patched with PEPTIDE\n",
            "\tPATCH INFO: GLY B 68 patched with PEPTIDE\n",
            "\tPATCH INFO: HIS B 69 patched with PEPTIDE\n",
            "\tPATCH INFO: LYS B 70 patched with PEPTIDE\n",
            "\tPATCH INFO: ALA B 71 patched with PEPTIDE\n",
            "\tPATCH INFO: ILE B 72 patched with PEPTIDE\n",
            "\tPATCH INFO: GLY B 73 patched with PEPTIDE\n",
            "\tPATCH INFO: THR B 74 patched with PEPTIDE\n",
            "\tPATCH INFO: VAL B 75 patched with PEPTIDE\n",
            "\tPATCH INFO: LEU B 76 patched with PEPTIDE\n",
            "\tPATCH INFO: VAL B 77 patched with PEPTIDE\n",
            "\tPATCH INFO: GLY B 78 patched with PEPTIDE\n",
            "\tPATCH INFO: PRO B 79 patched with PEPTIDE\n",
            "\tPATCH INFO: THR B 80 patched with PEPTIDE\n",
            "\tPATCH INFO: PRO B 81 patched with PEPTIDE\n",
            "\tPATCH INFO: VAL B 82 patched with PEPTIDE\n",
            "\tPATCH INFO: ASN B 83 patched with PEPTIDE\n",
            "\tPATCH INFO: ILE B 84 patched with PEPTIDE\n",
            "\tPATCH INFO: ILE B 85 patched with PEPTIDE\n",
            "\tPATCH INFO: GLY B 86 patched with PEPTIDE\n",
            "\tPATCH INFO: ARG B 87 patched with PEPTIDE\n",
            "\tPATCH INFO: ASN B 88 patched with PEPTIDE\n",
            "\tPATCH INFO: LEU B 89 patched with PEPTIDE\n",
            "\tPATCH INFO: LEU B 90 patched with PEPTIDE\n",
            "\tPATCH INFO: THR B 91 patched with PEPTIDE\n",
            "\tPATCH INFO: GLN B 92 patched with PEPTIDE\n",
            "\tPATCH INFO: ILE B 93 patched with PEPTIDE\n",
            "\tPATCH INFO: GLY B 94 patched with PEPTIDE\n",
            "\tPATCH INFO: CYS B 95 patched with PEPTIDE\n",
            "\tPATCH INFO: THR B 96 patched with PEPTIDE\n",
            "\tPATCH INFO: LEU B 97 patched with PEPTIDE\n",
            "\tPATCH INFO: ASN B 98 patched with PEPTIDE\n",
            "Checking for missing heavy atoms... \n",
            "\tMissing OXT in PHE A 99\n",
            "\tMissing OXT in PHE B 99\n",
            "Missing 2 out of 1516 heavy atoms (0.13 percent) - Will attempt to repair.\n",
            "Rebuilding missing heavy atoms... \n",
            "\tAdded OXT to PHE A 99 at coordinates 26.780 34.489 -10.125\n",
            "\tAdded OXT to PHE B 99 at coordinates 26.380 42.929 4.902\n",
            "Done.\n",
            "Updating SS bridges...\n",
            "\tCYS A 67 is a free cysteine\n",
            "\tCYS B 95 is a free cysteine\n",
            "\tCYS B 67 is a free cysteine\n",
            "\tCYS A 95 is a free cysteine\n",
            "Done.\n",
            "Checking if we must debump any residues... \n",
            "Done.\n",
            "Adding hydrogens to the protein...\n",
            " Added 1614 hydrogen atoms.\n",
            "Checking if we must debump any residues... \n",
            "Done.\n",
            "Initializing full optimization...\n",
            "Done.\n",
            "Optimization progress:\n",
            "  Detecting potential hydrogen bonds:\n",
            "\t0% |                    | 100%\n",
            "\t    ********************\n",
            "  Optimizing hydrogen bonds:\n",
            "\t0% |                    | 100%\n",
            "\t    ********************\n",
            "Applying the forcefield to the protein...Done.\n",
            "Total time taken: 0.89 seconds\n",
            "\n",
            "/bin/bash: /usr/local/lib/libtinfo.so.5: no version information available (required by /bin/bash)\n",
            "set verbose to  True\n",
            "read  single-dock/1HSG_prot.pqr\n",
            "setting up RPO with mode= automatic and outputfilename=  single-dock/1HSG_prot.pdbqt\n",
            "charges_to_add= None\n",
            "delete_single_nonstd_residues= None\n"
          ]
        }
      ]
    },
    {
      "cell_type": "markdown",
      "metadata": {
        "id": "6GCejhZNGjcV"
      },
      "source": [
        "**You are all set with your target protein!** \n",
        "\n",
        ">Before we move onto preparing the ligand for molecular docking, please consider the following questions:\n",
        "- Why is it important to add hydrogens for the purposes of our docking simulations?\n",
        "- Why are we only adding polar hydrogens?\n",
        "- Do you believe that using different force fields could have an effect on your docking results? (this is something you can actually test!)\n",
        "\n"
      ]
    },
    {
      "cell_type": "markdown",
      "metadata": {
        "id": "B4j--lVNGsDg"
      },
      "source": [
        "#Part 2 – Downloading and Preparing the Ligand for AutoDock"
      ]
    },
    {
      "cell_type": "markdown",
      "metadata": {
        "id": "Feav4RTWH3Ol"
      },
      "source": [
        "1. We now need to prepare the ligand that we will use for our docking analysis. In our case, we will use **Indinavir**. This drug is a protease inhibitor used as a component of the antiretroviral therapy to treat HIV/AIDS, aiding in decreasing the viral load. In this opportunity, we will attempt to predict the docking pose of indinavir onto the binding site of the HIV-2 protease.\n",
        "\n",
        "  We will first start by creating a folder in which we will store our ligands for molecular docking."
      ]
    },
    {
      "cell_type": "code",
      "metadata": {
        "id": "LX_ojmvdBTd4",
        "colab": {
          "base_uri": "https://localhost:8080/"
        },
        "outputId": "b9652d58-4c4a-41a4-c3f9-219c57b41c1d"
      },
      "source": [
        "%cd {local_path}\n",
        "#Let's make a folder first. We need to import the os and path library\n",
        "import os\n",
        "from pathlib import Path\n",
        "\n",
        "#We will first create a path for all ligands that we will use in this tutorial\n",
        "#Notice that the HOME folder for a hosted runtime in colab is /content/\n",
        "ligandpath = Path(\"ligands/\")\n",
        "\n",
        "#Now, we create the folder using the os.mkdir() command\n",
        "#The if conditional is just to check whether the folder already exists\n",
        "#In which case, python returns an error\n",
        "if os.path.exists(ligandpath):\n",
        "  print(\"ligand path already exists\")\n",
        "if not os.path.exists(ligandpath):\n",
        "  os.mkdir(ligandpath)\n",
        "  print(\"ligand path was succesfully created\")"
      ],
      "execution_count": null,
      "outputs": [
        {
          "output_type": "stream",
          "name": "stdout",
          "text": [
            "/content/drive/MyDrive/Task3\n",
            "ligand path was succesfully created\n"
          ]
        }
      ]
    },
    {
      "cell_type": "markdown",
      "metadata": {
        "id": "tLanf4sTChrO"
      },
      "source": [
        "2. Now, we will download indinavir from the **DrugBank** database (*Nucleic Acids Res\n",
        ". 2006; 34, D668-72*). This is comprehensive, freely accessible, online database containing information on drugs and drug targets. You can actually check the detailed chemical, pharmacological and pharmaceutical information on Indinavir [in this DrugBank link](https://www.drugbank.ca/drugs/DB00224).\n",
        "\n",
        "  We will download this ligand in SMILES format to continue with its preparation for molecular docking\n",
        "\n"
      ]
    },
    {
      "cell_type": "code",
      "metadata": {
        "id": "iuI8pBj7aryA",
        "colab": {
          "base_uri": "https://localhost:8080/"
        },
        "outputId": "4f959170-46e7-47bb-bfcd-4a6675f325f3"
      },
      "source": [
        "#Downloading Indinavir from the DrugBank database in SMILES format\n",
        "!wget https://www.drugbank.ca/structures/small_molecule_drugs/DB00224.smiles -P $ligandpath"
      ],
      "execution_count": null,
      "outputs": [
        {
          "output_type": "stream",
          "name": "stdout",
          "text": [
            "/bin/bash: /usr/local/lib/libtinfo.so.5: no version information available (required by /bin/bash)\n",
            "--2021-11-08 16:32:34--  https://www.drugbank.ca/structures/small_molecule_drugs/DB00224.smiles\n",
            "Resolving www.drugbank.ca (www.drugbank.ca)... 172.66.43.123, 172.66.40.133, 2606:4700:3108::ac42:2885, ...\n",
            "Connecting to www.drugbank.ca (www.drugbank.ca)|172.66.43.123|:443... connected.\n",
            "HTTP request sent, awaiting response... 301 Moved Permanently\n",
            "Location: https://go.drugbank.com/structures/small_molecule_drugs/DB00224.smiles [following]\n",
            "--2021-11-08 16:32:34--  https://go.drugbank.com/structures/small_molecule_drugs/DB00224.smiles\n",
            "Resolving go.drugbank.com (go.drugbank.com)... 172.66.41.6, 172.66.42.250, 2606:4700:3108::ac42:2afa, ...\n",
            "Connecting to go.drugbank.com (go.drugbank.com)|172.66.41.6|:443... connected.\n",
            "HTTP request sent, awaiting response... 200 OK\n",
            "Length: unspecified [text/plain]\n",
            "Saving to: ‘ligands/DB00224.smiles’\n",
            "\n",
            "DB00224.smiles          [ <=>                ]     106  --.-KB/s    in 0s      \n",
            "\n",
            "2021-11-08 16:32:35 (3.09 MB/s) - ‘ligands/DB00224.smiles’ saved [106]\n",
            "\n"
          ]
        }
      ]
    },
    {
      "cell_type": "markdown",
      "metadata": {
        "id": "NEM5fwsTFcXd"
      },
      "source": [
        "3. Hey! But what is a SMILES format? Well, the **Simplified Molecular-Input Line-Entry System** (SMILES) is a text notation that allows a user to represent a chemical structure in a way that can be used by the computer. The elemental notation for different types of bonds between different atoms is as follows:\n",
        "\n",
        "  \\-\tfor single bonds (eg. C-C or CC is CH3CH3)\n",
        "\n",
        "  \\=\tfor double bonds (eg. C=C for CH2CH2)\n",
        "\n",
        "  \\#\tfor triple bonds (eg. C#N for C≡N)\n",
        "\n",
        "  \\\tfor aromatic bond (eg. C\\*1\\*C\\*C\\*C\\*C\\*C1 or c1ccccc1 for benzene)\n",
        "\n",
        "  \\. for disconnected structures (eg. Na.Cl for NaCl)\n",
        "\n",
        "  / and \\ for double bond stereoisomers (eg. F/C=C/F for trans-1,2-difluoroethylene and F/C=C\\F for cis-1,2-difluoroethylene)\n",
        "\n",
        "  @ and @@ for enantiomers (eg. N\\[C@@H](C)C(=O)O for L-alanine and N\\[C@H](C)C(=O)O for D-alanine)\n",
        "\n",
        "  **Let's take a look at the SMILES of Indinavir!**"
      ]
    },
    {
      "cell_type": "code",
      "metadata": {
        "id": "DWW3DTsY_J4F",
        "colab": {
          "base_uri": "https://localhost:8080/"
        },
        "outputId": "83071dc2-19fe-4397-b5cc-1ebf9b59e57f"
      },
      "source": [
        "#Print the SMILES of indinavir to see what it is all about\n",
        "print((ligandpath / \"DB00224.smiles\").read_text())"
      ],
      "execution_count": null,
      "outputs": [
        {
          "output_type": "stream",
          "name": "stdout",
          "text": [
            "CC(C)(C)NC(=O)[C@@H]1CN(CC2=CN=CC=C2)CCN1C[C@@H](O)C[C@@H](CC1=CC=CC=C1)C(=O)N[C@@H]1[C@H](O)CC2=CC=CC=C12\n"
          ]
        }
      ]
    },
    {
      "cell_type": "code",
      "metadata": {
        "id": "PjvRbRRMHrw_",
        "colab": {
          "base_uri": "https://localhost:8080/",
          "height": 530,
          "referenced_widgets": [
            "071c8fdffb9b47d6990e17d2b29556b7",
            "93864cc2f9694184a9660d14cacfe818",
            "cfbcf4889462402c8e318d0e4efd941f",
            "54563546b4194d7cb4d266fe4190e0ab",
            "ed1069f12b864f318092d5fd878f06c2",
            "4948490aaf0b414bae9edbb40ea1fb2f",
            "8916d323791c418fac7d0ec78fb96938"
          ]
        },
        "outputId": "376f87dc-3fa1-4dfe-8c3f-f66f95ee14bc"
      },
      "source": [
        "#Use the following viewer to load your SMILES as a 3D molecule\n",
        "import py3Dmol\n",
        "import kora.install.rdkit\n",
        "from rdkit import Chem\n",
        "from rdkit.Chem import AllChem\n",
        "\n",
        "def MolTo3DView(mol, size=(300, 300), style=\"stick\", surface=False, opacity=0.5):\n",
        "    assert style in ('line', 'stick', 'sphere', 'carton')\n",
        "    mblock = Chem.MolToMolBlock(mol)\n",
        "    viewer = py3Dmol.view()\n",
        "    viewer.addModel(mblock, 'mol')\n",
        "    viewer.setStyle({style:{}})\n",
        "    if surface:\n",
        "        viewer.addSurface(py3Dmol.SAS, {'opacity': opacity})\n",
        "    viewer.zoomTo()\n",
        "    return viewer\n",
        "\n",
        "from ipywidgets import interact,fixed,IntSlider\n",
        "import ipywidgets\n",
        "\n",
        "def smi2conf(smiles):\n",
        "    '''Convert SMILES to rdkit.Mol with 3D coordinates'''\n",
        "    mol = Chem.MolFromSmiles(smiles)\n",
        "    if mol is not None:\n",
        "        mol = Chem.AddHs(mol)\n",
        "        AllChem.EmbedMolecule(mol)\n",
        "        AllChem.MMFFOptimizeMolecule(mol, maxIters=200)\n",
        "        return mol\n",
        "    else:\n",
        "        return None\n",
        "\n",
        "@interact\n",
        "def smi2viewer(smi='CC=O'):\n",
        "    try:\n",
        "        conf = smi2conf(smi)\n",
        "        return MolTo3DView(conf).show()\n",
        "    except:\n",
        "        return None"
      ],
      "execution_count": null,
      "outputs": [
        {
          "output_type": "display_data",
          "data": {
            "application/vnd.jupyter.widget-view+json": {
              "model_id": "071c8fdffb9b47d6990e17d2b29556b7",
              "version_minor": 0,
              "version_major": 2
            },
            "text/plain": [
              "interactive(children=(Text(value='CC=O', description='smi'), Output()), _dom_classes=('widget-interact',))"
            ]
          },
          "metadata": {}
        }
      ]
    },
    {
      "cell_type": "markdown",
      "metadata": {
        "id": "jYkw6q2gkGDH"
      },
      "source": [
        "4. Now, we will take this SMILES format and use it to construct and parameterize a three-dimensional structure of Indinavir in **PDBQT** format for its use in molecular docking. As with the receptor, we also have different options to prepare our ligand for molecular docking:"
      ]
    },
    {
      "cell_type": "markdown",
      "metadata": {
        "id": "OkjbrWHeooc_"
      },
      "source": [
        "4. a) Use the program **babel** to convert the SMILES into a **MOL2** file without any extra work (such as searching for best conformers) except for setting the protonation state to pH 7.4, and then use **MGLtools** to parameterize the ligand using **Gasteiger** partial charges (this is the canonical option for the majority of AutoDock users).\n",
        "\n",
        "  Please note that we are generating a ligand in which **all torsions are active** during the docking procedure."
      ]
    },
    {
      "cell_type": "code",
      "metadata": {
        "id": "sGUHorvYnJ9k",
        "colab": {
          "base_uri": "https://localhost:8080/"
        },
        "outputId": "537333bd-0070-452e-91e2-26c1e1ae17d0"
      },
      "source": [
        "#Converting Indinavir from SMILES into a 3D PDB format\n",
        "!obabel $ligandpath/DB00224.smiles -O indinavir.mol2 --gen3d best -p 7.4 --canonical\n",
        "#Parameterizing and adding Gasteiger charges into our protein using MGLtools\n",
        "#Adding -z leads to a rigid ligand without any torsions\n",
        "!prepare_ligand4.py -l indinavir.mol2 -o $singlepath/indinavir.pdbqt -U nphs_lps -v\n",
        "#NOTE: for some reason, MGLtools does not recognize the ligand when inside a different folder\n",
        "#Here we are deleting the temporary PDB file required for generating the PDBQT file\n",
        "os.remove(\"indinavir.mol2\")"
      ],
      "execution_count": null,
      "outputs": [
        {
          "output_type": "stream",
          "name": "stdout",
          "text": [
            "/bin/bash: /usr/local/lib/libtinfo.so.5: no version information available (required by /bin/bash)\n",
            "1 molecule converted\n",
            "/bin/bash: /usr/local/lib/libtinfo.so.5: no version information available (required by /bin/bash)\n",
            "set verbose to  True\n",
            "read  indinavir.mol2\n",
            "setting up LPO with mode= automatic and outputfilename=  single-dock/indinavir.pdbqt\n",
            "and check_for_fragments= False\n",
            "and bonds_to_inactivate= \n",
            "returning  0\n",
            "No change in atomic coordinates\n"
          ]
        }
      ]
    },
    {
      "cell_type": "markdown",
      "metadata": {
        "id": "j9aZXCeVnJlv"
      },
      "source": [
        "4. b) Use the program **babel** to  convert the SMILES into a 3D **MOL2** file while simultaneously performing and energy minimization using the Generalized Amber Force Field (**GAFF**). Then, use **MGLtools** to parameterize the ligand using **Gasteiger** partial charges.\n",
        "\n",
        "  Please note that we are generating a ligand in which **all torsions are active** during the docking procedure."
      ]
    },
    {
      "cell_type": "code",
      "metadata": {
        "id": "RG6kDCBobRlT",
        "colab": {
          "base_uri": "https://localhost:8080/"
        },
        "outputId": "b3a27630-b9a7-4b9e-cae5-f16e10d013b3"
      },
      "source": [
        "#Converting Indinavir from SMILES into a 3D MOL2 format and perform an energy minimization of the conformer using the GAFF forcefield\n",
        "#Then, prepare ligand for docking using the Autodock script\n",
        "!obabel $ligandpath/DB00224.smiles -O indinavir.mol2 --gen3d --best --canonical --minimize --ff GAFF --steps 10000 --sd\n",
        "!prepare_ligand4.py -l indinavir.mol2 -o $singlepath/indinavir.pdbqt -U nphs_lps -v\n",
        "os.remove(\"indinavir.mol2\")"
      ],
      "execution_count": null,
      "outputs": [
        {
          "output_type": "stream",
          "name": "stdout",
          "text": [
            "/bin/bash: /usr/local/lib/libtinfo.so.5: no version information available (required by /bin/bash)\n",
            "1 molecule converted\n",
            "/bin/bash: /usr/local/lib/libtinfo.so.5: no version information available (required by /bin/bash)\n",
            "set verbose to  True\n",
            "read  indinavir.mol2\n",
            "setting up LPO with mode= automatic and outputfilename=  single-dock/indinavir.pdbqt\n",
            "and check_for_fragments= False\n",
            "and bonds_to_inactivate= \n",
            "returning  0\n",
            "No change in atomic coordinates\n"
          ]
        }
      ]
    },
    {
      "cell_type": "markdown",
      "metadata": {
        "id": "PWxOC9h7qMVE"
      },
      "source": [
        "4. c) Use the program **babel** to  convert the SMILES into a 3D **MOL2** file while simultaneously performing a weighted rotor search for the lowest energy conformer using the Generalized Amber Force Field (**GAFF**). Then, use **MGLtools** to parameterize the ligand using **Gasteiger** partial charges.\n",
        "\n",
        "  Please note that we are generating a ligand in which **all torsions are active** during the docking procedure."
      ]
    },
    {
      "cell_type": "code",
      "metadata": {
        "id": "Zo0K2pO0o6LP",
        "colab": {
          "base_uri": "https://localhost:8080/"
        },
        "outputId": "6ce810ac-7338-44fa-9f76-5397fa05557e"
      },
      "source": [
        "#Converting Indinavir from SMILES into a 3D MOL2 format and perform a weighted rotor search for lowest energy conformer\n",
        "#Then, prepare ligand for docking using the Autodock script\n",
        "!obabel $ligandpath/DB00224.smiles -O indinavir.mol2 --gen3d --best --canonical --conformers --weighted --nconf 50 --ff GAFF\n",
        "!prepare_ligand4.py -l indinavir.mol2 -o $singlepath/indinavir.pdbqt -U nphs_lps -v\n",
        "os.remove(\"indinavir.mol2\")"
      ],
      "execution_count": null,
      "outputs": [
        {
          "output_type": "stream",
          "name": "stdout",
          "text": [
            "/bin/bash: /usr/local/lib/libtinfo.so.5: no version information available (required by /bin/bash)\n",
            "1 molecule converted\n",
            "/bin/bash: /usr/local/lib/libtinfo.so.5: no version information available (required by /bin/bash)\n",
            "set verbose to  True\n",
            "read  indinavir.mol2\n",
            "setting up LPO with mode= automatic and outputfilename=  single-dock/indinavir.pdbqt\n",
            "and check_for_fragments= False\n",
            "and bonds_to_inactivate= \n",
            "returning  0\n",
            "No change in atomic coordinates\n"
          ]
        }
      ]
    },
    {
      "cell_type": "markdown",
      "metadata": {
        "id": "83g5ZTtGTANG"
      },
      "source": [
        "**You are all set with your ligand!** Now, we move onto setting up the molecular docking experiment"
      ]
    },
    {
      "cell_type": "markdown",
      "metadata": {
        "id": "vZxnFIB-TW8X"
      },
      "source": [
        "#Part 3 – Setting up and Performing Molecular Docking with AutoDock"
      ]
    },
    {
      "cell_type": "markdown",
      "metadata": {
        "id": "ltabEnTrWzdT"
      },
      "source": [
        "1. As explained in the lectures, it is necessary to define the search space for molecular docking on a given target protein through the use of a **grid box**. This grid box is usually centered within the binding, active or allosteric site of the target protein and its size will be sufficiently large such that **all binding residues are placed inside the grid box**.\n",
        "\n",
        "  Here, we will make use of **py3Dmol** to visually inspect the protein structure in cartoon representation and to draw a grid box. The position and size of the grid box will be defined by the coordinates of its centroid and by its dimensions in x, y and z.\n",
        "\n",
        "  To better guide the search for the optimal dimensions and coordinates of the grid box, we will also show the residues Val32, Ile47 and Val82 of HIV-2 protease.\n",
        "\n",
        "  The script that defines the visualizer, which we called **ViewProtGrid**, is first loaded into **Colab** with the following lines of code"
      ]
    },
    {
      "cell_type": "code",
      "metadata": {
        "id": "eyqcfX1ebPcg"
      },
      "source": [
        "#These definitions will enable loading our protein and then\n",
        "#drawing a box with a given size and centroid on the cartesian space\n",
        "#This box will enable us to set up the system coordinates for the simulation\n",
        "#\n",
        "#HINT: The active site of the HIV-2 protease is near the beta strands in green\n",
        "#\n",
        "#ACKNOWLEDGE: This script is largely based on the one created by Jose Manuel \n",
        "#Napoles Duarte, Physics Teacher at the Chemical Sciences Faculty of the \n",
        "#Autonomous University of Chihuahua (https://github.com/napoles-uach)\n",
        "#\n",
        "#First, we define the grid box\n",
        "def definegrid(object,bxi,byi,bzi,bxf,byf,bzf):\n",
        "  object.addBox({'center':{'x':bxi,'y':byi,'z':bzi},'dimensions': {'w':bxf,'h':byf,'d':bzf},'color':'blue','opacity': 0.6})\n",
        "\n",
        "#Next, we define how the protein will be shown in py3Dmol\n",
        "#Note that we are also adding a style representation for active site residues\n",
        "def viewprot(object,prot_PDBfile,resids):\n",
        "  mol1 = open(prot_PDBfile, 'r').read()\n",
        "  object.addModel(mol1,'pdb')\n",
        "  object.setStyle({'cartoon': {'color':'spectrum'}})\n",
        "  object.addStyle({'resi':resids},{'stick':{'colorscheme':'greenCarbon'}})\n",
        "\n",
        "#Lastly, we combine the box grid and protein into a single viewer\n",
        "def viewprotgrid(prot_PDBfile,resids,bxi,byi,bzi,bxf=10,byf=10,bzf=10):\n",
        "  mol_view = py3Dmol.view(1000,600)\n",
        "  definegrid(mol_view,bxi,byi,bzi,bxf,byf,bzf)\n",
        "  viewprot(mol_view,prot_PDBfile,resids)\n",
        "  mol_view.setBackgroundColor('0xffffff')\n",
        "  mol_view.zoomTo()\n",
        "  mol_view.show() \n"
      ],
      "execution_count": null,
      "outputs": []
    },
    {
      "cell_type": "markdown",
      "metadata": {
        "id": "22cz8leUL6P5"
      },
      "source": [
        "2. Now, we will use our ViewProtGrid to visualize the protein, binding site residues and a grid box of variable size and position that we can manipulate using a slider through *ipywidgets*. You have to edit this viewer by indicating the location of the PDB file in the *prot_PDBfile* variable (e.g. singlepath/'1HSG_prot.pdb') and the residues that you want to show from the PDB in the *resids* variable.\n",
        "\n",
        "\n",
        "Examples of how to use the *protein_PDBfile* variable\n",
        ">prot_PDBfile = ['1HSG_prot.pdb'] (if the PDB file is in the current path)\n",
        "\n",
        ">prot_PDBfile = [singlepath/'1HSG_prot.pdb'] (if the PDB file is in a path defined as singlepath)\n",
        "\n",
        "\n",
        "Examples of how to use the *resids* variable\n",
        "\n",
        ">resids = [82] shows a single residue in position 82)\n",
        "\n",
        ">resids = [82,83,84] shows residues 82, 83 or 84 separately, which you can select in the viewer\n",
        "\n",
        ">resids = [(82,83,84)] shows residue 82, 83 and 84 in the same visualization\n",
        "\n",
        ">resids = ['82-84'] shows residue range 82-84 in the same visualization\n",
        "\n",
        "**NOTE:** This code fails when attempting to show two non-consecutive residues in the same visualization.\n"
      ]
    },
    {
      "cell_type": "code",
      "metadata": {
        "id": "eLphxzcKKbcf",
        "colab": {
          "base_uri": "https://localhost:8080/",
          "height": 891,
          "referenced_widgets": [
            "cd9aeba22afe4b9dae777d21b1af4b43",
            "a2a0b7dfd3dd4451b5548805981d9db0",
            "4899d52d98c74217aabbae25a07d8761",
            "78d7c935aecd41e1a985bc8fde7668a9",
            "0bd7ef1afc614c678b55184d5e8efc75",
            "cc66a54ff5574a4da3b30fb43138b898",
            "5056fa7d48dc4a82b694f684817060f8",
            "374c14ceefc54377839c891c1ab1ad23",
            "778055e85d4546dd8f17f7db638913d1",
            "b5024c6e8e4e427ea77a947c40dab386",
            "f9f1a21007c54e6792478041d0b0d9df",
            "6fd7e1c0a45843989ec22f52213e654e",
            "9c96bdab0341465e8b352f2c7f583826",
            "4875e80573b040fb820c6decc1f97bee",
            "b1a126c7e8024f71bf59b1f7cfe6a97b",
            "ddb7d881f0d14989949ceaf4d8d56037",
            "e997b74582274a03a3a6fcf68be4adbc",
            "b5d4162d0e36476b9fc699c63e83368d",
            "3c75490720064d7b89e0a34dd11c6a02",
            "5ed3826a74e2444badde885311855865",
            "7a2a8d0be8984a33b71b0ae7a83304f3",
            "9d77b58f1b9d49039f02ec895504d548",
            "6084d540685e45a9ae8e49b91dd27140",
            "df244e6e02f24a02ba4774a0d30e7628",
            "bf9a4e9c13a246d093098d6430b2c388",
            "3f7b5c009266437b9ab0e156acb4a471",
            "d8d32ee34c5947a7b40fcab6ffe1e75b",
            "ffedc817a2684e98851ea609bc4c6db7"
          ]
        },
        "outputId": "6508189f-27ec-4359-cad5-5440bdc5cf08"
      },
      "source": [
        "#Importing py3Dmol for safety\n",
        "import py3Dmol\n",
        "from ipywidgets import interact,fixed,IntSlider\n",
        "import ipywidgets\n",
        "interact(viewprotgrid,\n",
        "#ADD YOUR PDB LOCATION AND FILENAME HERE\n",
        "         prot_PDBfile =  '/content/drive/MyDrive/Task3/single-dock/1HSG_prot.pdb',\n",
        "#ADD THE RESIDUES YOU WANT TO VISUALIZE HERE\n",
        "         resids = ['32,47,82-84'],\n",
        "         bxi=ipywidgets.IntSlider(min=-100,max=100, step=1, value=15),\n",
        "         byi=ipywidgets.IntSlider(min=-100,max=100, step=1, value=29),\n",
        "         bzi=ipywidgets.IntSlider(min=-100,max=100, step=1, value=4),\n",
        "         bxf=ipywidgets.IntSlider(min=0,max=30, step=1, value=20),\n",
        "         byf=ipywidgets.IntSlider(min=0,max=30, step=1, value=20),\n",
        "         bzf=ipywidgets.IntSlider(min=0,max=30, step=1, value=20))"
      ],
      "execution_count": null,
      "outputs": [
        {
          "output_type": "display_data",
          "data": {
            "application/vnd.jupyter.widget-view+json": {
              "model_id": "cd9aeba22afe4b9dae777d21b1af4b43",
              "version_minor": 0,
              "version_major": 2
            },
            "text/plain": [
              "interactive(children=(Text(value='/content/drive/MyDrive/Task3/single-dock/1HSG_prot.pdb', description='prot_P…"
            ]
          },
          "metadata": {}
        },
        {
          "output_type": "execute_result",
          "data": {
            "text/plain": [
              "<function __main__.viewprotgrid>"
            ]
          },
          "metadata": {},
          "execution_count": 44
        }
      ]
    },
    {
      "cell_type": "markdown",
      "metadata": {
        "id": "75yCJ-eNS7Ia"
      },
      "source": [
        "3. Now, we will generate a configuration file for **Autodock**. As expected, the configuration file contains information about the target protein and ligand, as well as the position and dimensions of the grid box that defines the search space.\n",
        "\n",
        "  For defining the grid box, you will use the  box origin and size coordinates that you defined manually in the previous step.\n",
        "\n",
        "  The following is an example file of a standard **Autodock configuration file**, including all possible variables that can be edited:\n",
        "\n",
        "\n",
        "```\n",
        "#CONFIGURATION FILE\n",
        "\n",
        "#INPUT OPTIONS \n",
        "receptor = [target protein pdbqt file]\n",
        "ligand = [ligand pdbqt file]\n",
        "flex = [flexible residues in receptor in pdbqt format] \n",
        "\n",
        "#SEARCH SPACE CONFIGURATIONS \n",
        "#Center of the box (coordinates x, y and z \n",
        "center_x = [value] \n",
        "center_y = [value]\n",
        "center_z = [value]\n",
        "#Size of the box (dimensions in x, y and z) \n",
        "size_x = [value]\n",
        "size_y = [value]\n",
        "size_z = [value]\n",
        "\n",
        "#OUTPUT OPTIONS \n",
        "#out = [output pdbqt file for all conformations]\n",
        "#log = [output log file for binding energies]\n",
        "\n",
        "#OTHER OPTIONS \n",
        "cpu = [value] # more cpus reduces the computation time\n",
        "exhaustiveness = [value] # search time for finding the global minimum, default is 8\n",
        "num_modes = [value] # maximum number of binding modes to generate, default is 9\n",
        "energy_range = [value] # maximum energy difference between the best binding mode and the worst one displayed (kcal/mol), default is 3\n",
        "seed = [value] # explicit random seed, not required\n",
        "```\n",
        "\n",
        "The following script will create this file for our docking procedure. **You will need to add the position and dimensions of your grid box**\n"
      ]
    },
    {
      "cell_type": "code",
      "metadata": {
        "id": "Q8g2JIgB5fna"
      },
      "source": [
        "with open(singlepath / \"config_singledock\",\"w\") as f:\n",
        "  f.write(\"#CONFIGURATION FILE (options not used are commented) \\n\")\n",
        "  f.write(\"\\n\")\n",
        "  f.write(\"#INPUT OPTIONS \\n\")\n",
        "  f.write(\"receptor = 1HSG_prot.pdbqt \\n\")\n",
        "  f.write(\"ligand = indinavir.pdbqt \\n\")\n",
        "  f.write(\"#flex = [flexible residues in receptor in pdbqt format] \\n\")\n",
        "  f.write(\"#SEARCH SPACE CONFIGURATIONS \\n\")\n",
        "  f.write(\"#Center of the box (values bxi, byi and bzi) \\n\")\n",
        "#CHANGE THE FOLLOWING DATA WITH YOUR BOX CENTER COORDINATES  \n",
        "  f.write(\"center_x = CHANGEME \\n\")\n",
        "  f.write(\"center_y = CHANGEME \\n\")\n",
        "  f.write(\"center_z = CHANGEME \\n\")\n",
        "#CHANGE THE FOLLOWING DATA WITH YOUR BOX DIMENSIONS\n",
        "  f.write(\"#Size of the box (values bxf, byf and bzf) \\n\")\n",
        "  f.write(\"size_x = CHANGEME \\n\")\n",
        "  f.write(\"size_y = CHANGEME \\n\")\n",
        "  f.write(\"size_z = CHANGEME \\n\")\n",
        "  f.write(\"#OUTPUT OPTIONS \\n\")\n",
        "  f.write(\"#out = \\n\")\n",
        "  f.write(\"#log = \\n\")\n",
        "  f.write(\"\\n\")\n",
        "  f.write(\"#OTHER OPTIONS \\n\")\n",
        "  f.write(\"#cpu =  \\n\")\n",
        "  f.write(\"#exhaustiveness = \\n\")\n",
        "  f.write(\"#num_modes = \\n\")\n",
        "  f.write(\"#energy_range = \\n\")\n",
        "  f.write(\"#seed = \")"
      ],
      "execution_count": null,
      "outputs": []
    },
    {
      "cell_type": "markdown",
      "metadata": {
        "id": "cfxxqcf-XdU3"
      },
      "source": [
        "4. Lastly, we will enter into the folder that we created for the docking experiment and **perform our first molecular docking with Autodock**.\n",
        "\n",
        "  Once you execute the lines of code shown below, Autodock will show you a progress bar (if running as expected). **This simulation should not take longer than 5 min**.\n",
        "  \n",
        "  Note that we are defining the filenames of the output and log file outside the configuration file."
      ]
    },
    {
      "cell_type": "code",
      "metadata": {
        "id": "LRlv9MqoCC19"
      },
      "source": [
        "#Changing directory to the single docking folder\n",
        "os.chdir(singlepath)\n",
        "#Executing AutoDock Vina with our configuration file\n",
        "%vina --config config_singledock --out output.pdbqt --log log.txt"
      ],
      "execution_count": null,
      "outputs": []
    },
    {
      "cell_type": "code",
      "metadata": {
        "id": "mR2lXub9aLPj"
      },
      "source": [
        "%cd {local_path}"
      ],
      "execution_count": null,
      "outputs": []
    },
    {
      "cell_type": "markdown",
      "metadata": {
        "id": "If6YK_XVYPmB"
      },
      "source": [
        "5. Once the molecular docking has finished running, we will compare the docking poses with the experimentally solved pose for indinavir. In fact, the structure of HIV-2 protease that you downloaded at the beginning of this tutorial was solved with indinavir bound to it.\n",
        "\n",
        "  The following lines of code are similar to what we did with extracting the 'ATOM' lines of the PDB file, but now we are extracting the lines containing **'MK1'**, the name of the ligand in this PDB file."
      ]
    },
    {
      "cell_type": "code",
      "metadata": {
        "id": "P1P1XSGWv9pe"
      },
      "source": [
        "#Here, we will be extracting Indinavir, which is present in the structure of\n",
        "#HIV-2 protease (yes! this is a simulation with experimental validation!)\n",
        "#The approach is similar to printing the ATOM and TER lines, but we are using\n",
        "#the residue name given to the ligand in the experimentally solved structure: MK1\n",
        "protein = \"1HSG.pdb\"\n",
        "\n",
        "with open(singlepath/\"xtal_ligand.pdb\",\"w\") as g:\n",
        "  f = open(protein,'r')\n",
        "  for line in f:\n",
        "    row = line.split()\n",
        "    if \"MK1\" in row:\n",
        "      g.write(line)\n",
        "  g.write(\"END\")"
      ],
      "execution_count": null,
      "outputs": []
    },
    {
      "cell_type": "markdown",
      "metadata": {
        "id": "tGnWy5aVaFOP"
      },
      "source": [
        "6. We also need the different docking poses generated as a result of the molecular docking simulation. We will split these poses into separate PDB files using **babel**, starting with file numbered as 1 corresponding to the lowest-energy pose."
      ]
    },
    {
      "cell_type": "code",
      "metadata": {
        "id": "JDkf9pyuZdd2"
      },
      "source": [
        "#We need to convert our Autodock Vina results from pdbqt into pdb\n",
        "#For this, we use babel\n",
        "!obabel -ipdbqt $singlepath/output.pdbqt -opdb -O $singlepath/indinavir_dock.pdb -m"
      ],
      "execution_count": null,
      "outputs": []
    },
    {
      "cell_type": "markdown",
      "metadata": {
        "id": "MFq6k5RofGAm"
      },
      "source": [
        "7. Finally, we create another visualizer (**ViewDocking**) to load our protein, any docking pose of our choice and the experimentally solved binding pose of indinavir."
      ]
    },
    {
      "cell_type": "code",
      "metadata": {
        "id": "OfdbNwTaZU2r"
      },
      "source": [
        "#We finally create a visualization of the protein as cartoon,\n",
        "#the lowest-energy docking pose with its carbons in green\n",
        "#and the experimental binding pose with its carbons in gray\n",
        "def viewdocking(protein_name,ligand_name,exp_name):\n",
        "  mview = py3Dmol.view(800, 400)  \n",
        "  mol1 = open(protein_name, 'r').read()\n",
        "  mol2 = open(ligand_name, 'r').read()\n",
        "  mol3 = open(exp_name, 'r').read()\n",
        "  mview.addModel(mol1,'pdb')\n",
        "  mview.setStyle({'cartoon': {'color':'spectrum'}})\n",
        "  mview.addModel(mol2,'pdb')\n",
        "  mview.setStyle({'model':1},{'stick':{'colorscheme':'greenCarbon'}})\n",
        "  mview.addModel(mol3,'pdb')\n",
        "  mview.setStyle({'resn':'MK1'},{'stick':{}})\n",
        "  mview.setBackgroundColor('0xffffff')\n",
        "  mview.zoomTo()\n",
        "  mview.show()"
      ],
      "execution_count": null,
      "outputs": []
    },
    {
      "cell_type": "markdown",
      "metadata": {
        "id": "9qOWn5srwvOU"
      },
      "source": [
        "8. The ViewDocking visualizer can then be used as indicated below."
      ]
    },
    {
      "cell_type": "code",
      "metadata": {
        "id": "J4l1PJsfeeek"
      },
      "source": [
        "#View docking results\n",
        "#viewdocking('protein_file','docked_ligand_file','exp_ligand_file')\n",
        "#DO IT YOURSELF!\n"
      ],
      "execution_count": null,
      "outputs": []
    },
    {
      "cell_type": "markdown",
      "metadata": {
        "id": "3LNYkT95hmRf"
      },
      "source": [
        "You can also visualize the results using VMD"
      ]
    },
    {
      "cell_type": "code",
      "metadata": {
        "id": "rRDRsIeTj30h"
      },
      "source": [
        ""
      ],
      "execution_count": null,
      "outputs": []
    }
  ]
}